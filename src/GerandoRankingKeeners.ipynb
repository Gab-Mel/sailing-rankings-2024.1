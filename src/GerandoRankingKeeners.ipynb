{
 "cells": [
  {
   "cell_type": "code",
   "execution_count": 2,
   "metadata": {},
   "outputs": [],
   "source": [
    "from models import *\n",
    "import pandas as pd"
   ]
  },
  {
   "cell_type": "code",
   "execution_count": 3,
   "metadata": {},
   "outputs": [],
   "source": [
    "def gerando_keeners(data:pd.DataFrame, nome_classe:str):\n",
    "    \"\"\"\n",
    "    \"\"\"\n",
    "    data = data[data['Classe Vela'] == nome_classe]\n",
    "\n",
    "    for competition in data['Nome Competição']:\n",
    "        data.loc[data['Nome Competição'] == competition, 'Ano'] = int(re.findall(r'\\d{4}', competition)[0])\n",
    "\n",
    "    keeners = Keeners()\n",
    "    keeners.fit(data, time_decay=False, method='alpha')\n",
    "    ratings = keeners.ratings\n",
    "\n",
    "    ratings = pd.DataFrame.from_dict(ratings, orient='index', columns=['Rating']).sort_values(by=\"Rating\")\n",
    "    ratings.to_csv('../rankings_2024/keeners/keeners-' + 'alpha-' + 'tdF-' + nome_classe + '.csv')\n",
    "\n",
    "    keeners = Keeners()\n",
    "    keeners.fit(data, time_decay=True, method='alpha')\n",
    "    ratings = keeners.ratings\n",
    "\n",
    "    ratings = pd.DataFrame.from_dict(ratings, orient='index', columns=['Rating']).sort_values(by=\"Rating\")\n",
    "    ratings.to_csv('../rankings_2024/keeners/keeners-' + 'alpha-' + 'tdT-' + nome_classe + '.csv')\n",
    "\n",
    "\n",
    "    keeners = Keeners()\n",
    "    keeners.fit(data, time_decay=False, method='beta')\n",
    "    ratings = keeners.ratings\n",
    "\n",
    "    ratings = pd.DataFrame.from_dict(ratings, orient='index', columns=['Rating']).sort_values(by=\"Rating\")\n",
    "    ratings.to_csv('../rankings_2024/keeners/keeners-' + 'beta-' + 'tdF-' + nome_classe + '.csv')\n",
    "\n",
    "\n",
    "    keeners = Keeners()\n",
    "    keeners.fit(data, time_decay=True, method='beta')\n",
    "    ratings = keeners.ratings\n",
    "\n",
    "    ratings = pd.DataFrame.from_dict(ratings, orient='index', columns=['Rating']).sort_values(by=\"Rating\")\n",
    "    ratings.to_csv('../rankings_2024/keeners/keeners-' + 'beta-' + 'tdT-' + nome_classe + '.csv')"
   ]
  },
  {
   "cell_type": "code",
   "execution_count": 4,
   "metadata": {},
   "outputs": [],
   "source": [
    "data = pd.read_excel(\"../dados_finais_2024/final_data.xlsx\")"
   ]
  },
  {
   "cell_type": "code",
   "execution_count": 5,
   "metadata": {},
   "outputs": [
    {
     "name": "stderr",
     "output_type": "stream",
     "text": [
      "C:\\Users\\mathe\\AppData\\Local\\Temp\\ipykernel_6012\\2762995436.py:7: SettingWithCopyWarning: \n",
      "A value is trying to be set on a copy of a slice from a DataFrame.\n",
      "Try using .loc[row_indexer,col_indexer] = value instead\n",
      "\n",
      "See the caveats in the documentation: https://pandas.pydata.org/pandas-docs/stable/user_guide/indexing.html#returning-a-view-versus-a-copy\n",
      "  data.loc[data['Nome Competição'] == competition, 'Ano'] = int(re.findall(r'\\d{4}', competition)[0])\n"
     ]
    },
    {
     "name": "stdout",
     "output_type": "stream",
     "text": [
      "False\n",
      "True\n",
      "False\n",
      "True\n"
     ]
    },
    {
     "name": "stderr",
     "output_type": "stream",
     "text": [
      "C:\\Users\\mathe\\AppData\\Local\\Temp\\ipykernel_6012\\2762995436.py:7: SettingWithCopyWarning: \n",
      "A value is trying to be set on a copy of a slice from a DataFrame.\n",
      "Try using .loc[row_indexer,col_indexer] = value instead\n",
      "\n",
      "See the caveats in the documentation: https://pandas.pydata.org/pandas-docs/stable/user_guide/indexing.html#returning-a-view-versus-a-copy\n",
      "  data.loc[data['Nome Competição'] == competition, 'Ano'] = int(re.findall(r'\\d{4}', competition)[0])\n"
     ]
    },
    {
     "name": "stdout",
     "output_type": "stream",
     "text": [
      "False\n",
      "True\n",
      "False\n",
      "True\n"
     ]
    }
   ],
   "source": [
    "classes = ['49ER', '49ERFX']\n",
    "for c in classes:\n",
    "    gerando_keeners(data, c)"
   ]
  }
 ],
 "metadata": {
  "kernelspec": {
   "display_name": "Python 3",
   "language": "python",
   "name": "python3"
  },
  "language_info": {
   "codemirror_mode": {
    "name": "ipython",
    "version": 3
   },
   "file_extension": ".py",
   "mimetype": "text/x-python",
   "name": "python",
   "nbconvert_exporter": "python",
   "pygments_lexer": "ipython3",
   "version": "3.12.1"
  }
 },
 "nbformat": 4,
 "nbformat_minor": 2
}
