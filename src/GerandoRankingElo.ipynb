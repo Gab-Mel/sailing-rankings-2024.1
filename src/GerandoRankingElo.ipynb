{
 "cells": [
  {
   "cell_type": "code",
   "execution_count": 2,
   "metadata": {},
   "outputs": [],
   "source": [
    "from models import *\n",
    "import pandas as pd"
   ]
  },
  {
   "cell_type": "code",
   "execution_count": 4,
   "metadata": {},
   "outputs": [],
   "source": [
    "classes = ['ILCA 6', 'ILCA 7', '49ER', '49ERFX']\n",
    "for c in classes:\n",
    "    data = pd.read_excel('../dados_finais_2024/final_data.xlsx')\n",
    "    data = data[data['Classe Vela'] == c]\n",
    "\n",
    "    for k_val in [40, 100]:\n",
    "\n",
    "        elo = EloRating(ratings={competitor: 1500 for competitor in data['Nome Competidor'].unique()}, k=k_val)\n",
    "        for competition in data['Nome Competição']:\n",
    "            data.loc[data['Nome Competição'] == competition, 'Ano'] = int(re.findall(r'\\d{4}', competition)[0])\n",
    "\n",
    "        # get data in the format needed for error calculation\n",
    "        data_dict = []\n",
    "        grouped_data = data.groupby([\"Ano\",\"Nome Competição\", \"Nome Competidor\", ]).agg({\"Posição Geral\": \"min\"}\n",
    "            ).sort_values(by=[\"Ano\", \"Nome Competição\", \"Posição Geral\"], ascending=True).reset_index()\n",
    "\n",
    "        for ano in grouped_data[\"Ano\"].unique():\n",
    "            for comp in grouped_data[grouped_data[\"Ano\"] == ano][\"Nome Competição\"].unique():\n",
    "                results = grouped_data[(grouped_data[\"Ano\"] == ano) & (grouped_data[\"Nome Competição\"] == comp)][\"Posição Geral\"].values\n",
    "                names = grouped_data[(grouped_data[\"Ano\"] == ano) & (grouped_data[\"Nome Competição\"] == comp)][\"Nome Competidor\"].values\n",
    "                data_dict.append([results, names])\n",
    "\n",
    "        elo.fit(data_dict)\n",
    "        ratings = elo.ratings\n",
    "\n",
    "        ratings = pd.DataFrame.from_dict(ratings, orient='index', columns=['Rating']).sort_values(by=\"Rating\")\n",
    "        ratings.to_csv('../rankings_2024/elo-' + str(k_val) + '-' + c + '.csv')"
   ]
  }
 ],
 "metadata": {
  "kernelspec": {
   "display_name": "Python 3",
   "language": "python",
   "name": "python3"
  },
  "language_info": {
   "codemirror_mode": {
    "name": "ipython",
    "version": 3
   },
   "file_extension": ".py",
   "mimetype": "text/x-python",
   "name": "python",
   "nbconvert_exporter": "python",
   "pygments_lexer": "ipython3",
   "version": "3.12.1"
  }
 },
 "nbformat": 4,
 "nbformat_minor": 2
}
