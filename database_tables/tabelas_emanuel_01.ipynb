{
 "cells": [
  {
   "cell_type": "code",
   "execution_count": 55,
   "metadata": {},
   "outputs": [],
   "source": [
    "import pandas as pd\n",
    "import regex as re\n",
    "from sqlalchemy import create_engine"
   ]
  },
  {
   "cell_type": "code",
   "execution_count": 2,
   "metadata": {},
   "outputs": [],
   "source": [
    "dataframe = pd.read_csv(\"scrapers/cleaned_data_2024/final_data_regata.csv\", low_memory=False)"
   ]
  },
  {
   "cell_type": "code",
   "execution_count": 3,
   "metadata": {},
   "outputs": [
    {
     "data": {
      "text/plain": [
       "(139087, 15)"
      ]
     },
     "execution_count": 3,
     "metadata": {},
     "output_type": "execute_result"
    }
   ],
   "source": [
    "dataframe.shape"
   ]
  },
  {
   "cell_type": "code",
   "execution_count": 4,
   "metadata": {},
   "outputs": [
    {
     "data": {
      "text/html": [
       "<div>\n",
       "<style scoped>\n",
       "    .dataframe tbody tr th:only-of-type {\n",
       "        vertical-align: middle;\n",
       "    }\n",
       "\n",
       "    .dataframe tbody tr th {\n",
       "        vertical-align: top;\n",
       "    }\n",
       "\n",
       "    .dataframe thead th {\n",
       "        text-align: right;\n",
       "    }\n",
       "</style>\n",
       "<table border=\"1\" class=\"dataframe\">\n",
       "  <thead>\n",
       "    <tr style=\"text-align: right;\">\n",
       "      <th></th>\n",
       "      <th>ID Resultado</th>\n",
       "      <th>ID Competidor</th>\n",
       "      <th>Nome Competidor</th>\n",
       "      <th>ID Competição</th>\n",
       "      <th>Classe Vela</th>\n",
       "      <th>Pontuação Regata</th>\n",
       "      <th>Descarte</th>\n",
       "      <th>Flotilha</th>\n",
       "      <th>Posição Geral</th>\n",
       "      <th>Punição</th>\n",
       "      <th>Pontuação Total</th>\n",
       "      <th>Nett</th>\n",
       "      <th>Nome Competição</th>\n",
       "      <th>Regata</th>\n",
       "      <th>Nacionalidade</th>\n",
       "    </tr>\n",
       "  </thead>\n",
       "  <tbody>\n",
       "    <tr>\n",
       "      <th>0</th>\n",
       "      <td>1</td>\n",
       "      <td>3502</td>\n",
       "      <td>MINA MOBEKK</td>\n",
       "      <td>19</td>\n",
       "      <td>IQFOIL FEM.</td>\n",
       "      <td>15.0</td>\n",
       "      <td>0</td>\n",
       "      <td>NaN</td>\n",
       "      <td>1</td>\n",
       "      <td>0</td>\n",
       "      <td>207</td>\n",
       "      <td>116</td>\n",
       "      <td>European Championship 2023</td>\n",
       "      <td>1Q</td>\n",
       "      <td>NOR</td>\n",
       "    </tr>\n",
       "    <tr>\n",
       "      <th>1</th>\n",
       "      <td>2</td>\n",
       "      <td>3502</td>\n",
       "      <td>MINA MOBEKK</td>\n",
       "      <td>19</td>\n",
       "      <td>IQFOIL FEM.</td>\n",
       "      <td>2.0</td>\n",
       "      <td>0</td>\n",
       "      <td>NaN</td>\n",
       "      <td>1</td>\n",
       "      <td>0</td>\n",
       "      <td>207</td>\n",
       "      <td>116</td>\n",
       "      <td>European Championship 2023</td>\n",
       "      <td>2Q</td>\n",
       "      <td>NOR</td>\n",
       "    </tr>\n",
       "    <tr>\n",
       "      <th>2</th>\n",
       "      <td>3</td>\n",
       "      <td>3502</td>\n",
       "      <td>MINA MOBEKK</td>\n",
       "      <td>19</td>\n",
       "      <td>IQFOIL FEM.</td>\n",
       "      <td>6.0</td>\n",
       "      <td>0</td>\n",
       "      <td>NaN</td>\n",
       "      <td>1</td>\n",
       "      <td>0</td>\n",
       "      <td>207</td>\n",
       "      <td>116</td>\n",
       "      <td>European Championship 2023</td>\n",
       "      <td>3Q</td>\n",
       "      <td>NOR</td>\n",
       "    </tr>\n",
       "    <tr>\n",
       "      <th>3</th>\n",
       "      <td>4</td>\n",
       "      <td>3502</td>\n",
       "      <td>MINA MOBEKK</td>\n",
       "      <td>19</td>\n",
       "      <td>IQFOIL FEM.</td>\n",
       "      <td>3.0</td>\n",
       "      <td>0</td>\n",
       "      <td>NaN</td>\n",
       "      <td>1</td>\n",
       "      <td>0</td>\n",
       "      <td>207</td>\n",
       "      <td>116</td>\n",
       "      <td>European Championship 2023</td>\n",
       "      <td>4Q</td>\n",
       "      <td>NOR</td>\n",
       "    </tr>\n",
       "    <tr>\n",
       "      <th>4</th>\n",
       "      <td>5</td>\n",
       "      <td>3502</td>\n",
       "      <td>MINA MOBEKK</td>\n",
       "      <td>19</td>\n",
       "      <td>IQFOIL FEM.</td>\n",
       "      <td>3.0</td>\n",
       "      <td>0</td>\n",
       "      <td>NaN</td>\n",
       "      <td>1</td>\n",
       "      <td>0</td>\n",
       "      <td>207</td>\n",
       "      <td>116</td>\n",
       "      <td>European Championship 2023</td>\n",
       "      <td>5Q</td>\n",
       "      <td>NOR</td>\n",
       "    </tr>\n",
       "  </tbody>\n",
       "</table>\n",
       "</div>"
      ],
      "text/plain": [
       "   ID Resultado  ID Competidor Nome Competidor  ID Competição  Classe Vela  \\\n",
       "0             1           3502     MINA MOBEKK             19  IQFOIL FEM.   \n",
       "1             2           3502     MINA MOBEKK             19  IQFOIL FEM.   \n",
       "2             3           3502     MINA MOBEKK             19  IQFOIL FEM.   \n",
       "3             4           3502     MINA MOBEKK             19  IQFOIL FEM.   \n",
       "4             5           3502     MINA MOBEKK             19  IQFOIL FEM.   \n",
       "\n",
       "  Pontuação Regata Descarte Flotilha Posição Geral Punição Pontuação Total  \\\n",
       "0             15.0        0      NaN             1       0             207   \n",
       "1              2.0        0      NaN             1       0             207   \n",
       "2              6.0        0      NaN             1       0             207   \n",
       "3              3.0        0      NaN             1       0             207   \n",
       "4              3.0        0      NaN             1       0             207   \n",
       "\n",
       "  Nett             Nome Competição Regata Nacionalidade  \n",
       "0  116  European Championship 2023     1Q           NOR  \n",
       "1  116  European Championship 2023     2Q           NOR  \n",
       "2  116  European Championship 2023     3Q           NOR  \n",
       "3  116  European Championship 2023     4Q           NOR  \n",
       "4  116  European Championship 2023     5Q           NOR  "
      ]
     },
     "execution_count": 4,
     "metadata": {},
     "output_type": "execute_result"
    }
   ],
   "source": [
    "dataframe.head()"
   ]
  },
  {
   "cell_type": "code",
   "execution_count": 8,
   "metadata": {},
   "outputs": [],
   "source": [
    "def ArrumaNomeCompeticoes(valor:str) -> str:\n",
    "    if valor == 'European Championship 2021 - Gold Fleet & Medal Race':\n",
    "        return 'European Championship 2021'\n",
    "    elif valor == 'European Championship 2021 - Silver Fleet':\n",
    "        return 'European Championship 2021'\n",
    "    elif valor == 'European Championship 2023 - Bronze Fleet':\n",
    "        return 'European Championship 2023'\n",
    "    elif valor == 'European Championship 2023 - Gold Fleet':\n",
    "        return 'European Championship 2023'\n",
    "    elif valor == 'European Championship 2023 - Silver Fleet':\n",
    "        return 'European Championship 2023'\n",
    "    else:\n",
    "        return valor"
   ]
  },
  {
   "cell_type": "code",
   "execution_count": 9,
   "metadata": {},
   "outputs": [],
   "source": [
    "dataframe[\"Nome Competição\"] = dataframe[\"Nome Competição\"].apply(ArrumaNomeCompeticoes)"
   ]
  },
  {
   "cell_type": "code",
   "execution_count": 10,
   "metadata": {},
   "outputs": [
    {
     "data": {
      "text/plain": [
       "array(['European Championship 2023', 'European Championship 2022',\n",
       "       'Semaine Olympique Francaise De Voile 2022',\n",
       "       'Trofeo S.A.R Princesa Sofia 2023',\n",
       "       'Semaine Olympique Francaise De Voile 2015',\n",
       "       'Semaine Olympique Francaise De Voile 2016',\n",
       "       'Semaine Olympique Francaise De Voile 2023',\n",
       "       'Central and South American Championship 2023',\n",
       "       'Central and South American Championship 2022',\n",
       "       'European Championship 2021', 'World Championship 2019',\n",
       "       'World Championship 2020', 'World Championship 2021',\n",
       "       'World Championship 2022', 'Alpsee-Skiff-Weekend 2023',\n",
       "       'Auftaktregatta - ILCA 2024', 'CAMPEONATO ABERTO BELGA 2023',\n",
       "       'Campeonato Nórdico Aberto 2023', 'Copa Surendorf 2023',\n",
       "       'DER WIKINGER 2023', 'Escola laser 2023', 'Esquife DS-DM 2023',\n",
       "       'EurILCA Campeonato Europeu Sub 21 e Troféu Europeu Aberto 2023',\n",
       "       'EURILCA MASTER SERIES BÉLGICA 2023', 'European Championship 2016',\n",
       "       'European Championship 2020', 'IDJM 2023',\n",
       "       'ILCA Nacional 1 ZC Hofstade 2023',\n",
       "       'ILCA Punktemeisterschaft 2023', 'ILCA6 2023', 'ILCA7 2023',\n",
       "       'ILCANC 3  2023', 'Internacional. Laser-Kuhschellenregatta 2023',\n",
       "       'Internationale Trapezregata der 2023',\n",
       "       'Kupferne Rohrdommel - Distriktmeisterschaft Nord 2023',\n",
       "       'Latvijas atklātais čempionāts - Optimist e ILCA klasēm 2023',\n",
       "       'LYC Youth Cup 2023', 'Martinsregata II ILCA 2023',\n",
       "       'Martinsregatta 2023', 'Nationale wedstrijd 2023',\n",
       "       'Norgesmesterskap ILCA e Optimist 2023',\n",
       "       'Opti-Europa-ILCA Treff Bosau 2023', 'Regata ILCA 2023',\n",
       "       'Rider of the Year I 2023', 'Rider of the Year II 2023',\n",
       "       'Rider of the Year III 2023', 'Rider of the Year IV 2023',\n",
       "       'Saarlandmeisterschaft 2023',\n",
       "       'Semaine Olympique Francaise De Voile 2017',\n",
       "       'Semaine Olympique Francaise De Voile 2018',\n",
       "       'Spandauer Eis-Cup 2023', 'SVK 2023',\n",
       "       'Troféu Königswinkel ILCA 2023', 'World Championship 2015',\n",
       "       'World Championship 2016', 'World Championship 2017',\n",
       "       'World Championship 2018', 'World Championship 2023',\n",
       "       'Trofeo S.A.R Princesa Sofia 2015',\n",
       "       'Trofeo S.A.R Princesa Sofia 2016',\n",
       "       'Trofeo S.A.R Princesa Sofia 2017',\n",
       "       'Trofeo S.A.R Princesa Sofia 2018', 'World Championship 2024',\n",
       "       'European Championship 2024'], dtype=object)"
      ]
     },
     "execution_count": 10,
     "metadata": {},
     "output_type": "execute_result"
    }
   ],
   "source": [
    "dataframe[\"Nome Competição\"].unique()"
   ]
  },
  {
   "cell_type": "code",
   "execution_count": 11,
   "metadata": {},
   "outputs": [],
   "source": [
    "def AdicionaAnoCompeticao(valor:str) -> str:\n",
    "    return valor[-4:]"
   ]
  },
  {
   "cell_type": "code",
   "execution_count": 12,
   "metadata": {},
   "outputs": [],
   "source": [
    "dataframe[\"Ano Competição\"] = dataframe[\"Nome Competição\"].apply(AdicionaAnoCompeticao)"
   ]
  },
  {
   "cell_type": "code",
   "execution_count": 13,
   "metadata": {},
   "outputs": [
    {
     "data": {
      "text/plain": [
       "array(['2023', '2022', '2015', '2016', '2021', '2019', '2020', '2024',\n",
       "       '2017', '2018'], dtype=object)"
      ]
     },
     "execution_count": 13,
     "metadata": {},
     "output_type": "execute_result"
    }
   ],
   "source": [
    "dataframe[\"Ano Competição\"].unique()"
   ]
  },
  {
   "cell_type": "code",
   "execution_count": 35,
   "metadata": {},
   "outputs": [],
   "source": [
    "FinalDataframe = pd.DataFrame(columns=[\"Nome\", \"Competição\", \"Colocação\", \"Classe\", \"Nacionalidade\", \"Data da Competição\"])"
   ]
  },
  {
   "cell_type": "code",
   "execution_count": 36,
   "metadata": {},
   "outputs": [],
   "source": [
    "FinalDataframe[\"Nome\"] = dataframe[\"Nome Competidor\"]\n",
    "FinalDataframe[\"Competição\"] = dataframe[\"Nome Competição\"]\n",
    "FinalDataframe[\"Colocação\"] = dataframe[\"Posição Geral\"]\n",
    "FinalDataframe[\"Classe\"] = dataframe[\"Classe Vela\"]\n",
    "FinalDataframe[\"Nacionalidade\"] = dataframe[\"Nacionalidade\"]\n",
    "FinalDataframe[\"Data da Competição\"] = dataframe[\"Ano Competição\"]"
   ]
  },
  {
   "cell_type": "code",
   "execution_count": 37,
   "metadata": {},
   "outputs": [
    {
     "data": {
      "text/plain": [
       "(139087, 6)"
      ]
     },
     "execution_count": 37,
     "metadata": {},
     "output_type": "execute_result"
    }
   ],
   "source": [
    "FinalDataframe.shape"
   ]
  },
  {
   "cell_type": "code",
   "execution_count": 38,
   "metadata": {},
   "outputs": [
    {
     "data": {
      "text/html": [
       "<div>\n",
       "<style scoped>\n",
       "    .dataframe tbody tr th:only-of-type {\n",
       "        vertical-align: middle;\n",
       "    }\n",
       "\n",
       "    .dataframe tbody tr th {\n",
       "        vertical-align: top;\n",
       "    }\n",
       "\n",
       "    .dataframe thead th {\n",
       "        text-align: right;\n",
       "    }\n",
       "</style>\n",
       "<table border=\"1\" class=\"dataframe\">\n",
       "  <thead>\n",
       "    <tr style=\"text-align: right;\">\n",
       "      <th></th>\n",
       "      <th>Nome</th>\n",
       "      <th>Competição</th>\n",
       "      <th>Colocação</th>\n",
       "      <th>Classe</th>\n",
       "      <th>Nacionalidade</th>\n",
       "      <th>Data da Competição</th>\n",
       "    </tr>\n",
       "  </thead>\n",
       "  <tbody>\n",
       "    <tr>\n",
       "      <th>0</th>\n",
       "      <td>MINA MOBEKK</td>\n",
       "      <td>European Championship 2023</td>\n",
       "      <td>1</td>\n",
       "      <td>IQFOIL FEM.</td>\n",
       "      <td>NOR</td>\n",
       "      <td>2023</td>\n",
       "    </tr>\n",
       "    <tr>\n",
       "      <th>1</th>\n",
       "      <td>MINA MOBEKK</td>\n",
       "      <td>European Championship 2023</td>\n",
       "      <td>1</td>\n",
       "      <td>IQFOIL FEM.</td>\n",
       "      <td>NOR</td>\n",
       "      <td>2023</td>\n",
       "    </tr>\n",
       "    <tr>\n",
       "      <th>2</th>\n",
       "      <td>MINA MOBEKK</td>\n",
       "      <td>European Championship 2023</td>\n",
       "      <td>1</td>\n",
       "      <td>IQFOIL FEM.</td>\n",
       "      <td>NOR</td>\n",
       "      <td>2023</td>\n",
       "    </tr>\n",
       "    <tr>\n",
       "      <th>3</th>\n",
       "      <td>MINA MOBEKK</td>\n",
       "      <td>European Championship 2023</td>\n",
       "      <td>1</td>\n",
       "      <td>IQFOIL FEM.</td>\n",
       "      <td>NOR</td>\n",
       "      <td>2023</td>\n",
       "    </tr>\n",
       "    <tr>\n",
       "      <th>4</th>\n",
       "      <td>MINA MOBEKK</td>\n",
       "      <td>European Championship 2023</td>\n",
       "      <td>1</td>\n",
       "      <td>IQFOIL FEM.</td>\n",
       "      <td>NOR</td>\n",
       "      <td>2023</td>\n",
       "    </tr>\n",
       "  </tbody>\n",
       "</table>\n",
       "</div>"
      ],
      "text/plain": [
       "          Nome                  Competição Colocação       Classe  \\\n",
       "0  MINA MOBEKK  European Championship 2023         1  IQFOIL FEM.   \n",
       "1  MINA MOBEKK  European Championship 2023         1  IQFOIL FEM.   \n",
       "2  MINA MOBEKK  European Championship 2023         1  IQFOIL FEM.   \n",
       "3  MINA MOBEKK  European Championship 2023         1  IQFOIL FEM.   \n",
       "4  MINA MOBEKK  European Championship 2023         1  IQFOIL FEM.   \n",
       "\n",
       "  Nacionalidade Data da Competição  \n",
       "0           NOR               2023  \n",
       "1           NOR               2023  \n",
       "2           NOR               2023  \n",
       "3           NOR               2023  \n",
       "4           NOR               2023  "
      ]
     },
     "execution_count": 38,
     "metadata": {},
     "output_type": "execute_result"
    }
   ],
   "source": [
    "FinalDataframe.head()"
   ]
  },
  {
   "cell_type": "code",
   "execution_count": 39,
   "metadata": {},
   "outputs": [],
   "source": [
    "FinalDataframe.drop_duplicates(inplace=True)"
   ]
  },
  {
   "cell_type": "code",
   "execution_count": 40,
   "metadata": {},
   "outputs": [
    {
     "data": {
      "text/plain": [
       "(9982, 6)"
      ]
     },
     "execution_count": 40,
     "metadata": {},
     "output_type": "execute_result"
    }
   ],
   "source": [
    "FinalDataframe.shape"
   ]
  },
  {
   "cell_type": "code",
   "execution_count": 44,
   "metadata": {},
   "outputs": [],
   "source": [
    "FinalDataframe.sort_values(by=[\"Data da Competição\", \"Competição\", \"Classe\", ], inplace=True, ascending=[True, True, True])"
   ]
  },
  {
   "cell_type": "code",
   "execution_count": 45,
   "metadata": {},
   "outputs": [],
   "source": [
    "FinalDataframe.reset_index(drop=True, inplace=True)"
   ]
  },
  {
   "cell_type": "code",
   "execution_count": 46,
   "metadata": {},
   "outputs": [
    {
     "data": {
      "text/html": [
       "<div>\n",
       "<style scoped>\n",
       "    .dataframe tbody tr th:only-of-type {\n",
       "        vertical-align: middle;\n",
       "    }\n",
       "\n",
       "    .dataframe tbody tr th {\n",
       "        vertical-align: top;\n",
       "    }\n",
       "\n",
       "    .dataframe thead th {\n",
       "        text-align: right;\n",
       "    }\n",
       "</style>\n",
       "<table border=\"1\" class=\"dataframe\">\n",
       "  <thead>\n",
       "    <tr style=\"text-align: right;\">\n",
       "      <th></th>\n",
       "      <th>Nome</th>\n",
       "      <th>Competição</th>\n",
       "      <th>Colocação</th>\n",
       "      <th>Classe</th>\n",
       "      <th>Nacionalidade</th>\n",
       "      <th>Data da Competição</th>\n",
       "    </tr>\n",
       "  </thead>\n",
       "  <tbody>\n",
       "    <tr>\n",
       "      <th>0</th>\n",
       "      <td>ERIK HEIL, THOMAS PLOESSEL</td>\n",
       "      <td>Semaine Olympique Francaise De Voile 2015</td>\n",
       "      <td>3</td>\n",
       "      <td>49ER</td>\n",
       "      <td>GER</td>\n",
       "      <td>2015</td>\n",
       "    </tr>\n",
       "    <tr>\n",
       "      <th>1</th>\n",
       "      <td>RYAN SEATON, MATTHEW MCGOVERN</td>\n",
       "      <td>Semaine Olympique Francaise De Voile 2015</td>\n",
       "      <td>24</td>\n",
       "      <td>49ER</td>\n",
       "      <td>NaN</td>\n",
       "      <td>2015</td>\n",
       "    </tr>\n",
       "    <tr>\n",
       "      <th>2</th>\n",
       "      <td>CARL P SYLVAN, OTTO HAMEL</td>\n",
       "      <td>Semaine Olympique Francaise De Voile 2015</td>\n",
       "      <td>12</td>\n",
       "      <td>49ER</td>\n",
       "      <td>NaN</td>\n",
       "      <td>2015</td>\n",
       "    </tr>\n",
       "    <tr>\n",
       "      <th>3</th>\n",
       "      <td>CARLOS PAZ, LUIS BUGALLO ARRIOLA</td>\n",
       "      <td>Semaine Olympique Francaise De Voile 2015</td>\n",
       "      <td>39</td>\n",
       "      <td>49ER</td>\n",
       "      <td>NaN</td>\n",
       "      <td>2015</td>\n",
       "    </tr>\n",
       "    <tr>\n",
       "      <th>4</th>\n",
       "      <td>PETAR CUPAC, PAVLE KOSTOV</td>\n",
       "      <td>Semaine Olympique Francaise De Voile 2015</td>\n",
       "      <td>22</td>\n",
       "      <td>49ER</td>\n",
       "      <td>NaN</td>\n",
       "      <td>2015</td>\n",
       "    </tr>\n",
       "  </tbody>\n",
       "</table>\n",
       "</div>"
      ],
      "text/plain": [
       "                               Nome  \\\n",
       "0        ERIK HEIL, THOMAS PLOESSEL   \n",
       "1     RYAN SEATON, MATTHEW MCGOVERN   \n",
       "2         CARL P SYLVAN, OTTO HAMEL   \n",
       "3  CARLOS PAZ, LUIS BUGALLO ARRIOLA   \n",
       "4         PETAR CUPAC, PAVLE KOSTOV   \n",
       "\n",
       "                                  Competição Colocação Classe Nacionalidade  \\\n",
       "0  Semaine Olympique Francaise De Voile 2015         3   49ER           GER   \n",
       "1  Semaine Olympique Francaise De Voile 2015        24   49ER           NaN   \n",
       "2  Semaine Olympique Francaise De Voile 2015        12   49ER           NaN   \n",
       "3  Semaine Olympique Francaise De Voile 2015        39   49ER           NaN   \n",
       "4  Semaine Olympique Francaise De Voile 2015        22   49ER           NaN   \n",
       "\n",
       "  Data da Competição  \n",
       "0               2015  \n",
       "1               2015  \n",
       "2               2015  \n",
       "3               2015  \n",
       "4               2015  "
      ]
     },
     "execution_count": 46,
     "metadata": {},
     "output_type": "execute_result"
    }
   ],
   "source": [
    "FinalDataframe.head()"
   ]
  },
  {
   "cell_type": "code",
   "execution_count": 47,
   "metadata": {},
   "outputs": [
    {
     "data": {
      "text/plain": [
       "array(['3', '24', '12', '39', '22', '20', '23', '31', '8', '9', '5', '17',\n",
       "       '36', '28', '25', '13', '14', '19', '2', '11', '1', '7', '38', '6',\n",
       "       '16', '21', '33', '26', '29', '18', '4', '40', '27', '30', '15',\n",
       "       '10', '37', '34', '35', '32', '41', '42', '43', '44', '45', '46',\n",
       "       '47', '48', '49', '50', '51', '52', '53', '54', '55', '56', '57',\n",
       "       '58', '59', '60', '61', '62', '63', '64', '65', '66', '67', '68',\n",
       "       '69', '70', '71', '72', '73', '74', '75', '76', '77', '78', '79',\n",
       "       '80', '81', '82', '83', '84', '85', '86', '87', '88', '89', '90',\n",
       "       '91', '92', '93', '94', '95', '96', '97', '98', '99', '100', '101',\n",
       "       '102', '103', '104', '105', '106', '107', '108', '109', '110',\n",
       "       '111', '112', '113', '114', '115', '116', '117', '118', '119',\n",
       "       '120', '121', '122', '123', '124', '125', '126', '127', '128',\n",
       "       '129', '130', '131', '132', '133', '134', '135', '136', '137',\n",
       "       '138', '139', '140', '141', '142', '143', '144', '145', '146',\n",
       "       '147', '148', '149', '150', '151', '152', '153', '154', '155',\n",
       "       '156', '157', '158', '159', '160', '161', '162', '163', '164',\n",
       "       '165', '50/0', '31EX'], dtype=object)"
      ]
     },
     "execution_count": 47,
     "metadata": {},
     "output_type": "execute_result"
    }
   ],
   "source": [
    "FinalDataframe[\"Colocação\"].unique()"
   ]
  },
  {
   "cell_type": "code",
   "execution_count": 48,
   "metadata": {},
   "outputs": [],
   "source": [
    "def ArrumaColocacao(valor:str) -> int:\n",
    "    try:\n",
    "        return int(valor)\n",
    "    except:\n",
    "        if valor == \"50/0\":\n",
    "            return 50\n",
    "        else:\n",
    "            return 31"
   ]
  },
  {
   "cell_type": "code",
   "execution_count": 49,
   "metadata": {},
   "outputs": [],
   "source": [
    "FinalDataframe[\"Colocação\"] = FinalDataframe[\"Colocação\"].apply(ArrumaColocacao)"
   ]
  },
  {
   "cell_type": "code",
   "execution_count": 50,
   "metadata": {},
   "outputs": [
    {
     "data": {
      "text/plain": [
       "array([  3,  24,  12,  39,  22,  20,  23,  31,   8,   9,   5,  17,  36,\n",
       "        28,  25,  13,  14,  19,   2,  11,   1,   7,  38,   6,  16,  21,\n",
       "        33,  26,  29,  18,   4,  40,  27,  30,  15,  10,  37,  34,  35,\n",
       "        32,  41,  42,  43,  44,  45,  46,  47,  48,  49,  50,  51,  52,\n",
       "        53,  54,  55,  56,  57,  58,  59,  60,  61,  62,  63,  64,  65,\n",
       "        66,  67,  68,  69,  70,  71,  72,  73,  74,  75,  76,  77,  78,\n",
       "        79,  80,  81,  82,  83,  84,  85,  86,  87,  88,  89,  90,  91,\n",
       "        92,  93,  94,  95,  96,  97,  98,  99, 100, 101, 102, 103, 104,\n",
       "       105, 106, 107, 108, 109, 110, 111, 112, 113, 114, 115, 116, 117,\n",
       "       118, 119, 120, 121, 122, 123, 124, 125, 126, 127, 128, 129, 130,\n",
       "       131, 132, 133, 134, 135, 136, 137, 138, 139, 140, 141, 142, 143,\n",
       "       144, 145, 146, 147, 148, 149, 150, 151, 152, 153, 154, 155, 156,\n",
       "       157, 158, 159, 160, 161, 162, 163, 164, 165], dtype=int64)"
      ]
     },
     "execution_count": 50,
     "metadata": {},
     "output_type": "execute_result"
    }
   ],
   "source": [
    "FinalDataframe[\"Colocação\"].unique()"
   ]
  },
  {
   "cell_type": "code",
   "execution_count": 51,
   "metadata": {},
   "outputs": [],
   "source": [
    "FinalDataframe.sort_values(by=[\"Data da Competição\", \"Competição\", \"Classe\", \"Colocação\"], inplace=True, ascending=[True, True, True, True])"
   ]
  },
  {
   "cell_type": "code",
   "execution_count": 53,
   "metadata": {},
   "outputs": [],
   "source": [
    "FinalDataframe.reset_index(drop=True, inplace=True)"
   ]
  },
  {
   "cell_type": "code",
   "execution_count": 54,
   "metadata": {},
   "outputs": [
    {
     "data": {
      "text/html": [
       "<div>\n",
       "<style scoped>\n",
       "    .dataframe tbody tr th:only-of-type {\n",
       "        vertical-align: middle;\n",
       "    }\n",
       "\n",
       "    .dataframe tbody tr th {\n",
       "        vertical-align: top;\n",
       "    }\n",
       "\n",
       "    .dataframe thead th {\n",
       "        text-align: right;\n",
       "    }\n",
       "</style>\n",
       "<table border=\"1\" class=\"dataframe\">\n",
       "  <thead>\n",
       "    <tr style=\"text-align: right;\">\n",
       "      <th></th>\n",
       "      <th>Nome</th>\n",
       "      <th>Competição</th>\n",
       "      <th>Colocação</th>\n",
       "      <th>Classe</th>\n",
       "      <th>Nacionalidade</th>\n",
       "      <th>Data da Competição</th>\n",
       "    </tr>\n",
       "  </thead>\n",
       "  <tbody>\n",
       "    <tr>\n",
       "      <th>0</th>\n",
       "      <td>BLAIR TUKE, PETER BURLING</td>\n",
       "      <td>Semaine Olympique Francaise De Voile 2015</td>\n",
       "      <td>1</td>\n",
       "      <td>49ER</td>\n",
       "      <td>NaN</td>\n",
       "      <td>2015</td>\n",
       "    </tr>\n",
       "    <tr>\n",
       "      <th>1</th>\n",
       "      <td>NATHAN OUTTERIDGE, IAIN JENSEN</td>\n",
       "      <td>Semaine Olympique Francaise De Voile 2015</td>\n",
       "      <td>2</td>\n",
       "      <td>49ER</td>\n",
       "      <td>AUS</td>\n",
       "      <td>2015</td>\n",
       "    </tr>\n",
       "    <tr>\n",
       "      <th>2</th>\n",
       "      <td>ERIK HEIL, THOMAS PLOESSEL</td>\n",
       "      <td>Semaine Olympique Francaise De Voile 2015</td>\n",
       "      <td>3</td>\n",
       "      <td>49ER</td>\n",
       "      <td>GER</td>\n",
       "      <td>2015</td>\n",
       "    </tr>\n",
       "    <tr>\n",
       "      <th>3</th>\n",
       "      <td>RHYS MARA, DAVID GILMOUR</td>\n",
       "      <td>Semaine Olympique Francaise De Voile 2015</td>\n",
       "      <td>4</td>\n",
       "      <td>49ER</td>\n",
       "      <td>NaN</td>\n",
       "      <td>2015</td>\n",
       "    </tr>\n",
       "    <tr>\n",
       "      <th>4</th>\n",
       "      <td>ALAIN SIGN, DYLAN FLETCHER</td>\n",
       "      <td>Semaine Olympique Francaise De Voile 2015</td>\n",
       "      <td>5</td>\n",
       "      <td>49ER</td>\n",
       "      <td>NaN</td>\n",
       "      <td>2015</td>\n",
       "    </tr>\n",
       "  </tbody>\n",
       "</table>\n",
       "</div>"
      ],
      "text/plain": [
       "                             Nome                                 Competição  \\\n",
       "0       BLAIR TUKE, PETER BURLING  Semaine Olympique Francaise De Voile 2015   \n",
       "1  NATHAN OUTTERIDGE, IAIN JENSEN  Semaine Olympique Francaise De Voile 2015   \n",
       "2      ERIK HEIL, THOMAS PLOESSEL  Semaine Olympique Francaise De Voile 2015   \n",
       "3        RHYS MARA, DAVID GILMOUR  Semaine Olympique Francaise De Voile 2015   \n",
       "4      ALAIN SIGN, DYLAN FLETCHER  Semaine Olympique Francaise De Voile 2015   \n",
       "\n",
       "   Colocação Classe Nacionalidade Data da Competição  \n",
       "0          1   49ER           NaN               2015  \n",
       "1          2   49ER           AUS               2015  \n",
       "2          3   49ER           GER               2015  \n",
       "3          4   49ER           NaN               2015  \n",
       "4          5   49ER           NaN               2015  "
      ]
     },
     "execution_count": 54,
     "metadata": {},
     "output_type": "execute_result"
    }
   ],
   "source": [
    "FinalDataframe.head()"
   ]
  },
  {
   "cell_type": "code",
   "execution_count": 56,
   "metadata": {},
   "outputs": [
    {
     "data": {
      "text/plain": [
       "9982"
      ]
     },
     "execution_count": 56,
     "metadata": {},
     "output_type": "execute_result"
    }
   ],
   "source": [
    "engine = create_engine('sqlite:///elo_ranking.db', echo=False)\n",
    "FinalDataframe.to_sql('Resultados', con=engine, if_exists='replace', index=False)"
   ]
  }
 ],
 "metadata": {
  "kernelspec": {
   "display_name": "Python 3",
   "language": "python",
   "name": "python3"
  },
  "language_info": {
   "codemirror_mode": {
    "name": "ipython",
    "version": 3
   },
   "file_extension": ".py",
   "mimetype": "text/x-python",
   "name": "python",
   "nbconvert_exporter": "python",
   "pygments_lexer": "ipython3",
   "version": "3.12.1"
  }
 },
 "nbformat": 4,
 "nbformat_minor": 2
}
