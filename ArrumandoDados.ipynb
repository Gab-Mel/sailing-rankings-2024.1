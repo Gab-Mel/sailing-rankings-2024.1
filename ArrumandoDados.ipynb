{
 "cells": [
  {
   "cell_type": "code",
   "execution_count": 2,
   "metadata": {},
   "outputs": [],
   "source": [
    "import pandas as pd \n",
    "import numpy as np \n",
    "import os"
   ]
  },
  {
   "cell_type": "code",
   "execution_count": 7,
   "metadata": {},
   "outputs": [],
   "source": [
    "def trata_nomes(valor:str):\n",
    "    \"\"\"\n",
    "    \"\"\"\n",
    "    if str(valor).count(\"(\") != 0:\n",
    "        return str(valor).split(\"(\")[0].strip()\n",
    "    else:\n",
    "        return str(valor)"
   ]
  },
  {
   "cell_type": "code",
   "execution_count": 8,
   "metadata": {},
   "outputs": [],
   "source": [
    "def merge(data_path:str, first_race:int, last_race:int, name_index:int, nome_classe:str, position_index:int=0, flag_name:str=\"OVER\", competition_name:str=None):\n",
    "    \"\"\"\n",
    "    \"\"\"\n",
    "\n",
    "    dataframe = pd.read_csv(data_path)\n",
    "\n",
    "    lista_de_dados = list()\n",
    "\n",
    "    for i in range(first_race, last_race + 1):\n",
    "        each_column = dataframe.columns[i]\n",
    "\n",
    "        for each_line in range(len(dataframe)):\n",
    "            lista_temporaria = list()\n",
    "\n",
    "            linha = list(dataframe.iloc[each_line])\n",
    "\n",
    "            #identificador\n",
    "            lista_temporaria.append(trata_nomes(linha[name_index]) + \" - \" + nome_classe + \" - \" + competition_name)\n",
    "\n",
    "            #nome competição\n",
    "            lista_temporaria.append(competition_name)\n",
    "\n",
    "            # nome da ragata\n",
    "            lista_temporaria.append(each_column)\n",
    "\n",
    "            # nome do atleta ou dupla\n",
    "            lista_temporaria.append(linha[name_index])\n",
    "\n",
    "            # pontuacao\n",
    "            lista_temporaria.append(dataframe[each_column].iloc[each_line])\n",
    "\n",
    "            # nome classe\n",
    "            lista_temporaria.append(nome_classe)\n",
    "\n",
    "            # flag\n",
    "            lista_temporaria.append(flag_name)\n",
    "\n",
    "            # posição\n",
    "            if linha[position_index] != \"RANK\":\n",
    "                lista_temporaria.append(linha[position_index])\n",
    "                lista_de_dados.append(lista_temporaria)\n",
    "\n",
    "    return lista_de_dados"
   ]
  },
  {
   "cell_type": "code",
   "execution_count": 9,
   "metadata": {},
   "outputs": [],
   "source": [
    "df_1 = pd.DataFrame(columns=[\"Identificador\", \"Nome Competição\", \"Regata\", \"Nome Competidor\", \"Pontuação Regata (Nha)\", \"Classe Vela\", \"Flag Name\", \"Posição Geral\"], data=merge(\"scraping_2024/kite_wc_women_over_silver.csv\", 6, 24, 2, \"Kite Fem.\", flag_name=\"Silver\", competition_name=\"World Championship 2024\"))\n",
    "df_2 = pd.DataFrame(columns=[\"Identificador\", \"Nome Competição\", \"Regata\", \"Nome Competidor\", \"Pontuação Regata (Nha)\", \"Classe Vela\", \"Flag Name\", \"Posição Geral\"], data=merge(\"scraping_2024/kite_wc_women_over_gold.csv\", 6, 24, 2, \"Kite Fem.\", flag_name=\"Gold\", competition_name=\"World Championship 2024\"))\n",
    "df_3 = pd.DataFrame(columns=[\"Identificador\", \"Nome Competição\", \"Regata\", \"Nome Competidor\", \"Pontuação Regata (Nha)\", \"Classe Vela\", \"Flag Name\", \"Posição Geral\"], data=merge(\"scraping_2024/kite_wc_men_over_silver.csv\", 6, 25, 2, \"Kite Masc.\", flag_name=\"Silver\", competition_name=\"World Championship 2024\"))\n",
    "df_4 = pd.DataFrame(columns=[\"Identificador\", \"Nome Competição\", \"Regata\", \"Nome Competidor\", \"Pontuação Regata (Nha)\", \"Classe Vela\", \"Flag Name\", \"Posição Geral\"], data=merge(\"scraping_2024/kite_wc_men_over_bronze.csv\", 5, 24, 1, \"Kite Masc.\", 25, flag_name=\"Bronze\", competition_name=\"World Championship 2024\"))\n",
    "df_5 = pd.DataFrame(columns=[\"Identificador\", \"Nome Competição\", \"Regata\", \"Nome Competidor\", \"Pontuação Regata (Nha)\", \"Classe Vela\", \"Flag Name\", \"Posição Geral\"], data=merge(\"scraping_2024/kite_wc_men_over_gold.csv\", 6, 25, 2, \"Kite Masc.\", flag_name=\"Gold\", competition_name=\"World Championship 2024\"))\n",
    "df_6 = pd.DataFrame(columns=[\"Identificador\", \"Nome Competição\", \"Regata\", \"Nome Competidor\", \"Pontuação Regata (Nha)\", \"Classe Vela\", \"Flag Name\", \"Posição Geral\"], data=merge(\"scraping_2024/iqfoil_wc_women.csv\", 12, 34, 7, \"IQFoil Fem.\", 1, competition_name=\"World Championship 2024\"))\n",
    "df_7 = pd.DataFrame(columns=[\"Identificador\", \"Nome Competição\", \"Regata\", \"Nome Competidor\", \"Pontuação Regata (Nha)\", \"Classe Vela\", \"Flag Name\", \"Posição Geral\"], data=merge(\"scraping_2024/iqfoil_wc_men.csv\", 14, 35, 9, \"IQFoil Masc.\", 1, competition_name=\"World Championship 2024\"))\n",
    "df_8 = pd.DataFrame(columns=[\"Identificador\", \"Nome Competição\", \"Regata\", \"Nome Competidor\", \"Pontuação Regata (Nha)\", \"Classe Vela\", \"Flag Name\", \"Posição Geral\"], data=merge(\"scraping_2024/ilca_7_wc.csv\", 6, 16, 4, \"ILCA 7\", 1, competition_name=\"World Championship 2024\"))\n",
    "df_9 = pd.DataFrame(columns=[\"Identificador\", \"Nome Competição\", \"Regata\", \"Nome Competidor\", \"Pontuação Regata (Nha)\", \"Classe Vela\", \"Flag Name\", \"Posição Geral\"], data=merge(\"scraping_2024/ilca_7_ec_gold.csv\", 8, 15, 5, \"ILCA 7\", 1, flag_name=\"Gold\", competition_name=\"European Championship 2024\"))\n",
    "df_10 = pd.DataFrame(columns=[\"Identificador\", \"Nome Competição\", \"Regata\", \"Nome Competidor\", \"Pontuação Regata (Nha)\", \"Classe Vela\", \"Flag Name\", \"Posição Geral\"], data=merge(\"scraping_2024/ilca_7_ec_silver.csv\", 7, 13, 4, \"ILCA 7\", 1, flag_name=\"Silver\", competition_name=\"European Championship 2024\"))\n",
    "df_11 = pd.DataFrame(columns=[\"Identificador\", \"Nome Competição\", \"Regata\", \"Nome Competidor\", \"Pontuação Regata (Nha)\", \"Classe Vela\", \"Flag Name\", \"Posição Geral\"], data=merge(\"scraping_2024/ilca_7_ec_bronze.csv\", 7, 13, 4, \"ILCA 7\", 1, flag_name=\"Bronze\", competition_name=\"European Championship 2024\"))\n",
    "df_12 = pd.DataFrame(columns=[\"Identificador\", \"Nome Competição\", \"Regata\", \"Nome Competidor\", \"Pontuação Regata (Nha)\", \"Classe Vela\", \"Flag Name\", \"Posição Geral\"], data=merge(\"scraping_2024/ilca_6_wc.csv\", 6, 16, 4, \"ILCA 6\", 1, competition_name=\"World Championship 2024\"))\n",
    "df_13 = pd.DataFrame(columns=[\"Identificador\", \"Nome Competição\", \"Regata\", \"Nome Competidor\", \"Pontuação Regata (Nha)\", \"Classe Vela\", \"Flag Name\", \"Posição Geral\"], data=merge(\"scraping_2024/ilca_6_ec_silver.csv\", 7, 13, 4, \"ILCA 6\", 1, flag_name=\"Silver\", competition_name=\"European Championship 2024\"))\n",
    "df_14 = pd.DataFrame(columns=[\"Identificador\", \"Nome Competição\", \"Regata\", \"Nome Competidor\", \"Pontuação Regata (Nha)\", \"Classe Vela\", \"Flag Name\", \"Posição Geral\"], data=merge(\"scraping_2024/ilca_6_ec_gold.csv\", 7, 14, 4, \"ILCA 6\", 1, flag_name=\"Gold\", competition_name=\"European Championship 2024\"))\n",
    "df_15 = pd.DataFrame(columns=[\"Identificador\", \"Nome Competição\", \"Regata\", \"Nome Competidor\", \"Pontuação Regata (Nha)\", \"Classe Vela\", \"Flag Name\", \"Posição Geral\"], data=merge(\"scraping_2024/470_mixed.csv\", 7, 17, 5, \"470\", 2, competition_name=\"World Championship 2024\"))\n",
    "df_16 = pd.DataFrame(columns=[\"Identificador\", \"Nome Competição\", \"Regata\", \"Nome Competidor\", \"Pontuação Regata (Nha)\", \"Classe Vela\", \"Flag Name\", \"Posição Geral\"], data=merge(\"scraping_2024/49er_wc.csv\", 6, 23, 4, \"49er\", 2, competition_name=\"World Championship 2024\"))\n",
    "df_17 = pd.DataFrame(columns=[\"Identificador\", \"Nome Competição\", \"Regata\", \"Nome Competidor\", \"Pontuação Regata (Nha)\", \"Classe Vela\", \"Flag Name\", \"Posição Geral\"], data=merge(\"scraping_2024/49erfx_wc.csv\", 6, 22, 4, \"49erfx\", 2, competition_name=\"World Championship 2024\"))"
   ]
  },
  {
   "cell_type": "code",
   "execution_count": 10,
   "metadata": {},
   "outputs": [],
   "source": [
    "df_list_manager2sail = []\n",
    "for file in os.listdir(\"scrapers/temp-scraped-data/\"):\n",
    "    if file.endswith(\".xlsx\"):\n",
    "        df_list_manager2sail.append(pd.read_excel(\"scrapers/temp-scraped-data/\" + file))"
   ]
  },
  {
   "cell_type": "code",
   "execution_count": 11,
   "metadata": {},
   "outputs": [
    {
     "name": "stdout",
     "output_type": "stream",
     "text": [
      "Index(['Nome Competidor', 'ID Competição', 'Classe Vela', 'Pontuação Regata',\n",
      "       'Descarte', 'Flotilha', 'Posição Geral', 'Punição', 'Pontuação Total',\n",
      "       'Nett', 'Nome Competição'],\n",
      "      dtype='object')\n",
      "                     Nome Competidor ID Competição Classe Vela  \\\n",
      "0  Tobias SPRANGERFelix MEGGENDORFER           243        49er   \n",
      "1  Tobias SPRANGERFelix MEGGENDORFER           243        49er   \n",
      "2  Tobias SPRANGERFelix MEGGENDORFER           243        49er   \n",
      "3  Tobias SPRANGERFelix MEGGENDORFER           243        49er   \n",
      "4  Tobias SPRANGERFelix MEGGENDORFER           243        49er   \n",
      "5  Tobias SPRANGERFelix MEGGENDORFER           243        49er   \n",
      "6  Tobias SPRANGERFelix MEGGENDORFER           243        49er   \n",
      "7  Tobias SPRANGERFelix MEGGENDORFER           243        49er   \n",
      "8  Tobias SPRANGERFelix MEGGENDORFER           243        49er   \n",
      "9  Tobias SPRANGERFelix MEGGENDORFER           243        49er   \n",
      "\n",
      "   Pontuação Regata (Nha) Descarte Flotilha Posição Geral Punição  Total  \\\n",
      "0                     1.0        0    GERAL             1     NaN   47.0   \n",
      "1                     2.0        0    GERAL             1     NaN   47.0   \n",
      "2                    10.0        1    GERAL             1     OCS   47.0   \n",
      "3                     1.0        0    GERAL             1     NaN   47.0   \n",
      "4                     1.0        0    GERAL             1     NaN   47.0   \n",
      "5                     1.0        0    GERAL             1     NaN   47.0   \n",
      "6                     3.0        0    GERAL             1     NaN   47.0   \n",
      "7                     2.0        0    GERAL             1     NaN   47.0   \n",
      "8                     1.0        0    GERAL             1     NaN   47.0   \n",
      "9                    10.0        1    GERAL             1     DNC   47.0   \n",
      "\n",
      "    Net            Nome Competição  \n",
      "0  27.0  Alpsee-Skiff-Weekend 2023  \n",
      "1  27.0  Alpsee-Skiff-Weekend 2023  \n",
      "2  27.0  Alpsee-Skiff-Weekend 2023  \n",
      "3  27.0  Alpsee-Skiff-Weekend 2023  \n",
      "4  27.0  Alpsee-Skiff-Weekend 2023  \n",
      "5  27.0  Alpsee-Skiff-Weekend 2023  \n",
      "6  27.0  Alpsee-Skiff-Weekend 2023  \n",
      "7  27.0  Alpsee-Skiff-Weekend 2023  \n",
      "8  27.0  Alpsee-Skiff-Weekend 2023  \n",
      "9  27.0  Alpsee-Skiff-Weekend 2023  \n"
     ]
    },
    {
     "name": "stderr",
     "output_type": "stream",
     "text": [
      "C:\\Users\\mathe\\AppData\\Local\\Temp\\ipykernel_9524\\334798357.py:1: FutureWarning: The behavior of DataFrame concatenation with empty or all-NA entries is deprecated. In a future version, this will no longer exclude empty or all-NA columns when determining the result dtypes. To retain the old behavior, exclude the relevant entries before the concat operation.\n",
      "  df_18 = pd.concat(df_list_manager2sail)\n"
     ]
    }
   ],
   "source": [
    "df_18 = pd.concat(df_list_manager2sail)\n",
    "print(df_18.columns)\n",
    "df_18 = df_18.rename(columns={'Pontuação Regata': 'Pontuação Regata (Nha)'})\n",
    "df_18 = df_18.rename(columns={'Pontuação Total': 'Total'})\n",
    "df_18 = df_18.rename(columns={'Nett': 'Net'})\n",
    "print(df_18[:10])"
   ]
  },
  {
   "cell_type": "code",
   "execution_count": 12,
   "metadata": {},
   "outputs": [],
   "source": [
    "df_final = pd.concat([df_1, df_2, df_3, df_4, df_5, df_6, df_7, df_8, df_9, df_10, df_11, df_12, df_13, df_14, df_15, df_16, df_17, df_18])"
   ]
  },
  {
   "cell_type": "code",
   "execution_count": 14,
   "metadata": {},
   "outputs": [],
   "source": [
    "df_final['Nome Competidor'] = df_final['Nome Competidor'].apply(trata_nomes)\n",
    "\n",
    "df_final = df_final.dropna(subset=['Pontuação Regata (Nha)']).reset_index(drop=True)"
   ]
  },
  {
   "cell_type": "code",
   "execution_count": 15,
   "metadata": {},
   "outputs": [],
   "source": [
    "def trata_posicao(valor:str):\n",
    "    \"\"\"\n",
    "    \"\"\"\n",
    "    return str(valor).replace(\"TH\", \"\").replace(\"ST\", \"\").replace(\"RD\", \"\").replace(\"ND\", \"\")\n",
    "\n",
    "\n",
    "df_final['Posição Geral'] = df_final['Posição Geral'].apply(trata_posicao)"
   ]
  },
  {
   "cell_type": "code",
   "execution_count": 16,
   "metadata": {},
   "outputs": [],
   "source": [
    "def trata_pontuacao(valor):\n",
    "    if type(valor) == str:\n",
    "        try:\n",
    "            return float(valor.split(\"-\")[0])\n",
    "        except:\n",
    "            return 0\n",
    "    else:\n",
    "        return valor\n",
    "\n",
    "df_final['Pontuação Regata'] = df_final['Pontuação Regata (Nha)'].apply(trata_pontuacao)\n",
    "df_final = df_final.loc[df_final['Pontuação Regata'] != 0].reset_index(drop=True)\n",
    "df_final = df_final.loc[df_final['Pontuação Regata'] != \"nan\"].reset_index(drop=True)"
   ]
  },
  {
   "cell_type": "code",
   "execution_count": 17,
   "metadata": {},
   "outputs": [],
   "source": [
    "def trata_descartes(valor:str):\n",
    "    try:\n",
    "        return valor.split(\"-\")[1]\n",
    "    except:\n",
    "        return valor\n",
    "\n",
    "df_final['Descarte'] = df_final['Pontuação Regata (Nha)'].apply(trata_descartes)"
   ]
  },
  {
   "cell_type": "code",
   "execution_count": 18,
   "metadata": {},
   "outputs": [],
   "source": [
    "def trata_punicoes(valor:str):\n",
    "    try:\n",
    "        return valor.split(\"-\")[2]\n",
    "    except:\n",
    "        return \"\"\n",
    "    \n",
    "df_final['Punição'] = df_final['Pontuação Regata (Nha)'].apply(trata_punicoes)"
   ]
  },
  {
   "cell_type": "code",
   "execution_count": 19,
   "metadata": {},
   "outputs": [],
   "source": [
    "def trata_flotilha(valor:str):\n",
    "    lista = [\"F\", \"SF\", \"QF\", \"MEDAL\", \"FINAL\"]\n",
    "    if valor in lista:\n",
    "        return \"MEDAL RACE\"\n",
    "    else:\n",
    "        return \"GERAL\"\n",
    "\n",
    "df_final['Flotilha'] = df_final['Regata'].apply(trata_flotilha)"
   ]
  },
  {
   "cell_type": "code",
   "execution_count": 21,
   "metadata": {},
   "outputs": [],
   "source": [
    "lista_de_participacoes_unicas = list(set(df_final[\"Identificador\"]))\n",
    "dict_net = dict()\n",
    "dict_total = dict()\n",
    "for cada_participação in lista_de_participacoes_unicas:\n",
    "\n",
    "    # faz um filtro dentro do dataframe para cada uma das participações\n",
    "    df_temp = df_final[df_final[\"Identificador\"] == cada_participação]\n",
    "\n",
    "    # soma todas as pontuações\n",
    "    dict_total[cada_participação] = df_temp[\"Pontuação Regata\"].sum()\n",
    "\n",
    "    # adiciona no dicionário apenas as pontuações que não foram descartadas\n",
    "    df_temp = df_temp[df_temp[\"Descarte\"] == \"0\"]\n",
    "    dict_net[cada_participação] = df_temp[\"Pontuação Regata\"].sum()"
   ]
  },
  {
   "cell_type": "code",
   "execution_count": 22,
   "metadata": {},
   "outputs": [],
   "source": [
    "def trata_total(valor:str):\n",
    "    return dict_total[valor]\n",
    "\n",
    "def trata_net(valor:str):\n",
    "    return dict_net[valor]\n",
    "\n",
    "df_final['Total'] = df_final['Identificador'].apply(trata_total)\n",
    "df_final['Net'] = df_final['Identificador'].apply(trata_net)"
   ]
  },
  {
   "cell_type": "code",
   "execution_count": null,
   "metadata": {},
   "outputs": [],
   "source": [
    "df_final.to_csv('sumulas.csv', index=False)\n",
    "df_final.to_excel('sumulas.xlsx', index=False)"
   ]
  },
  {
   "cell_type": "code",
   "execution_count": 23,
   "metadata": {},
   "outputs": [],
   "source": [
    "final_data = pd.read_excel(\"data/final_data_original.xlsx\", sheet_name=\"Atletas\")\n",
    "\n",
    "dict_id = dict()\n",
    "new_id = 0\n",
    "for i in range(len(final_data)):\n",
    "    dict_id[final_data[\"Nome Competidor\"].iloc[i]] = final_data[\"ID Competidor\"].iloc[i]\n",
    "\n",
    "    if final_data[\"ID Competidor\"].iloc[i] > new_id:\n",
    "        new_id = final_data[\"ID Competidor\"].iloc[i]"
   ]
  },
  {
   "cell_type": "code",
   "execution_count": 24,
   "metadata": {},
   "outputs": [],
   "source": [
    "temp_data = pd.read_csv(\"sumulas.csv\")\n",
    "\n",
    "conjunto_de_nomes = set(temp_data[\"Nome Competidor\"])\n",
    "conjunto_de_nomes_antigos = set(final_data[\"Nome Competidor\"])\n",
    "\n",
    "nomes_novos = conjunto_de_nomes - conjunto_de_nomes_antigos"
   ]
  },
  {
   "cell_type": "code",
   "execution_count": 25,
   "metadata": {},
   "outputs": [],
   "source": [
    "for cada_atleta in nomes_novos:\n",
    "    dict_id[cada_atleta] = new_id + 1\n",
    "    new_id += 1\n",
    "\n",
    "df_final = pd.DataFrame(data=list(dict_id.items()), columns=[\"Nome Competidor\", \"ID Competidor\"])"
   ]
  },
  {
   "cell_type": "code",
   "execution_count": null,
   "metadata": {},
   "outputs": [],
   "source": [
    "df_final.to_excel(\"atletas.xlsx\")"
   ]
  }
 ],
 "metadata": {
  "kernelspec": {
   "display_name": "Python 3",
   "language": "python",
   "name": "python3"
  },
  "language_info": {
   "codemirror_mode": {
    "name": "ipython",
    "version": 3
   },
   "file_extension": ".py",
   "mimetype": "text/x-python",
   "name": "python",
   "nbconvert_exporter": "python",
   "pygments_lexer": "ipython3",
   "version": "3.12.1"
  }
 },
 "nbformat": 4,
 "nbformat_minor": 2
}
