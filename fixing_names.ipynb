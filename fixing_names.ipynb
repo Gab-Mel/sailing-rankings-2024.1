{
 "cells": [
  {
   "cell_type": "code",
   "execution_count": 1,
   "metadata": {},
   "outputs": [],
   "source": [
    "import pandas as pd  \n",
    "import unidecode"
   ]
  },
  {
   "cell_type": "code",
   "execution_count": 2,
   "metadata": {},
   "outputs": [],
   "source": [
    "def trata_nomes(valor:str):\n",
    "    \"\"\"\n",
    "    \"\"\"\n",
    "    return unidecode.unidecode(str(valor))"
   ]
  },
  {
   "cell_type": "markdown",
   "metadata": {},
   "source": [
    "## Kite Women WC Gold"
   ]
  },
  {
   "cell_type": "code",
   "execution_count": 8,
   "metadata": {},
   "outputs": [],
   "source": [
    "df_temp = pd.read_csv(\"scraping_2024/kite_wc_women_over_gold.csv\")\n",
    "df_temp[\"HELMNAME\"] = df_temp[\"HELMNAME\"].apply(trata_nomes)\n",
    "df_temp.to_csv(\"scraping_2024/kite_wc_women_over_gold.csv\", index=False)"
   ]
  },
  {
   "cell_type": "code",
   "execution_count": 9,
   "metadata": {},
   "outputs": [],
   "source": [
    "df_temp = pd.read_csv(\"scraping_2024/kite_wc_women_over_silver.csv\")\n",
    "df_temp[\"HELMNAME\"] = df_temp[\"HELMNAME\"].apply(trata_nomes)\n",
    "df_temp.to_csv(\"scraping_2024/kite_wc_women_over_silver.csv\", index=False)"
   ]
  },
  {
   "cell_type": "code",
   "execution_count": null,
   "metadata": {},
   "outputs": [],
   "source": [
    "df_temp = pd.read_csv(\"scraping_2024\\kite_wc_men_over_silver.csv\")\n",
    "df_temp[\"HELMNAME\"] = df_temp[\"HELMNAME\"].apply(trata_nomes)\n",
    "df_temp.to_csv(\"scraping_2024\\kite_wc_men_over_silver.csv\", index=False)"
   ]
  }
 ],
 "metadata": {
  "kernelspec": {
   "display_name": "Python 3",
   "language": "python",
   "name": "python3"
  },
  "language_info": {
   "codemirror_mode": {
    "name": "ipython",
    "version": 3
   },
   "file_extension": ".py",
   "mimetype": "text/x-python",
   "name": "python",
   "nbconvert_exporter": "python",
   "pygments_lexer": "ipython3",
   "version": "3.12.1"
  }
 },
 "nbformat": 4,
 "nbformat_minor": 2
}
