{
 "cells": [
  {
   "cell_type": "code",
   "execution_count": 1,
   "metadata": {},
   "outputs": [],
   "source": [
    "import pandas as pd\n",
    "import numpy as np"
   ]
  },
  {
   "cell_type": "code",
   "execution_count": 2,
   "metadata": {},
   "outputs": [],
   "source": [
    "df2 = pd.read_csv('../scraped-data-2024/cluster2-html.csv')\n",
    "df2 = pd.concat([df2, pd.read_csv('../scraped-data-2024/cluster2_5-pdf.csv')])"
   ]
  },
  {
   "cell_type": "code",
   "execution_count": 3,
   "metadata": {},
   "outputs": [],
   "source": [
    "df2.replace('\\xa0', np.nan, inplace=True)\n",
    "df2.dropna(subset=[\"Pontuação Regata\"], inplace=True)\n",
    "df2['Punição'] = 0\n",
    "df2['Descarte'] = 0"
   ]
  },
  {
   "cell_type": "code",
   "execution_count": 4,
   "metadata": {},
   "outputs": [],
   "source": [
    "import re\n",
    "import unidecode\n",
    "\n",
    "def process_string(s):\n",
    "    # Remove espaços em branco extras\n",
    "    s = str(s).strip()\n",
    "    \n",
    "    numbers = re.findall(r'\\d+(?:\\.\\d+)?', s)\n",
    "    \n",
    "    has_parentheses = 1 if '(' in s or ')' in s else 0\n",
    "    \n",
    "    letters = ''.join(re.findall(r'[a-zA-Z]', s))\n",
    "    if letters == '':\n",
    "        letters = 0\n",
    "    return numbers, has_parentheses, letters"
   ]
  },
  {
   "cell_type": "code",
   "execution_count": 5,
   "metadata": {},
   "outputs": [],
   "source": [
    "df2['Punição'] = df2['Pontuação Regata'].apply(lambda x: process_string(x)[2])\n",
    "df2['Descarte'] = df2['Pontuação Regata'].apply(lambda x: process_string(x)[1])\n",
    "df2['Pontuação Regata'] = df2['Pontuação Regata'].apply(lambda x: process_string(x)[0][0])\n",
    "df2[\"Nome Competidor\"] = df2[\"Nome Competidor\"] .apply(lambda x: unidecode.unidecode(x).upper())"
   ]
  },
  {
   "cell_type": "code",
   "execution_count": 6,
   "metadata": {},
   "outputs": [],
   "source": [
    "df2.to_csv('../cleaned_data_2024/cluster_2.csv', index=False)"
   ]
  },
  {
   "cell_type": "code",
   "execution_count": 7,
   "metadata": {},
   "outputs": [],
   "source": [
    "df3 = pd.read_csv('../scraped-data-2024/cluster3.csv')"
   ]
  },
  {
   "cell_type": "code",
   "execution_count": 8,
   "metadata": {},
   "outputs": [
    {
     "data": {
      "text/html": [
       "<div>\n",
       "<style scoped>\n",
       "    .dataframe tbody tr th:only-of-type {\n",
       "        vertical-align: middle;\n",
       "    }\n",
       "\n",
       "    .dataframe tbody tr th {\n",
       "        vertical-align: top;\n",
       "    }\n",
       "\n",
       "    .dataframe thead th {\n",
       "        text-align: right;\n",
       "    }\n",
       "</style>\n",
       "<table border=\"1\" class=\"dataframe\">\n",
       "  <thead>\n",
       "    <tr style=\"text-align: right;\">\n",
       "      <th></th>\n",
       "      <th>Id Resultado</th>\n",
       "      <th>Id Competidor</th>\n",
       "      <th>Nome Competidor</th>\n",
       "      <th>Id Competição</th>\n",
       "      <th>Classe Vela</th>\n",
       "      <th>Pontuação Regata</th>\n",
       "      <th>Flotilha</th>\n",
       "      <th>Posição Geral</th>\n",
       "      <th>Punição</th>\n",
       "      <th>Pontuação Total</th>\n",
       "      <th>Nett</th>\n",
       "      <th>Nome Competição</th>\n",
       "      <th>Regata</th>\n",
       "    </tr>\n",
       "  </thead>\n",
       "  <tbody>\n",
       "    <tr>\n",
       "      <th>0</th>\n",
       "      <td>NaN</td>\n",
       "      <td>NaN</td>\n",
       "      <td>THAMSOONTORN/KHEMKAEW</td>\n",
       "      <td>NaN</td>\n",
       "      <td>470</td>\n",
       "      <td>18.0</td>\n",
       "      <td>G</td>\n",
       "      <td>49</td>\n",
       "      <td>NaN</td>\n",
       "      <td>210.0</td>\n",
       "      <td>181.0</td>\n",
       "      <td>World Championship 2023</td>\n",
       "      <td>Race 9 Silver</td>\n",
       "    </tr>\n",
       "    <tr>\n",
       "      <th>1</th>\n",
       "      <td>NaN</td>\n",
       "      <td>NaN</td>\n",
       "      <td>GIANNOULIS/GIANNOULI</td>\n",
       "      <td>NaN</td>\n",
       "      <td>470</td>\n",
       "      <td>32.0</td>\n",
       "      <td>G</td>\n",
       "      <td>58</td>\n",
       "      <td>NaN</td>\n",
       "      <td>258.0</td>\n",
       "      <td>226.0</td>\n",
       "      <td>World Championship 2023</td>\n",
       "      <td>Race 9 Silver</td>\n",
       "    </tr>\n",
       "    <tr>\n",
       "      <th>2</th>\n",
       "      <td>NaN</td>\n",
       "      <td>NaN</td>\n",
       "      <td>JERWOOD/NICHOLAS</td>\n",
       "      <td>NaN</td>\n",
       "      <td>470</td>\n",
       "      <td>10.0</td>\n",
       "      <td>G</td>\n",
       "      <td>36</td>\n",
       "      <td>NaN</td>\n",
       "      <td>135.0</td>\n",
       "      <td>102.0</td>\n",
       "      <td>World Championship 2023</td>\n",
       "      <td>Race 9 Silver</td>\n",
       "    </tr>\n",
       "    <tr>\n",
       "      <th>3</th>\n",
       "      <td>NaN</td>\n",
       "      <td>NaN</td>\n",
       "      <td>SPANAKI/SPANAKIS</td>\n",
       "      <td>NaN</td>\n",
       "      <td>470</td>\n",
       "      <td>2.0</td>\n",
       "      <td>G</td>\n",
       "      <td>48</td>\n",
       "      <td>NaN</td>\n",
       "      <td>211.0</td>\n",
       "      <td>178.0</td>\n",
       "      <td>World Championship 2023</td>\n",
       "      <td>Race 9 Silver</td>\n",
       "    </tr>\n",
       "    <tr>\n",
       "      <th>4</th>\n",
       "      <td>NaN</td>\n",
       "      <td>NaN</td>\n",
       "      <td>BRISTOW/TAYLOR</td>\n",
       "      <td>NaN</td>\n",
       "      <td>470</td>\n",
       "      <td>5.0</td>\n",
       "      <td>G</td>\n",
       "      <td>38</td>\n",
       "      <td>NaN</td>\n",
       "      <td>137.0</td>\n",
       "      <td>116.0</td>\n",
       "      <td>World Championship 2023</td>\n",
       "      <td>Race 9 Silver</td>\n",
       "    </tr>\n",
       "  </tbody>\n",
       "</table>\n",
       "</div>"
      ],
      "text/plain": [
       "   Id Resultado  Id Competidor        Nome Competidor  Id Competição  \\\n",
       "0           NaN            NaN  THAMSOONTORN/KHEMKAEW            NaN   \n",
       "1           NaN            NaN   GIANNOULIS/GIANNOULI            NaN   \n",
       "2           NaN            NaN       JERWOOD/NICHOLAS            NaN   \n",
       "3           NaN            NaN       SPANAKI/SPANAKIS            NaN   \n",
       "4           NaN            NaN         BRISTOW/TAYLOR            NaN   \n",
       "\n",
       "  Classe Vela  Pontuação Regata Flotilha  Posição Geral  Punição  \\\n",
       "0         470              18.0        G             49      NaN   \n",
       "1         470              32.0        G             58      NaN   \n",
       "2         470              10.0        G             36      NaN   \n",
       "3         470               2.0        G             48      NaN   \n",
       "4         470               5.0        G             38      NaN   \n",
       "\n",
       "   Pontuação Total   Nett          Nome Competição         Regata  \n",
       "0            210.0  181.0  World Championship 2023  Race 9 Silver  \n",
       "1            258.0  226.0  World Championship 2023  Race 9 Silver  \n",
       "2            135.0  102.0  World Championship 2023  Race 9 Silver  \n",
       "3            211.0  178.0  World Championship 2023  Race 9 Silver  \n",
       "4            137.0  116.0  World Championship 2023  Race 9 Silver  "
      ]
     },
     "execution_count": 8,
     "metadata": {},
     "output_type": "execute_result"
    }
   ],
   "source": [
    "df3.head()"
   ]
  },
  {
   "cell_type": "code",
   "execution_count": null,
   "metadata": {},
   "outputs": [],
   "source": []
  }
 ],
 "metadata": {
  "language_info": {
   "name": "python"
  }
 },
 "nbformat": 4,
 "nbformat_minor": 2
}
