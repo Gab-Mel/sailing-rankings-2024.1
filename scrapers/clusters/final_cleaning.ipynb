{
 "cells": [
  {
   "cell_type": "markdown",
   "metadata": {},
   "source": [
    "# Cluster 1"
   ]
  },
  {
   "cell_type": "markdown",
   "metadata": {},
   "source": [
    "## Agregando resultados"
   ]
  },
  {
   "cell_type": "code",
   "execution_count": 14,
   "metadata": {},
   "outputs": [],
   "source": [
    "import os\n",
    "import pandas as pd"
   ]
  },
  {
   "cell_type": "code",
   "execution_count": 15,
   "metadata": {},
   "outputs": [],
   "source": [
    "files = [f for f in os.listdir(\"../scraped-data-2024/c1\")]\n",
    "\n",
    "df_init = pd.read_csv(\"../scraped-data-2024/c1/\"+files[0])\n",
    "\n",
    "for file in files[1:]:\n",
    "    df_init = pd.concat([df_init, pd.read_csv(\"../scraped-data-2024/c1/\"+file)])\n",
    "\n",
    "df_init.to_csv(\"../scraped-data-2024/cluster1-html.csv\", index=False)"
   ]
  },
  {
   "cell_type": "markdown",
   "metadata": {},
   "source": [
    "# Cluster 2"
   ]
  },
  {
   "cell_type": "code",
   "execution_count": 16,
   "metadata": {},
   "outputs": [],
   "source": [
    "files = [f for f in os.listdir(\"../scraped-data-2024/c2\")]\n",
    "\n",
    "df_init = pd.read_csv(\"../scraped-data-2024/c2/\"+files[0])\n",
    "\n",
    "for file in files[1:]:\n",
    "    df_init = pd.concat([df_init, pd.read_csv(\"../scraped-data-2024/c2/\"+file)])\n",
    "\n",
    "df_init.to_csv(\"../scraped-data-2024/cluster2-html.csv\", index=False)"
   ]
  },
  {
   "cell_type": "markdown",
   "metadata": {},
   "source": [
    "# Cluster 8"
   ]
  },
  {
   "cell_type": "code",
   "execution_count": 17,
   "metadata": {},
   "outputs": [],
   "source": [
    "files = [f for f in os.listdir(\"../scraped-data-2024/c8\")]\n",
    "\n",
    "df_init = pd.read_csv(\"../scraped-data-2024/c8/\"+files[0])\n",
    "\n",
    "for file in files[1:]:\n",
    "    df_init = pd.concat([df_init, pd.read_csv(\"../scraped-data-2024/c8/\"+file)])\n",
    "\n",
    "df_init.to_csv(\"../scraped-data-2024/cluster8-html.csv\", index=False)"
   ]
  },
  {
   "cell_type": "markdown",
   "metadata": {},
   "source": [
    "# Cluster 9"
   ]
  },
  {
   "cell_type": "code",
   "execution_count": 18,
   "metadata": {},
   "outputs": [
    {
     "name": "stderr",
     "output_type": "stream",
     "text": [
      "C:\\Users\\silla\\AppData\\Local\\Temp\\ipykernel_19524\\4215367912.py:6: FutureWarning: The behavior of DataFrame concatenation with empty or all-NA entries is deprecated. In a future version, this will no longer exclude empty or all-NA columns when determining the result dtypes. To retain the old behavior, exclude the relevant entries before the concat operation.\n",
      "  df_init = pd.concat([df_init, pd.read_csv(\"../scraped-data-2024/c9/\"+file)])\n"
     ]
    }
   ],
   "source": [
    "files = [f for f in os.listdir(\"../scraped-data-2024/c9\")]\n",
    "\n",
    "df_init = pd.read_csv(\"../scraped-data-2024/c9/\"+files[0])\n",
    "\n",
    "for file in files[1:]:\n",
    "    df_init = pd.concat([df_init, pd.read_csv(\"../scraped-data-2024/c9/\"+file)])\n",
    "\n",
    "df_init.to_csv(\"../scraped-data-2024/cluster9-html.csv\", index=False)"
   ]
  },
  {
   "cell_type": "markdown",
   "metadata": {},
   "source": [
    "## Cluster 2.5"
   ]
  },
  {
   "cell_type": "code",
   "execution_count": 19,
   "metadata": {},
   "outputs": [],
   "source": [
    "df_ilca6 = pd.read_csv(\"../scraped-data-2024/c2_5/European Championship 2021 Ilca 6.csv\")\n",
    "df_ilca7 = pd.read_csv(\"../scraped-data-2024/c2_5/European Championship 2021 Ilca 7.csv\")\n",
    "df_final = pd.concat([df_ilca7, df_ilca6])\n",
    "df_final.to_csv(\"../scraped-data-2024/cluster2_5-pdf.csv\", index=False)"
   ]
  },
  {
   "cell_type": "code",
   "execution_count": null,
   "metadata": {},
   "outputs": [],
   "source": []
  }
 ],
 "metadata": {
  "kernelspec": {
   "display_name": ".venv",
   "language": "python",
   "name": "python3"
  },
  "language_info": {
   "codemirror_mode": {
    "name": "ipython",
    "version": 3
   },
   "file_extension": ".py",
   "mimetype": "text/x-python",
   "name": "python",
   "nbconvert_exporter": "python",
   "pygments_lexer": "ipython3",
   "version": "3.12.3"
  }
 },
 "nbformat": 4,
 "nbformat_minor": 2
}
