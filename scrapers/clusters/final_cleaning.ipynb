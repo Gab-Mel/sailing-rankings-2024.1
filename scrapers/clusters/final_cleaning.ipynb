{
 "cells": [
  {
   "cell_type": "code",
   "execution_count": 1,
   "metadata": {},
   "outputs": [],
   "source": [
    "import pandas as pd\n",
    "import numpy as np"
   ]
  },
  {
   "cell_type": "code",
   "execution_count": 2,
   "metadata": {},
   "outputs": [],
   "source": [
    "import re\n",
    "import unidecode\n",
    "import numpy as np\n",
    "\n",
    "def process_string_1(s):\n",
    "    # Remove espaços em branco extras\n",
    "    s = str(s).strip()\n",
    "    \n",
    "    numbers = re.findall(r'\\d+(?:\\.\\d+)?', s)\n",
    "    if numbers == []:\n",
    "        numbers.append(np.nan)\n",
    "    \n",
    "    has_parentheses = 1 if '(' in s or ')' in s else 0\n",
    "    \n",
    "    letters = ''.join(re.findall(r'[a-zA-Z]', s))\n",
    "    if letters == '':\n",
    "        letters = 0\n",
    "    return numbers, has_parentheses, letters\n",
    "\n",
    "def process_string(s):\n",
    "    # Remove espaços em branco extras\n",
    "    s = str(s).strip()\n",
    "    \n",
    "    numbers = re.findall(r'\\d+(?:\\.\\d+)?', s)\n",
    "    if numbers == []:\n",
    "        numbers.append(np.nan)\n",
    "    \n",
    "    has_parentheses = 1 if '(' in s or ')' in s or '-' in s else 0\n",
    "    \n",
    "    letters = ''.join(re.findall(r'[a-zA-Z]', s))\n",
    "    if letters == '':\n",
    "        letters = 0\n",
    "    return numbers, has_parentheses, letters"
   ]
  },
  {
   "cell_type": "code",
   "execution_count": 3,
   "metadata": {},
   "outputs": [],
   "source": [
    "column_order = ['ID Resultado', 'ID Competidor', 'Nome Competidor',\n",
    "                'ID Competição', 'Classe Vela', 'Pontuação Regata',\n",
    "                'Descarte', 'Flotilha', 'Posição Geral', 'Punição',\n",
    "                'Pontuação Total', 'Nett', 'Nome Competição', 'Regata']"
   ]
  },
  {
   "cell_type": "code",
   "execution_count": 4,
   "metadata": {},
   "outputs": [],
   "source": [
    "df1 = pd.read_csv(\"../scraped-data-2024/cluster_1_resolvido.csv\")\n",
    "df1.drop([\"Unnamed: 0\", \"Nacionalidade\"], axis=1, inplace=True)\n",
    "df1.rename(columns={'Athlete': 'Nome Competidor', \"Net\": \"Nett\", \"Total\": 'Pontuação Total', \"Position\":'Posição Geral'}, inplace=True)\n",
    "df1[['ID Resultado', 'ID Competidor', 'ID Competição', 'Descarte', 'Punição', 'Flotilha']] = ''"
   ]
  },
  {
   "cell_type": "code",
   "execution_count": 5,
   "metadata": {},
   "outputs": [],
   "source": [
    "df1['Punição'] = df1['Pontuação Regata'].apply(lambda x: process_string_1(x)[2])\n",
    "df1['Descarte'] = df1['Pontuação Regata'].apply(lambda x: process_string_1(x)[1])\n",
    "df1['Pontuação Regata'] = df1['Pontuação Regata'].apply(lambda x: float(process_string_1(x)[0][0]))"
   ]
  },
  {
   "cell_type": "code",
   "execution_count": 6,
   "metadata": {},
   "outputs": [],
   "source": [
    "for i, data1 in df1.iterrows():\n",
    "    # if data1[\"Classe Vela\"] in ['IQFOIL FEM.', 'IQFOIL MASC.', 'FORMULA KITE FEM.',\n",
    "    #    'FORMULA KITE MASC.', '49ER', '49ERFX', 'NACRA 17']:\n",
    "    if data1[\"Classe Vela\"] in ['IQFOIL FEM.', 'IQFOIL MASC.']:\n",
    "        nome = data1['Nome Competidor'].split('/')[0].strip()\n",
    "        nomes = nome.split(',')\n",
    "        match len(nomes):\n",
    "            case 1:\n",
    "                nome = nomes[0]\n",
    "            case 2:\n",
    "                nome = nomes[1].strip() + ' ' + nomes[0].strip()\n",
    "            case 3:\n",
    "                nome = nomes[-1].strip() + \" \" + nomes[0].strip() + \", \" + nomes[1].strip().replace('\\r\\n', ' ').replace('?', '')\n",
    "        \n",
    "    elif data1[\"Classe Vela\"] == 'FORMULA KITE FEM.':\n",
    "        nome = data1['Nome Competidor'].replace('1/2O', '').replace('1/2', '').replace('?', '').replace(\"  \", \" \")\n",
    "        nomes = nome.strip().split(' ')\n",
    "        match len(nomes):\n",
    "            case 1:\n",
    "                nome = nomes[0].strip()\n",
    "            case 2:\n",
    "                nome = nomes[1].strip() + \" \" + nomes[0].strip()\n",
    "            case 3:\n",
    "                nome = nomes[2].strip() + \" \" + nomes[0].strip() + \" \" + nomes[1].strip()\n",
    "            case _:\n",
    "                nome = nomes[-1].strip() + \" \" + nomes[0].strip() + \" \" + nomes[1].strip()\n",
    "\n",
    "    elif data1[\"Classe Vela\"] == 'FORMULA KITE MASC.':\n",
    "        nome = data1['Nome Competidor'].replace('1/2S', '').replace('1/2', '').replace('?', '').replace(\"  \", \" \").replace(\"  \", \" \")\n",
    "        nomes = nome.strip().split(' ')\n",
    "        match len(nomes):\n",
    "            case 2:\n",
    "                nome = nomes[1].strip() + \" \" + nomes[0].strip()\n",
    "            case 3:\n",
    "                nome = nomes[-1].strip() + \" \" + nomes[0].strip() + \" \" + nomes[1].strip()\n",
    "            case 4:\n",
    "                nome = nomes[1].strip() + \" \" + nomes[2].strip() + \" \" + nomes[3].strip() + \" \" + nomes[0].strip()\n",
    "\n",
    "    elif data1[\"Classe Vela\"] == '49ERFX':\n",
    "        nome = data1['Nome Competidor'].strip().replace(', ,', \",\").replace(\",,\", \",\").replace('TPK\\r\\n', '').replace('SR\\r\\n', '').replace('\\r\\n', '')\n",
    "        nomes = nome.split(\"/\")\n",
    "        if len(nomes) > 2:\n",
    "            if nomes[2] == '':\n",
    "                nomes = nomes[:1]\n",
    "            else:\n",
    "                nomes = [nomes[0], nomes[-1]]\n",
    "        if len(nomes) == 1:\n",
    "            nomes = nomes[0].strip().split(',')\n",
    "        \n",
    "        match len(nomes):\n",
    "            case 2:\n",
    "                name1, name2 = nomes\n",
    "                name1 = name1.split(',')\n",
    "                name2 = name2.split(',')\n",
    "                nome = name1[-1].strip() + ' ' + name1[0].strip() + ', ' + name2[-1].strip() + ' ' + name2[0].strip()\n",
    "\n",
    "    elif data1[\"Classe Vela\"] == '49ER':\n",
    "        nome = data1['Nome Competidor']\n",
    "\n",
    "    else:\n",
    "        nomes = data1['Nome Competidor'].strip().replace('?', '').replace('\\r\\n', ' / ').split('/')\n",
    "        match len(nomes):\n",
    "            case 1:\n",
    "                nomes = nomes[0].split(',')\n",
    "                if len(nomes) == 2:\n",
    "                    nome = nomes[-1].strip() + ' ' + nomes[0].strip()\n",
    "                else:\n",
    "                    nome = nomes[-1].strip() + ' ' + nomes[0].strip() + ', ' + nomes[1].strip()\n",
    "            case 2:\n",
    "                nome = nomes[0].split(',')[1].strip() + ' ' + nomes[0].split(',')[0].strip() + ', ' + nomes[1].split(',')[1].strip() + ' ' + nomes[1].split(',')[0].strip()\n",
    "\n",
    "            case _:\n",
    "                if len(nomes) == 3:\n",
    "                    nomes = [nomes[0], nomes[-1]]\n",
    "                else:\n",
    "                    nomes = [nomes[0], nomes[2]]\n",
    "                nome = nomes[0].split(',')[1].strip() + ' ' + nomes[0].split(',')[0].strip() + ', ' + nomes[1].split(',')[1].strip() + ' ' + nomes[1].split(',')[0].strip()\n",
    "    \n",
    "    df1.loc[i, 'Nome Competidor'] = nome"
   ]
  },
  {
   "cell_type": "code",
   "execution_count": 7,
   "metadata": {},
   "outputs": [
    {
     "data": {
      "text/plain": [
       "array(['IQFOIL FEM.', 'IQFOIL MASC.', 'FORMULA KITE FEM.',\n",
       "       'FORMULA KITE MASC.', '49ER', '49ERFX', 'NACRA 17'], dtype=object)"
      ]
     },
     "execution_count": 7,
     "metadata": {},
     "output_type": "execute_result"
    }
   ],
   "source": [
    "df1[\"Classe Vela\"].unique()"
   ]
  },
  {
   "cell_type": "code",
   "execution_count": 8,
   "metadata": {},
   "outputs": [
    {
     "data": {
      "text/plain": [
       "array(['MINA MOBEKK', 'SHARON KANTOR', 'EMMA WILSON', 'HELENE NOESMOEN',\n",
       "       'SHAHAR TIBI', 'PILAR LAMADRID TRUEBA', 'PALMA ?ARGO',\n",
       "       'SARA WENNEKES', 'LILIAN DE GEUS', 'KATY SPYCHAKOV',\n",
       "       'DELPHINE COUSIN', 'TAMAR STEINBERG', 'LOLA SORIN', 'ISLAY WATSON',\n",
       "       'MAJA DZIARNOWSKA', 'MARTA MAGGETTI', 'HELLE OPPEDAL',\n",
       "       'MAYA MORRIS', 'NICOLE VAN DER VELDEN', 'SASKIA SILLS',\n",
       "       'MARIA BELEN BAZO GERMAN', 'THERESA MARIE STEINLEIN',\n",
       "       'DANIELA PELEG', 'LENA ERDIL', 'VEERLE TEN HAVE', 'XIALING TAN',\n",
       "       'COUTURIER MARION', 'SHAHAR RESHEF', 'XIANTING HUANG',\n",
       "       ' AGUILAR CHAVEZ PEON', 'ALICE READ', 'MANJIA ZHENG',\n",
       "       'MAJA KUCHTA', 'MANON PIANAZZA', 'KRISTYNA PINOSOVA',\n",
       "       'GIORGIA SPECIALE', 'KWAN CHING MA',\n",
       "       'ZOFIA TERESA NOCETI KLEPACKA', 'ADI MILLO', 'NAAMA GAZIT',\n",
       "       'INGRID PUUSTA', 'ALISA ENGELMANN', 'CATRIN WILLIAMS',\n",
       "       'DOMINIQUE STATER', 'LINA EREN', 'LUCIE BELBEOCH',\n",
       "       'LAERKE BUHL-HANSEN', 'TUVA OPPEDAL', 'RENNA SOFIA', 'ZHENG YAN',\n",
       "       'JENNIE ROBERTS', 'NATASA LAPPA', 'ANDREA TORRES FULLANA',\n",
       "       'JIE DU', 'YUNXIU LU', 'MERVE VATAN VATAN', 'LINOY GEVA',\n",
       "       'ALEKSANDRA BLINNIKKA', 'GIOVANNA PRADA', 'EMILY HALL',\n",
       "       'DANAE PONTIFEX', 'LUCY KENYON', 'DILARA URALP PALOMBO',\n",
       "       'CAROLA COLASANTO', 'MAYA GYSLER', 'AMBAR PAPAZIAN',\n",
       "       'MANON BERGER', 'LINDA OPRANDI', 'SAMANTHA COSTIN',\n",
       "       'FIANNE VAN DEN BRULE', 'POLA WAWRZYNIAK', 'RINA NIIJIMA',\n",
       "       'JULIA GOMEZ ROA', 'EMMA VIKTORIA MILLEND', 'SOFIA HAMALAINEN',\n",
       "       'BRUNA MARTINELLI', 'HELENA WANSER', 'LORENA ABICHT',\n",
       "       'SIRI KASKEALA', 'MIKI YAMABE', 'AIKATERINI DIVARI',\n",
       "       'CHIARA FERRETTI', 'EMILIA KOSTI', 'MARSHA SHAHRIN',\n",
       "       'LILA BONDOIS', 'ELENA SANDERA', 'MARINA CHEROUVEIM',\n",
       "       'SARA SZENTIVANYI', 'B LINDSAY', 'PALMA CARGO',\n",
       "       'MARIA BAZO GERMAN', 'ANDREA TORRES', 'MARION COUTURIER',\n",
       "       'KATERINA SVIKOVA', 'BARBORA SVIKOVA', 'MARION MORTEFON',\n",
       "       'ZOFIA NOCETI KLEPACKA', 'KATERINA ALTMANNOVA', 'SOFIA RENNA',\n",
       "       'MANCHON BLANCA', 'NATASHA BRYANT', 'NEEV ROBINSON', 'NOY DRIHAN',\n",
       "       'MERVE VATAN', 'ONISHI FUJIKO', 'BRIANNA ORAMS',\n",
       "       'BRUNA MARTINELLI MELLO', 'SARA CHOLNOKY', 'SUNAGA YUKI',\n",
       "       'JOHANNA HJERTBERG', 'NELA SADILKOVA', 'DEMITA VEGA DE LILLE',\n",
       "       'SOPHIA MEYER', 'INES BOUCHET', 'TUULI PETAJA-SIREN',\n",
       "       'FARRAH HALL', 'JUSTINE LEMETEYER', 'JUNNA WATANABE',\n",
       "       'CRISTINA ORTIZ VIVAS', 'SOFIE HAMMEKEN', 'GOMEZ ROA JULIA',\n",
       "       'KRISTYNA CHALUPNIKOVA', 'ELIF ERCAN', 'BARBARA WINAU',\n",
       "       'LENA HAVERLAND', 'BUSE TUNC', 'SZENTIVANYI SARA',\n",
       "       'ZOFIA NOCETI-KLEPACKA', 'CAMILLE LECOINTRE', 'JORDI XAMMAR',\n",
       "       'MALTE WINKEL', 'SIMON DIESCH', 'THERESA LOFFLER',\n",
       "       'MATISSE PACAUD', 'ELENA BERTA', 'VITA HEATHCOTE HEATHCOTE',\n",
       "       'KEIJU OKADA', 'ANTON DAHLBERG',\n",
       "       'PHILIPP WANSER, LUISE AUTENRIETH', 'GIACOMO FERRARI',\n",
       "       'CAROLINA COSTA, DIOGO JOAO', 'NITAI HASSON',\n",
       "       'MATTI DAHNKE, THERES CIPRA', 'ZANGJUN XU',\n",
       "       'RODOLFO GAGO, BEATRIZ PIRES', 'YVES MERMOD', 'TETSUYA ISOZAKI',\n",
       "       'STUART MCNAY', 'DENIZ CINAR', 'LUKAS VADLAU, LARA MAEHR',\n",
       "       'AI YOSHIDA', 'NIA JERWOOD', 'DAICHI TAKAYAMA', 'QIAN FU',\n",
       "       'HENRIQUE HADDAD', 'YANI XU, JIANYONG XU', \"MANON PENNANEAC'H\",\n",
       "       'MING XU',\n",
       "       'ODYSSEAS-EMMANOUIL SPANAKI, ARIADNE-PARASKEVI SPANAKIS',\n",
       "       'JINGSA DONG, WENJU WANG', 'MELINA PAPPA', 'HANNAH BRISTOW',\n",
       "       'LOMANE VALADE', 'MUHAMMAD FAUZI KAMAN SHAH',\n",
       "       'DEFNE TULCALI, EFE DANISMEND', 'JULIA JACOBSEN', 'ZOFIA KORSAK',\n",
       "       'AGNIESZKA PAWLOWSKA', 'JULIANA DUQUE', 'ROSA DONNER',\n",
       "       'LAURA PUKROPSKI', 'DEREK SCOTT', 'HEDVIG LILJEGREN',\n",
       "       'RAFAL POGORZELSKI', 'NAVEE THAMSOONTORN', 'JOHANN EMMER',\n",
       "       'RAVINDRA KUMAR VERMA, SHRADDHA SHARMA', 'BELEN TAVELLA',\n",
       "       'YEHOR SAMARIN', 'NEUS BALLESTER', 'KACPER PASZEK',\n",
       "       'REAMONN THEINER', 'SOPHIE JACKSON', 'JULIANE ADELSSEN',\n",
       "       'UMA CHOUHAN', 'EMA SAMARIJA', 'CATHARINA SCHAAFF', 'ASHLEE DAUNT',\n",
       "       'MILLIE IRISH', 'BETTINE WRIGLEY, MARTIN HARRIS',\n",
       "       'JOANNA CYMERMAN', 'MAX KELLER', 'PAUL PORTHUN', 'LUISA GANDOLPHO',\n",
       "       'AMELIE WEHRLE', 'MACIEJ SCHMIDT, POLA PANA'], dtype=object)"
      ]
     },
     "execution_count": 8,
     "metadata": {},
     "output_type": "execute_result"
    }
   ],
   "source": [
    "df1[df1['Classe Vela'] == 'IQFOIL FEM.']['Nome Competidor'].unique()"
   ]
  },
  {
   "cell_type": "code",
   "execution_count": 9,
   "metadata": {},
   "outputs": [],
   "source": [
    "df1 = df1[column_order]\n",
    "df1.to_csv('../cleaned_data_2024/cluster1.csv', index=False)"
   ]
  },
  {
   "cell_type": "code",
   "execution_count": null,
   "metadata": {},
   "outputs": [],
   "source": [
    "df2 = pd.read_csv('../scraped-data-2024/cluster2-html.csv')\n",
    "df2 = pd.concat([df2, pd.read_csv('../scraped-data-2024/cluster2_5-pdf.csv')])"
   ]
  },
  {
   "cell_type": "code",
   "execution_count": null,
   "metadata": {},
   "outputs": [],
   "source": [
    "df2.replace('\\xa0', np.nan, inplace=True)\n",
    "df2.dropna(subset=[\"Pontuação Regata\"], inplace=True)\n",
    "df2['Punição'] = 0\n",
    "df2['Descarte'] = 0"
   ]
  },
  {
   "cell_type": "code",
   "execution_count": null,
   "metadata": {},
   "outputs": [],
   "source": [
    "df2['Punição'] = df2['Pontuação Regata'].apply(lambda x: process_string(x)[2])\n",
    "df2['Descarte'] = df2['Pontuação Regata'].apply(lambda x: process_string(x)[1])\n",
    "df2['Pontuação Regata'] = df2['Pontuação Regata'].apply(lambda x: process_string(x)[0][0])\n",
    "df2[\"Nome Competidor\"] = df2[\"Nome Competidor\"] .apply(lambda x: unidecode.unidecode(x).upper())"
   ]
  },
  {
   "cell_type": "code",
   "execution_count": null,
   "metadata": {},
   "outputs": [],
   "source": [
    "df2['ID Resultado'] = ''\n",
    "df2['ID Competidor'] = ''"
   ]
  },
  {
   "cell_type": "code",
   "execution_count": null,
   "metadata": {},
   "outputs": [],
   "source": [
    "df2 = df2[column_order]"
   ]
  },
  {
   "cell_type": "code",
   "execution_count": null,
   "metadata": {},
   "outputs": [],
   "source": [
    "df2.to_csv('../cleaned_data_2024/cluster_2.csv', index=False)"
   ]
  },
  {
   "cell_type": "code",
   "execution_count": null,
   "metadata": {},
   "outputs": [],
   "source": [
    "df3 = pd.read_csv('../scraped-data-2024/cluster3.csv')"
   ]
  },
  {
   "cell_type": "code",
   "execution_count": null,
   "metadata": {},
   "outputs": [],
   "source": [
    "df3[\"Nome Competidor\"] = df3[\"Nome Competidor\"].apply(lambda x: str(x).strip().replace('/', ', '))\n",
    "df3[\"Nome Competidor\"] = df3[\"Nome Competidor\"].apply(lambda x: unidecode.unidecode(x).upper())"
   ]
  },
  {
   "cell_type": "code",
   "execution_count": null,
   "metadata": {},
   "outputs": [],
   "source": [
    "ids = ['ID Resultado', 'ID Competidor', 'ID Competição']\n",
    "for id in ids:\n",
    "    df3[id] = ''"
   ]
  },
  {
   "cell_type": "code",
   "execution_count": null,
   "metadata": {},
   "outputs": [],
   "source": [
    "df3 = df3[column_order]"
   ]
  },
  {
   "cell_type": "code",
   "execution_count": null,
   "metadata": {},
   "outputs": [],
   "source": [
    "df3.to_csv('../cleaned_data_2024/cluster_3.csv', index=False)"
   ]
  },
  {
   "cell_type": "code",
   "execution_count": null,
   "metadata": {},
   "outputs": [],
   "source": [
    "df6 = pd.read_csv('../scraped-data-2024/cluster6-pdf.csv')"
   ]
  },
  {
   "cell_type": "code",
   "execution_count": null,
   "metadata": {},
   "outputs": [],
   "source": [
    "df6[\"Nome Competidor\"] = df6[\"Nome Competidor\"].apply(lambda x: unidecode.unidecode(x).upper())\n",
    "df6['Descarte'] = 0\n",
    "df6[['ID Resultado', 'ID Competidor']] = ''"
   ]
  },
  {
   "cell_type": "code",
   "execution_count": null,
   "metadata": {},
   "outputs": [],
   "source": [
    "df6 = df6[column_order]"
   ]
  },
  {
   "cell_type": "code",
   "execution_count": null,
   "metadata": {},
   "outputs": [],
   "source": [
    "df6.to_csv('../cleaned_data_2024/cluster6.csv', index=False)"
   ]
  },
  {
   "cell_type": "code",
   "execution_count": null,
   "metadata": {},
   "outputs": [],
   "source": [
    "df7 = pd.read_csv('../scraped-data-2024/cluster7-pdf.csv')"
   ]
  },
  {
   "cell_type": "code",
   "execution_count": null,
   "metadata": {},
   "outputs": [],
   "source": [
    "def clean_names_7(line):\n",
    "    results = line.strip().split(' - ')\n",
    "    if len(results) > 1:\n",
    "        punicao = results[0].strip(\"[\")\n",
    "\n",
    "        if punicao == results[0]:\n",
    "            descarte = 0\n",
    "            val = results[1].strip()\n",
    "\n",
    "        else:\n",
    "            descarte = 1\n",
    "            val = results[1].strip(\"]\")\n",
    "    else:\n",
    "        punicao = 0\n",
    "        val = line.strip('[').strip(']')\n",
    "        if val == line:\n",
    "            descarte = 0\n",
    "        else:\n",
    "            descarte = 1\n",
    "\n",
    "    return descarte, punicao, val"
   ]
  },
  {
   "cell_type": "code",
   "execution_count": null,
   "metadata": {},
   "outputs": [],
   "source": [
    "df7['Descarte'] = df7['Pontuação Regata'].apply(lambda x: clean_names_7(x)[0])\n",
    "df7['Punição'] = df7['Pontuação Regata'].apply(lambda x: clean_names_7(x)[1])\n",
    "df7['Pontuação Regata'] = df7['Pontuação Regata'].apply(lambda x: clean_names_7(x)[2])"
   ]
  },
  {
   "cell_type": "code",
   "execution_count": null,
   "metadata": {},
   "outputs": [],
   "source": [
    "df7['Nome Competidor'] = df7['Nome Competidor'].apply(lambda x: unidecode.unidecode(x).upper())\n",
    "df7[['ID Resultado', 'ID Competidor']] =  ''"
   ]
  },
  {
   "cell_type": "code",
   "execution_count": null,
   "metadata": {},
   "outputs": [],
   "source": [
    "df7 = df7[column_order]"
   ]
  },
  {
   "cell_type": "code",
   "execution_count": null,
   "metadata": {},
   "outputs": [],
   "source": [
    "df7.to_csv('../cleaned_data_2024/cluster7.csv', index=False)"
   ]
  },
  {
   "cell_type": "code",
   "execution_count": null,
   "metadata": {},
   "outputs": [],
   "source": [
    "df8 = pd.read_csv('../scraped-data-2024/cluster8-html.csv')"
   ]
  },
  {
   "cell_type": "code",
   "execution_count": null,
   "metadata": {},
   "outputs": [],
   "source": [
    "df8 = df8.dropna(subset=['Pontuação Regata'])\n",
    "df8[\"Nome Competidor\"] = df8[\"Nome Competidor\"].apply(lambda x: unidecode.unidecode(str(x)))"
   ]
  },
  {
   "cell_type": "code",
   "execution_count": null,
   "metadata": {},
   "outputs": [],
   "source": [
    "def sep_nomes(nomes):\n",
    "    nomes_list = str(nomes).strip().split(\" \")\n",
    "    new_nomes_list = list()\n",
    "\n",
    "    for i in range(len(nomes_list)):\n",
    "        if nomes_list[i] != nomes_list[i].title() and nomes_list[i] != nomes_list[i].upper():\n",
    "            nnomee = ''\n",
    "            nome = nomes_list[i]\n",
    "            for i in range(len(nome)-1):\n",
    "                if nome[i] == nome[i].upper() and nome[i+1] == nome[i+1].lower():\n",
    "                    nnomee += ', '\n",
    "\n",
    "                nnomee += nome[i]\n",
    "\n",
    "            nnomee += nome[-1]\n",
    "            nnomee += ' '\n",
    "\n",
    "            new_nomes_list.append(nnomee)\n",
    "        else:\n",
    "            new_nomes_list.append(nomes_list[i])\n",
    "            new_nomes_list.append(' ')\n",
    "\n",
    "    new_nome = ''\n",
    "    for name in new_nomes_list:\n",
    "        new_nome += name\n",
    "    \n",
    "    return new_nome"
   ]
  },
  {
   "cell_type": "code",
   "execution_count": null,
   "metadata": {},
   "outputs": [],
   "source": [
    "df8['Nome Competidor'] = df8['Nome Competidor'].apply(lambda x: sep_nomes(x).strip())\n",
    "df8['Nome Competidor'] = df8['Nome Competidor'].apply(lambda x: unidecode.unidecode(x).upper())"
   ]
  },
  {
   "cell_type": "code",
   "execution_count": null,
   "metadata": {},
   "outputs": [],
   "source": [
    "def get_descarte(line):\n",
    "    descarte = 0\n",
    "    if type(line) == str:\n",
    "        if str(line).startswith('(') or str(line).endswith(')'):\n",
    "            descarte = 1\n",
    "    val = str(line).strip('(').strip(')')\n",
    "\n",
    "    return descarte, val"
   ]
  },
  {
   "cell_type": "code",
   "execution_count": null,
   "metadata": {},
   "outputs": [],
   "source": [
    "df8['Descarte'] = df8['Pontuação Regata'].apply(lambda x: get_descarte(x)[0])\n",
    "df8['Pontuação Regata'] = df8['Pontuação Regata'].apply(lambda x: get_descarte(x)[1])\n",
    "df8[['ID Resultado', 'ID Competidor']] = ''"
   ]
  },
  {
   "cell_type": "code",
   "execution_count": null,
   "metadata": {},
   "outputs": [],
   "source": [
    "df8 = df8[column_order]"
   ]
  },
  {
   "cell_type": "code",
   "execution_count": null,
   "metadata": {},
   "outputs": [],
   "source": [
    "df8.to_csv('../cleaned_data_2024/cluster8.csv', index=False)"
   ]
  },
  {
   "cell_type": "code",
   "execution_count": null,
   "metadata": {},
   "outputs": [],
   "source": [
    "df9 = pd.read_csv('../scraped-data-2024/cluster9-html.csv')"
   ]
  },
  {
   "cell_type": "code",
   "execution_count": null,
   "metadata": {},
   "outputs": [],
   "source": [
    "df9 = df9.dropna(subset=['Pontuação Regata'])\n",
    "df9[\"Nome Competidor\"] = df9[\"Nome Competidor\"].apply(lambda x: unidecode.unidecode(str(x)))\n",
    "df9['Nome Competidor'] = df9['Nome Competidor'].apply(lambda x: sep_nomes(x).strip())\n",
    "df9['Nome Competidor'] = df9['Nome Competidor'].apply(lambda x: unidecode.unidecode(x).upper())\n",
    "df9[['ID Resultado', 'ID Competidor']] = ''"
   ]
  },
  {
   "cell_type": "code",
   "execution_count": null,
   "metadata": {},
   "outputs": [],
   "source": [
    "df9 = df9[column_order]"
   ]
  },
  {
   "cell_type": "code",
   "execution_count": null,
   "metadata": {},
   "outputs": [],
   "source": [
    "df9.to_csv('../cleaned_data_2024/cluster9.csv', index=False)"
   ]
  },
  {
   "cell_type": "code",
   "execution_count": null,
   "metadata": {},
   "outputs": [],
   "source": [
    "df14 = pd.read_csv('../scraped-data-2024/cluster14-html.csv')"
   ]
  },
  {
   "cell_type": "code",
   "execution_count": null,
   "metadata": {},
   "outputs": [],
   "source": [
    "df14 = df14.dropna(subset=['Pontuação Regata'])\n",
    "df14[\"Nome Competidor\"] = df14[\"Nome Competidor\"].apply(lambda x: unidecode.unidecode(str(x)))"
   ]
  },
  {
   "cell_type": "code",
   "execution_count": null,
   "metadata": {},
   "outputs": [],
   "source": [
    "df14.to_csv('../cleaned_data_2024/cluster14.csv', index=False)"
   ]
  },
  {
   "cell_type": "markdown",
   "metadata": {},
   "source": [
    "ID Resultado, ID Competidor, Nome Competidor, ID Competição, Classe Vela, Pontuação Regata, Descarte, Flotilha, Posição Geral, Punição, Pontuação Total, Nett, Nome Competição, Regata\n"
   ]
  },
  {
   "cell_type": "code",
   "execution_count": null,
   "metadata": {},
   "outputs": [],
   "source": [
    "import os\n",
    "import pandas as pd\n",
    "files = [f for f in os.listdir('../cleaned_data_2024') if f.endswith('.csv')]\n",
    "\n",
    "df_init = pd.read_csv(\"../cleaned_data_2024/\"+files[0])\n",
    "for file in files[1:]:\n",
    "    df_init = pd.concat([df_init, pd.read_csv(\"../cleaned_data_2024/\"+file)])\n",
    "df_init.to_csv(\"../cleaned_data_2024/final_data.csv\", index = False)    "
   ]
  },
  {
   "cell_type": "code",
   "execution_count": null,
   "metadata": {},
   "outputs": [],
   "source": []
  }
 ],
 "metadata": {
  "kernelspec": {
   "display_name": ".venv",
   "language": "python",
   "name": "python3"
  },
  "language_info": {
   "codemirror_mode": {
    "name": "ipython",
    "version": 3
   },
   "file_extension": ".py",
   "mimetype": "text/x-python",
   "name": "python",
   "nbconvert_exporter": "python",
   "pygments_lexer": "ipython3",
   "version": "3.12.3"
  }
 },
 "nbformat": 4,
 "nbformat_minor": 2
}
