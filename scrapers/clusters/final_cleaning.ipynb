{
 "cells": [
  {
   "cell_type": "code",
   "execution_count": 13,
   "metadata": {},
   "outputs": [],
   "source": [
    "import pandas as pd\n",
    "import numpy as np"
   ]
  },
  {
   "cell_type": "code",
   "execution_count": 14,
   "metadata": {},
   "outputs": [],
   "source": [
    "df2 = pd.read_csv('../scraped-data-2024/cluster2-html.csv')\n",
    "df2 = pd.concat([df2, pd.read_csv('../scraped-data-2024/cluster2_5-pdf.csv')])"
   ]
  },
  {
   "cell_type": "code",
   "execution_count": 15,
   "metadata": {},
   "outputs": [],
   "source": [
    "df2.replace('\\xa0', np.nan, inplace=True)\n",
    "df2.dropna(subset=[\"Pontuação Regata\"], inplace=True)\n",
    "df2['Punição'] = 0\n",
    "df2['Descarte'] = 0"
   ]
  },
  {
   "cell_type": "code",
   "execution_count": 16,
   "metadata": {},
   "outputs": [],
   "source": [
    "import re\n",
    "import unidecode\n",
    "import numpy as np\n",
    "\n",
    "def process_string(s):\n",
    "    # Remove espaços em branco extras\n",
    "    s = str(s).strip()\n",
    "    \n",
    "    numbers = re.findall(r'\\d+(?:\\.\\d+)?', s)\n",
    "    if numbers == []:\n",
    "        numbers.append(np.nan)\n",
    "    \n",
    "    has_parentheses = 1 if '(' in s or ')' in s else 0\n",
    "    \n",
    "    letters = ''.join(re.findall(r'[a-zA-Z]', s))\n",
    "    if letters == '':\n",
    "        letters = 0\n",
    "    return numbers, has_parentheses, letters"
   ]
  },
  {
   "cell_type": "code",
   "execution_count": 17,
   "metadata": {},
   "outputs": [],
   "source": [
    "df2['Punição'] = df2['Pontuação Regata'].apply(lambda x: process_string(x)[2])\n",
    "df2['Descarte'] = df2['Pontuação Regata'].apply(lambda x: process_string(x)[1])\n",
    "df2['Pontuação Regata'] = df2['Pontuação Regata'].apply(lambda x: process_string(x)[0][0])\n",
    "df2[\"Nome Competidor\"] = df2[\"Nome Competidor\"] .apply(lambda x: unidecode.unidecode(x).upper())"
   ]
  },
  {
   "cell_type": "code",
   "execution_count": 18,
   "metadata": {},
   "outputs": [],
   "source": [
    "df2.to_csv('../cleaned_data_2024/cluster_2.csv', index=False)"
   ]
  },
  {
   "cell_type": "code",
   "execution_count": 19,
   "metadata": {},
   "outputs": [],
   "source": [
    "df3 = pd.read_csv('../scraped-data-2024/cluster3.csv')"
   ]
  },
  {
   "cell_type": "code",
   "execution_count": 20,
   "metadata": {},
   "outputs": [],
   "source": [
    "df3[\"Nome Competidor\"] = df3[\"Nome Competidor\"].apply(lambda x: str(x).strip().replace('/', ', '))"
   ]
  },
  {
   "cell_type": "code",
   "execution_count": 21,
   "metadata": {},
   "outputs": [],
   "source": [
    "# df3.to_csv('../cleaned_data_2024/cluster_3.csv', index=False)"
   ]
  },
  {
   "cell_type": "code",
   "execution_count": 22,
   "metadata": {},
   "outputs": [],
   "source": [
    "df6 = pd.read_csv('../scraped-data-2024/cluster6-pdf.csv')"
   ]
  },
  {
   "cell_type": "code",
   "execution_count": 23,
   "metadata": {},
   "outputs": [],
   "source": [
    "df6['Descarte'] = 0\n",
    "df6.to_csv('../cleaned_data_2024/cluster6.csv')"
   ]
  }
 ],
 "metadata": {
  "kernelspec": {
   "display_name": ".venv",
   "language": "python",
   "name": "python3"
  },
  "language_info": {
   "codemirror_mode": {
    "name": "ipython",
    "version": 3
   },
   "file_extension": ".py",
   "mimetype": "text/x-python",
   "name": "python",
   "nbconvert_exporter": "python",
   "pygments_lexer": "ipython3",
   "version": "3.12.3"
  }
 },
 "nbformat": 4,
 "nbformat_minor": 2
}
