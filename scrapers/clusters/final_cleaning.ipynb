{
 "cells": [
  {
   "cell_type": "markdown",
   "metadata": {},
   "source": [
    "# Cluster 1"
   ]
  },
  {
   "cell_type": "markdown",
   "metadata": {},
   "source": [
    "## Agregando resultados"
   ]
  },
  {
   "cell_type": "code",
   "execution_count": 14,
   "metadata": {},
   "outputs": [],
   "source": [
    "import os\n",
    "import pandas as pd"
   ]
  },
  {
   "cell_type": "code",
   "execution_count": 15,
   "metadata": {},
   "outputs": [],
   "source": [
    "files = [f for f in os.listdir(\"../scraped-data-2024/c1\")]\n",
    "\n",
    "df_init = pd.read_csv(\"../scraped-data-2024/c1/\"+files[0])\n",
    "\n",
    "for file in files[1:]:\n",
    "    df_init = pd.concat([df_init, pd.read_csv(\"../scraped-data-2024/c1/\"+file)])\n",
    "\n",
    "df_init.to_csv(\"../scraped-data-2024/cluster1-html.csv\", index=False)"
   ]
  },
  {
   "cell_type": "markdown",
   "metadata": {},
   "source": [
    "# Cluster 2"
   ]
  },
  {
   "cell_type": "code",
   "execution_count": 16,
   "metadata": {},
   "outputs": [],
   "source": [
    "files = [f for f in os.listdir(\"../scraped-data-2024/c2\")]\n",
    "\n",
    "df_init = pd.read_csv(\"../scraped-data-2024/c2/\"+files[0])\n",
    "\n",
    "for file in files[1:]:\n",
    "    df_init = pd.concat([df_init, pd.read_csv(\"../scraped-data-2024/c2/\"+file)])\n",
    "\n",
    "df_init.to_csv(\"../scraped-data-2024/cluster2-html.csv\", index=False)"
   ]
  },
  {
   "cell_type": "markdown",
   "metadata": {},
   "source": [
    "## Cluster 2.5"
   ]
  },
  {
   "cell_type": "code",
   "execution_count": 19,
   "metadata": {},
   "outputs": [],
   "source": [
    "df_ilca6 = pd.read_csv(\"../scraped-data-2024/c2_5/European Championship 2021 Ilca 6.csv\")\n",
    "df_ilca7 = pd.read_csv(\"../scraped-data-2024/c2_5/European Championship 2021 Ilca 7.csv\")\n",
    "df_final = pd.concat([df_ilca7, df_ilca6])\n",
    "df_final.to_csv(\"../scraped-data-2024/cluster2_5-pdf.csv\", index=False)"
   ]
  },
  {
   "cell_type": "markdown",
   "metadata": {},
   "source": [
    "# Cluster 5"
   ]
  },
  {
   "cell_type": "code",
   "execution_count": 22,
   "metadata": {},
   "outputs": [],
   "source": [
    "files = [f for f in os.listdir(\"../scraped-data-2024/c5\") if f.endswith(\".csv\")]\n",
    "df_init = pd.read_csv(\"../scraped-data-2024/c5/\"+files[0])\n",
    "\n",
    "for file in files[1:]:\n",
    "    df_init = pd.concat([df_init, pd.read_csv(\"../scraped-data-2024/c5/\"+file)])\n",
    "\n",
    "df_init.to_csv(\"../scraped-data-2024/cluster5-pdf.csv\", index=False)"
   ]
  },
  {
   "cell_type": "markdown",
   "metadata": {},
   "source": [
    "# Cluster 7"
   ]
  },
  {
   "cell_type": "code",
   "execution_count": 25,
   "metadata": {},
   "outputs": [],
   "source": [
    "df = pd.read_excel(\"../scraped-data-2024/c7/CENTRA & SOUTH Ilca 7.xlsx\")\n",
    "df.rename(columns={\n",
    "    \"Rank\": \n",
    "}\n",
    ")"
   ]
  },
  {
   "cell_type": "code",
   "execution_count": 26,
   "metadata": {},
   "outputs": [
    {
     "data": {
      "text/html": [
       "<div>\n",
       "<style scoped>\n",
       "    .dataframe tbody tr th:only-of-type {\n",
       "        vertical-align: middle;\n",
       "    }\n",
       "\n",
       "    .dataframe tbody tr th {\n",
       "        vertical-align: top;\n",
       "    }\n",
       "\n",
       "    .dataframe thead th {\n",
       "        text-align: right;\n",
       "    }\n",
       "</style>\n",
       "<table border=\"1\" class=\"dataframe\">\n",
       "  <thead>\n",
       "    <tr style=\"text-align: right;\">\n",
       "      <th></th>\n",
       "      <th>Rank</th>\n",
       "      <th>Sailors</th>\n",
       "      <th>Net</th>\n",
       "      <th>Total</th>\n",
       "      <th>R1</th>\n",
       "      <th>R2</th>\n",
       "      <th>R3</th>\n",
       "      <th>R4</th>\n",
       "      <th>R5</th>\n",
       "      <th>R6</th>\n",
       "      <th>R7</th>\n",
       "      <th>R8</th>\n",
       "      <th>R9</th>\n",
       "      <th>R10</th>\n",
       "    </tr>\n",
       "  </thead>\n",
       "  <tbody>\n",
       "    <tr>\n",
       "      <th>0</th>\n",
       "      <td>1</td>\n",
       "      <td>Clemente Seguel Lacámara</td>\n",
       "      <td>24</td>\n",
       "      <td>36</td>\n",
       "      <td>2</td>\n",
       "      <td>2</td>\n",
       "      <td>3</td>\n",
       "      <td>2</td>\n",
       "      <td>4</td>\n",
       "      <td>2</td>\n",
       "      <td>6</td>\n",
       "      <td>[12]</td>\n",
       "      <td>2</td>\n",
       "      <td>1</td>\n",
       "    </tr>\n",
       "    <tr>\n",
       "      <th>1</th>\n",
       "      <td>2</td>\n",
       "      <td>Bruno Fontes</td>\n",
       "      <td>29</td>\n",
       "      <td>37</td>\n",
       "      <td>1</td>\n",
       "      <td>3</td>\n",
       "      <td>6</td>\n",
       "      <td>1</td>\n",
       "      <td>[8]</td>\n",
       "      <td>1</td>\n",
       "      <td>2</td>\n",
       "      <td>4</td>\n",
       "      <td>8</td>\n",
       "      <td>3</td>\n",
       "    </tr>\n",
       "    <tr>\n",
       "      <th>2</th>\n",
       "      <td>3</td>\n",
       "      <td>Stefano Peschiera</td>\n",
       "      <td>33</td>\n",
       "      <td>41</td>\n",
       "      <td>3</td>\n",
       "      <td>5</td>\n",
       "      <td>4</td>\n",
       "      <td>4</td>\n",
       "      <td>1</td>\n",
       "      <td>[8]</td>\n",
       "      <td>5</td>\n",
       "      <td>1</td>\n",
       "      <td>3</td>\n",
       "      <td>7</td>\n",
       "    </tr>\n",
       "    <tr>\n",
       "      <th>3</th>\n",
       "      <td>4</td>\n",
       "      <td>Francisco Guaragna Rigonat</td>\n",
       "      <td>34</td>\n",
       "      <td>42</td>\n",
       "      <td>6</td>\n",
       "      <td>1</td>\n",
       "      <td>2</td>\n",
       "      <td>6</td>\n",
       "      <td>3</td>\n",
       "      <td>5</td>\n",
       "      <td>4</td>\n",
       "      <td>[8]</td>\n",
       "      <td>1</td>\n",
       "      <td>6</td>\n",
       "    </tr>\n",
       "    <tr>\n",
       "      <th>4</th>\n",
       "      <td>5</td>\n",
       "      <td>Matias Dyck</td>\n",
       "      <td>47</td>\n",
       "      <td>59</td>\n",
       "      <td>7</td>\n",
       "      <td>8</td>\n",
       "      <td>1</td>\n",
       "      <td>3</td>\n",
       "      <td>9</td>\n",
       "      <td>[12]</td>\n",
       "      <td>7</td>\n",
       "      <td>3</td>\n",
       "      <td>4</td>\n",
       "      <td>5</td>\n",
       "    </tr>\n",
       "  </tbody>\n",
       "</table>\n",
       "</div>"
      ],
      "text/plain": [
       "   Rank                     Sailors  Net  Total  R1 R2 R3 R4   R5    R6 R7  \\\n",
       "0     1    Clemente Seguel Lacámara   24     36   2  2  3  2    4     2  6   \n",
       "1     2                Bruno Fontes   29     37   1  3  6  1  [8]     1  2   \n",
       "2     3           Stefano Peschiera   33     41   3  5  4  4    1   [8]  5   \n",
       "3     4  Francisco Guaragna Rigonat   34     42   6  1  2  6    3     5  4   \n",
       "4     5                 Matias Dyck   47     59   7  8  1  3    9  [12]  7   \n",
       "\n",
       "     R8 R9 R10  \n",
       "0  [12]  2   1  \n",
       "1     4  8   3  \n",
       "2     1  3   7  \n",
       "3   [8]  1   6  \n",
       "4     3  4   5  "
      ]
     },
     "execution_count": 26,
     "metadata": {},
     "output_type": "execute_result"
    }
   ],
   "source": [
    "df.head()"
   ]
  },
  {
   "cell_type": "markdown",
   "metadata": {},
   "source": [
    "# Cluster 8"
   ]
  },
  {
   "cell_type": "code",
   "execution_count": 17,
   "metadata": {},
   "outputs": [],
   "source": [
    "files = [f for f in os.listdir(\"../scraped-data-2024/c8\")]\n",
    "\n",
    "df_init = pd.read_csv(\"../scraped-data-2024/c8/\"+files[0])\n",
    "\n",
    "for file in files[1:]:\n",
    "    df_init = pd.concat([df_init, pd.read_csv(\"../scraped-data-2024/c8/\"+file)])\n",
    "\n",
    "df_init.to_csv(\"../scraped-data-2024/cluster8-html.csv\", index=False)"
   ]
  },
  {
   "cell_type": "markdown",
   "metadata": {},
   "source": [
    "# Cluster 9"
   ]
  },
  {
   "cell_type": "code",
   "execution_count": 18,
   "metadata": {},
   "outputs": [
    {
     "name": "stderr",
     "output_type": "stream",
     "text": [
      "C:\\Users\\silla\\AppData\\Local\\Temp\\ipykernel_19524\\4215367912.py:6: FutureWarning: The behavior of DataFrame concatenation with empty or all-NA entries is deprecated. In a future version, this will no longer exclude empty or all-NA columns when determining the result dtypes. To retain the old behavior, exclude the relevant entries before the concat operation.\n",
      "  df_init = pd.concat([df_init, pd.read_csv(\"../scraped-data-2024/c9/\"+file)])\n"
     ]
    }
   ],
   "source": [
    "files = [f for f in os.listdir(\"../scraped-data-2024/c9\")]\n",
    "\n",
    "df_init = pd.read_csv(\"../scraped-data-2024/c9/\"+files[0])\n",
    "\n",
    "for file in files[1:]:\n",
    "    df_init = pd.concat([df_init, pd.read_csv(\"../scraped-data-2024/c9/\"+file)])\n",
    "\n",
    "df_init.to_csv(\"../scraped-data-2024/cluster9-html.csv\", index=False)"
   ]
  },
  {
   "cell_type": "code",
   "execution_count": null,
   "metadata": {},
   "outputs": [],
   "source": []
  }
 ],
 "metadata": {
  "kernelspec": {
   "display_name": ".venv",
   "language": "python",
   "name": "python3"
  },
  "language_info": {
   "codemirror_mode": {
    "name": "ipython",
    "version": 3
   },
   "file_extension": ".py",
   "mimetype": "text/x-python",
   "name": "python",
   "nbconvert_exporter": "python",
   "pygments_lexer": "ipython3",
   "version": "3.12.3"
  }
 },
 "nbformat": 4,
 "nbformat_minor": 2
}
