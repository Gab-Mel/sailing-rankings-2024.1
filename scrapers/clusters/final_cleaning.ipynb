{
 "cells": [
  {
   "cell_type": "code",
   "execution_count": 492,
   "metadata": {},
   "outputs": [],
   "source": [
    "import pandas as pd\n",
    "import numpy as np"
   ]
  },
  {
   "cell_type": "code",
   "execution_count": 493,
   "metadata": {},
   "outputs": [],
   "source": [
    "column_order = ['ID Resultado', 'ID Competidor', 'Nome Competidor',\n",
    "                'ID Competição', 'Classe Vela', 'Pontuação Regata',\n",
    "                'Descarte', 'Flotilha', 'Posição Geral', 'Punição',\n",
    "                'Pontuação Total', 'Nett', 'Nome Competição', 'Regata']"
   ]
  },
  {
   "cell_type": "code",
   "execution_count": 494,
   "metadata": {},
   "outputs": [],
   "source": [
    "df2 = pd.read_csv('../scraped-data-2024/cluster2-html.csv')\n",
    "df2 = pd.concat([df2, pd.read_csv('../scraped-data-2024/cluster2_5-pdf.csv')])"
   ]
  },
  {
   "cell_type": "code",
   "execution_count": 495,
   "metadata": {},
   "outputs": [],
   "source": [
    "df2.replace('\\xa0', np.nan, inplace=True)\n",
    "df2.dropna(subset=[\"Pontuação Regata\"], inplace=True)\n",
    "df2['Punição'] = 0\n",
    "df2['Descarte'] = 0"
   ]
  },
  {
   "cell_type": "code",
   "execution_count": 496,
   "metadata": {},
   "outputs": [],
   "source": [
    "import re\n",
    "import unidecode\n",
    "import numpy as np\n",
    "\n",
    "def process_string(s):\n",
    "    # Remove espaços em branco extras\n",
    "    s = str(s).strip()\n",
    "    \n",
    "    numbers = re.findall(r'\\d+(?:\\.\\d+)?', s)\n",
    "    if numbers == []:\n",
    "        numbers.append(np.nan)\n",
    "    \n",
    "    has_parentheses = 1 if '(' in s or ')' in s else 0\n",
    "    \n",
    "    letters = ''.join(re.findall(r'[a-zA-Z]', s))\n",
    "    if letters == '':\n",
    "        letters = 0\n",
    "    return numbers, has_parentheses, letters"
   ]
  },
  {
   "cell_type": "code",
   "execution_count": 497,
   "metadata": {},
   "outputs": [],
   "source": [
    "df2['Punição'] = df2['Pontuação Regata'].apply(lambda x: process_string(x)[2])\n",
    "df2['Descarte'] = df2['Pontuação Regata'].apply(lambda x: process_string(x)[1])\n",
    "df2['Pontuação Regata'] = df2['Pontuação Regata'].apply(lambda x: process_string(x)[0][0])\n",
    "df2[\"Nome Competidor\"] = df2[\"Nome Competidor\"] .apply(lambda x: unidecode.unidecode(x).upper())"
   ]
  },
  {
   "cell_type": "code",
   "execution_count": 498,
   "metadata": {},
   "outputs": [],
   "source": [
    "df2['ID Resultado'] = ''\n",
    "df2['ID Competidor'] = ''"
   ]
  },
  {
   "cell_type": "code",
   "execution_count": 499,
   "metadata": {},
   "outputs": [],
   "source": [
    "df2 = df2[column_order]"
   ]
  },
  {
   "cell_type": "code",
   "execution_count": 500,
   "metadata": {},
   "outputs": [],
   "source": [
    "df2.to_csv('../cleaned_data_2024/cluster_2.csv', index=False)"
   ]
  },
  {
   "cell_type": "code",
   "execution_count": 501,
   "metadata": {},
   "outputs": [],
   "source": [
    "df3 = pd.read_csv('../scraped-data-2024/cluster3.csv')"
   ]
  },
  {
   "cell_type": "code",
   "execution_count": 502,
   "metadata": {},
   "outputs": [],
   "source": [
    "df3[\"Nome Competidor\"] = df3[\"Nome Competidor\"].apply(lambda x: str(x).strip().replace('/', ', '))\n",
    "df3[\"Nome Competidor\"] = df3[\"Nome Competidor\"].apply(lambda x: unidecode.unidecode(x).upper())"
   ]
  },
  {
   "cell_type": "code",
   "execution_count": 503,
   "metadata": {},
   "outputs": [],
   "source": [
    "ids = ['ID Resultado', 'ID Competidor', 'ID Competição']\n",
    "for id in ids:\n",
    "    df3[id] = ''"
   ]
  },
  {
   "cell_type": "code",
   "execution_count": 504,
   "metadata": {},
   "outputs": [],
   "source": [
    "df3 = df3[column_order]"
   ]
  },
  {
   "cell_type": "code",
   "execution_count": 505,
   "metadata": {},
   "outputs": [],
   "source": [
    "df3.to_csv('../cleaned_data_2024/cluster_3.csv', index=False)"
   ]
  },
  {
   "cell_type": "code",
   "execution_count": 506,
   "metadata": {},
   "outputs": [],
   "source": [
    "df6 = pd.read_csv('../scraped-data-2024/cluster6-pdf.csv')"
   ]
  },
  {
   "cell_type": "code",
   "execution_count": 507,
   "metadata": {},
   "outputs": [],
   "source": [
    "df6[\"Nome Competidor\"] = df6[\"Nome Competidor\"].apply(lambda x: unidecode.unidecode(x).upper())\n",
    "df6['Descarte'] = 0\n",
    "df6[['ID Resultado', 'ID Competidor']] = ''"
   ]
  },
  {
   "cell_type": "code",
   "execution_count": 508,
   "metadata": {},
   "outputs": [],
   "source": [
    "df6 = df6[column_order]"
   ]
  },
  {
   "cell_type": "code",
   "execution_count": 509,
   "metadata": {},
   "outputs": [],
   "source": [
    "df6.to_csv('../cleaned_data_2024/cluster6.csv', index=False)"
   ]
  },
  {
   "cell_type": "code",
   "execution_count": 510,
   "metadata": {},
   "outputs": [],
   "source": [
    "df7 = pd.read_csv('../scraped-data-2024/cluster7-pdf.csv')"
   ]
  },
  {
   "cell_type": "code",
   "execution_count": 511,
   "metadata": {},
   "outputs": [],
   "source": [
    "def clean_names_7(line):\n",
    "    results = line.strip().split(' - ')\n",
    "    if len(results) > 1:\n",
    "        punicao = results[0].strip(\"[\")\n",
    "\n",
    "        if punicao == results[0]:\n",
    "            descarte = 0\n",
    "            val = results[1].strip()\n",
    "\n",
    "        else:\n",
    "            descarte = 1\n",
    "            val = results[1].strip(\"]\")\n",
    "    else:\n",
    "        punicao = 0\n",
    "        val = line.strip('[').strip(']')\n",
    "        if val == line:\n",
    "            descarte = 0\n",
    "        else:\n",
    "            descarte = 1\n",
    "\n",
    "    return descarte, punicao, val"
   ]
  },
  {
   "cell_type": "code",
   "execution_count": 512,
   "metadata": {},
   "outputs": [],
   "source": [
    "df7['Descarte'] = df7['Pontuação Regata'].apply(lambda x: clean_names_7(x)[0])\n",
    "df7['Punição'] = df7['Pontuação Regata'].apply(lambda x: clean_names_7(x)[1])\n",
    "df7['Pontuação Regata'] = df7['Pontuação Regata'].apply(lambda x: clean_names_7(x)[2])"
   ]
  },
  {
   "cell_type": "code",
   "execution_count": 513,
   "metadata": {},
   "outputs": [],
   "source": [
    "df7['Nome Competidor'] = df7['Nome Competidor'].apply(lambda x: unidecode.unidecode(x).upper())\n",
    "df7[['ID Resultado', 'ID Competidor']] =  ''"
   ]
  },
  {
   "cell_type": "code",
   "execution_count": 514,
   "metadata": {},
   "outputs": [],
   "source": [
    "df7 = df7[column_order]"
   ]
  },
  {
   "cell_type": "code",
   "execution_count": 515,
   "metadata": {},
   "outputs": [],
   "source": [
    "df7.to_csv('../cleaned_data_2024/cluster7.csv', index=False)"
   ]
  },
  {
   "cell_type": "code",
   "execution_count": 516,
   "metadata": {},
   "outputs": [],
   "source": [
    "df8 = pd.read_csv('../scraped-data-2024/cluster8-html.csv')"
   ]
  },
  {
   "cell_type": "code",
   "execution_count": 517,
   "metadata": {},
   "outputs": [],
   "source": [
    "df8 = df8.dropna(subset=['Pontuação Regata'])\n",
    "df8[\"Nome Competidor\"] = df8[\"Nome Competidor\"].apply(lambda x: unidecode.unidecode(str(x)))"
   ]
  },
  {
   "cell_type": "code",
   "execution_count": 518,
   "metadata": {},
   "outputs": [],
   "source": [
    "def sep_nomes(nomes):\n",
    "    nomes_list = str(nomes).strip().split(\" \")\n",
    "    new_nomes_list = list()\n",
    "\n",
    "    for i in range(len(nomes_list)):\n",
    "        if nomes_list[i] != nomes_list[i].title() and nomes_list[i] != nomes_list[i].upper():\n",
    "            nnomee = ''\n",
    "            nome = nomes_list[i]\n",
    "            for i in range(len(nome)-1):\n",
    "                if nome[i] == nome[i].upper() and nome[i+1] == nome[i+1].lower():\n",
    "                    nnomee += ', '\n",
    "\n",
    "                nnomee += nome[i]\n",
    "\n",
    "            nnomee += nome[-1]\n",
    "            nnomee += ' '\n",
    "\n",
    "            new_nomes_list.append(nnomee)\n",
    "        else:\n",
    "            new_nomes_list.append(nomes_list[i])\n",
    "            new_nomes_list.append(' ')\n",
    "\n",
    "    new_nome = ''\n",
    "    for name in new_nomes_list:\n",
    "        new_nome += name\n",
    "    \n",
    "    return new_nome"
   ]
  },
  {
   "cell_type": "code",
   "execution_count": 519,
   "metadata": {},
   "outputs": [],
   "source": [
    "df8['Nome Competidor'] = df8['Nome Competidor'].apply(lambda x: sep_nomes(x).strip())\n",
    "df8['Nome Competidor'] = df8['Nome Competidor'].apply(lambda x: unidecode.unidecode(x).upper())"
   ]
  },
  {
   "cell_type": "code",
   "execution_count": 520,
   "metadata": {},
   "outputs": [],
   "source": [
    "def get_descarte(line):\n",
    "    descarte = 0\n",
    "    if type(line) == str:\n",
    "        if str(line).startswith('(') or str(line).endswith(')'):\n",
    "            descarte = 1\n",
    "    val = str(line).strip('(').strip(')')\n",
    "\n",
    "    return descarte, val"
   ]
  },
  {
   "cell_type": "code",
   "execution_count": 521,
   "metadata": {},
   "outputs": [],
   "source": [
    "df8['Descarte'] = df8['Pontuação Regata'].apply(lambda x: get_descarte(x)[0])\n",
    "df8['Pontuação Regata'] = df8['Pontuação Regata'].apply(lambda x: get_descarte(x)[1])\n",
    "df8[['ID Resultado', 'ID Competidor']] = ''"
   ]
  },
  {
   "cell_type": "code",
   "execution_count": 522,
   "metadata": {},
   "outputs": [],
   "source": [
    "df8 = df8[column_order]"
   ]
  },
  {
   "cell_type": "code",
   "execution_count": 523,
   "metadata": {},
   "outputs": [],
   "source": [
    "df8.to_csv('../cleaned_data_2024/cluster8.csv', index=False)"
   ]
  },
  {
   "cell_type": "code",
   "execution_count": 524,
   "metadata": {},
   "outputs": [],
   "source": [
    "df9 = pd.read_csv('../scraped-data-2024/cluster9-html.csv')"
   ]
  },
  {
   "cell_type": "code",
   "execution_count": 525,
   "metadata": {},
   "outputs": [],
   "source": [
    "df9 = df9.dropna(subset=['Pontuação Regata'])\n",
    "df9[\"Nome Competidor\"] = df9[\"Nome Competidor\"].apply(lambda x: unidecode.unidecode(str(x)))\n",
    "df9['Nome Competidor'] = df9['Nome Competidor'].apply(lambda x: sep_nomes(x).strip())\n",
    "df9['Nome Competidor'] = df9['Nome Competidor'].apply(lambda x: unidecode.unidecode(x).upper())\n",
    "df9[['ID Resultado', 'ID Competidor']] = ''"
   ]
  },
  {
   "cell_type": "code",
   "execution_count": 526,
   "metadata": {},
   "outputs": [],
   "source": [
    "df9 = df9[column_order]"
   ]
  },
  {
   "cell_type": "code",
   "execution_count": 527,
   "metadata": {},
   "outputs": [],
   "source": [
    "df9.to_csv('../cleaned_data_2024/cluster9.csv', index=False)"
   ]
  },
  {
   "cell_type": "markdown",
   "metadata": {},
   "source": [
    "ID Resultado, ID Competidor, Nome Competidor, ID Competição, Classe Vela, Pontuação Regata, Descarte, Flotilha, Posição Geral, Punição, Pontuação Total, Nett, Nome Competição, Regata\n"
   ]
  },
  {
   "cell_type": "code",
   "execution_count": 2,
   "metadata": {},
   "outputs": [],
   "source": [
    "import os\n",
    "import pandas as pd\n",
    "files = [f for f in os.listdir('../cleaned_data_2024') if f.endswith('.csv')]\n",
    "\n",
    "df_init = pd.read_csv(\"../cleaned_data_2024/\"+files[0])\n",
    "for file in files[1:]:\n",
    "    df_init = pd.concat([df_init, pd.read_csv(\"../cleaned_data_2024/\"+file)])\n",
    "df_init.to_csv(\"../cleaned_data_2024/final_data.csv\", index = False)    "
   ]
  },
  {
   "cell_type": "code",
   "execution_count": null,
   "metadata": {},
   "outputs": [],
   "source": []
  }
 ],
 "metadata": {
  "kernelspec": {
   "display_name": ".venv",
   "language": "python",
   "name": "python3"
  },
  "language_info": {
   "codemirror_mode": {
    "name": "ipython",
    "version": 3
   },
   "file_extension": ".py",
   "mimetype": "text/x-python",
   "name": "python",
   "nbconvert_exporter": "python",
   "pygments_lexer": "ipython3",
   "version": "3.12.3"
  }
 },
 "nbformat": 4,
 "nbformat_minor": 2
}
