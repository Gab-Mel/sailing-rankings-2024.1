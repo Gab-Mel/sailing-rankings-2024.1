{
 "cells": [
  {
   "cell_type": "code",
   "execution_count": 1,
   "metadata": {},
   "outputs": [],
   "source": [
    "import pandas as pd\n",
    "import numpy as np"
   ]
  },
  {
   "cell_type": "code",
   "execution_count": 2,
   "metadata": {},
   "outputs": [],
   "source": [
    "df2 = pd.read_csv('../scraped-data-2024/cluster2-html.csv')\n",
    "df2 = pd.concat([df2, pd.read_csv('../scraped-data-2024/cluster2_5-pdf.csv')])"
   ]
  },
  {
   "cell_type": "code",
   "execution_count": 3,
   "metadata": {},
   "outputs": [],
   "source": [
    "df2.replace('\\xa0', np.nan, inplace=True)\n",
    "df2.dropna(subset=[\"Pontuação Regata\"], inplace=True)\n",
    "df2['Punição'] = 0\n",
    "df2['Descarte'] = 0"
   ]
  },
  {
   "cell_type": "code",
   "execution_count": 4,
   "metadata": {},
   "outputs": [],
   "source": [
    "import re\n",
    "import unidecode\n",
    "\n",
    "def process_string(s):\n",
    "    # Remove espaços em branco extras\n",
    "    s = str(s).strip()\n",
    "    \n",
    "    numbers = re.findall(r'\\d+(?:\\.\\d+)?', s)\n",
    "    \n",
    "    has_parentheses = 1 if '(' in s or ')' in s else 0\n",
    "    \n",
    "    letters = ''.join(re.findall(r'[a-zA-Z]', s))\n",
    "    if letters == '':\n",
    "        letters = 0\n",
    "    return numbers, has_parentheses, letters"
   ]
  },
  {
   "cell_type": "code",
   "execution_count": 5,
   "metadata": {},
   "outputs": [],
   "source": [
    "df2['Punição'] = df2['Pontuação Regata'].apply(lambda x: process_string(x)[2])\n",
    "df2['Descarte'] = df2['Pontuação Regata'].apply(lambda x: process_string(x)[1])\n",
    "df2['Pontuação Regata'] = df2['Pontuação Regata'].apply(lambda x: process_string(x)[0][0])\n",
    "df2[\"Nome Competidor\"] = df2[\"Nome Competidor\"] .apply(lambda x: unidecode.unidecode(x).upper())"
   ]
  },
  {
   "cell_type": "code",
   "execution_count": 6,
   "metadata": {},
   "outputs": [],
   "source": [
    "df2.to_csv('../cleaned_data_2024/cluster_2.csv', index=False)"
   ]
  }
 ],
 "metadata": {
  "language_info": {
   "name": "python"
  }
 },
 "nbformat": 4,
 "nbformat_minor": 2
}
