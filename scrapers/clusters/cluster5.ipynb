{
 "cells": [
  {
   "cell_type": "code",
   "execution_count": 215,
   "metadata": {},
   "outputs": [],
   "source": [
    "import pandas as pd"
   ]
  },
  {
   "cell_type": "code",
   "execution_count": 216,
   "metadata": {},
   "outputs": [],
   "source": [
    "df470 = pd.read_csv('../scraped-data-2024/c5/SemaineOlympiqueFrancaiseDeVoile2022_470.csv')\n",
    "dfnacra = pd.read_csv('../scraped-data-2024/c5/SemaineOlympiqueFrancaiseDeVoile2022_nacra.csv')\n",
    "dfil6 = pd.read_csv('../scraped-data-2024/c5/SemaineOlympiqueFrancaiseDeVoile2022_ilca6.csv')\n",
    "dfil7 = pd.read_csv('../scraped-data-2024/c5/SemaineOlympiqueFrancaiseDeVoile2022_ilca7.csv')"
   ]
  },
  {
   "cell_type": "code",
   "execution_count": 217,
   "metadata": {},
   "outputs": [],
   "source": [
    "import re\n",
    "import unidecode\n",
    "import numpy as np\n",
    "\n",
    "def format_nome(nomes):\n",
    "    nomes_list = str(nomes).strip().split(\" \")\n",
    "    new_nomes_list = list()\n",
    "    for i in range(len(nomes_list)-1):\n",
    "        new_nomes_list.append(nomes_list[i])\n",
    "        if nomes_list[i] == nomes_list[i].title() and nomes_list[i+1] == nomes_list[i+1].upper():\n",
    "            new_nomes_list.append(', ')\n",
    "        else:\n",
    "            new_nomes_list.append(' ')\n",
    "    new_nomes_list.append(nomes_list[-1])\n",
    "    new_nome = ''\n",
    "    for name in new_nomes_list:\n",
    "        new_nome += name\n",
    "    \n",
    "    return new_nome\n",
    "\n",
    "def process_string(s):\n",
    "    # Remove espaços em branco extras\n",
    "    s = str(s).strip()\n",
    "    \n",
    "    numbers = re.findall(r'\\d+(?:\\.\\d+)?', s)\n",
    "    if numbers == []:\n",
    "        numbers.append(np.nan)\n",
    "    \n",
    "    has_parentheses = 1 if '(' in s or ')' in s else 0\n",
    "    \n",
    "    letters = ''.join(re.findall(r'[a-zA-Z]', s))\n",
    "    if letters == '':\n",
    "        letters = 0\n",
    "    return numbers, has_parentheses, letters"
   ]
  },
  {
   "cell_type": "code",
   "execution_count": 218,
   "metadata": {},
   "outputs": [],
   "source": [
    "df470[\"Nome Competidor\"] = df470[\"Nome Competidor\"].apply(lambda x: format_nome(x).strip())\n",
    "df470[\"Nome Competidor\"] = df470[\"Nome Competidor\"].apply(lambda x: unidecode.unidecode(x).upper())"
   ]
  },
  {
   "cell_type": "code",
   "execution_count": 219,
   "metadata": {},
   "outputs": [],
   "source": [
    "df470['Descarte'] = df470['Pontuação Regata'].apply(lambda x: process_string(x)[1])\n",
    "df470['Punição'] = df470['Pontuação Regata'].apply(lambda x: process_string(x)[2])\n",
    "df470['Pontuação Regata'] = df470['Pontuação Regata'].apply(lambda x: process_string(x)[0][0])"
   ]
  },
  {
   "cell_type": "code",
   "execution_count": 220,
   "metadata": {},
   "outputs": [],
   "source": [
    "dfnacra[\"Nome Competidor\"] = dfnacra[\"Nome Competidor\"].apply(lambda x: format_nome(x).strip())\n",
    "dfnacra[\"Nome Competidor\"] = dfnacra[\"Nome Competidor\"].apply(lambda x: unidecode.unidecode(x).upper())"
   ]
  },
  {
   "cell_type": "code",
   "execution_count": 221,
   "metadata": {},
   "outputs": [],
   "source": [
    "dfnacra['Descarte'] = dfnacra['Pontuação Regata'].apply(lambda x: process_string(x)[1])\n",
    "dfnacra['Punição'] = dfnacra['Pontuação Regata'].apply(lambda x: process_string(x)[2])\n",
    "dfnacra['Pontuação Regata'] = dfnacra['Pontuação Regata'].apply(lambda x: process_string(x)[0][0])"
   ]
  },
  {
   "cell_type": "code",
   "execution_count": 222,
   "metadata": {},
   "outputs": [],
   "source": [
    "dfil6['Nome Competidor'] = dfil6['Nome Competidor'].apply(lambda x: x.split('(')[0])\n",
    "dfil6['Nome Competidor'] = dfil6['Nome Competidor'].apply(lambda x: unidecode.unidecode(x).upper().strip())"
   ]
  },
  {
   "cell_type": "code",
   "execution_count": 223,
   "metadata": {},
   "outputs": [],
   "source": [
    "dfil6['Pontuação Regata'] = dfil6['Pontuação Regata'].apply(lambda x: x.replace('\\n', ' - '))\n",
    "dfil6[\"Pontuação Regata\"] = dfil6[\"Pontuação Regata\"].apply(lambda x: x.replace('\\xa0', ''))"
   ]
  },
  {
   "cell_type": "code",
   "execution_count": 224,
   "metadata": {},
   "outputs": [],
   "source": [
    "def devolve_valores(line):\n",
    "    elements = str(line).strip().split(' - ')\n",
    "    if elements[0].isnumeric():\n",
    "        punicao = 0\n",
    "    else:\n",
    "        punicao = elements[0]\n",
    "    \n",
    "    value = str(elements[1]).strip('(').strip(')')\n",
    "    if value == elements[1]:\n",
    "        descarte = 0\n",
    "    else:\n",
    "        descarte = 1\n",
    "    return punicao, descarte, value"
   ]
  },
  {
   "cell_type": "code",
   "execution_count": 225,
   "metadata": {},
   "outputs": [],
   "source": [
    "dfil6[\"Punição\"] = dfil6[\"Pontuação Regata\"].apply(lambda x: devolve_valores(x)[0])\n",
    "dfil6[\"Descarte\"] = dfil6[\"Pontuação Regata\"].apply(lambda x: devolve_valores(x)[1])\n",
    "dfil6[\"Pontuação Regata\"] = dfil6[\"Pontuação Regata\"].apply(lambda x: devolve_valores(x)[2])"
   ]
  },
  {
   "cell_type": "code",
   "execution_count": 226,
   "metadata": {},
   "outputs": [],
   "source": [
    "dfil7['Nome Competidor'] = dfil7['Nome Competidor'].apply(lambda x: x.split('(')[0])\n",
    "dfil7['Nome Competidor'] = dfil7['Nome Competidor'].apply(lambda x: unidecode.unidecode(x).upper().strip())"
   ]
  },
  {
   "cell_type": "code",
   "execution_count": 227,
   "metadata": {},
   "outputs": [],
   "source": [
    "dfil7['Pontuação Regata'] = dfil7['Pontuação Regata'].apply(lambda x: x.replace('\\n', ' - '))\n",
    "dfil7[\"Pontuação Regata\"] = dfil7[\"Pontuação Regata\"].apply(lambda x: x.replace('\\xa0', ''))"
   ]
  },
  {
   "cell_type": "code",
   "execution_count": 228,
   "metadata": {},
   "outputs": [],
   "source": [
    "dfil7[\"Punição\"] = dfil7[\"Pontuação Regata\"].apply(lambda x: devolve_valores(x)[0])\n",
    "dfil7[\"Descarte\"] = dfil7[\"Pontuação Regata\"].apply(lambda x: devolve_valores(x)[1])\n",
    "dfil7[\"Pontuação Regata\"] = dfil7[\"Pontuação Regata\"].apply(lambda x: devolve_valores(x)[2])"
   ]
  },
  {
   "cell_type": "code",
   "execution_count": 229,
   "metadata": {},
   "outputs": [],
   "source": [
    "pd.concat([df470, dfil6, dfil7, dfnacra]).to_csv('../scraped-data-2024/cluster5-pdf.csv', index=False)"
   ]
  }
 ],
 "metadata": {
  "kernelspec": {
   "display_name": ".venv",
   "language": "python",
   "name": "python3"
  },
  "language_info": {
   "codemirror_mode": {
    "name": "ipython",
    "version": 3
   },
   "file_extension": ".py",
   "mimetype": "text/x-python",
   "name": "python",
   "nbconvert_exporter": "python",
   "pygments_lexer": "ipython3",
   "version": "3.12.3"
  }
 },
 "nbformat": 4,
 "nbformat_minor": 2
}
