{
 "cells": [
  {
   "cell_type": "markdown",
   "metadata": {},
   "source": [
    "# **World Championship 2021**\n",
    "\n",
    "## **49er and 49erFX**"
   ]
  },
  {
   "cell_type": "code",
   "execution_count": 1,
   "metadata": {},
   "outputs": [],
   "source": [
    "from selenium.webdriver import Chrome\n",
    "from selenium.webdriver.chrome.options import Options\n",
    "from bs4 import BeautifulSoup\n",
    "import pandas as pd\n",
    "\n",
    "import warnings\n",
    "warnings.filterwarnings('ignore')"
   ]
  },
  {
   "cell_type": "code",
   "execution_count": 2,
   "metadata": {},
   "outputs": [],
   "source": [
    "options = Options()\n",
    "options.add_argument(\"--headless\")"
   ]
  },
  {
   "cell_type": "markdown",
   "metadata": {},
   "source": [
    "Check your chrome version searching for chrome://version. If your chrome version is 115 or newer, you can install chromedriver here https://googlechromelabs.github.io/chrome-for-testing/#stable. Else, check it here https://chromedriver.chromium.org/downloads. After downloading, unzip the file, move it to the same folder as this notebook and inform the path in the next cell."
   ]
  },
  {
   "cell_type": "code",
   "execution_count": 3,
   "metadata": {},
   "outputs": [],
   "source": [
    "PATH_TO_CHROMEDRIVER = 'chromedriver-mac-x64/chromedriver'"
   ]
  },
  {
   "cell_type": "code",
   "execution_count": 4,
   "metadata": {},
   "outputs": [],
   "source": [
    "URL = 'https://49er.org/events/2021-world-championship/#result-49'\n",
    "\n",
    "driver = Chrome(options=options)\n",
    "driver.get(URL)\n",
    "html = driver.page_source\n",
    "\n",
    "soup = BeautifulSoup(html, \"html.parser\")"
   ]
  },
  {
   "cell_type": "markdown",
   "metadata": {},
   "source": [
    "Even though we pass the link to extract only the 49er results, 49erFX will also be extracted. We want both data, so we will keep it."
   ]
  },
  {
   "cell_type": "code",
   "execution_count": 5,
   "metadata": {},
   "outputs": [],
   "source": [
    "data = []\n",
    "\n",
    "for row in soup.find_all('tr'):\n",
    "    resultados = []\n",
    "    for cell in row.find_all('td'):\n",
    "        # if cell contains <strike> tag, add () around it\n",
    "        if cell.find('strike'):\n",
    "            cell.string = '(' + cell.string + ')'\n",
    "        resultados.append(cell.text)\n",
    "    data.append(resultados)"
   ]
  },
  {
   "cell_type": "code",
   "execution_count": 6,
   "metadata": {},
   "outputs": [],
   "source": [
    "# turn data into a pandas dataframe\n",
    "df = pd.DataFrame(data)\n",
    "\n",
    "# change column names\n",
    "df.columns = ['Posição Geral', 'Sail Number', 'Nome Competidor', 'Nett', 'Q1', 'Q2', 'Q3', 'Q4', 'Q5', 'Q6', \n",
    "              'Q7', 'Q8', 'Q9', 'Q10', 'Q11', 'Q12', 'Q13', 'Q14', 'Q15', 'Q16', 'Q17', 'Pontuação Total']\n",
    "\n",
    "# drop Sail Number column\n",
    "df.drop('Sail Number', axis=1, inplace=True)"
   ]
  },
  {
   "cell_type": "code",
   "execution_count": 7,
   "metadata": {},
   "outputs": [],
   "source": [
    "# divide dataframe into 49er and 49erFX\n",
    "df_49er = df.iloc[1:37, :]\n",
    "df_49erFX = df.iloc[38:60, :]"
   ]
  },
  {
   "cell_type": "code",
   "execution_count": 8,
   "metadata": {},
   "outputs": [],
   "source": [
    "# drop Q17 from df_49erFX\n",
    "df_49erFX.drop('Q17', axis=1, inplace=True)"
   ]
  },
  {
   "cell_type": "code",
   "execution_count": 9,
   "metadata": {},
   "outputs": [],
   "source": [
    "# turn all the Q1, Q2, ..., Q17 columns into rows\n",
    "df_49er = pd.melt(df_49er, id_vars=['Posição Geral', 'Nome Competidor', 'Nett', 'Pontuação Total'], \n",
    "                  value_vars=['Q1', 'Q2', 'Q3', 'Q4', 'Q5', 'Q6', \n",
    "                              'Q7', 'Q8', 'Q9', 'Q10', 'Q11', 'Q12', \n",
    "                              'Q13', 'Q14', 'Q15', 'Q16', 'Q17'])\n",
    "\n",
    "df_49erFX = pd.melt(df_49erFX, id_vars=['Posição Geral', 'Nome Competidor', 'Nett', 'Pontuação Total'],\n",
    "                    value_vars=['Q1', 'Q2', 'Q3', 'Q4', 'Q5', 'Q6', \n",
    "                                'Q7', 'Q8', 'Q9', 'Q10', 'Q11', 'Q12', \n",
    "                                'Q13', 'Q14', 'Q15', 'Q16'])"
   ]
  },
  {
   "cell_type": "code",
   "execution_count": 10,
   "metadata": {},
   "outputs": [],
   "source": [
    "# rename column 'variable' to 'Flotilha'\n",
    "df_49er.rename(columns={'variable': 'Flotilha',\n",
    "                        'value': 'Pontuação Regata'}, inplace=True)\n",
    "\n",
    "df_49erFX.rename(columns={'variable': 'Flotilha',\n",
    "                          'value': 'Pontuação Regata'}, inplace=True)\n",
    "\n",
    "df_49er[\"Regata\"] = df_49er[\"Flotilha\"]\n",
    "df_49erFX[\"Regata\"] = df_49erFX[\"Flotilha\"]"
   ]
  },
  {
   "cell_type": "code",
   "execution_count": 11,
   "metadata": {},
   "outputs": [],
   "source": [
    "# define functions to rename fleet names\n",
    "def rename_fleet_49er(x):\n",
    "    if x == 'Q17':\n",
    "        x = 'MR'\n",
    "    else:\n",
    "        x = 'G'\n",
    "    return x\n",
    "\n",
    "def rename_fleet_49erFX(x):\n",
    "    if x == 'Q16':\n",
    "        x = 'MR'\n",
    "    else:\n",
    "        x = 'G'\n",
    "    return x\n",
    "\n",
    "df_49er['Flotilha'] = df_49er['Flotilha'].apply(rename_fleet_49er)\n",
    "df_49erFX['Flotilha'] = df_49erFX['Flotilha'].apply(rename_fleet_49erFX)"
   ]
  },
  {
   "cell_type": "code",
   "execution_count": 12,
   "metadata": {},
   "outputs": [],
   "source": [
    "df_49er['Nome Competição'] = ['World Championship 2021'] * len(df_49er)\n",
    "df_49er['ID Competição'] = [11] * len(df_49er)\n",
    "df_49er['Classe Vela'] = ['49er'] * len(df_49er)\n",
    "df_49er['Punição'] = [''] * len(df_49er)\n",
    "\n",
    "df_49erFX['Nome Competição'] = ['World Championship 2021'] * len(df_49erFX)\n",
    "df_49erFX['ID Competição'] = [11] * len(df_49erFX)\n",
    "df_49erFX['Classe Vela'] = ['49erFX'] * len(df_49erFX)\n",
    "df_49erFX['Punição'] = [''] * len(df_49erFX)"
   ]
  },
  {
   "cell_type": "code",
   "execution_count": 13,
   "metadata": {},
   "outputs": [],
   "source": [
    "column_order = ['Nome Competidor', 'ID Competição', 'Classe Vela', \n",
    "                'Pontuação Regata', 'Flotilha', 'Posição Geral', \n",
    "                'Punição', 'Pontuação Total', 'Nett', 'Nome Competição', 'Regata']\n",
    "\n",
    "df_49er = df_49er[column_order]\n",
    "df_49erFX = df_49erFX[column_order]"
   ]
  },
  {
   "cell_type": "code",
   "execution_count": 14,
   "metadata": {},
   "outputs": [
    {
     "data": {
      "text/html": [
       "<div>\n",
       "<style scoped>\n",
       "    .dataframe tbody tr th:only-of-type {\n",
       "        vertical-align: middle;\n",
       "    }\n",
       "\n",
       "    .dataframe tbody tr th {\n",
       "        vertical-align: top;\n",
       "    }\n",
       "\n",
       "    .dataframe thead th {\n",
       "        text-align: right;\n",
       "    }\n",
       "</style>\n",
       "<table border=\"1\" class=\"dataframe\">\n",
       "  <thead>\n",
       "    <tr style=\"text-align: right;\">\n",
       "      <th></th>\n",
       "      <th>Nome Competidor</th>\n",
       "      <th>ID Competição</th>\n",
       "      <th>Classe Vela</th>\n",
       "      <th>Pontuação Regata</th>\n",
       "      <th>Flotilha</th>\n",
       "      <th>Posição Geral</th>\n",
       "      <th>Punição</th>\n",
       "      <th>Pontuação Total</th>\n",
       "      <th>Nett</th>\n",
       "      <th>Nome Competição</th>\n",
       "      <th>Regata</th>\n",
       "    </tr>\n",
       "  </thead>\n",
       "  <tbody>\n",
       "    <tr>\n",
       "      <th>0</th>\n",
       "      <td>Bart LAMBRIEXFloris van de WERKEN</td>\n",
       "      <td>11</td>\n",
       "      <td>49er</td>\n",
       "      <td>3.0</td>\n",
       "      <td>G</td>\n",
       "      <td>1</td>\n",
       "      <td></td>\n",
       "      <td>118.0</td>\n",
       "      <td>92.0</td>\n",
       "      <td>World Championship 2021</td>\n",
       "      <td>Q1</td>\n",
       "    </tr>\n",
       "    <tr>\n",
       "      <th>1</th>\n",
       "      <td>Tim FISCHERFabian GRAF</td>\n",
       "      <td>11</td>\n",
       "      <td>49er</td>\n",
       "      <td>1.0</td>\n",
       "      <td>G</td>\n",
       "      <td>2</td>\n",
       "      <td></td>\n",
       "      <td>110.0</td>\n",
       "      <td>94.0</td>\n",
       "      <td>World Championship 2021</td>\n",
       "      <td>Q1</td>\n",
       "    </tr>\n",
       "    <tr>\n",
       "      <th>2</th>\n",
       "      <td>Frederik RASKJakob PRECHT JENSEN</td>\n",
       "      <td>11</td>\n",
       "      <td>49er</td>\n",
       "      <td>4.0</td>\n",
       "      <td>G</td>\n",
       "      <td>3</td>\n",
       "      <td></td>\n",
       "      <td>135.0</td>\n",
       "      <td>112.0</td>\n",
       "      <td>World Championship 2021</td>\n",
       "      <td>Q1</td>\n",
       "    </tr>\n",
       "    <tr>\n",
       "      <th>3</th>\n",
       "      <td>Ian BARROWSHans HENKEN</td>\n",
       "      <td>11</td>\n",
       "      <td>49er</td>\n",
       "      <td>9.0</td>\n",
       "      <td>G</td>\n",
       "      <td>4</td>\n",
       "      <td></td>\n",
       "      <td>135.0</td>\n",
       "      <td>113.0</td>\n",
       "      <td>World Championship 2021</td>\n",
       "      <td>Q1</td>\n",
       "    </tr>\n",
       "    <tr>\n",
       "      <th>4</th>\n",
       "      <td>Dominik BUKSAKSzymon WIERZBICKI</td>\n",
       "      <td>11</td>\n",
       "      <td>49er</td>\n",
       "      <td>10.0</td>\n",
       "      <td>G</td>\n",
       "      <td>5</td>\n",
       "      <td></td>\n",
       "      <td>134.0</td>\n",
       "      <td>118.0</td>\n",
       "      <td>World Championship 2021</td>\n",
       "      <td>Q1</td>\n",
       "    </tr>\n",
       "  </tbody>\n",
       "</table>\n",
       "</div>"
      ],
      "text/plain": [
       "                     Nome Competidor  ID Competição Classe Vela  \\\n",
       "0  Bart LAMBRIEXFloris van de WERKEN             11        49er   \n",
       "1             Tim FISCHERFabian GRAF             11        49er   \n",
       "2   Frederik RASKJakob PRECHT JENSEN             11        49er   \n",
       "3             Ian BARROWSHans HENKEN             11        49er   \n",
       "4    Dominik BUKSAKSzymon WIERZBICKI             11        49er   \n",
       "\n",
       "  Pontuação Regata Flotilha Posição Geral Punição Pontuação Total   Nett  \\\n",
       "0              3.0        G             1                   118.0   92.0   \n",
       "1              1.0        G             2                   110.0   94.0   \n",
       "2              4.0        G             3                   135.0  112.0   \n",
       "3              9.0        G             4                   135.0  113.0   \n",
       "4             10.0        G             5                   134.0  118.0   \n",
       "\n",
       "           Nome Competição Regata  \n",
       "0  World Championship 2021     Q1  \n",
       "1  World Championship 2021     Q1  \n",
       "2  World Championship 2021     Q1  \n",
       "3  World Championship 2021     Q1  \n",
       "4  World Championship 2021     Q1  "
      ]
     },
     "execution_count": 14,
     "metadata": {},
     "output_type": "execute_result"
    }
   ],
   "source": [
    "df_49er.head()"
   ]
  },
  {
   "cell_type": "code",
   "execution_count": 15,
   "metadata": {},
   "outputs": [
    {
     "data": {
      "text/html": [
       "<div>\n",
       "<style scoped>\n",
       "    .dataframe tbody tr th:only-of-type {\n",
       "        vertical-align: middle;\n",
       "    }\n",
       "\n",
       "    .dataframe tbody tr th {\n",
       "        vertical-align: top;\n",
       "    }\n",
       "\n",
       "    .dataframe thead th {\n",
       "        text-align: right;\n",
       "    }\n",
       "</style>\n",
       "<table border=\"1\" class=\"dataframe\">\n",
       "  <thead>\n",
       "    <tr style=\"text-align: right;\">\n",
       "      <th></th>\n",
       "      <th>Nome Competidor</th>\n",
       "      <th>ID Competição</th>\n",
       "      <th>Classe Vela</th>\n",
       "      <th>Pontuação Regata</th>\n",
       "      <th>Flotilha</th>\n",
       "      <th>Posição Geral</th>\n",
       "      <th>Punição</th>\n",
       "      <th>Pontuação Total</th>\n",
       "      <th>Nett</th>\n",
       "      <th>Nome Competição</th>\n",
       "      <th>Regata</th>\n",
       "    </tr>\n",
       "  </thead>\n",
       "  <tbody>\n",
       "    <tr>\n",
       "      <th>0</th>\n",
       "      <td>Odile van AANHOLTElise RUYTER</td>\n",
       "      <td>11</td>\n",
       "      <td>49erFX</td>\n",
       "      <td>1.0</td>\n",
       "      <td>G</td>\n",
       "      <td>1</td>\n",
       "      <td></td>\n",
       "      <td>93.0</td>\n",
       "      <td>75.0</td>\n",
       "      <td>World Championship 2021</td>\n",
       "      <td>Q1</td>\n",
       "    </tr>\n",
       "    <tr>\n",
       "      <th>1</th>\n",
       "      <td>Helene NÆSSMarie RØNNINGEN</td>\n",
       "      <td>11</td>\n",
       "      <td>49erFX</td>\n",
       "      <td>5.0</td>\n",
       "      <td>G</td>\n",
       "      <td>2</td>\n",
       "      <td></td>\n",
       "      <td>103.0</td>\n",
       "      <td>83.0</td>\n",
       "      <td>World Championship 2021</td>\n",
       "      <td>Q1</td>\n",
       "    </tr>\n",
       "    <tr>\n",
       "      <th>2</th>\n",
       "      <td>Martine GRAELKahena KUNZE</td>\n",
       "      <td>11</td>\n",
       "      <td>49erFX</td>\n",
       "      <td>10.0</td>\n",
       "      <td>G</td>\n",
       "      <td>3</td>\n",
       "      <td></td>\n",
       "      <td>112.0</td>\n",
       "      <td>94.0</td>\n",
       "      <td>World Championship 2021</td>\n",
       "      <td>Q1</td>\n",
       "    </tr>\n",
       "    <tr>\n",
       "      <th>3</th>\n",
       "      <td>Ronja GRÖNBLOMVeera HOKKA</td>\n",
       "      <td>11</td>\n",
       "      <td>49erFX</td>\n",
       "      <td>8.0</td>\n",
       "      <td>G</td>\n",
       "      <td>4</td>\n",
       "      <td></td>\n",
       "      <td>134.0</td>\n",
       "      <td>112.0</td>\n",
       "      <td>World Championship 2021</td>\n",
       "      <td>Q1</td>\n",
       "    </tr>\n",
       "    <tr>\n",
       "      <th>4</th>\n",
       "      <td>Patricia SUÁREZMaria CANTERO IZQUIERDO</td>\n",
       "      <td>11</td>\n",
       "      <td>49erFX</td>\n",
       "      <td>7.0</td>\n",
       "      <td>G</td>\n",
       "      <td>5</td>\n",
       "      <td></td>\n",
       "      <td>141.0</td>\n",
       "      <td>121.0</td>\n",
       "      <td>World Championship 2021</td>\n",
       "      <td>Q1</td>\n",
       "    </tr>\n",
       "  </tbody>\n",
       "</table>\n",
       "</div>"
      ],
      "text/plain": [
       "                          Nome Competidor  ID Competição Classe Vela  \\\n",
       "0           Odile van AANHOLTElise RUYTER             11      49erFX   \n",
       "1              Helene NÆSSMarie RØNNINGEN             11      49erFX   \n",
       "2               Martine GRAELKahena KUNZE             11      49erFX   \n",
       "3               Ronja GRÖNBLOMVeera HOKKA             11      49erFX   \n",
       "4  Patricia SUÁREZMaria CANTERO IZQUIERDO             11      49erFX   \n",
       "\n",
       "  Pontuação Regata Flotilha Posição Geral Punição Pontuação Total   Nett  \\\n",
       "0              1.0        G             1                    93.0   75.0   \n",
       "1              5.0        G             2                   103.0   83.0   \n",
       "2             10.0        G             3                   112.0   94.0   \n",
       "3              8.0        G             4                   134.0  112.0   \n",
       "4              7.0        G             5                   141.0  121.0   \n",
       "\n",
       "           Nome Competição Regata  \n",
       "0  World Championship 2021     Q1  \n",
       "1  World Championship 2021     Q1  \n",
       "2  World Championship 2021     Q1  \n",
       "3  World Championship 2021     Q1  \n",
       "4  World Championship 2021     Q1  "
      ]
     },
     "execution_count": 15,
     "metadata": {},
     "output_type": "execute_result"
    }
   ],
   "source": [
    "df_49erFX.head()"
   ]
  },
  {
   "cell_type": "code",
   "execution_count": 16,
   "metadata": {},
   "outputs": [],
   "source": [
    "df_49er.to_csv('../scraped-data/new_World Championship 2021_49er.csv', index=False)\n",
    "df_49erFX.to_csv('../scraped-data/new_World Championship 2021_49erFX.csv', index=False)"
   ]
  }
 ],
 "metadata": {
  "kernelspec": {
   "display_name": "Python 3",
   "language": "python",
   "name": "python3"
  },
  "language_info": {
   "codemirror_mode": {
    "name": "ipython",
    "version": 3
   },
   "file_extension": ".py",
   "mimetype": "text/x-python",
   "name": "python",
   "nbconvert_exporter": "python",
   "pygments_lexer": "ipython3",
   "version": "3.12.3"
  }
 },
 "nbformat": 4,
 "nbformat_minor": 2
}
