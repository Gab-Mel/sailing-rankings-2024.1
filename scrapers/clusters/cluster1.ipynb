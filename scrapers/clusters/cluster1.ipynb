{
 "cells": [
  {
   "cell_type": "code",
   "execution_count": 1,
   "metadata": {},
   "outputs": [],
   "source": [
    "from selenium.webdriver import Chrome\n",
    "from selenium.webdriver.chrome.options import Options\n",
    "from bs4 import BeautifulSoup\n",
    "import pandas as pd\n",
    "import re"
   ]
  },
  {
   "cell_type": "markdown",
   "metadata": {},
   "source": [
    "## Getting page content by Selenium\n",
    "\n",
    "We need to load html content by selenium to avoid the Beautiful Soup load until the entire webpage is loaded."
   ]
  },
  {
   "cell_type": "code",
   "execution_count": 2,
   "metadata": {},
   "outputs": [],
   "source": [
    "options = Options()\n",
    "options.add_argument(\"--headless\")"
   ]
  },
  {
   "cell_type": "code",
   "execution_count": 3,
   "metadata": {},
   "outputs": [],
   "source": [
    "def get_pontuacao(text):\n",
    "    \"\"\"\n",
    "    This functions geta a string like \"'\\n\\npunt_Gold _0000002 2\\n                                            \\n'\"\n",
    "    and extract the part referent to the pontuation\n",
    "    \"\"\"\n",
    "    try:\n",
    "        pontuacao = text.split(\"\\n\")[2].split(\" \")[-1]\n",
    "    except:\n",
    "        pontuacao= \"TO VERIFY\"\n",
    "    return pontuacao"
   ]
  },
  {
   "cell_type": "code",
   "execution_count": 4,
   "metadata": {},
   "outputs": [],
   "source": [
    "def get_flotilha(soup_object):\n",
    "    \"\"\"\n",
    "    This functions gets a input like <span style=\"display:none;\">punt_Yellow _0000003</span>\n",
    "    and returns the series of this data.\n",
    "    \"\"\"\n",
    "    if \"Yellow\" in str(soup_object) or \"Blue\" in str(soup_object) or \"Red\"in str(soup_object) or \"Pink\" in str(soup_object) or \"White\" in str(soup_object) or \"Green\" in str(soup_object) or \"Emerald\" in str(soup_object)  or \"punt_ \" in str(soup_object):\n",
    "        return \"G\"\n",
    "    elif \"Bronze\" in str(soup_object):\n",
    "        return \"B\"\n",
    "    elif \"Silver\" in str(soup_object):\n",
    "        return \"P\"\n",
    "    elif \"Gold\" in str(soup_object):\n",
    "        return \"O\"\n",
    "    elif \"Medal\" in str(soup_object):\n",
    "        return \"Medal Race\"\n",
    "    else:\n",
    "        return \"TO VERIFY\""
   ]
  },
  {
   "cell_type": "code",
   "execution_count": 5,
   "metadata": {},
   "outputs": [],
   "source": [
    "def is_data(css_class):\n",
    "    return css_class==\"odd\" or css_class==\"even\""
   ]
  },
  {
   "cell_type": "code",
   "execution_count": 6,
   "metadata": {},
   "outputs": [
    {
     "data": {
      "text/html": [
       "<div>\n",
       "<style scoped>\n",
       "    .dataframe tbody tr th:only-of-type {\n",
       "        vertical-align: middle;\n",
       "    }\n",
       "\n",
       "    .dataframe tbody tr th {\n",
       "        vertical-align: top;\n",
       "    }\n",
       "\n",
       "    .dataframe thead th {\n",
       "        text-align: right;\n",
       "    }\n",
       "</style>\n",
       "<table border=\"1\" class=\"dataframe\">\n",
       "  <thead>\n",
       "    <tr style=\"text-align: right;\">\n",
       "      <th></th>\n",
       "      <th>Classe</th>\n",
       "      <th>Campeonato</th>\n",
       "      <th>Ano</th>\n",
       "      <th>Link</th>\n",
       "      <th>Descrição</th>\n",
       "      <th>Competição</th>\n",
       "      <th>Unnamed: 6</th>\n",
       "    </tr>\n",
       "  </thead>\n",
       "  <tbody>\n",
       "    <tr>\n",
       "      <th>0</th>\n",
       "      <td>Ilca 7</td>\n",
       "      <td>World Championship</td>\n",
       "      <td>2021</td>\n",
       "      <td>https://velacat.sailti.com/ca/default/races/re...</td>\n",
       "      <td>html e pdf</td>\n",
       "      <td>World Championship 2021</td>\n",
       "      <td>html (com opção de baixar pdf)</td>\n",
       "    </tr>\n",
       "    <tr>\n",
       "      <th>1</th>\n",
       "      <td>Ilca 7</td>\n",
       "      <td>Trofeo S.A.R Princesa Sofia</td>\n",
       "      <td>2023</td>\n",
       "      <td>https://www.trofeoprincesasofia.org/en/default...</td>\n",
       "      <td>html e pdf</td>\n",
       "      <td>Trofeo S.A.R Princesa Sofia 2023</td>\n",
       "      <td>NaN</td>\n",
       "    </tr>\n",
       "    <tr>\n",
       "      <th>2</th>\n",
       "      <td>Ilca 7</td>\n",
       "      <td>Semaine Olympique Francaise De Voile</td>\n",
       "      <td>2023</td>\n",
       "      <td>https://sof.regatta.ffvoile.fr/en/default/race...</td>\n",
       "      <td>html e pdf</td>\n",
       "      <td>Semaine Olympique Francaise De Voile 2023</td>\n",
       "      <td>NaN</td>\n",
       "    </tr>\n",
       "    <tr>\n",
       "      <th>3</th>\n",
       "      <td>Ilca 6</td>\n",
       "      <td>Trofeo S.A.R Princesa Sofia</td>\n",
       "      <td>2023</td>\n",
       "      <td>https://www.trofeoprincesasofia.org/en/default...</td>\n",
       "      <td>html e pdf</td>\n",
       "      <td>Trofeo S.A.R Princesa Sofia 2023</td>\n",
       "      <td>NaN</td>\n",
       "    </tr>\n",
       "    <tr>\n",
       "      <th>4</th>\n",
       "      <td>Ilca 6</td>\n",
       "      <td>Semaine Olympique Francaise De Voile</td>\n",
       "      <td>2023</td>\n",
       "      <td>https://sof.regatta.ffvoile.fr/en/default/race...</td>\n",
       "      <td>html e pdf</td>\n",
       "      <td>Semaine Olympique Francaise De Voile 2023</td>\n",
       "      <td>NaN</td>\n",
       "    </tr>\n",
       "  </tbody>\n",
       "</table>\n",
       "</div>"
      ],
      "text/plain": [
       "   Classe                            Campeonato   Ano  \\\n",
       "0  Ilca 7                    World Championship  2021   \n",
       "1  Ilca 7           Trofeo S.A.R Princesa Sofia  2023   \n",
       "2  Ilca 7  Semaine Olympique Francaise De Voile  2023   \n",
       "3  Ilca 6           Trofeo S.A.R Princesa Sofia  2023   \n",
       "4  Ilca 6  Semaine Olympique Francaise De Voile  2023   \n",
       "\n",
       "                                                Link   Descrição  \\\n",
       "0  https://velacat.sailti.com/ca/default/races/re...  html e pdf   \n",
       "1  https://www.trofeoprincesasofia.org/en/default...  html e pdf   \n",
       "2  https://sof.regatta.ffvoile.fr/en/default/race...  html e pdf   \n",
       "3  https://www.trofeoprincesasofia.org/en/default...  html e pdf   \n",
       "4  https://sof.regatta.ffvoile.fr/en/default/race...  html e pdf   \n",
       "\n",
       "                                  Competição                      Unnamed: 6  \n",
       "0                    World Championship 2021  html (com opção de baixar pdf)  \n",
       "1           Trofeo S.A.R Princesa Sofia 2023                             NaN  \n",
       "2  Semaine Olympique Francaise De Voile 2023                             NaN  \n",
       "3           Trofeo S.A.R Princesa Sofia 2023                             NaN  \n",
       "4  Semaine Olympique Francaise De Voile 2023                             NaN  "
      ]
     },
     "execution_count": 6,
     "metadata": {},
     "output_type": "execute_result"
    }
   ],
   "source": [
    "competitions = pd.read_excel('./Clusters-Sumulas.xlsx', sheet_name='Cluster 1')\n",
    "competitions.head()"
   ]
  },
  {
   "cell_type": "code",
   "execution_count": 7,
   "metadata": {},
   "outputs": [],
   "source": [
    "for i, competition in competitions.iterrows():\n",
    "    COMPETICAO = competition['Competição']\n",
    "    CATEGORIA = competition['Classe']\n",
    "    URL = competition['Link']\n",
    "\n",
    "    with Chrome(options=options) as browser:\n",
    "        browser.get(URL)\n",
    "        html = browser.page_source\n",
    "    soup = BeautifulSoup(html, \"html.parser\")\n",
    "\n",
    "    data = {\n",
    "        \"Id Resultado\": [],\n",
    "        \"Id Competidor\": [],\n",
    "        \"Nome Competidor\": [],\n",
    "        \"Id Competição\": [],\n",
    "        \"Classe Vela\": [],\n",
    "        \"Pontuação Regata\": [],\n",
    "        \"Flotilha\": [],\n",
    "        \"Posição Geral\": [],\n",
    "        \"Punição\": [],\n",
    "        \"Pontuação Total\": [],\n",
    "        \"Nett\": [],\n",
    "        \"Nome Competição\": [],\n",
    "        \"Regata\": []    \n",
    "    }\n",
    "\n",
    "    reg_list = range(1, 101)\n",
    "\n",
    "    for row in soup.find_all(class_ = is_data):\n",
    "\n",
    "        for idx, j in enumerate(row.findChildren(\"td\")):\n",
    "            str_obj = str(j)\n",
    "            if \"position\" in str_obj:\n",
    "                position = j.text\n",
    "\n",
    "            elif \"netpoints\" in str_obj:\n",
    "                net = j.text\n",
    "\n",
    "            elif \"totalpoints\" in str_obj:\n",
    "                totalpoints = j.text\n",
    "\n",
    "            elif idx==4: #This is 3 or 4, depending on sumula\n",
    "                name = j.text   \n",
    "    \n",
    "        index = 0\n",
    "        for race in row.find_all(attrs={\"rel\": True}):\n",
    "            flotilha = get_flotilha(race)\n",
    "            pontuacao = get_pontuacao(race.text)  \n",
    "            data[\"Id Resultado\"].append(None)\n",
    "            data[\"Id Competidor\"].append(None),\n",
    "            data[\"Nome Competidor\"].append(name),\n",
    "            data[\"Id Competição\"].append(None),\n",
    "            data[\"Classe Vela\"].append(CATEGORIA),\n",
    "            data[\"Pontuação Regata\"].append(pontuacao),\n",
    "            data[\"Posição Geral\"].append(position),\n",
    "            data[\"Flotilha\"].append(flotilha)\n",
    "            data[\"Punição\"].append(None),\n",
    "            data[\"Pontuação Total\"].append(totalpoints),\n",
    "            data[\"Nett\"].append(net),\n",
    "            data[\"Nome Competição\"].append(COMPETICAO) \n",
    "            data[\"Regata\"].append(reg_list[index])\n",
    "            index += 1\n",
    "\n",
    "    df= pd.DataFrame(data)\n",
    "    df.to_csv(f\"../scraped-data-2024/c1/{COMPETICAO}{CATEGORIA}.csv\", index=False)\n",
    "    # df.head()"
   ]
  },
  {
   "cell_type": "markdown",
   "metadata": {},
   "source": [
    "## Agregando resultados"
   ]
  },
  {
   "cell_type": "code",
   "execution_count": 8,
   "metadata": {},
   "outputs": [],
   "source": [
    "import os"
   ]
  },
  {
   "cell_type": "code",
   "execution_count": 9,
   "metadata": {},
   "outputs": [],
   "source": [
    "files = [f for f in os.listdir(\"../scraped-data-2024/c1\")]"
   ]
  },
  {
   "cell_type": "code",
   "execution_count": 11,
   "metadata": {},
   "outputs": [],
   "source": [
    "df_init = pd.read_csv(\"../scraped-data-2024/c1/\"+files[0])"
   ]
  },
  {
   "cell_type": "code",
   "execution_count": 12,
   "metadata": {},
   "outputs": [],
   "source": [
    "for file in files[1:]:\n",
    "    df_init = pd.concat([df_init, pd.read_csv(\"../scraped-data-2024/c1/\"+file)])"
   ]
  },
  {
   "cell_type": "code",
   "execution_count": 15,
   "metadata": {},
   "outputs": [],
   "source": [
    "df_init.to_csv(\"../scraped-data-2024/cluster1-html.csv\", index=False)"
   ]
  }
 ],
 "metadata": {
  "kernelspec": {
   "display_name": "Python 3",
   "language": "python",
   "name": "python3"
  },
  "language_info": {
   "codemirror_mode": {
    "name": "ipython",
    "version": 3
   },
   "file_extension": ".py",
   "mimetype": "text/x-python",
   "name": "python",
   "nbconvert_exporter": "python",
   "pygments_lexer": "ipython3",
   "version": "3.12.3"
  },
  "orig_nbformat": 4
 },
 "nbformat": 4,
 "nbformat_minor": 2
}
