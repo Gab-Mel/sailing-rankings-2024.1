{
 "cells": [
  {
   "cell_type": "code",
   "execution_count": 1,
   "metadata": {},
   "outputs": [],
   "source": [
    "import pandas as pd\n",
    "from utils import cluster9"
   ]
  },
  {
   "cell_type": "markdown",
   "metadata": {},
   "source": [
    "## **Manage2Sail**\n",
    "\n",
    "**Links de acesso aos dados de cada classe via Web**\n",
    "\n",
    "| Classe | Ano  | Campeonato | Link |\n",
    "| ---    | ---  |  --- | --- |\n",
    "| 49er   | 2020 | European Championship | https://manage2sail.com/api/event/c64b4c22-4afb-4889-9a4d-84ce7442aa35/regattaresult/e3c4eb48-f6ed-4ec7-b8ac-9f232ddea639 |\n",
    "| 49er   | 2018 | World Championship | https://manage2sail.com/api/event/c64b4c22-4afb-4889-9a4d-84ce7442aa35/regattaresult/518808dd-25a2-4c23-b413-ed73aabba3fc |\n",
    "| 49er   | 2017 | World Championship | https://manage2sail.com/api/event/c64b4c22-4afb-4889-9a4d-84ce7442aa35/regattaresult/89dc12b0-2d91-4877-88b7-825038ac4036 |\n",
    "| 49er   | 2016 | World Championship | https://manage2sail.com/api/event/c64b4c22-4afb-4889-9a4d-84ce7442aa35/regattaresult/34d61158-9068-4d8f-9ff1-95140af60d43 |\n",
    "| 49er   | 2016 | European Championship | https://manage2sail.com/api/event/c64b4c22-4afb-4889-9a4d-84ce7442aa35/regattaresult/b4f510d9-e46d-4641-a054-200fb82e8814 |\n",
    "| 49er   | 2015 | World Championship | https://manage2sail.com/api/event/c64b4c22-4afb-4889-9a4d-84ce7442aa35/regattaresult/6accf2e2-7593-46df-b0dd-d2c41bcfa6cb |\n",
    "| 49erFX | 2020 | European Championship | https://manage2sail.com/api/event/c64b4c22-4afb-4889-9a4d-84ce7442aa35/regattaresult/7bf103f7-bb7f-463d-873f-dfa796f3c139 |\n",
    "| 49erFX | 2018 | World Championship | https://manage2sail.com/api/event/c64b4c22-4afb-4889-9a4d-84ce7442aa35/regattaresult/9a4044bf-78b3-42fc-bf38-38b07a54ad0a |\n",
    "| 49erFX | 2017 | World Championship | https://manage2sail.com/api/event/c64b4c22-4afb-4889-9a4d-84ce7442aa35/regattaresult/363b2130-c76c-4311-8555-f039b7ed8b31 |\n",
    "| 49erFX | 2016 | World Championship | https://manage2sail.com/api/event/c64b4c22-4afb-4889-9a4d-84ce7442aa35/regattaresult/59b55784-fa1e-4191-bc9c-228e11f84f88 |\n",
    "| 49erFX | 2016 | European Championship | https://manage2sail.com/api/event/c64b4c22-4afb-4889-9a4d-84ce7442aa35/regattaresult/979278e1-bd55-461d-9f64-0fb64bf901b4 |\n",
    "| 49erFX | 2015 | World Championship | https://manage2sail.com/api/event/c64b4c22-4afb-4889-9a4d-84ce7442aa35/regattaresult/c1cb92d1-bad5-406b-b96c-9116cdd3b06c |\n",
    "| Ilca 7 | 2018 | World Championship | https://manage2sail.com/api/event/c64b4c22-4afb-4889-9a4d-84ce7442aa35/regattaresult/d6754053-b44f-45ee-b35a-4f089ec87d1d |\n",
    "| Ilca 6 | 2018 | World Championship | https://manage2sail.com/api/event/c64b4c22-4afb-4889-9a4d-84ce7442aa35/regattaresult/35094a41-da0f-43e2-bdb6-32945b2cbb17 |\n",
    "| Ilca 7 | 2018 | Semaine Olympique Francaise de Voile | https://manage2sail.com/api/event/c64b4c22-4afb-4889-9a4d-84ce7442aa35/regattaresult/f9177157-d702-4601-b6d2-1a12e644a0fb |\n",
    "| Ilca 6 | 2018 | Semaine Olympique Francaise de Voile | https://manage2sail.com/api/event/c64b4c22-4afb-4889-9a4d-84ce7442aa35/regattaresult/3925beb4-a0ec-42d0-b784-67a9f38994d3 |\n",
    "| Ilca 7 | 2017 | Semaine Olympique Francaise de Voile | https://manage2sail.com/api/event/c64b4c22-4afb-4889-9a4d-84ce7442aa35/regattaresult/e1eab430-62c6-411c-82f1-ee896b53a55f |\n",
    "| Ilca 6 | 2017 | Semaine Olympique Francaise de Voile | https://manage2sail.com/api/event/c64b4c22-4afb-4889-9a4d-84ce7442aa35/regattaresult/056dd04a-3fad-45f1-b9c2-894bdb176b43 |"
   ]
  },
  {
   "cell_type": "code",
   "execution_count": 2,
   "metadata": {},
   "outputs": [],
   "source": [
    "references = pd.read_excel('../source-data/references.xlsx')\n",
    "#references = references.tail()"
   ]
  },
  {
   "cell_type": "code",
   "execution_count": 3,
   "metadata": {},
   "outputs": [],
   "source": [
    "# references = references[25:]\n",
    "# references.head()"
   ]
  },
  {
   "cell_type": "code",
   "execution_count": 4,
   "metadata": {},
   "outputs": [
    {
     "name": "stdout",
     "output_type": "stream",
     "text": [
      "Finished 49er European Championship 2020\n",
      "Finished 49er World Championship 2018\n",
      "Finished 49er World Championship 2017\n",
      "Finished 49er World Championship 2016\n",
      "Finished 49er World Championship 2015\n",
      "Finished 49er European Championship 2016\n",
      "Finished 49er Semaine Olympique Francaise De Voile 2018\n",
      "Finished 49er Semaine Olympique Francaise De Voile 2017\n",
      "Finished 49erFX European Championship 2020\n",
      "Finished 49erFX World Championship 2018\n",
      "Finished 49erFX World Championship 2017\n",
      "Finished 49erFX World Championship 2016\n",
      "Finished 49erFX World Championship 2015\n",
      "Finished 49erFX European Championship 2016\n",
      "Finished 49erFX Semaine Olympique Francaise De Voile 2018\n",
      "Finished 49erFX Semaine Olympique Francaise De Voile 2017\n",
      "Finished Ilca 7 World Championship 2018\n",
      "Finished Ilca 6 World Championship 2018\n",
      "Finished Ilca 7 Semaine Olympique Francaise de Voile 2018\n",
      "Finished Ilca 6 Semaine Olympique Francaise de Voile 2018\n",
      "Finished Ilca 7 Semaine Olympique Francaise de Voile 2017\n",
      "Finished Ilca 6 Semaine Olympique Francaise de Voile 2017\n",
      "Finished 49erFx European Championship 2022\n",
      "Finished 49er European Championship 2022\n",
      "Finished Nacra 17 European Championship 2022\n",
      "Finished 470 Martinsregatta 2023\n",
      "Finished 470 Saarlandmeisterschaft 2023\n",
      "Finished 470 Internationale Trapezregata der 2023\n",
      "Finished iQFoil 9 Campeonato Nórdico Aberto 2023\n",
      "Finished iQFoil 8 Campeonato Nórdico Aberto 2023\n",
      "Finished Kite Rider of the Year II 2023\n",
      "Finished Kite Rider of the Year I 2023\n",
      "Finished Kite Rider of the Year III 2023\n",
      "Finished Kite Rider of the Year IV 2023\n",
      "Error Kite Asa Engadina - Windsurf - Maratona de Kite 2023\n",
      "Finished 49er SVK 2023\n",
      "Finished 49er Alpsee-Skiff-Weekend 2023\n",
      "Finished 49er Esquife DS-DM 2023\n",
      "Finished ilca 6 CAMPEONATO ABERTO BELGA 2023\n",
      "Finished ilca 7 CAMPEONATO ABERTO BELGA 2023\n",
      "Finished ilca 6 ILCA Nacional 1 ZC Hofstade 2023\n",
      "Finished ilca 7 ILCA Nacional 1 ZC Hofstade 2023\n",
      "Finished ilca 6 Kupferne Rohrdommel - Distriktmeisterschaft Nord 2023\n",
      "Finished ilca 7 Kupferne Rohrdommel - Distriktmeisterschaft Nord 2023\n",
      "Finished ilca 6 EURILCA MASTER SERIES BÉLGICA 2023\n",
      "Finished ilca 7 EURILCA MASTER SERIES BÉLGICA 2023\n",
      "Finished ilca 6 Regata ILCA 2023\n",
      "Finished ilca 6 Opti-Europa-ILCA Treff Bosau 2023\n",
      "Finished ilca 6 Norgesmesterskap ILCA e Optimist 2023\n",
      "Finished ilca 7 Norgesmesterskap ILCA e Optimist 2023\n",
      "Finished ilca 6 ILCA Punktemeisterschaft 2023\n",
      "Finished ilca 7 Escola laser 2023\n",
      "Finished ilca 6 IDJM 2023\n",
      "Finished ilca 6 Internacional. Laser-Kuhschellenregatta 2023\n",
      "Finished ilca 6 EurILCA Campeonato Europeu Sub 21 e Troféu Europeu Aberto 2023\n",
      "Finished ilca 6 Troféu Königswinkel ILCA 2023\n",
      "Finished ilca 7 Troféu Königswinkel ILCA 2023\n",
      "Finished ilca 7 Internacional. Laser-Kuhschellenregatta 2023\n",
      "Finished ilca 7 EurILCA Campeonato Europeu Sub 21 e Troféu Europeu Aberto 2023\n",
      "Finished ilca 6 Latvijas atklātais čempionāts - Optimist e ILCA klasēm 2023\n",
      "Finished ilca 7 Latvijas atklātais čempionāts - Optimist e ILCA klasēm 2023\n",
      "Finished ilca 7 ILCANC 3  2023\n",
      "Finished ilca 6 Spandauer Eis-Cup 2023\n",
      "Finished ilca 6 ILCANC 3  2023\n",
      "Finished ilca 6 Copa Surendorf 2023\n",
      "Finished ilca 7 Copa Surendorf 2023\n",
      "Finished ilca 6 LYC Youth Cup 2023\n",
      "Finished ilca 6 DER WIKINGER 2023\n",
      "Finished ilca 7 DER WIKINGER 2023\n",
      "Finished ilca 6 ILCA6 2023\n",
      "Finished ilca 7 ILCA7 2023\n",
      "Finished ilca 6 Nationale wedstrijd 2023\n",
      "Finished ilca 6 Martinsregata II ILCA 2023\n",
      "Finished ilca 7 Martinsregata II ILCA 2023\n",
      "Finished ilca 6 Auftaktregatta - ILCA 2024\n",
      "Finished ilca 7 Auftaktregatta - ILCA 2024\n",
      "Finished Ilca 7 Semaine Olympique Francaise De Voile 2017\n",
      "Finished Ilca 6 Semaine Olympique Francaise De Voile 2017\n",
      "Finished 49er World Championship 2019\n",
      "Finished Ilca 7 Semaine Olympique Francaise De Voile 2018\n",
      "Finished Ilca 6 Semaine Olympique Francaise De Voile 2018\n"
     ]
    }
   ],
   "source": [
    "for row in references.iterrows():\n",
    "    \n",
    "    reference = {\n",
    "        'Classe Vela': row[1]['Classe Vela'],\n",
    "        'Nome Competição': row[1]['Nome Competição'],\n",
    "        'ID Competição': '',\n",
    "        'URL': row[1]['URL']\n",
    "    }\n",
    "\n",
    "    var = cluster9(reference)\n",
    "\n",
    "    if len(var) == 0:\n",
    "        print(f'Error {reference[\"Classe Vela\"]} {reference[\"Nome Competição\"]}')\n",
    "    else:\n",
    "        print(f'Finished {reference[\"Classe Vela\"]} {reference[\"Nome Competição\"]}')"
   ]
  },
  {
   "cell_type": "code",
   "execution_count": 5,
   "metadata": {},
   "outputs": [],
   "source": [
    "# import os\n",
    "# df = pd.DataFrame()\n",
    "# count = 0\n",
    "# for file in os.listdir('results'):\n",
    "#     if file.endswith('.xlsx'):\n",
    "#         print(file)\n",
    "#         df_file = pd.read_excel(f'results/{file}')\n",
    "#         count = count + len(df_file)\n",
    "#         # concatenate the dataframes\n",
    "#         df = pd.concat([df, df_file])"
   ]
  }
 ],
 "metadata": {
  "kernelspec": {
   "display_name": "Python 3",
   "language": "python",
   "name": "python3"
  },
  "language_info": {
   "codemirror_mode": {
    "name": "ipython",
    "version": 3
   },
   "file_extension": ".py",
   "mimetype": "text/x-python",
   "name": "python",
   "nbconvert_exporter": "python",
   "pygments_lexer": "ipython3",
   "version": "3.12.3"
  }
 },
 "nbformat": 4,
 "nbformat_minor": 2
}
