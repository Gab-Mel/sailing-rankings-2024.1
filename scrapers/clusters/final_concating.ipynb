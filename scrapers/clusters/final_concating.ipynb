{
 "cells": [
  {
   "cell_type": "markdown",
   "metadata": {},
   "source": [
    "# Cluster 1"
   ]
  },
  {
   "cell_type": "markdown",
   "metadata": {},
   "source": [
    "## Agregando resultados"
   ]
  },
  {
   "cell_type": "code",
   "execution_count": 1,
   "metadata": {},
   "outputs": [],
   "source": [
    "import os\n",
    "import pandas as pd"
   ]
  },
  {
   "cell_type": "code",
   "execution_count": 2,
   "metadata": {},
   "outputs": [],
   "source": [
    "files = [f for f in os.listdir(\"../scraped-data-2024/c1\")]\n",
    "\n",
    "df_init = pd.read_csv(\"../scraped-data-2024/c1/\"+files[0])\n",
    "\n",
    "for file in files[1:]:\n",
    "    df_init = pd.concat([df_init, pd.read_csv(\"../scraped-data-2024/c1/\"+file)])\n",
    "\n",
    "df_init.to_csv(\"../scraped-data-2024/cluster1-html.csv\", index=False)"
   ]
  },
  {
   "cell_type": "markdown",
   "metadata": {},
   "source": [
    "# Cluster 2"
   ]
  },
  {
   "cell_type": "code",
   "execution_count": 3,
   "metadata": {},
   "outputs": [],
   "source": [
    "files = [f for f in os.listdir(\"../scraped-data-2024/c2\")]\n",
    "\n",
    "df_init = pd.read_csv(\"../scraped-data-2024/c2/\"+files[0])\n",
    "\n",
    "for file in files[1:]:\n",
    "    df_init = pd.concat([df_init, pd.read_csv(\"../scraped-data-2024/c2/\"+file)])\n",
    "\n",
    "df_init.to_csv(\"../scraped-data-2024/cluster2-html.csv\", index=False)"
   ]
  },
  {
   "cell_type": "markdown",
   "metadata": {},
   "source": [
    "## Cluster 2.5"
   ]
  },
  {
   "cell_type": "code",
   "execution_count": 4,
   "metadata": {},
   "outputs": [],
   "source": [
    "df_ilca6 = pd.read_csv(\"../scraped-data-2024/c2_5/European Championship 2021 Ilca 6.csv\")\n",
    "df_ilca7 = pd.read_csv(\"../scraped-data-2024/c2_5/European Championship 2021 Ilca 7.csv\")\n",
    "df_final = pd.concat([df_ilca7, df_ilca6])\n",
    "df_final.to_csv(\"../scraped-data-2024/cluster2_5-pdf.csv\", index=False)"
   ]
  },
  {
   "cell_type": "markdown",
   "metadata": {},
   "source": [
    "# Cluster 5"
   ]
  },
  {
   "cell_type": "code",
   "execution_count": 5,
   "metadata": {},
   "outputs": [],
   "source": [
    "files = [f for f in os.listdir(\"../scraped-data-2024/c5\") if f.endswith(\".csv\")]\n",
    "df_init = pd.read_csv(\"../scraped-data-2024/c5/\"+files[0])\n",
    "\n",
    "for file in files[1:]:\n",
    "    df_init = pd.concat([df_init, pd.read_csv(\"../scraped-data-2024/c5/\"+file)])\n",
    "\n",
    "df_init.to_csv(\"../scraped-data-2024/cluster5-pdf.csv\", index=False)"
   ]
  },
  {
   "cell_type": "markdown",
   "metadata": {},
   "source": [
    "# Cluster 7"
   ]
  },
  {
   "cell_type": "code",
   "execution_count": 6,
   "metadata": {},
   "outputs": [],
   "source": [
    "df = pd.read_excel(\"../scraped-data-2024/c7/CENTRA & SOUTH Ilca 7.xlsx\")\n",
    "df.rename(columns={\n",
    "    \"Rank\": 'Posição Geral',\n",
    "    'Sailors': 'Nome Competidor',\n",
    "    'Net': 'Nett',\n",
    "    'Total': 'Pontuação Total'\n",
    "}, inplace=True\n",
    ")\n",
    "df = pd.melt(df, id_vars=['Posição Geral', 'Nome Competidor', 'Pontuação Total', 'Nett'], \n",
    "                  var_name='Regata', value_name='Pontuação Regata')\n",
    "\n",
    "df['Classe Vela'] = 'Ilca 7'\n",
    "df['Flotilha'] = 'O'\n",
    "df['Punição'] = ''\n",
    "df['ID Competição'] = ''\n",
    "df['Nome Competição'] = 'Central and South American Championship 2022'\n",
    "\n",
    "column_order = ['Nome Competidor', 'ID Competição', 'Classe Vela', \n",
    "                'Pontuação Regata', 'Flotilha', 'Posição Geral', \n",
    "                'Punição', 'Pontuação Total', 'Nett', 'Nome Competição', 'Regata']\n",
    "\n",
    "df = df[column_order]"
   ]
  },
  {
   "cell_type": "code",
   "execution_count": 7,
   "metadata": {},
   "outputs": [],
   "source": [
    "df.to_csv('../scraped-data-2024/cluster7-pdf.csv', index=False)"
   ]
  },
  {
   "cell_type": "markdown",
   "metadata": {},
   "source": [
    "# Cluster 8"
   ]
  },
  {
   "cell_type": "code",
   "execution_count": 8,
   "metadata": {},
   "outputs": [],
   "source": [
    "files = [f for f in os.listdir(\"../scraped-data-2024/c8\")]\n",
    "\n",
    "df_init = pd.read_csv(\"../scraped-data-2024/c8/\"+files[0])\n",
    "\n",
    "for file in files[1:]:\n",
    "    df_init = pd.concat([df_init, pd.read_csv(\"../scraped-data-2024/c8/\"+file)])\n",
    "\n",
    "df_init.to_csv(\"../scraped-data-2024/cluster8-html.csv\", index=False)"
   ]
  },
  {
   "cell_type": "markdown",
   "metadata": {},
   "source": [
    "# Cluster 9"
   ]
  },
  {
   "cell_type": "code",
   "execution_count": 9,
   "metadata": {},
   "outputs": [
    {
     "name": "stderr",
     "output_type": "stream",
     "text": [
      "C:\\Users\\silla\\AppData\\Local\\Temp\\ipykernel_13728\\4215367912.py:6: FutureWarning: The behavior of DataFrame concatenation with empty or all-NA entries is deprecated. In a future version, this will no longer exclude empty or all-NA columns when determining the result dtypes. To retain the old behavior, exclude the relevant entries before the concat operation.\n",
      "  df_init = pd.concat([df_init, pd.read_csv(\"../scraped-data-2024/c9/\"+file)])\n"
     ]
    }
   ],
   "source": [
    "files = [f for f in os.listdir(\"../scraped-data-2024/c9\")]\n",
    "\n",
    "df_init = pd.read_csv(\"../scraped-data-2024/c9/\"+files[0])\n",
    "\n",
    "for file in files[1:]:\n",
    "    df_init = pd.concat([df_init, pd.read_csv(\"../scraped-data-2024/c9/\"+file)])\n",
    "\n",
    "df_init.to_csv(\"../scraped-data-2024/cluster9-html.csv\", index=False)"
   ]
  },
  {
   "cell_type": "markdown",
   "metadata": {},
   "source": [
    "# Cluster 14"
   ]
  },
  {
   "cell_type": "code",
   "execution_count": 10,
   "metadata": {},
   "outputs": [],
   "source": [
    "files = [f for f in os.listdir(\"../scraped-data-2024/c14\")]\n",
    "\n",
    "df_init = pd.read_csv(\"../scraped-data-2024/c14/\"+files[0])\n",
    "\n",
    "for file in files[1:]:\n",
    "    df_init = pd.concat([df_init, pd.read_csv(\"../scraped-data-2024/c14/\"+file)])\n",
    "\n",
    "df_init.to_csv(\"../scraped-data-2024/cluster14-html.csv\", index=False)"
   ]
  }
 ],
 "metadata": {
  "kernelspec": {
   "display_name": ".venv",
   "language": "python",
   "name": "python3"
  },
  "language_info": {
   "codemirror_mode": {
    "name": "ipython",
    "version": 3
   },
   "file_extension": ".py",
   "mimetype": "text/x-python",
   "name": "python",
   "nbconvert_exporter": "python",
   "pygments_lexer": "ipython3",
   "version": "3.12.3"
  }
 },
 "nbformat": 4,
 "nbformat_minor": 2
}
