{
 "cells": [
  {
   "cell_type": "code",
   "execution_count": 2,
   "metadata": {},
   "outputs": [],
   "source": [
    "import pandas as pd \n",
    "from unidecode import unidecode"
   ]
  },
  {
   "cell_type": "markdown",
   "metadata": {},
   "source": [
    "# Dados da Planilha"
   ]
  },
  {
   "cell_type": "markdown",
   "metadata": {},
   "source": [
    "## IQFOIL Masc.\tEuropean Championship 2022"
   ]
  },
  {
   "cell_type": "code",
   "execution_count": 23,
   "metadata": {},
   "outputs": [
    {
     "data": {
      "text/html": [
       "<div>\n",
       "<style scoped>\n",
       "    .dataframe tbody tr th:only-of-type {\n",
       "        vertical-align: middle;\n",
       "    }\n",
       "\n",
       "    .dataframe tbody tr th {\n",
       "        vertical-align: top;\n",
       "    }\n",
       "\n",
       "    .dataframe thead th {\n",
       "        text-align: right;\n",
       "    }\n",
       "</style>\n",
       "<table border=\"1\" class=\"dataframe\">\n",
       "  <thead>\n",
       "    <tr style=\"text-align: right;\">\n",
       "      <th></th>\n",
       "      <th>Position</th>\n",
       "      <th>Athlete</th>\n",
       "      <th>Nacionalidade</th>\n",
       "      <th>Regata</th>\n",
       "      <th>Pontuação Regata</th>\n",
       "      <th>Total</th>\n",
       "      <th>Net</th>\n",
       "      <th>Classe Vela</th>\n",
       "      <th>Nome Competição</th>\n",
       "    </tr>\n",
       "  </thead>\n",
       "  <tbody>\n",
       "    <tr>\n",
       "      <th>0</th>\n",
       "      <td>1</td>\n",
       "      <td>GOYARD, NICOLAS</td>\n",
       "      <td>FRA</td>\n",
       "      <td>1 Q</td>\n",
       "      <td>3</td>\n",
       "      <td>261</td>\n",
       "      <td>84</td>\n",
       "      <td>IQFOIL MASC.</td>\n",
       "      <td>European Championship 2022</td>\n",
       "    </tr>\n",
       "    <tr>\n",
       "      <th>1</th>\n",
       "      <td>1</td>\n",
       "      <td>GOYARD, NICOLAS</td>\n",
       "      <td>FRA</td>\n",
       "      <td>2 Q</td>\n",
       "      <td>1</td>\n",
       "      <td>261</td>\n",
       "      <td>84</td>\n",
       "      <td>IQFOIL MASC.</td>\n",
       "      <td>European Championship 2022</td>\n",
       "    </tr>\n",
       "    <tr>\n",
       "      <th>2</th>\n",
       "      <td>1</td>\n",
       "      <td>GOYARD, NICOLAS</td>\n",
       "      <td>FRA</td>\n",
       "      <td>3 Q</td>\n",
       "      <td>1</td>\n",
       "      <td>261</td>\n",
       "      <td>84</td>\n",
       "      <td>IQFOIL MASC.</td>\n",
       "      <td>European Championship 2022</td>\n",
       "    </tr>\n",
       "    <tr>\n",
       "      <th>3</th>\n",
       "      <td>1</td>\n",
       "      <td>GOYARD, NICOLAS</td>\n",
       "      <td>FRA</td>\n",
       "      <td>4 Q</td>\n",
       "      <td>1</td>\n",
       "      <td>261</td>\n",
       "      <td>84</td>\n",
       "      <td>IQFOIL MASC.</td>\n",
       "      <td>European Championship 2022</td>\n",
       "    </tr>\n",
       "    <tr>\n",
       "      <th>4</th>\n",
       "      <td>1</td>\n",
       "      <td>GOYARD, NICOLAS</td>\n",
       "      <td>FRA</td>\n",
       "      <td>5 Q</td>\n",
       "      <td>-7</td>\n",
       "      <td>261</td>\n",
       "      <td>84</td>\n",
       "      <td>IQFOIL MASC.</td>\n",
       "      <td>European Championship 2022</td>\n",
       "    </tr>\n",
       "  </tbody>\n",
       "</table>\n",
       "</div>"
      ],
      "text/plain": [
       "   Position          Athlete Nacionalidade Regata Pontuação Regata Total Net  \\\n",
       "0         1  GOYARD, NICOLAS           FRA    1 Q                3   261  84   \n",
       "1         1  GOYARD, NICOLAS           FRA    2 Q                1   261  84   \n",
       "2         1  GOYARD, NICOLAS           FRA    3 Q                1   261  84   \n",
       "3         1  GOYARD, NICOLAS           FRA    4 Q                1   261  84   \n",
       "4         1  GOYARD, NICOLAS           FRA    5 Q               -7   261  84   \n",
       "\n",
       "    Classe Vela             Nome Competição  \n",
       "0  IQFOIL MASC.  European Championship 2022  \n",
       "1  IQFOIL MASC.  European Championship 2022  \n",
       "2  IQFOIL MASC.  European Championship 2022  \n",
       "3  IQFOIL MASC.  European Championship 2022  \n",
       "4  IQFOIL MASC.  European Championship 2022  "
      ]
     },
     "execution_count": 23,
     "metadata": {},
     "output_type": "execute_result"
    }
   ],
   "source": [
    "df1 = pd.read_csv(\"../../arquivo_1.CSV\", sep=\";\", encoding='iso-8859-1')\n",
    "\n",
    "list_of_data = list()\n",
    "for each_athlete in range(len(df1)):\n",
    "    data = list(df1.iloc[each_athlete])\n",
    "    for each_regata in range(4, 24):\n",
    "        list_of_data.append([data[0], data[3].upper(), data[1].split(\" \")[0], f\"{df1.columns[each_regata]} Q\", data[each_regata], data[-2], data[-1], \"IQFOIL MASC.\", \"European Championship 2022\"])\n",
    "\n",
    "df1_auxi = pd.DataFrame(columns=[\"Position\", \"Athlete\", \"Nacionalidade\", \"Regata\", \"Pontuação Regata\", \"Total\", \"Net\", \"Classe Vela\", \"Nome Competição\"], data=list_of_data)\n",
    "df1_auxi.head()"
   ]
  },
  {
   "cell_type": "markdown",
   "metadata": {},
   "source": [
    "## Nacra 17\tSemaine Olympique Francaise De Voile 2022"
   ]
  },
  {
   "cell_type": "code",
   "execution_count": 29,
   "metadata": {},
   "outputs": [
    {
     "data": {
      "text/html": [
       "<div>\n",
       "<style scoped>\n",
       "    .dataframe tbody tr th:only-of-type {\n",
       "        vertical-align: middle;\n",
       "    }\n",
       "\n",
       "    .dataframe tbody tr th {\n",
       "        vertical-align: top;\n",
       "    }\n",
       "\n",
       "    .dataframe thead th {\n",
       "        text-align: right;\n",
       "    }\n",
       "</style>\n",
       "<table border=\"1\" class=\"dataframe\">\n",
       "  <thead>\n",
       "    <tr style=\"text-align: right;\">\n",
       "      <th></th>\n",
       "      <th>Position</th>\n",
       "      <th>Athlete</th>\n",
       "      <th>Nacionalidade</th>\n",
       "      <th>Regata</th>\n",
       "      <th>Pontuação Regata</th>\n",
       "      <th>Total</th>\n",
       "      <th>Net</th>\n",
       "      <th>Classe Vela</th>\n",
       "      <th>Nome Competição</th>\n",
       "    </tr>\n",
       "  </thead>\n",
       "  <tbody>\n",
       "    <tr>\n",
       "      <th>0</th>\n",
       "      <td>1</td>\n",
       "      <td>TITA RUGGERO (ITART8)                         ...</td>\n",
       "      <td>ITA</td>\n",
       "      <td>1 Q</td>\n",
       "      <td>36</td>\n",
       "      <td>4</td>\n",
       "      <td>4.0</td>\n",
       "      <td>IQFOIL MASC.</td>\n",
       "      <td>European Championship 2022</td>\n",
       "    </tr>\n",
       "    <tr>\n",
       "      <th>1</th>\n",
       "      <td>1</td>\n",
       "      <td>TITA RUGGERO (ITART8)                         ...</td>\n",
       "      <td>ITA</td>\n",
       "      <td>2 Q</td>\n",
       "      <td>42</td>\n",
       "      <td>4</td>\n",
       "      <td>4.0</td>\n",
       "      <td>IQFOIL MASC.</td>\n",
       "      <td>European Championship 2022</td>\n",
       "    </tr>\n",
       "    <tr>\n",
       "      <th>2</th>\n",
       "      <td>1</td>\n",
       "      <td>TITA RUGGERO (ITART8)                         ...</td>\n",
       "      <td>ITA</td>\n",
       "      <td>3 Q</td>\n",
       "      <td>1</td>\n",
       "      <td>4</td>\n",
       "      <td>4.0</td>\n",
       "      <td>IQFOIL MASC.</td>\n",
       "      <td>European Championship 2022</td>\n",
       "    </tr>\n",
       "    <tr>\n",
       "      <th>3</th>\n",
       "      <td>1</td>\n",
       "      <td>TITA RUGGERO (ITART8)                         ...</td>\n",
       "      <td>ITA</td>\n",
       "      <td>4 Q</td>\n",
       "      <td>5</td>\n",
       "      <td>4</td>\n",
       "      <td>4.0</td>\n",
       "      <td>IQFOIL MASC.</td>\n",
       "      <td>European Championship 2022</td>\n",
       "    </tr>\n",
       "    <tr>\n",
       "      <th>4</th>\n",
       "      <td>1</td>\n",
       "      <td>TITA RUGGERO (ITART8)                         ...</td>\n",
       "      <td>ITA</td>\n",
       "      <td>5 Q</td>\n",
       "      <td>4</td>\n",
       "      <td>4</td>\n",
       "      <td>4.0</td>\n",
       "      <td>IQFOIL MASC.</td>\n",
       "      <td>European Championship 2022</td>\n",
       "    </tr>\n",
       "  </tbody>\n",
       "</table>\n",
       "</div>"
      ],
      "text/plain": [
       "   Position                                            Athlete Nacionalidade  \\\n",
       "0         1  TITA RUGGERO (ITART8)                         ...           ITA   \n",
       "1         1  TITA RUGGERO (ITART8)                         ...           ITA   \n",
       "2         1  TITA RUGGERO (ITART8)                         ...           ITA   \n",
       "3         1  TITA RUGGERO (ITART8)                         ...           ITA   \n",
       "4         1  TITA RUGGERO (ITART8)                         ...           ITA   \n",
       "\n",
       "  Regata Pontuação Regata Total  Net   Classe Vela             Nome Competição  \n",
       "0    1 Q               36     4  4.0  IQFOIL MASC.  European Championship 2022  \n",
       "1    2 Q               42     4  4.0  IQFOIL MASC.  European Championship 2022  \n",
       "2    3 Q                1     4  4.0  IQFOIL MASC.  European Championship 2022  \n",
       "3    4 Q                5     4  4.0  IQFOIL MASC.  European Championship 2022  \n",
       "4    5 Q                4     4  4.0  IQFOIL MASC.  European Championship 2022  "
      ]
     },
     "execution_count": 29,
     "metadata": {},
     "output_type": "execute_result"
    }
   ],
   "source": [
    "df2 = pd.read_csv(\"../../arquivo_2.CSV\", sep=\";\", encoding='iso-8859-1')\n",
    "\n",
    "list_of_data = list()\n",
    "for each_athlete in range(len(df2)):\n",
    "    data = list(df2.iloc[each_athlete])\n",
    "    for each_regata in range(6, 24):\n",
    "        list_of_data.append([data[0], data[2].upper(), data[1].split(\" \")[0], f\"{df2.columns[each_regata]} Q\", data[each_regata], data[-2], data[-1], \"Nacra 17\", \"Semaine Olympique Francaise De Voile 2022\"])\n",
    "\n",
    "df2_auxi = pd.DataFrame(columns=[\"Position\", \"Athlete\", \"Nacionalidade\", \"Regata\", \"Pontuação Regata\", \"Total\", \"Net\", \"Classe Vela\", \"Nome Competição\"], data=list_of_data)\n",
    "df2_auxi.head()"
   ]
  },
  {
   "cell_type": "markdown",
   "metadata": {},
   "source": [
    "## 49er\tTrofeo S.A.R Princesa Sofia 2015"
   ]
  },
  {
   "cell_type": "code",
   "execution_count": 33,
   "metadata": {},
   "outputs": [
    {
     "data": {
      "text/html": [
       "<div>\n",
       "<style scoped>\n",
       "    .dataframe tbody tr th:only-of-type {\n",
       "        vertical-align: middle;\n",
       "    }\n",
       "\n",
       "    .dataframe tbody tr th {\n",
       "        vertical-align: top;\n",
       "    }\n",
       "\n",
       "    .dataframe thead th {\n",
       "        text-align: right;\n",
       "    }\n",
       "</style>\n",
       "<table border=\"1\" class=\"dataframe\">\n",
       "  <thead>\n",
       "    <tr style=\"text-align: right;\">\n",
       "      <th></th>\n",
       "      <th>Position</th>\n",
       "      <th>Athlete</th>\n",
       "      <th>Nacionalidade</th>\n",
       "      <th>Regata</th>\n",
       "      <th>Pontuação Regata</th>\n",
       "      <th>Total</th>\n",
       "      <th>Net</th>\n",
       "      <th>Classe Vela</th>\n",
       "      <th>Nome Competição</th>\n",
       "    </tr>\n",
       "  </thead>\n",
       "  <tbody>\n",
       "    <tr>\n",
       "      <th>0</th>\n",
       "      <td>1</td>\n",
       "      <td>PETER BURLING / BLAIR TUKE</td>\n",
       "      <td>NZL</td>\n",
       "      <td>1 Q</td>\n",
       "      <td>1</td>\n",
       "      <td>76</td>\n",
       "      <td>50</td>\n",
       "      <td>49ER</td>\n",
       "      <td>Trofeo S.A.R Princesa Sofia 2015</td>\n",
       "    </tr>\n",
       "    <tr>\n",
       "      <th>1</th>\n",
       "      <td>1</td>\n",
       "      <td>PETER BURLING / BLAIR TUKE</td>\n",
       "      <td>NZL</td>\n",
       "      <td>2 Q</td>\n",
       "      <td>1</td>\n",
       "      <td>76</td>\n",
       "      <td>50</td>\n",
       "      <td>49ER</td>\n",
       "      <td>Trofeo S.A.R Princesa Sofia 2015</td>\n",
       "    </tr>\n",
       "    <tr>\n",
       "      <th>2</th>\n",
       "      <td>1</td>\n",
       "      <td>PETER BURLING / BLAIR TUKE</td>\n",
       "      <td>NZL</td>\n",
       "      <td>3 Q</td>\n",
       "      <td>2</td>\n",
       "      <td>76</td>\n",
       "      <td>50</td>\n",
       "      <td>49ER</td>\n",
       "      <td>Trofeo S.A.R Princesa Sofia 2015</td>\n",
       "    </tr>\n",
       "    <tr>\n",
       "      <th>3</th>\n",
       "      <td>1</td>\n",
       "      <td>PETER BURLING / BLAIR TUKE</td>\n",
       "      <td>NZL</td>\n",
       "      <td>4 Q</td>\n",
       "      <td>3</td>\n",
       "      <td>76</td>\n",
       "      <td>50</td>\n",
       "      <td>49ER</td>\n",
       "      <td>Trofeo S.A.R Princesa Sofia 2015</td>\n",
       "    </tr>\n",
       "    <tr>\n",
       "      <th>4</th>\n",
       "      <td>1</td>\n",
       "      <td>PETER BURLING / BLAIR TUKE</td>\n",
       "      <td>NZL</td>\n",
       "      <td>5 Q</td>\n",
       "      <td>1</td>\n",
       "      <td>76</td>\n",
       "      <td>50</td>\n",
       "      <td>49ER</td>\n",
       "      <td>Trofeo S.A.R Princesa Sofia 2015</td>\n",
       "    </tr>\n",
       "  </tbody>\n",
       "</table>\n",
       "</div>"
      ],
      "text/plain": [
       "   Position                     Athlete Nacionalidade Regata Pontuação Regata  \\\n",
       "0         1  PETER BURLING / BLAIR TUKE           NZL    1 Q                1   \n",
       "1         1  PETER BURLING / BLAIR TUKE           NZL    2 Q                1   \n",
       "2         1  PETER BURLING / BLAIR TUKE           NZL    3 Q                2   \n",
       "3         1  PETER BURLING / BLAIR TUKE           NZL    4 Q                3   \n",
       "4         1  PETER BURLING / BLAIR TUKE           NZL    5 Q                1   \n",
       "\n",
       "  Total Net Classe Vela                   Nome Competição  \n",
       "0    76  50        49ER  Trofeo S.A.R Princesa Sofia 2015  \n",
       "1    76  50        49ER  Trofeo S.A.R Princesa Sofia 2015  \n",
       "2    76  50        49ER  Trofeo S.A.R Princesa Sofia 2015  \n",
       "3    76  50        49ER  Trofeo S.A.R Princesa Sofia 2015  \n",
       "4    76  50        49ER  Trofeo S.A.R Princesa Sofia 2015  "
      ]
     },
     "execution_count": 33,
     "metadata": {},
     "output_type": "execute_result"
    }
   ],
   "source": [
    "df3 = pd.read_csv(\"../../arquivo_3.CSV\", sep=\";\", encoding='iso-8859-1')\n",
    "df3\n",
    "\n",
    "list_of_data = list()\n",
    "for each_athlete in range(len(df3)):\n",
    "    data = list(df3.iloc[each_athlete])\n",
    "    for each_regata in range(5, 19):\n",
    "        list_of_data.append([data[0], data[2].upper(), data[1].split(\" \")[0], f\"{each_regata - 4} Q\", data[each_regata], data[4], data[3], \"49ER\", \"Trofeo S.A.R Princesa Sofia 2015\"])\n",
    "\n",
    "df3_auxi = pd.DataFrame(columns=[\"Position\", \"Athlete\", \"Nacionalidade\", \"Regata\", \"Pontuação Regata\", \"Total\", \"Net\", \"Classe Vela\", \"Nome Competição\"], data=list_of_data)\n",
    "df3_auxi.head(5)"
   ]
  },
  {
   "cell_type": "markdown",
   "metadata": {},
   "source": [
    "## 49erFX\tTrofeo S.A.R Princesa Sofia 2015"
   ]
  },
  {
   "cell_type": "markdown",
   "metadata": {},
   "source": [
    "## 49er\tTrofeo S.A.R Princesa Sofia 2016"
   ]
  },
  {
   "cell_type": "markdown",
   "metadata": {},
   "source": [
    "## 49erFX\tTrofeo S.A.R Princesa Sofia 2016"
   ]
  },
  {
   "cell_type": "code",
   "execution_count": 13,
   "metadata": {},
   "outputs": [],
   "source": [
    "df6 = pd.read_csv(\"../../arquivo_6.CSV\", sep=\";\", encoding='iso-8859-1')\n",
    "\n",
    "list_of_data = list()\n",
    "for i in range(0, len(df6), 2):\n",
    "    data_0 = list(df6.iloc[i])\n",
    "    data_1 = list(df6.iloc[i + 1])\n",
    "    list_of_data.append(data_0[0:5] + data_1[5:])\n",
    "\n",
    "df_6_real = pd.DataFrame(columns=df6.columns, data=list_of_data)"
   ]
  },
  {
   "cell_type": "markdown",
   "metadata": {},
   "source": [
    "## 49er\tTrofeo S.A.R Princesa Sofia 2017"
   ]
  },
  {
   "cell_type": "markdown",
   "metadata": {},
   "source": [
    "## 49erFX\tTrofeo S.A.R Princesa Sofia 2017"
   ]
  },
  {
   "cell_type": "markdown",
   "metadata": {},
   "source": [
    "## 49er\tTrofeo S.A.R Princesa Sofia 2018"
   ]
  },
  {
   "cell_type": "markdown",
   "metadata": {},
   "source": [
    "## 49erFX\tTrofeo S.A.R Princesa Sofia 2018"
   ]
  }
 ],
 "metadata": {
  "kernelspec": {
   "display_name": "Python 3",
   "language": "python",
   "name": "python3"
  },
  "language_info": {
   "codemirror_mode": {
    "name": "ipython",
    "version": 3
   },
   "file_extension": ".py",
   "mimetype": "text/x-python",
   "name": "python",
   "nbconvert_exporter": "python",
   "pygments_lexer": "ipython3",
   "version": "3.12.1"
  }
 },
 "nbformat": 4,
 "nbformat_minor": 2
}
