{
 "cells": [
  {
   "cell_type": "code",
   "execution_count": 1,
   "metadata": {},
   "outputs": [],
   "source": [
    "import requests\n",
    "import pandas as pd\n",
    "import re"
   ]
  },
  {
   "cell_type": "code",
   "execution_count": 2,
   "metadata": {},
   "outputs": [],
   "source": [
    "def get_name(text):\n",
    "    text = text.split(\") \")[1]\n",
    "    return text.split(\" |\")[0]"
   ]
  },
  {
   "cell_type": "code",
   "execution_count": 3,
   "metadata": {},
   "outputs": [],
   "source": [
    "def get_position(text):\n",
    "    pattern = r'\\((.*?)\\)'\n",
    "    match = re.search(pattern, text)\n",
    "    return match.group(1)"
   ]
  },
  {
   "cell_type": "code",
   "execution_count": 4,
   "metadata": {},
   "outputs": [],
   "source": [
    "def get_flotilha(soup_object):\n",
    "    \"\"\"\n",
    "    This functions gets a input like <span style=\"display:none;\">punt_Yellow _0000003</span>\n",
    "    and returns the series of this data.\n",
    "    \"\"\"\n",
    "    if \"Yellow\" in str(soup_object) or \"Blue\" in str(soup_object) or \"Red\"in str(soup_object) or \"Pink\" in str(soup_object) or \"White\" in str(soup_object) or \"Green\" in str(soup_object) or \"Emerald\" in str(soup_object) \\\n",
    "    or \"punt_ \" in str(soup_object) or \"Gold\" in str(soup_object) or \"Silver\" in str(soup_object) or \"Bronze\" in str(soup_object):\n",
    "        return \"G\"\n",
    "    #DESCOMENTING BELOW IF THE CATEGORY IS FORMULA KITE\n",
    "    # elif \"QF\" in str(soup_object):\n",
    "    #     return \"B\"\n",
    "    # elif \"SF\" in str(soup_object):\n",
    "    #     return \"P\"\n",
    "    # elif \"Final\" in str(soup_object):\n",
    "    #     return \"O\"\n",
    "    elif \"Medal\" in str(soup_object):\n",
    "        return \"MR\"\n",
    "    else:\n",
    "        return \"aa\""
   ]
  },
  {
   "cell_type": "code",
   "execution_count": 5,
   "metadata": {},
   "outputs": [
    {
     "data": {
      "text/html": [
       "<div>\n",
       "<style scoped>\n",
       "    .dataframe tbody tr th:only-of-type {\n",
       "        vertical-align: middle;\n",
       "    }\n",
       "\n",
       "    .dataframe tbody tr th {\n",
       "        vertical-align: top;\n",
       "    }\n",
       "\n",
       "    .dataframe thead th {\n",
       "        text-align: right;\n",
       "    }\n",
       "</style>\n",
       "<table border=\"1\" class=\"dataframe\">\n",
       "  <thead>\n",
       "    <tr style=\"text-align: right;\">\n",
       "      <th></th>\n",
       "      <th>Classe</th>\n",
       "      <th>Campeonato</th>\n",
       "      <th>Ano</th>\n",
       "      <th>Link</th>\n",
       "      <th>Descrição</th>\n",
       "      <th>Competição</th>\n",
       "      <th>the hague</th>\n",
       "    </tr>\n",
       "  </thead>\n",
       "  <tbody>\n",
       "    <tr>\n",
       "      <th>0</th>\n",
       "      <td>Ilca 7</td>\n",
       "      <td>World Championship</td>\n",
       "      <td>2023</td>\n",
       "      <td>https://world-sailing-api.soticcloud.net/stats...</td>\n",
       "      <td>html</td>\n",
       "      <td>World Championship 2023</td>\n",
       "      <td>NaN</td>\n",
       "    </tr>\n",
       "    <tr>\n",
       "      <th>1</th>\n",
       "      <td>Ilca 6</td>\n",
       "      <td>World Championship</td>\n",
       "      <td>2023</td>\n",
       "      <td>https://world-sailing-api.soticcloud.net/stats...</td>\n",
       "      <td>html</td>\n",
       "      <td>World Championship 2023</td>\n",
       "      <td>NaN</td>\n",
       "    </tr>\n",
       "    <tr>\n",
       "      <th>2</th>\n",
       "      <td>IQFOIL Fem.</td>\n",
       "      <td>World Championship</td>\n",
       "      <td>2023</td>\n",
       "      <td>https://world-sailing-api.soticcloud.net/stats...</td>\n",
       "      <td>html</td>\n",
       "      <td>World Championship 2023</td>\n",
       "      <td>NaN</td>\n",
       "    </tr>\n",
       "    <tr>\n",
       "      <th>3</th>\n",
       "      <td>IQFOIL Masc.</td>\n",
       "      <td>World Championship</td>\n",
       "      <td>2023</td>\n",
       "      <td>https://world-sailing-api.soticcloud.net/stats...</td>\n",
       "      <td>html</td>\n",
       "      <td>World Championship 2023</td>\n",
       "      <td>NaN</td>\n",
       "    </tr>\n",
       "    <tr>\n",
       "      <th>4</th>\n",
       "      <td>49erFX</td>\n",
       "      <td>World Championship</td>\n",
       "      <td>2023</td>\n",
       "      <td>https://world-sailing-api.soticcloud.net/stats...</td>\n",
       "      <td>html</td>\n",
       "      <td>World Championship 2023</td>\n",
       "      <td>NaN</td>\n",
       "    </tr>\n",
       "  </tbody>\n",
       "</table>\n",
       "</div>"
      ],
      "text/plain": [
       "         Classe          Campeonato   Ano  \\\n",
       "0        Ilca 7  World Championship  2023   \n",
       "1        Ilca 6  World Championship  2023   \n",
       "2  IQFOIL Fem.   World Championship  2023   \n",
       "3  IQFOIL Masc.  World Championship  2023   \n",
       "4        49erFX  World Championship  2023   \n",
       "\n",
       "                                                Link Descrição  \\\n",
       "0  https://world-sailing-api.soticcloud.net/stats...      html   \n",
       "1  https://world-sailing-api.soticcloud.net/stats...      html   \n",
       "2  https://world-sailing-api.soticcloud.net/stats...      html   \n",
       "3  https://world-sailing-api.soticcloud.net/stats...      html   \n",
       "4  https://world-sailing-api.soticcloud.net/stats...      html   \n",
       "\n",
       "                Competição  the hague  \n",
       "0  World Championship 2023        NaN  \n",
       "1  World Championship 2023        NaN  \n",
       "2  World Championship 2023        NaN  \n",
       "3  World Championship 2023        NaN  \n",
       "4  World Championship 2023        NaN  "
      ]
     },
     "execution_count": 5,
     "metadata": {},
     "output_type": "execute_result"
    }
   ],
   "source": [
    "competitions = pd.read_excel(\"./Clusters-Sumulas.xlsx\", sheet_name=\"Cluster 3\")\n",
    "competitions.head()"
   ]
  },
  {
   "cell_type": "code",
   "execution_count": 6,
   "metadata": {},
   "outputs": [],
   "source": [
    "for i, competition in competitions.iterrows():\n",
    "    \n",
    "    COMPETICAO = competition[\"Competição\"]\n",
    "    CATEGORIA = competition[\"Classe\"]\n",
    "\n",
    "    r = requests.get(str(competition[\"Link\"]))\n",
    "    data = r.json()\n",
    "    df_data = {\n",
    "        \"Id Resultado\": [],\n",
    "        \"Id Competidor\": [],\n",
    "        \"Nome Competidor\": [],\n",
    "        \"Id Competição\": [],\n",
    "        \"Classe Vela\": [],\n",
    "        \"Pontuação Regata\": [],\n",
    "        \"Flotilha\": [],\n",
    "        \"Posição Geral\": [],\n",
    "        \"Punição\": [],\n",
    "        \"Pontuação Total\": [],\n",
    "        \"Nett\": [],\n",
    "        \"Nome Competição\": [],\n",
    "        \"Regata\": []    \n",
    "    }\n",
    "\n",
    "    for race in data[\"data\"][\"races\"]:\n",
    "        for result in race[\"raceResults\"]:\n",
    "            pontuacao = result[\"averagePoints\"]\n",
    "            nome = get_name(result[\"crew\"][\"_admin_name\"])\n",
    "            posicao = get_position(result[\"crew\"][\"_admin_name\"])\n",
    "            flotilha = get_flotilha(race[\"name\"])\n",
    "            totalpoints = result[\"crew\"][\"totalPoints\"]\n",
    "            net = result[\"crew\"][\"points\"]\n",
    "            flotilha = get_flotilha(race)\n",
    "            regata = race[\"name\"]\n",
    "            df_data[\"Id Resultado\"].append(None)\n",
    "            df_data[\"Id Competidor\"].append(None),\n",
    "            df_data[\"Nome Competidor\"].append(nome),\n",
    "            df_data[\"Id Competição\"].append(None),\n",
    "            df_data[\"Classe Vela\"].append(CATEGORIA),\n",
    "            df_data[\"Pontuação Regata\"].append(pontuacao),\n",
    "            df_data[\"Posição Geral\"].append(posicao),\n",
    "            df_data[\"Flotilha\"].append(flotilha)\n",
    "            df_data[\"Punição\"].append(None),\n",
    "            df_data[\"Pontuação Total\"].append(totalpoints),\n",
    "            df_data[\"Nett\"].append(net),\n",
    "            df_data[\"Nome Competição\"].append(COMPETICAO)\n",
    "            df_data[\"Regata\"].append(regata) \n",
    "\n",
    "    df = pd.DataFrame(df_data)\n",
    "    # df.head()\n",
    "    df.to_csv(f\"../scraped-data-2024/c3/{COMPETICAO}{CATEGORIA}.csv\", index=False)"
   ]
  },
  {
   "cell_type": "markdown",
   "metadata": {},
   "source": [
    "## Agreggating results"
   ]
  },
  {
   "cell_type": "code",
   "execution_count": 7,
   "metadata": {},
   "outputs": [],
   "source": [
    "import os"
   ]
  },
  {
   "cell_type": "code",
   "execution_count": 9,
   "metadata": {},
   "outputs": [],
   "source": [
    "files = os.listdir(\"../scraped-data-2024/c3\")"
   ]
  },
  {
   "cell_type": "code",
   "execution_count": 10,
   "metadata": {},
   "outputs": [],
   "source": [
    "df_init = pd.read_csv(\"../scraped-data-2024/c3/\"+files[0])\n",
    "for file in files[1:]:\n",
    "    df_init = pd.concat([df_init, pd.read_csv(\"../scraped-data-2024/c3/\"+file)])\n",
    "df_init.to_csv(\"../scraped-data-2024/cluster3.csv\", index = False)    "
   ]
  }
 ],
 "metadata": {
  "kernelspec": {
   "display_name": "Python 3",
   "language": "python",
   "name": "python3"
  },
  "language_info": {
   "codemirror_mode": {
    "name": "ipython",
    "version": 3
   },
   "file_extension": ".py",
   "mimetype": "text/x-python",
   "name": "python",
   "nbconvert_exporter": "python",
   "pygments_lexer": "ipython3",
   "version": "3.12.3"
  },
  "orig_nbformat": 4
 },
 "nbformat": 4,
 "nbformat_minor": 2
}
