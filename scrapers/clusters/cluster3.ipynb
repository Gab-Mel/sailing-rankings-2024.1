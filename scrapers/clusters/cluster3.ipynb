{
 "cells": [
  {
   "cell_type": "code",
   "execution_count": 1,
   "metadata": {},
   "outputs": [],
   "source": [
    "import requests\n",
    "import pandas as pd\n",
    "import re"
   ]
  },
  {
   "cell_type": "code",
   "execution_count": 2,
   "metadata": {},
   "outputs": [],
   "source": [
    "def get_name(text):\n",
    "    text = text.split(\") \")[1]\n",
    "    return text.split(\" |\")[0]"
   ]
  },
  {
   "cell_type": "code",
   "execution_count": 3,
   "metadata": {},
   "outputs": [],
   "source": [
    "def get_position(text):\n",
    "    pattern = r'\\((.*?)\\)'\n",
    "    match = re.search(pattern, text)\n",
    "    return match.group(1)"
   ]
  },
  {
   "cell_type": "code",
   "execution_count": 4,
   "metadata": {},
   "outputs": [],
   "source": [
    "def get_flotilha(soup_object):\n",
    "    \"\"\"\n",
    "    This functions gets a input like <span style=\"display:none;\">punt_Yellow _0000003</span>\n",
    "    and returns the series of this data.\n",
    "    \"\"\"\n",
    "    if \"Yellow\" in str(soup_object) or \"Blue\" in str(soup_object) or \"Red\"in str(soup_object) or \"Pink\" in str(soup_object) or \"White\" in str(soup_object) or \"Green\" in str(soup_object) or \"Emerald\" in str(soup_object) \\\n",
    "    or \"punt_ \" in str(soup_object) or \"Gold\" in str(soup_object) or \"Silver\" in str(soup_object) or \"Bronze\" in str(soup_object):\n",
    "        return \"G\"\n",
    "    #DESCOMENTING BELOW IF THE CATEGORY IS FORMULA KITE\n",
    "    # elif \"QF\" in str(soup_object):\n",
    "    #     return \"B\"\n",
    "    # elif \"SF\" in str(soup_object):\n",
    "    #     return \"P\"\n",
    "    # elif \"Final\" in str(soup_object):\n",
    "    #     return \"O\"\n",
    "    elif \"Medal\" in str(soup_object):\n",
    "        return \"MR\"\n",
    "    else:\n",
    "        return \"aa\""
   ]
  },
  {
   "cell_type": "code",
   "execution_count": 5,
   "metadata": {},
   "outputs": [],
   "source": [
    "COMPETICAO = \"World Championship 2023\"\n",
    "CATEGORIA = \"470\""
   ]
  },
  {
   "cell_type": "code",
   "execution_count": 6,
   "metadata": {},
   "outputs": [],
   "source": [
    "r = requests.get(\"https://world-sailing-api.soticcloud.net/stats/api/event/b04bd77a-378c-4737-85c6-3a740b95cdcb?include=crews.country%2Ccrews.sailors.crewRole%2Craces.raceResults.crew.country%2Craces.raceResults.crew.sailors%2Craces.raceResults.crewCompetingStatus%2Craces.status%2Ccrews.carriedWins\")\n",
    "data = r.json()\n",
    "df_data = {\n",
    "    \"Id Resultado\": [],\n",
    "    \"Id Competidor\": [],\n",
    "    \"Nome Competidor\": [],\n",
    "    \"Id Competição\": [],\n",
    "    \"Classe Vela\": [],\n",
    "    \"Pontuação Regata\": [],\n",
    "    \"Flotilha\": [],\n",
    "    \"Posição Geral\": [],\n",
    "    \"Punição\": [],\n",
    "    \"Pontuação Total\": [],\n",
    "    \"Nett\": [],\n",
    "    \"Nome Competição\": [],\n",
    "    \"Regata\": []    \n",
    "}"
   ]
  },
  {
   "cell_type": "code",
   "execution_count": 7,
   "metadata": {},
   "outputs": [],
   "source": [
    "for race in data[\"data\"][\"races\"]:\n",
    "    for result in race[\"raceResults\"]:\n",
    "        pontuacao = result[\"averagePoints\"]\n",
    "        nome = get_name(result[\"crew\"][\"_admin_name\"])\n",
    "        posicao = get_position(result[\"crew\"][\"_admin_name\"])\n",
    "        flotilha = get_flotilha(race[\"name\"])\n",
    "        totalpoints = result[\"crew\"][\"totalPoints\"]\n",
    "        net = result[\"crew\"][\"points\"]\n",
    "        flotilha = get_flotilha(race)\n",
    "        regata = race[\"name\"]\n",
    "        df_data[\"Id Resultado\"].append(None)\n",
    "        df_data[\"Id Competidor\"].append(None),\n",
    "        df_data[\"Nome Competidor\"].append(nome),\n",
    "        df_data[\"Id Competição\"].append(None),\n",
    "        df_data[\"Classe Vela\"].append(CATEGORIA),\n",
    "        df_data[\"Pontuação Regata\"].append(pontuacao),\n",
    "        df_data[\"Posição Geral\"].append(posicao),\n",
    "        df_data[\"Flotilha\"].append(flotilha)\n",
    "        df_data[\"Punição\"].append(None),\n",
    "        df_data[\"Pontuação Total\"].append(totalpoints),\n",
    "        df_data[\"Nett\"].append(net),\n",
    "        df_data[\"Nome Competição\"].append(COMPETICAO)\n",
    "        df_data[\"Regata\"].append(regata) "
   ]
  },
  {
   "cell_type": "code",
   "execution_count": 8,
   "metadata": {},
   "outputs": [
    {
     "data": {
      "text/html": [
       "<div>\n",
       "<style scoped>\n",
       "    .dataframe tbody tr th:only-of-type {\n",
       "        vertical-align: middle;\n",
       "    }\n",
       "\n",
       "    .dataframe tbody tr th {\n",
       "        vertical-align: top;\n",
       "    }\n",
       "\n",
       "    .dataframe thead th {\n",
       "        text-align: right;\n",
       "    }\n",
       "</style>\n",
       "<table border=\"1\" class=\"dataframe\">\n",
       "  <thead>\n",
       "    <tr style=\"text-align: right;\">\n",
       "      <th></th>\n",
       "      <th>Id Resultado</th>\n",
       "      <th>Id Competidor</th>\n",
       "      <th>Nome Competidor</th>\n",
       "      <th>Id Competição</th>\n",
       "      <th>Classe Vela</th>\n",
       "      <th>Pontuação Regata</th>\n",
       "      <th>Flotilha</th>\n",
       "      <th>Posição Geral</th>\n",
       "      <th>Punição</th>\n",
       "      <th>Pontuação Total</th>\n",
       "      <th>Nett</th>\n",
       "      <th>Nome Competição</th>\n",
       "      <th>Regata</th>\n",
       "    </tr>\n",
       "  </thead>\n",
       "  <tbody>\n",
       "    <tr>\n",
       "      <th>0</th>\n",
       "      <td>None</td>\n",
       "      <td>None</td>\n",
       "      <td>THAMSOONTORN/KHEMKAEW</td>\n",
       "      <td>None</td>\n",
       "      <td>470</td>\n",
       "      <td>18</td>\n",
       "      <td>G</td>\n",
       "      <td>49</td>\n",
       "      <td>None</td>\n",
       "      <td>210</td>\n",
       "      <td>181</td>\n",
       "      <td>World Championship 2023</td>\n",
       "      <td>Race 9 Silver</td>\n",
       "    </tr>\n",
       "    <tr>\n",
       "      <th>1</th>\n",
       "      <td>None</td>\n",
       "      <td>None</td>\n",
       "      <td>GIANNOULIS/GIANNOULI</td>\n",
       "      <td>None</td>\n",
       "      <td>470</td>\n",
       "      <td>32</td>\n",
       "      <td>G</td>\n",
       "      <td>58</td>\n",
       "      <td>None</td>\n",
       "      <td>258</td>\n",
       "      <td>226</td>\n",
       "      <td>World Championship 2023</td>\n",
       "      <td>Race 9 Silver</td>\n",
       "    </tr>\n",
       "    <tr>\n",
       "      <th>2</th>\n",
       "      <td>None</td>\n",
       "      <td>None</td>\n",
       "      <td>JERWOOD/NICHOLAS</td>\n",
       "      <td>None</td>\n",
       "      <td>470</td>\n",
       "      <td>10</td>\n",
       "      <td>G</td>\n",
       "      <td>36</td>\n",
       "      <td>None</td>\n",
       "      <td>135</td>\n",
       "      <td>102</td>\n",
       "      <td>World Championship 2023</td>\n",
       "      <td>Race 9 Silver</td>\n",
       "    </tr>\n",
       "    <tr>\n",
       "      <th>3</th>\n",
       "      <td>None</td>\n",
       "      <td>None</td>\n",
       "      <td>SPANAKI/SPANAKIS</td>\n",
       "      <td>None</td>\n",
       "      <td>470</td>\n",
       "      <td>2</td>\n",
       "      <td>G</td>\n",
       "      <td>48</td>\n",
       "      <td>None</td>\n",
       "      <td>211</td>\n",
       "      <td>178</td>\n",
       "      <td>World Championship 2023</td>\n",
       "      <td>Race 9 Silver</td>\n",
       "    </tr>\n",
       "    <tr>\n",
       "      <th>4</th>\n",
       "      <td>None</td>\n",
       "      <td>None</td>\n",
       "      <td>BRISTOW/TAYLOR</td>\n",
       "      <td>None</td>\n",
       "      <td>470</td>\n",
       "      <td>5</td>\n",
       "      <td>G</td>\n",
       "      <td>38</td>\n",
       "      <td>None</td>\n",
       "      <td>137</td>\n",
       "      <td>116</td>\n",
       "      <td>World Championship 2023</td>\n",
       "      <td>Race 9 Silver</td>\n",
       "    </tr>\n",
       "  </tbody>\n",
       "</table>\n",
       "</div>"
      ],
      "text/plain": [
       "  Id Resultado Id Competidor        Nome Competidor Id Competição Classe Vela  \\\n",
       "0         None          None  THAMSOONTORN/KHEMKAEW          None         470   \n",
       "1         None          None   GIANNOULIS/GIANNOULI          None         470   \n",
       "2         None          None       JERWOOD/NICHOLAS          None         470   \n",
       "3         None          None       SPANAKI/SPANAKIS          None         470   \n",
       "4         None          None         BRISTOW/TAYLOR          None         470   \n",
       "\n",
       "   Pontuação Regata Flotilha Posição Geral Punição  Pontuação Total  Nett  \\\n",
       "0                18        G            49    None              210   181   \n",
       "1                32        G            58    None              258   226   \n",
       "2                10        G            36    None              135   102   \n",
       "3                 2        G            48    None              211   178   \n",
       "4                 5        G            38    None              137   116   \n",
       "\n",
       "           Nome Competição         Regata  \n",
       "0  World Championship 2023  Race 9 Silver  \n",
       "1  World Championship 2023  Race 9 Silver  \n",
       "2  World Championship 2023  Race 9 Silver  \n",
       "3  World Championship 2023  Race 9 Silver  \n",
       "4  World Championship 2023  Race 9 Silver  "
      ]
     },
     "execution_count": 8,
     "metadata": {},
     "output_type": "execute_result"
    }
   ],
   "source": [
    "df = pd.DataFrame(df_data)\n",
    "df.head()"
   ]
  },
  {
   "cell_type": "code",
   "execution_count": 10,
   "metadata": {},
   "outputs": [],
   "source": [
    "# df.to_csv(f\"scraped-data/{COMPETICAO}{CATEGORIA}.csv\")"
   ]
  },
  {
   "cell_type": "markdown",
   "metadata": {},
   "source": [
    "## Agreggating results"
   ]
  },
  {
   "cell_type": "code",
   "execution_count": 11,
   "metadata": {},
   "outputs": [],
   "source": [
    "# import os"
   ]
  },
  {
   "cell_type": "code",
   "execution_count": 12,
   "metadata": {},
   "outputs": [],
   "source": [
    "# files = [f for f in os.listdir(\"scraped-data\") if \"World Championship 2023\" in f]"
   ]
  },
  {
   "cell_type": "code",
   "execution_count": 13,
   "metadata": {},
   "outputs": [],
   "source": [
    "# files"
   ]
  },
  {
   "cell_type": "code",
   "execution_count": 14,
   "metadata": {},
   "outputs": [],
   "source": [
    "# df_init = pd.read_csv(\"scraped-data/\"+files[0])\n",
    "# for file in files[1:]:\n",
    "#     df_init = pd.concat([df_init, pd.read_csv(\"scraped-data/\"+file)])\n",
    "# df_init.to_csv(\"scraped-data/cluster2.csv\")    "
   ]
  },
  {
   "cell_type": "code",
   "execution_count": 15,
   "metadata": {},
   "outputs": [],
   "source": [
    "# len(df_init)"
   ]
  }
 ],
 "metadata": {
  "kernelspec": {
   "display_name": "Python 3",
   "language": "python",
   "name": "python3"
  },
  "language_info": {
   "codemirror_mode": {
    "name": "ipython",
    "version": 3
   },
   "file_extension": ".py",
   "mimetype": "text/x-python",
   "name": "python",
   "nbconvert_exporter": "python",
   "pygments_lexer": "ipython3",
   "version": "3.12.3"
  },
  "orig_nbformat": 4
 },
 "nbformat": 4,
 "nbformat_minor": 2
}
