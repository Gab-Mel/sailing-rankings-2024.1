{
 "cells": [
  {
   "cell_type": "code",
   "execution_count": 1,
   "metadata": {},
   "outputs": [],
   "source": [
    "import pandas as pd\n",
    "import numpy as np\n",
    "import unidecode\n",
    "import Levenshtein"
   ]
  },
  {
   "cell_type": "code",
   "execution_count": 2,
   "metadata": {},
   "outputs": [],
   "source": [
    "df_tratado = pd.read_excel('../../dados_finais_2024/final_data.xlsx', sheet_name='Súmulas')\n",
    "df_nomes = pd.read_csv('../../scrapers/cleaned_data_2024/final_data_regata.csv', low_memory=False)"
   ]
  },
  {
   "cell_type": "code",
   "execution_count": 3,
   "metadata": {},
   "outputs": [
    {
     "data": {
      "text/plain": [
       "Index(['ID Resultado', 'ID Competidor', 'Nome Competidor', 'ID Competição',\n",
       "       'Classe Vela', 'Pontuação Regata', 'Descarte', 'Flotilha',\n",
       "       'Posição Geral', 'Punição', 'Pontuação Total', 'Nett',\n",
       "       'Nome Competição', 'Regata'],\n",
       "      dtype='object')"
      ]
     },
     "execution_count": 3,
     "metadata": {},
     "output_type": "execute_result"
    }
   ],
   "source": [
    "df_tratado.columns"
   ]
  },
  {
   "cell_type": "code",
   "execution_count": 4,
   "metadata": {},
   "outputs": [
    {
     "data": {
      "text/html": [
       "<div>\n",
       "<style scoped>\n",
       "    .dataframe tbody tr th:only-of-type {\n",
       "        vertical-align: middle;\n",
       "    }\n",
       "\n",
       "    .dataframe tbody tr th {\n",
       "        vertical-align: top;\n",
       "    }\n",
       "\n",
       "    .dataframe thead th {\n",
       "        text-align: right;\n",
       "    }\n",
       "</style>\n",
       "<table border=\"1\" class=\"dataframe\">\n",
       "  <thead>\n",
       "    <tr style=\"text-align: right;\">\n",
       "      <th></th>\n",
       "      <th>ID Resultado</th>\n",
       "      <th>ID Competidor</th>\n",
       "      <th>Nome Competidor</th>\n",
       "      <th>ID Competição</th>\n",
       "      <th>Classe Vela</th>\n",
       "      <th>Pontuação Regata</th>\n",
       "      <th>Descarte</th>\n",
       "      <th>Flotilha</th>\n",
       "      <th>Posição Geral</th>\n",
       "      <th>Punição</th>\n",
       "      <th>Pontuação Total</th>\n",
       "      <th>Nett</th>\n",
       "      <th>Nome Competição</th>\n",
       "      <th>Regata</th>\n",
       "    </tr>\n",
       "  </thead>\n",
       "  <tbody>\n",
       "    <tr>\n",
       "      <th>0</th>\n",
       "      <td>1</td>\n",
       "      <td>1</td>\n",
       "      <td>WILLIAM JONES, EVAN DEPAUL</td>\n",
       "      <td>17.0</td>\n",
       "      <td>49ER</td>\n",
       "      <td>11</td>\n",
       "      <td>1</td>\n",
       "      <td>GERAL</td>\n",
       "      <td>1</td>\n",
       "      <td>UFD</td>\n",
       "      <td>44.0</td>\n",
       "      <td>33.0</td>\n",
       "      <td>World Championship 2017</td>\n",
       "      <td>NaN</td>\n",
       "    </tr>\n",
       "    <tr>\n",
       "      <th>1</th>\n",
       "      <td>2</td>\n",
       "      <td>2</td>\n",
       "      <td>DOMINIK BUKSAK, SZYMON WIERZBICKI</td>\n",
       "      <td>7.0</td>\n",
       "      <td>49ER</td>\n",
       "      <td>3</td>\n",
       "      <td>0</td>\n",
       "      <td>GERAL</td>\n",
       "      <td>1</td>\n",
       "      <td>NaN</td>\n",
       "      <td>89.0</td>\n",
       "      <td>66.0</td>\n",
       "      <td>Semaine Olympique Francaise De Voile 2022</td>\n",
       "      <td>NaN</td>\n",
       "    </tr>\n",
       "  </tbody>\n",
       "</table>\n",
       "</div>"
      ],
      "text/plain": [
       "   ID Resultado  ID Competidor                    Nome Competidor  \\\n",
       "0             1              1         WILLIAM JONES, EVAN DEPAUL   \n",
       "1             2              2  DOMINIK BUKSAK, SZYMON WIERZBICKI   \n",
       "\n",
       "   ID Competição Classe Vela Pontuação Regata  Descarte Flotilha  \\\n",
       "0           17.0        49ER               11         1    GERAL   \n",
       "1            7.0        49ER                3         0    GERAL   \n",
       "\n",
       "   Posição Geral Punição  Pontuação Total  Nett  \\\n",
       "0              1     UFD             44.0  33.0   \n",
       "1              1     NaN             89.0  66.0   \n",
       "\n",
       "                             Nome Competição Regata  \n",
       "0                    World Championship 2017    NaN  \n",
       "1  Semaine Olympique Francaise De Voile 2022    NaN  "
      ]
     },
     "execution_count": 4,
     "metadata": {},
     "output_type": "execute_result"
    }
   ],
   "source": [
    "df_tratado.head(2)"
   ]
  },
  {
   "cell_type": "code",
   "execution_count": 5,
   "metadata": {},
   "outputs": [
    {
     "data": {
      "text/plain": [
       "Index(['ID Resultado', 'ID Competidor', 'Nome Competidor', 'ID Competição',\n",
       "       'Classe Vela', 'Pontuação Regata', 'Descarte', 'Flotilha',\n",
       "       'Posição Geral', 'Punição', 'Pontuação Total', 'Nett',\n",
       "       'Nome Competição', 'Regata', 'Nacionalidade'],\n",
       "      dtype='object')"
      ]
     },
     "execution_count": 5,
     "metadata": {},
     "output_type": "execute_result"
    }
   ],
   "source": [
    "df_nomes.columns"
   ]
  },
  {
   "cell_type": "code",
   "execution_count": 6,
   "metadata": {},
   "outputs": [
    {
     "data": {
      "text/html": [
       "<div>\n",
       "<style scoped>\n",
       "    .dataframe tbody tr th:only-of-type {\n",
       "        vertical-align: middle;\n",
       "    }\n",
       "\n",
       "    .dataframe tbody tr th {\n",
       "        vertical-align: top;\n",
       "    }\n",
       "\n",
       "    .dataframe thead th {\n",
       "        text-align: right;\n",
       "    }\n",
       "</style>\n",
       "<table border=\"1\" class=\"dataframe\">\n",
       "  <thead>\n",
       "    <tr style=\"text-align: right;\">\n",
       "      <th></th>\n",
       "      <th>ID Resultado</th>\n",
       "      <th>ID Competidor</th>\n",
       "      <th>Nome Competidor</th>\n",
       "      <th>ID Competição</th>\n",
       "      <th>Classe Vela</th>\n",
       "      <th>Pontuação Regata</th>\n",
       "      <th>Descarte</th>\n",
       "      <th>Flotilha</th>\n",
       "      <th>Posição Geral</th>\n",
       "      <th>Punição</th>\n",
       "      <th>Pontuação Total</th>\n",
       "      <th>Nett</th>\n",
       "      <th>Nome Competição</th>\n",
       "      <th>Regata</th>\n",
       "      <th>Nacionalidade</th>\n",
       "    </tr>\n",
       "  </thead>\n",
       "  <tbody>\n",
       "    <tr>\n",
       "      <th>0</th>\n",
       "      <td>1</td>\n",
       "      <td>3502</td>\n",
       "      <td>MINA MOBEKK</td>\n",
       "      <td>19</td>\n",
       "      <td>IQFOIL FEM.</td>\n",
       "      <td>15.0</td>\n",
       "      <td>0</td>\n",
       "      <td>NaN</td>\n",
       "      <td>1</td>\n",
       "      <td>0</td>\n",
       "      <td>207</td>\n",
       "      <td>116</td>\n",
       "      <td>European Championship 2023</td>\n",
       "      <td>1Q</td>\n",
       "      <td>NOR</td>\n",
       "    </tr>\n",
       "    <tr>\n",
       "      <th>1</th>\n",
       "      <td>2</td>\n",
       "      <td>3502</td>\n",
       "      <td>MINA MOBEKK</td>\n",
       "      <td>19</td>\n",
       "      <td>IQFOIL FEM.</td>\n",
       "      <td>2.0</td>\n",
       "      <td>0</td>\n",
       "      <td>NaN</td>\n",
       "      <td>1</td>\n",
       "      <td>0</td>\n",
       "      <td>207</td>\n",
       "      <td>116</td>\n",
       "      <td>European Championship 2023</td>\n",
       "      <td>2Q</td>\n",
       "      <td>NOR</td>\n",
       "    </tr>\n",
       "  </tbody>\n",
       "</table>\n",
       "</div>"
      ],
      "text/plain": [
       "   ID Resultado  ID Competidor Nome Competidor  ID Competição  Classe Vela  \\\n",
       "0             1           3502     MINA MOBEKK             19  IQFOIL FEM.   \n",
       "1             2           3502     MINA MOBEKK             19  IQFOIL FEM.   \n",
       "\n",
       "  Pontuação Regata Descarte Flotilha Posição Geral Punição Pontuação Total  \\\n",
       "0             15.0        0      NaN             1       0             207   \n",
       "1              2.0        0      NaN             1       0             207   \n",
       "\n",
       "  Nett             Nome Competição Regata Nacionalidade  \n",
       "0  116  European Championship 2023     1Q           NOR  \n",
       "1  116  European Championship 2023     2Q           NOR  "
      ]
     },
     "execution_count": 6,
     "metadata": {},
     "output_type": "execute_result"
    }
   ],
   "source": [
    "df_nomes.head(2)"
   ]
  },
  {
   "cell_type": "code",
   "execution_count": 7,
   "metadata": {},
   "outputs": [],
   "source": [
    "df_nomes['Nome Competidor'] = df_nomes['Nome Competidor'].apply(lambda x: unidecode.unidecode(x).upper())\n",
    "df_tratado['Nome Competidor'] = df_tratado['Nome Competidor'].apply(lambda x: unidecode.unidecode(x).upper())"
   ]
  },
  {
   "cell_type": "code",
   "execution_count": 8,
   "metadata": {},
   "outputs": [
    {
     "name": "stdout",
     "output_type": "stream",
     "text": [
      "European Championship 2021 - Gold Fleet & Medal Race\n",
      "European Championship 2021 - Silver Fleet\n",
      "European Championship 2023 - Bronze Fleet\n",
      "European Championship 2023 - Gold Fleet\n",
      "European Championship 2023 - Silver Fleet\n"
     ]
    }
   ],
   "source": [
    "competicoes_tratadas = df_tratado['Nome Competição'].unique()\n",
    "competicoes_sujas = df_nomes['Nome Competição'].unique()\n",
    "for competicao in competicoes_sujas:\n",
    "    if competicao not in competicoes_tratadas:\n",
    "        print(competicao)"
   ]
  },
  {
   "cell_type": "code",
   "execution_count": 9,
   "metadata": {},
   "outputs": [
    {
     "name": "stderr",
     "output_type": "stream",
     "text": [
      "C:\\Users\\silla\\AppData\\Local\\Temp\\ipykernel_4504\\1998865097.py:3: FutureWarning: Setting an item of incompatible dtype is deprecated and will raise an error in a future version of pandas. Value 'European Championship 2021' has dtype incompatible with int64, please explicitly cast to a compatible dtype first.\n",
      "  df_nomes[df_nomes['Nome Competição'] == competicao] = str(competicao).split(' - ')[0].strip()\n",
      "C:\\Users\\silla\\AppData\\Local\\Temp\\ipykernel_4504\\1998865097.py:3: FutureWarning: Setting an item of incompatible dtype is deprecated and will raise an error in a future version of pandas. Value 'European Championship 2021' has dtype incompatible with int64, please explicitly cast to a compatible dtype first.\n",
      "  df_nomes[df_nomes['Nome Competição'] == competicao] = str(competicao).split(' - ')[0].strip()\n",
      "C:\\Users\\silla\\AppData\\Local\\Temp\\ipykernel_4504\\1998865097.py:3: FutureWarning: Setting an item of incompatible dtype is deprecated and will raise an error in a future version of pandas. Value 'European Championship 2021' has dtype incompatible with int64, please explicitly cast to a compatible dtype first.\n",
      "  df_nomes[df_nomes['Nome Competição'] == competicao] = str(competicao).split(' - ')[0].strip()\n"
     ]
    }
   ],
   "source": [
    "for competicao in df_nomes['Nome Competição'].unique():\n",
    "    if competicao not in df_tratado['Nome Competição'].unique():\n",
    "        df_nomes[df_nomes['Nome Competição'] == competicao] = str(competicao).split(' - ')[0].strip()"
   ]
  },
  {
   "cell_type": "code",
   "execution_count": 10,
   "metadata": {},
   "outputs": [],
   "source": [
    "competicoes_tratadas = df_tratado['Nome Competição'].unique()\n",
    "competicoes_sujas = df_nomes['Nome Competição'].unique()\n",
    "for competicao in competicoes_sujas:\n",
    "    if competicao not in competicoes_tratadas:\n",
    "        print(competicao)"
   ]
  },
  {
   "cell_type": "code",
   "execution_count": 11,
   "metadata": {},
   "outputs": [],
   "source": [
    "nomes_tratados = pd.DataFrame()\n",
    "nomes_tratados['Concat'] = pd.unique(df_tratado['Nome Competidor'] + \" % \" + df_tratado['Nome Competição'])\n",
    "nomes_tratados['Nome Competidor'] = nomes_tratados['Concat'].apply(lambda x: x.split('%')[0].strip())\n",
    "nomes_tratados['Nome Competição'] = nomes_tratados['Concat'].apply(lambda x: x.split('%')[1].strip())\n",
    "nomes_tratados.drop(columns=['Concat'], inplace=True)"
   ]
  },
  {
   "cell_type": "code",
   "execution_count": 12,
   "metadata": {},
   "outputs": [],
   "source": [
    "nomes_sujos = pd.DataFrame()\n",
    "nomes_sujos['Concat'] = pd.unique(df_nomes['Nome Competidor'] + \" % \" + df_nomes['Nome Competição'])\n",
    "nomes_sujos['Nome Competidor'] = nomes_sujos['Concat'].apply(lambda x: x.split('%')[0].strip())\n",
    "nomes_sujos['Nome Competição'] = nomes_sujos['Concat'].apply(lambda x: x.split('%')[1].strip())\n",
    "nomes_sujos.drop(columns=['Concat'], inplace=True)"
   ]
  },
  {
   "cell_type": "code",
   "execution_count": 24,
   "metadata": {},
   "outputs": [],
   "source": [
    "nomes_sujos['Match'] = ''\n",
    "nomes_sujos['Score'] = 1000\n",
    "for i, sujo in nomes_sujos.iterrows():\n",
    "    competicao = sujo['Nome Competição']\n",
    "    nome = sujo['Nome Competidor']\n",
    "    nomes_1 = nome.split(' ')\n",
    "\n",
    "    best_score = 1000\n",
    "    best_match = nome\n",
    "\n",
    "    for name_ in nomes_tratados[nomes_tratados['Nome Competição'] == competicao]['Nome Competidor']:\n",
    "        names_2 = name_.split(' ')\n",
    "        score = 0\n",
    "\n",
    "        for n1 in nomes_1:\n",
    "            best = 1000\n",
    "            for n2 in names_2:\n",
    "                score_ = Levenshtein.distance(n1, n2)\n",
    "                if score_ < best:\n",
    "                    best = score_\n",
    "            score += best\n",
    "\n",
    "        if score < best_score:\n",
    "            best_score = score\n",
    "            best_match = name_\n",
    "    \n",
    "    nomes_sujos.at[i, 'Match'] = best_match\n",
    "    nomes_sujos.at[i, 'Score'] = best_score"
   ]
  },
  {
   "cell_type": "code",
   "execution_count": 32,
   "metadata": {},
   "outputs": [
    {
     "data": {
      "text/html": [
       "<div>\n",
       "<style scoped>\n",
       "    .dataframe tbody tr th:only-of-type {\n",
       "        vertical-align: middle;\n",
       "    }\n",
       "\n",
       "    .dataframe tbody tr th {\n",
       "        vertical-align: top;\n",
       "    }\n",
       "\n",
       "    .dataframe thead th {\n",
       "        text-align: right;\n",
       "    }\n",
       "</style>\n",
       "<table border=\"1\" class=\"dataframe\">\n",
       "  <thead>\n",
       "    <tr style=\"text-align: right;\">\n",
       "      <th></th>\n",
       "      <th>Nome Competidor</th>\n",
       "      <th>Nome Competição</th>\n",
       "      <th>Match</th>\n",
       "      <th>Score</th>\n",
       "    </tr>\n",
       "  </thead>\n",
       "  <tbody>\n",
       "    <tr>\n",
       "      <th>352</th>\n",
       "      <td>PAUL LABORDI RE</td>\n",
       "      <td>Semaine Olympique Francaise De Voile 2022</td>\n",
       "      <td>PAUL LABORDERE</td>\n",
       "      <td>7</td>\n",
       "    </tr>\n",
       "    <tr>\n",
       "      <th>430</th>\n",
       "      <td>ZOFIA NOCETI-KLEPACKA</td>\n",
       "      <td>Semaine Olympique Francaise De Voile 2022</td>\n",
       "      <td>ZOFIA NOCETI KLEPACKA</td>\n",
       "      <td>7</td>\n",
       "    </tr>\n",
       "    <tr>\n",
       "      <th>489</th>\n",
       "      <td>OLEKSANDR MENDELENKO</td>\n",
       "      <td>Semaine Olympique Francaise De Voile 2022</td>\n",
       "      <td>WIEBRAND DE VOS, ALEKSANDR MOLIAKOV</td>\n",
       "      <td>8</td>\n",
       "    </tr>\n",
       "    <tr>\n",
       "      <th>496</th>\n",
       "      <td>BUKSAK, DOMINIK / KSAWZISE RAZWBIFICSK IG,DS.Z...</td>\n",
       "      <td>Semaine Olympique Francaise De Voile 2022</td>\n",
       "      <td>DOMINIK BUKSAK, SZYMON WIERZBICKI</td>\n",
       "      <td>30</td>\n",
       "    </tr>\n",
       "    <tr>\n",
       "      <th>497</th>\n",
       "      <td>OSPOZNAN\\r\\nSANGONEWS, E,N EMVAINXIMILIANO</td>\n",
       "      <td>Semaine Olympique Francaise De Voile 2022</td>\n",
       "      <td>MAXIMILIANO AGNESE, NEVIN SNOW</td>\n",
       "      <td>22</td>\n",
       "    </tr>\n",
       "    <tr>\n",
       "      <th>...</th>\n",
       "      <td>...</td>\n",
       "      <td>...</td>\n",
       "      <td>...</td>\n",
       "      <td>...</td>\n",
       "    </tr>\n",
       "    <tr>\n",
       "      <th>8106</th>\n",
       "      <td>ADRIANA\\r\\n  PENRUDDOCKE</td>\n",
       "      <td>World Championship 2020</td>\n",
       "      <td>ADRIANA PENRUDDOCKE</td>\n",
       "      <td>9</td>\n",
       "    </tr>\n",
       "    <tr>\n",
       "      <th>8116</th>\n",
       "      <td>KAMOLWAN\\r\\n  CHANYIM</td>\n",
       "      <td>World Championship 2020</td>\n",
       "      <td>KAMOLWAN CHANYIM</td>\n",
       "      <td>9</td>\n",
       "    </tr>\n",
       "    <tr>\n",
       "      <th>8118</th>\n",
       "      <td>PATRICIA\\r\\n  RAULINO</td>\n",
       "      <td>World Championship 2020</td>\n",
       "      <td>PATRICIA SUAREZ, NICOLE VAN DER VELDEN</td>\n",
       "      <td>10</td>\n",
       "    </tr>\n",
       "    <tr>\n",
       "      <th>8124</th>\n",
       "      <td>JEAN BAPTISTE BERNAZ</td>\n",
       "      <td>World Championship 2020</td>\n",
       "      <td>JEAN-BAPTISTE BERNAZ</td>\n",
       "      <td>9</td>\n",
       "    </tr>\n",
       "    <tr>\n",
       "      <th>8239</th>\n",
       "      <td>AGUSTIN VIDAL INCATASCIATO</td>\n",
       "      <td>World Championship 2020</td>\n",
       "      <td>AGUSTIN VIDAL</td>\n",
       "      <td>9</td>\n",
       "    </tr>\n",
       "  </tbody>\n",
       "</table>\n",
       "<p>657 rows × 4 columns</p>\n",
       "</div>"
      ],
      "text/plain": [
       "                                        Nome Competidor  \\\n",
       "352                                     PAUL LABORDI RE   \n",
       "430                               ZOFIA NOCETI-KLEPACKA   \n",
       "489                                OLEKSANDR MENDELENKO   \n",
       "496   BUKSAK, DOMINIK / KSAWZISE RAZWBIFICSK IG,DS.Z...   \n",
       "497          OSPOZNAN\\r\\nSANGONEWS, E,N EMVAINXIMILIANO   \n",
       "...                                                 ...   \n",
       "8106                           ADRIANA\\r\\n  PENRUDDOCKE   \n",
       "8116                              KAMOLWAN\\r\\n  CHANYIM   \n",
       "8118                              PATRICIA\\r\\n  RAULINO   \n",
       "8124                               JEAN BAPTISTE BERNAZ   \n",
       "8239                         AGUSTIN VIDAL INCATASCIATO   \n",
       "\n",
       "                                Nome Competição  \\\n",
       "352   Semaine Olympique Francaise De Voile 2022   \n",
       "430   Semaine Olympique Francaise De Voile 2022   \n",
       "489   Semaine Olympique Francaise De Voile 2022   \n",
       "496   Semaine Olympique Francaise De Voile 2022   \n",
       "497   Semaine Olympique Francaise De Voile 2022   \n",
       "...                                         ...   \n",
       "8106                    World Championship 2020   \n",
       "8116                    World Championship 2020   \n",
       "8118                    World Championship 2020   \n",
       "8124                    World Championship 2020   \n",
       "8239                    World Championship 2020   \n",
       "\n",
       "                                       Match  Score  \n",
       "352                           PAUL LABORDERE      7  \n",
       "430                    ZOFIA NOCETI KLEPACKA      7  \n",
       "489      WIEBRAND DE VOS, ALEKSANDR MOLIAKOV      8  \n",
       "496        DOMINIK BUKSAK, SZYMON WIERZBICKI     30  \n",
       "497           MAXIMILIANO AGNESE, NEVIN SNOW     22  \n",
       "...                                      ...    ...  \n",
       "8106                     ADRIANA PENRUDDOCKE      9  \n",
       "8116                        KAMOLWAN CHANYIM      9  \n",
       "8118  PATRICIA SUAREZ, NICOLE VAN DER VELDEN     10  \n",
       "8124                    JEAN-BAPTISTE BERNAZ      9  \n",
       "8239                           AGUSTIN VIDAL      9  \n",
       "\n",
       "[657 rows x 4 columns]"
      ]
     },
     "execution_count": 32,
     "metadata": {},
     "output_type": "execute_result"
    }
   ],
   "source": [
    "nomes_sujos[nomes_sujos['Score'] > 6]"
   ]
  },
  {
   "cell_type": "code",
   "execution_count": null,
   "metadata": {},
   "outputs": [],
   "source": []
  }
 ],
 "metadata": {
  "kernelspec": {
   "display_name": ".venv",
   "language": "python",
   "name": "python3"
  },
  "language_info": {
   "codemirror_mode": {
    "name": "ipython",
    "version": 3
   },
   "file_extension": ".py",
   "mimetype": "text/x-python",
   "name": "python",
   "nbconvert_exporter": "python",
   "pygments_lexer": "ipython3",
   "version": "3.12.3"
  }
 },
 "nbformat": 4,
 "nbformat_minor": 2
}
