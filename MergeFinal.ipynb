{
 "cells": [
  {
   "cell_type": "code",
   "execution_count": 1,
   "metadata": {},
   "outputs": [],
   "source": [
    "import pandas as pd"
   ]
  },
  {
   "cell_type": "markdown",
   "metadata": {},
   "source": [
    "#### Importando os Dados"
   ]
  },
  {
   "cell_type": "code",
   "execution_count": 2,
   "metadata": {},
   "outputs": [],
   "source": [
    "df_final_data_sumulas = pd.read_excel(\"data/final_data_original.xlsx\", sheet_name=\"Sumulas\", index_col=None)\n",
    "df_final_data_atletas = pd.read_excel(\"atletas.xlsx\", index_col=None)\n",
    "df_final_data_competicoes = pd.read_excel(\"data/final_data_original.xlsx\", sheet_name=\"Campeonatos\", index_col=None)\n",
    "df_sumulas_novas = pd.read_csv(\"sumulas.csv\")"
   ]
  },
  {
   "cell_type": "code",
   "execution_count": 3,
   "metadata": {},
   "outputs": [
    {
     "data": {
      "text/plain": [
       "(136618, 14)"
      ]
     },
     "execution_count": 3,
     "metadata": {},
     "output_type": "execute_result"
    }
   ],
   "source": [
    "df_final_data_sumulas.shape"
   ]
  },
  {
   "cell_type": "markdown",
   "metadata": {},
   "source": [
    "#### Tirando Coluna Problemática"
   ]
  },
  {
   "cell_type": "code",
   "execution_count": 4,
   "metadata": {},
   "outputs": [],
   "source": [
    "df_final_data_sumulas.drop(df_final_data_sumulas.columns[0], axis=1, inplace=True)\n",
    "df_final_data_atletas.drop(df_final_data_atletas.columns[0], axis=1, inplace=True)\n",
    "df_final_data_competicoes.drop(df_final_data_competicoes.columns[0], axis=1, inplace=True)"
   ]
  },
  {
   "cell_type": "markdown",
   "metadata": {},
   "source": [
    "#### Verificando Colunas"
   ]
  },
  {
   "cell_type": "code",
   "execution_count": 5,
   "metadata": {},
   "outputs": [
    {
     "data": {
      "text/plain": [
       "Index(['ID Resultado', 'ID Competidor', 'Nome Competidor', 'ID Competição',\n",
       "       'Classe Vela', 'Pontuação Regata', 'Descarte', 'Flotilha',\n",
       "       'Posição Geral', 'Punição', 'Pontuação Total', 'Nett',\n",
       "       'Nome Competição'],\n",
       "      dtype='object')"
      ]
     },
     "execution_count": 5,
     "metadata": {},
     "output_type": "execute_result"
    }
   ],
   "source": [
    "df_final_data_sumulas.columns"
   ]
  },
  {
   "cell_type": "code",
   "execution_count": 6,
   "metadata": {},
   "outputs": [
    {
     "data": {
      "text/plain": [
       "Index(['Nome Competidor', 'ID Competidor'], dtype='object')"
      ]
     },
     "execution_count": 6,
     "metadata": {},
     "output_type": "execute_result"
    }
   ],
   "source": [
    "df_final_data_atletas.columns"
   ]
  },
  {
   "cell_type": "code",
   "execution_count": 7,
   "metadata": {},
   "outputs": [
    {
     "data": {
      "text/plain": [
       "Index(['ID Competição', 'Nome Competição'], dtype='object')"
      ]
     },
     "execution_count": 7,
     "metadata": {},
     "output_type": "execute_result"
    }
   ],
   "source": [
    "df_final_data_competicoes.columns"
   ]
  },
  {
   "cell_type": "code",
   "execution_count": 8,
   "metadata": {},
   "outputs": [
    {
     "data": {
      "text/plain": [
       "Index(['Identificador', 'Nome Competição', 'Regata', 'Nome Competidor',\n",
       "       'Pontuação Regata (Nha)', 'Classe Vela', 'Flag Name', 'Posição Geral',\n",
       "       'ID Competição', 'Descarte', 'Flotilha', 'Punição', 'Total', 'Net',\n",
       "       'Pontuação Regata'],\n",
       "      dtype='object')"
      ]
     },
     "execution_count": 8,
     "metadata": {},
     "output_type": "execute_result"
    }
   ],
   "source": [
    "df_sumulas_novas.columns"
   ]
  },
  {
   "cell_type": "markdown",
   "metadata": {},
   "source": [
    "#### Competições"
   ]
  },
  {
   "cell_type": "code",
   "execution_count": 9,
   "metadata": {},
   "outputs": [
    {
     "data": {
      "text/html": [
       "<div>\n",
       "<style scoped>\n",
       "    .dataframe tbody tr th:only-of-type {\n",
       "        vertical-align: middle;\n",
       "    }\n",
       "\n",
       "    .dataframe tbody tr th {\n",
       "        vertical-align: top;\n",
       "    }\n",
       "\n",
       "    .dataframe thead th {\n",
       "        text-align: right;\n",
       "    }\n",
       "</style>\n",
       "<table border=\"1\" class=\"dataframe\">\n",
       "  <thead>\n",
       "    <tr style=\"text-align: right;\">\n",
       "      <th></th>\n",
       "      <th>ID Competição</th>\n",
       "      <th>Nome Competição</th>\n",
       "    </tr>\n",
       "  </thead>\n",
       "  <tbody>\n",
       "    <tr>\n",
       "      <th>0</th>\n",
       "      <td>1</td>\n",
       "      <td>Central and South American Championship 2021</td>\n",
       "    </tr>\n",
       "    <tr>\n",
       "      <th>1</th>\n",
       "      <td>2</td>\n",
       "      <td>Central and South American Championship 2022</td>\n",
       "    </tr>\n",
       "    <tr>\n",
       "      <th>2</th>\n",
       "      <td>3</td>\n",
       "      <td>Central and South American Championship 2023</td>\n",
       "    </tr>\n",
       "    <tr>\n",
       "      <th>3</th>\n",
       "      <td>4</td>\n",
       "      <td>European Championship 2021</td>\n",
       "    </tr>\n",
       "    <tr>\n",
       "      <th>4</th>\n",
       "      <td>5</td>\n",
       "      <td>European Championship 2022</td>\n",
       "    </tr>\n",
       "    <tr>\n",
       "      <th>5</th>\n",
       "      <td>6</td>\n",
       "      <td>European Championship 2023</td>\n",
       "    </tr>\n",
       "    <tr>\n",
       "      <th>6</th>\n",
       "      <td>7</td>\n",
       "      <td>Semaine Olympique Francaise De Voile 2022</td>\n",
       "    </tr>\n",
       "    <tr>\n",
       "      <th>7</th>\n",
       "      <td>8</td>\n",
       "      <td>Semaine Olympique Francaise De Voile 2023</td>\n",
       "    </tr>\n",
       "    <tr>\n",
       "      <th>8</th>\n",
       "      <td>9</td>\n",
       "      <td>Trofeo S.A.R Princesa Sofia 2022</td>\n",
       "    </tr>\n",
       "    <tr>\n",
       "      <th>9</th>\n",
       "      <td>10</td>\n",
       "      <td>Trofeo S.A.R Princesa Sofia 2023</td>\n",
       "    </tr>\n",
       "    <tr>\n",
       "      <th>10</th>\n",
       "      <td>11</td>\n",
       "      <td>World Championship 2021</td>\n",
       "    </tr>\n",
       "    <tr>\n",
       "      <th>11</th>\n",
       "      <td>12</td>\n",
       "      <td>World Championship 2022</td>\n",
       "    </tr>\n",
       "    <tr>\n",
       "      <th>12</th>\n",
       "      <td>13</td>\n",
       "      <td>World Championship 2023</td>\n",
       "    </tr>\n",
       "    <tr>\n",
       "      <th>13</th>\n",
       "      <td>14</td>\n",
       "      <td>World Championship 2020</td>\n",
       "    </tr>\n",
       "    <tr>\n",
       "      <th>14</th>\n",
       "      <td>15</td>\n",
       "      <td>World Championship 2019</td>\n",
       "    </tr>\n",
       "    <tr>\n",
       "      <th>15</th>\n",
       "      <td>16</td>\n",
       "      <td>World Championship 2018</td>\n",
       "    </tr>\n",
       "    <tr>\n",
       "      <th>16</th>\n",
       "      <td>17</td>\n",
       "      <td>World Championship 2017</td>\n",
       "    </tr>\n",
       "    <tr>\n",
       "      <th>17</th>\n",
       "      <td>18</td>\n",
       "      <td>World Championship 2016</td>\n",
       "    </tr>\n",
       "    <tr>\n",
       "      <th>18</th>\n",
       "      <td>19</td>\n",
       "      <td>World Championship 2015</td>\n",
       "    </tr>\n",
       "    <tr>\n",
       "      <th>19</th>\n",
       "      <td>20</td>\n",
       "      <td>European Championship 2020</td>\n",
       "    </tr>\n",
       "    <tr>\n",
       "      <th>20</th>\n",
       "      <td>22</td>\n",
       "      <td>European Championship 2018</td>\n",
       "    </tr>\n",
       "    <tr>\n",
       "      <th>21</th>\n",
       "      <td>23</td>\n",
       "      <td>European Championship 2017</td>\n",
       "    </tr>\n",
       "    <tr>\n",
       "      <th>22</th>\n",
       "      <td>24</td>\n",
       "      <td>European Championship 2016</td>\n",
       "    </tr>\n",
       "    <tr>\n",
       "      <th>23</th>\n",
       "      <td>25</td>\n",
       "      <td>Semaine Olympique Francaise De Voile 2018</td>\n",
       "    </tr>\n",
       "    <tr>\n",
       "      <th>24</th>\n",
       "      <td>26</td>\n",
       "      <td>Semaine Olympique Francaise De Voile 2017</td>\n",
       "    </tr>\n",
       "    <tr>\n",
       "      <th>25</th>\n",
       "      <td>27</td>\n",
       "      <td>Trofeo S.A.R Princesa Sofia 2018</td>\n",
       "    </tr>\n",
       "    <tr>\n",
       "      <th>26</th>\n",
       "      <td>28</td>\n",
       "      <td>Trofeo S.A.R Princesa Sofia 2017</td>\n",
       "    </tr>\n",
       "    <tr>\n",
       "      <th>27</th>\n",
       "      <td>29</td>\n",
       "      <td>Trofeo S.A.R Princesa Sofia 2016</td>\n",
       "    </tr>\n",
       "    <tr>\n",
       "      <th>28</th>\n",
       "      <td>30</td>\n",
       "      <td>Trofeo S.A.R Princesa Sofia 2015</td>\n",
       "    </tr>\n",
       "    <tr>\n",
       "      <th>29</th>\n",
       "      <td>31</td>\n",
       "      <td>Semaine Olympique Francaise De Voile 2016</td>\n",
       "    </tr>\n",
       "    <tr>\n",
       "      <th>30</th>\n",
       "      <td>32</td>\n",
       "      <td>Semaine Olympique Francaise De Voile 2015</td>\n",
       "    </tr>\n",
       "    <tr>\n",
       "      <th>31</th>\n",
       "      <td>33</td>\n",
       "      <td>Trofeo S.A.R Princesa Sofia 2019</td>\n",
       "    </tr>\n",
       "    <tr>\n",
       "      <th>32</th>\n",
       "      <td>34</td>\n",
       "      <td>World Championship 2024</td>\n",
       "    </tr>\n",
       "    <tr>\n",
       "      <th>33</th>\n",
       "      <td>35</td>\n",
       "      <td>European Championship 2024</td>\n",
       "    </tr>\n",
       "  </tbody>\n",
       "</table>\n",
       "</div>"
      ],
      "text/plain": [
       "    ID Competição                               Nome Competição\n",
       "0               1  Central and South American Championship 2021\n",
       "1               2  Central and South American Championship 2022\n",
       "2               3  Central and South American Championship 2023\n",
       "3               4                    European Championship 2021\n",
       "4               5                    European Championship 2022\n",
       "5               6                    European Championship 2023\n",
       "6               7     Semaine Olympique Francaise De Voile 2022\n",
       "7               8     Semaine Olympique Francaise De Voile 2023\n",
       "8               9              Trofeo S.A.R Princesa Sofia 2022\n",
       "9              10              Trofeo S.A.R Princesa Sofia 2023\n",
       "10             11                       World Championship 2021\n",
       "11             12                       World Championship 2022\n",
       "12             13                       World Championship 2023\n",
       "13             14                       World Championship 2020\n",
       "14             15                       World Championship 2019\n",
       "15             16                       World Championship 2018\n",
       "16             17                       World Championship 2017\n",
       "17             18                       World Championship 2016\n",
       "18             19                       World Championship 2015\n",
       "19             20                    European Championship 2020\n",
       "20             22                    European Championship 2018\n",
       "21             23                    European Championship 2017\n",
       "22             24                    European Championship 2016\n",
       "23             25     Semaine Olympique Francaise De Voile 2018\n",
       "24             26     Semaine Olympique Francaise De Voile 2017\n",
       "25             27              Trofeo S.A.R Princesa Sofia 2018\n",
       "26             28              Trofeo S.A.R Princesa Sofia 2017\n",
       "27             29              Trofeo S.A.R Princesa Sofia 2016\n",
       "28             30              Trofeo S.A.R Princesa Sofia 2015\n",
       "29             31     Semaine Olympique Francaise De Voile 2016\n",
       "30             32     Semaine Olympique Francaise De Voile 2015\n",
       "31             33              Trofeo S.A.R Princesa Sofia 2019\n",
       "32             34                       World Championship 2024\n",
       "33             35                    European Championship 2024"
      ]
     },
     "execution_count": 9,
     "metadata": {},
     "output_type": "execute_result"
    }
   ],
   "source": [
    "df_final_data_competicoes = df_final_data_competicoes.sort_values(by=\"ID Competição\").reset_index(drop=True)\n",
    "df_final_data_competicoes.head(50)"
   ]
  },
  {
   "cell_type": "code",
   "execution_count": 10,
   "metadata": {},
   "outputs": [],
   "source": [
    "df_final_data_atletas = df_final_data_atletas.sort_values(by=\"ID Competidor\").reset_index(drop=True)\n",
    "#df_final_data_atletas.head(10)"
   ]
  },
  {
   "cell_type": "markdown",
   "metadata": {},
   "source": [
    "#### Fornecendo ID"
   ]
  },
  {
   "cell_type": "code",
   "execution_count": 11,
   "metadata": {},
   "outputs": [],
   "source": [
    "def retorna_ID_competidor(nome_atleta:str):\n",
    "    \"\"\"\n",
    "    Retorna o ID do competidor com base no nome do atleta.\n",
    "\n",
    "    Parâmetros:\n",
    "    nome_atleta (str): O nome do atleta cujo ID do competidor será retornado.\n",
    "\n",
    "    Retorna:\n",
    "    str: O ID do competidor correspondente ao nome do atleta especificado.\n",
    "\n",
    "    Exemplo:\n",
    "    >>> retorna_ID_competidor(\"DOMINIK BUKSAK, SZYMON WIERZBICKI\")\n",
    "    'ID correspondente'\n",
    "    \"\"\"\n",
    "    return df_final_data_atletas.loc[df_final_data_atletas['Nome Competidor'] == nome_atleta, 'ID Competidor'].iloc[0]"
   ]
  },
  {
   "cell_type": "code",
   "execution_count": 12,
   "metadata": {},
   "outputs": [],
   "source": [
    "def retorna_ID_competicao(nome_competicao: str):\n",
    "    \"\"\"\n",
    "    Retorna o ID da competição com base no nome da competição.\n",
    "\n",
    "    Parâmetros:\n",
    "    nome_competicao (str): O nome da competição cujo ID será retornado.\n",
    "\n",
    "    Retorna:\n",
    "    str: O ID da competição correspondente ao nome da competição especificada.\n",
    "\n",
    "    Exemplo:\n",
    "    >>> retorna_ID_competicao(\"Nome da Competição\")\n",
    "    'ID correspondente'\n",
    "    \"\"\"\n",
    "    retorno =  df_final_data_competicoes.loc[df_final_data_competicoes['Nome Competição'] == nome_competicao, 'ID Competição']\n",
    "    return retorno.iloc[0] if not retorno.empty else None\n"
   ]
  },
  {
   "cell_type": "markdown",
   "metadata": {},
   "source": [
    "#### Adicionando ID nos Novos Dados"
   ]
  },
  {
   "cell_type": "code",
   "execution_count": 13,
   "metadata": {},
   "outputs": [],
   "source": [
    "df_sumulas_novas[\"ID Competidor\"] = df_sumulas_novas[\"Nome Competidor\"].apply(retorna_ID_competidor)\n",
    "df_sumulas_novas[\"ID Competição\"] = df_sumulas_novas[\"Nome Competição\"].apply(retorna_ID_competicao)"
   ]
  },
  {
   "cell_type": "code",
   "execution_count": 14,
   "metadata": {},
   "outputs": [],
   "source": [
    "df_final_data_sumulas[\"ID Competidor\"] = df_final_data_sumulas[\"Nome Competidor\"].apply(retorna_ID_competidor)\n",
    "df_final_data_sumulas[\"ID Competição\"] = df_final_data_sumulas[\"Nome Competição\"].apply(retorna_ID_competicao)"
   ]
  },
  {
   "cell_type": "markdown",
   "metadata": {},
   "source": [
    "#### Tratando as Flotilhas"
   ]
  },
  {
   "cell_type": "code",
   "execution_count": 15,
   "metadata": {},
   "outputs": [
    {
     "data": {
      "text/plain": [
       "Flotilha\n",
       "GERAL         20900\n",
       "MEDAL RACE      628\n",
       "Name: count, dtype: int64"
      ]
     },
     "execution_count": 15,
     "metadata": {},
     "output_type": "execute_result"
    }
   ],
   "source": [
    "df_sumulas_novas[\"Flotilha\"].value_counts()"
   ]
  },
  {
   "cell_type": "code",
   "execution_count": 16,
   "metadata": {},
   "outputs": [
    {
     "data": {
      "text/plain": [
       "Flag Name\n",
       "OVER      10161\n",
       "Silver     1794\n",
       "Gold       1728\n",
       "Bronze      935\n",
       "Name: count, dtype: int64"
      ]
     },
     "execution_count": 16,
     "metadata": {},
     "output_type": "execute_result"
    }
   ],
   "source": [
    "df_sumulas_novas[df_sumulas_novas.columns[6]].value_counts()"
   ]
  },
  {
   "cell_type": "code",
   "execution_count": 17,
   "metadata": {},
   "outputs": [],
   "source": [
    "mask = df_sumulas_novas[\"Flag Name\"].isin([\"Gold\", \"Silver\", \"Bronze\"])\n",
    "\n",
    "mapeamento = {\"Gold\": \"OURO\", \"Silver\": \"PRATA\", \"Bronze\": \"BRONZE\"}\n",
    "\n",
    "df_sumulas_novas.loc[mask, \"Flotilha\"] = df_sumulas_novas.loc[mask, \"Flag Name\"].map(mapeamento)"
   ]
  },
  {
   "cell_type": "code",
   "execution_count": 18,
   "metadata": {},
   "outputs": [
    {
     "data": {
      "text/plain": [
       "Flotilha\n",
       "GERAL         16553\n",
       "PRATA          1794\n",
       "OURO           1728\n",
       "BRONZE          935\n",
       "MEDAL RACE      518\n",
       "Name: count, dtype: int64"
      ]
     },
     "execution_count": 18,
     "metadata": {},
     "output_type": "execute_result"
    }
   ],
   "source": [
    "df_sumulas_novas[\"Flotilha\"].value_counts()"
   ]
  },
  {
   "cell_type": "markdown",
   "metadata": {},
   "source": [
    "#### Arrumando as Colunas"
   ]
  },
  {
   "cell_type": "code",
   "execution_count": 19,
   "metadata": {},
   "outputs": [
    {
     "data": {
      "text/plain": [
       "Index(['ID Resultado', 'ID Competidor', 'Nome Competidor', 'ID Competição',\n",
       "       'Classe Vela', 'Pontuação Regata', 'Descarte', 'Flotilha',\n",
       "       'Posição Geral', 'Punição', 'Pontuação Total', 'Nett',\n",
       "       'Nome Competição'],\n",
       "      dtype='object')"
      ]
     },
     "execution_count": 19,
     "metadata": {},
     "output_type": "execute_result"
    }
   ],
   "source": [
    "df_final_data_sumulas.columns"
   ]
  },
  {
   "cell_type": "code",
   "execution_count": 20,
   "metadata": {},
   "outputs": [
    {
     "data": {
      "text/plain": [
       "Total\n",
       "0.0      6910\n",
       "225.0     102\n",
       "321.0     101\n",
       "570.0     101\n",
       "204.0      96\n",
       "         ... \n",
       "32.0        7\n",
       "43.0        7\n",
       "111.0       7\n",
       "51.0        7\n",
       "75.0        7\n",
       "Name: count, Length: 516, dtype: int64"
      ]
     },
     "execution_count": 20,
     "metadata": {},
     "output_type": "execute_result"
    }
   ],
   "source": [
    "df_sumulas_novas.columns\n",
    "df_sumulas_novas[\"Total\"].value_counts()"
   ]
  },
  {
   "cell_type": "code",
   "execution_count": 26,
   "metadata": {},
   "outputs": [
    {
     "data": {
      "text/plain": [
       "Index(['Nome Competição', 'Nome Competidor', 'Classe Vela', 'Posição Geral',\n",
       "       'ID Competição', 'Pontuação Regata', 'Descarte', 'Flotilha', 'Punição',\n",
       "       'Pontuação Total', 'Nett', 'Pontuação Total', 'Nett', 'ID Competidor'],\n",
       "      dtype='object')"
      ]
     },
     "execution_count": 26,
     "metadata": {},
     "output_type": "execute_result"
    }
   ],
   "source": [
    "df_sumulas_novas = df_sumulas_novas.rename(columns={'Total': 'Pontuação Total', \"Net\":\"Nett\"})\n",
    "df_sumulas_novas.columns"
   ]
  },
  {
   "cell_type": "code",
   "execution_count": 22,
   "metadata": {},
   "outputs": [
    {
     "data": {
      "text/plain": [
       "Index(['Nome Competição', 'Nome Competidor', 'Classe Vela', 'Posição Geral',\n",
       "       'ID Competição', 'Descarte', 'Flotilha', 'Punição', 'Pontuação Total',\n",
       "       'Nett', 'Pontuação Regata', 'ID Competidor'],\n",
       "      dtype='object')"
      ]
     },
     "execution_count": 22,
     "metadata": {},
     "output_type": "execute_result"
    }
   ],
   "source": [
    "colunas_extras = [\"Identificador\", \"Regata\", \"Pontuação Regata (Nha)\", \"Flag Name\"]\n",
    "df_sumulas_novas = df_sumulas_novas.drop(columns=colunas_extras)\n",
    "df_sumulas_novas.columns"
   ]
  },
  {
   "cell_type": "code",
   "execution_count": 23,
   "metadata": {},
   "outputs": [
    {
     "data": {
      "text/html": [
       "<div>\n",
       "<style scoped>\n",
       "    .dataframe tbody tr th:only-of-type {\n",
       "        vertical-align: middle;\n",
       "    }\n",
       "\n",
       "    .dataframe tbody tr th {\n",
       "        vertical-align: top;\n",
       "    }\n",
       "\n",
       "    .dataframe thead th {\n",
       "        text-align: right;\n",
       "    }\n",
       "</style>\n",
       "<table border=\"1\" class=\"dataframe\">\n",
       "  <thead>\n",
       "    <tr style=\"text-align: right;\">\n",
       "      <th></th>\n",
       "      <th>Pontuação Total</th>\n",
       "      <th>Pontuação Total</th>\n",
       "    </tr>\n",
       "  </thead>\n",
       "  <tbody>\n",
       "    <tr>\n",
       "      <th>0</th>\n",
       "      <td>162.0</td>\n",
       "      <td>162.0</td>\n",
       "    </tr>\n",
       "    <tr>\n",
       "      <th>1</th>\n",
       "      <td>165.0</td>\n",
       "      <td>165.0</td>\n",
       "    </tr>\n",
       "    <tr>\n",
       "      <th>2</th>\n",
       "      <td>189.0</td>\n",
       "      <td>189.0</td>\n",
       "    </tr>\n",
       "    <tr>\n",
       "      <th>3</th>\n",
       "      <td>207.0</td>\n",
       "      <td>207.0</td>\n",
       "    </tr>\n",
       "    <tr>\n",
       "      <th>4</th>\n",
       "      <td>204.0</td>\n",
       "      <td>204.0</td>\n",
       "    </tr>\n",
       "    <tr>\n",
       "      <th>...</th>\n",
       "      <td>...</td>\n",
       "      <td>...</td>\n",
       "    </tr>\n",
       "    <tr>\n",
       "      <th>21523</th>\n",
       "      <td>0.0</td>\n",
       "      <td>0.0</td>\n",
       "    </tr>\n",
       "    <tr>\n",
       "      <th>21524</th>\n",
       "      <td>0.0</td>\n",
       "      <td>0.0</td>\n",
       "    </tr>\n",
       "    <tr>\n",
       "      <th>21525</th>\n",
       "      <td>0.0</td>\n",
       "      <td>0.0</td>\n",
       "    </tr>\n",
       "    <tr>\n",
       "      <th>21526</th>\n",
       "      <td>0.0</td>\n",
       "      <td>0.0</td>\n",
       "    </tr>\n",
       "    <tr>\n",
       "      <th>21527</th>\n",
       "      <td>0.0</td>\n",
       "      <td>0.0</td>\n",
       "    </tr>\n",
       "  </tbody>\n",
       "</table>\n",
       "<p>21528 rows × 2 columns</p>\n",
       "</div>"
      ],
      "text/plain": [
       "       Pontuação Total  Pontuação Total\n",
       "0                162.0            162.0\n",
       "1                165.0            165.0\n",
       "2                189.0            189.0\n",
       "3                207.0            207.0\n",
       "4                204.0            204.0\n",
       "...                ...              ...\n",
       "21523              0.0              0.0\n",
       "21524              0.0              0.0\n",
       "21525              0.0              0.0\n",
       "21526              0.0              0.0\n",
       "21527              0.0              0.0\n",
       "\n",
       "[21528 rows x 2 columns]"
      ]
     },
     "execution_count": 23,
     "metadata": {},
     "output_type": "execute_result"
    }
   ],
   "source": [
    "ordem_colunas = ['Nome Competição', 'Nome Competidor', 'Classe Vela', \n",
    "                  'Posição Geral','ID Competição',\n",
    "                  'Pontuação Regata', 'Descarte', 'Flotilha',\n",
    "                  'Punição', 'Pontuação Total', 'Nett', 'ID Competidor'\n",
    "                 ]\n",
    "\n",
    "df_sumulas_novas = df_sumulas_novas.reindex(columns=ordem_colunas)\n",
    "df_sumulas_novas.columns\n",
    "df_sumulas_novas[\"Pontuação Total\"]"
   ]
  },
  {
   "cell_type": "code",
   "execution_count": 24,
   "metadata": {},
   "outputs": [
    {
     "data": {
      "text/plain": [
       "Index(['ID Competidor', 'Nome Competidor', 'ID Competição', 'Classe Vela',\n",
       "       'Pontuação Regata', 'Descarte', 'Flotilha', 'Posição Geral', 'Punição',\n",
       "       'Pontuação Total', 'Nett', 'Nome Competição'],\n",
       "      dtype='object')"
      ]
     },
     "execution_count": 24,
     "metadata": {},
     "output_type": "execute_result"
    }
   ],
   "source": [
    "df_final_data_sumulas = df_final_data_sumulas.drop(columns=df_final_data_sumulas.columns[0])\n",
    "df_final_data_sumulas.columns"
   ]
  },
  {
   "cell_type": "markdown",
   "metadata": {},
   "source": [
    "#### Merge Dos Dados"
   ]
  },
  {
   "cell_type": "code",
   "execution_count": 25,
   "metadata": {},
   "outputs": [
    {
     "ename": "InvalidIndexError",
     "evalue": "Reindexing only valid with uniquely valued Index objects",
     "output_type": "error",
     "traceback": [
      "\u001b[1;31m---------------------------------------------------------------------------\u001b[0m",
      "\u001b[1;31mInvalidIndexError\u001b[0m                         Traceback (most recent call last)",
      "Cell \u001b[1;32mIn[25], line 1\u001b[0m\n\u001b[1;32m----> 1\u001b[0m df_data_final_atualizado \u001b[38;5;241m=\u001b[39m \u001b[43mpd\u001b[49m\u001b[38;5;241;43m.\u001b[39;49m\u001b[43mconcat\u001b[49m\u001b[43m(\u001b[49m\u001b[43m[\u001b[49m\u001b[43mdf_final_data_sumulas\u001b[49m\u001b[43m,\u001b[49m\u001b[43m \u001b[49m\u001b[43mdf_sumulas_novas\u001b[49m\u001b[43m]\u001b[49m\u001b[43m)\u001b[49m\u001b[38;5;241m.\u001b[39mreset_index(drop\u001b[38;5;241m=\u001b[39m\u001b[38;5;28;01mTrue\u001b[39;00m)\n",
      "File \u001b[1;32m~\\AppData\\Local\\Packages\\PythonSoftwareFoundation.Python.3.11_qbz5n2kfra8p0\\LocalCache\\local-packages\\Python311\\site-packages\\pandas\\core\\reshape\\concat.py:395\u001b[0m, in \u001b[0;36mconcat\u001b[1;34m(objs, axis, join, ignore_index, keys, levels, names, verify_integrity, sort, copy)\u001b[0m\n\u001b[0;32m    380\u001b[0m     copy \u001b[38;5;241m=\u001b[39m \u001b[38;5;28;01mFalse\u001b[39;00m\n\u001b[0;32m    382\u001b[0m op \u001b[38;5;241m=\u001b[39m _Concatenator(\n\u001b[0;32m    383\u001b[0m     objs,\n\u001b[0;32m    384\u001b[0m     axis\u001b[38;5;241m=\u001b[39maxis,\n\u001b[1;32m   (...)\u001b[0m\n\u001b[0;32m    392\u001b[0m     sort\u001b[38;5;241m=\u001b[39msort,\n\u001b[0;32m    393\u001b[0m )\n\u001b[1;32m--> 395\u001b[0m \u001b[38;5;28;01mreturn\u001b[39;00m \u001b[43mop\u001b[49m\u001b[38;5;241;43m.\u001b[39;49m\u001b[43mget_result\u001b[49m\u001b[43m(\u001b[49m\u001b[43m)\u001b[49m\n",
      "File \u001b[1;32m~\\AppData\\Local\\Packages\\PythonSoftwareFoundation.Python.3.11_qbz5n2kfra8p0\\LocalCache\\local-packages\\Python311\\site-packages\\pandas\\core\\reshape\\concat.py:680\u001b[0m, in \u001b[0;36m_Concatenator.get_result\u001b[1;34m(self)\u001b[0m\n\u001b[0;32m    678\u001b[0m         obj_labels \u001b[38;5;241m=\u001b[39m obj\u001b[38;5;241m.\u001b[39maxes[\u001b[38;5;241m1\u001b[39m \u001b[38;5;241m-\u001b[39m ax]\n\u001b[0;32m    679\u001b[0m         \u001b[38;5;28;01mif\u001b[39;00m \u001b[38;5;129;01mnot\u001b[39;00m new_labels\u001b[38;5;241m.\u001b[39mequals(obj_labels):\n\u001b[1;32m--> 680\u001b[0m             indexers[ax] \u001b[38;5;241m=\u001b[39m \u001b[43mobj_labels\u001b[49m\u001b[38;5;241;43m.\u001b[39;49m\u001b[43mget_indexer\u001b[49m\u001b[43m(\u001b[49m\u001b[43mnew_labels\u001b[49m\u001b[43m)\u001b[49m\n\u001b[0;32m    682\u001b[0m     mgrs_indexers\u001b[38;5;241m.\u001b[39mappend((obj\u001b[38;5;241m.\u001b[39m_mgr, indexers))\n\u001b[0;32m    684\u001b[0m new_data \u001b[38;5;241m=\u001b[39m concatenate_managers(\n\u001b[0;32m    685\u001b[0m     mgrs_indexers, \u001b[38;5;28mself\u001b[39m\u001b[38;5;241m.\u001b[39mnew_axes, concat_axis\u001b[38;5;241m=\u001b[39m\u001b[38;5;28mself\u001b[39m\u001b[38;5;241m.\u001b[39mbm_axis, copy\u001b[38;5;241m=\u001b[39m\u001b[38;5;28mself\u001b[39m\u001b[38;5;241m.\u001b[39mcopy\n\u001b[0;32m    686\u001b[0m )\n",
      "File \u001b[1;32m~\\AppData\\Local\\Packages\\PythonSoftwareFoundation.Python.3.11_qbz5n2kfra8p0\\LocalCache\\local-packages\\Python311\\site-packages\\pandas\\core\\indexes\\base.py:3885\u001b[0m, in \u001b[0;36mIndex.get_indexer\u001b[1;34m(self, target, method, limit, tolerance)\u001b[0m\n\u001b[0;32m   3882\u001b[0m \u001b[38;5;28mself\u001b[39m\u001b[38;5;241m.\u001b[39m_check_indexing_method(method, limit, tolerance)\n\u001b[0;32m   3884\u001b[0m \u001b[38;5;28;01mif\u001b[39;00m \u001b[38;5;129;01mnot\u001b[39;00m \u001b[38;5;28mself\u001b[39m\u001b[38;5;241m.\u001b[39m_index_as_unique:\n\u001b[1;32m-> 3885\u001b[0m     \u001b[38;5;28;01mraise\u001b[39;00m InvalidIndexError(\u001b[38;5;28mself\u001b[39m\u001b[38;5;241m.\u001b[39m_requires_unique_msg)\n\u001b[0;32m   3887\u001b[0m \u001b[38;5;28;01mif\u001b[39;00m \u001b[38;5;28mlen\u001b[39m(target) \u001b[38;5;241m==\u001b[39m \u001b[38;5;241m0\u001b[39m:\n\u001b[0;32m   3888\u001b[0m     \u001b[38;5;28;01mreturn\u001b[39;00m np\u001b[38;5;241m.\u001b[39marray([], dtype\u001b[38;5;241m=\u001b[39mnp\u001b[38;5;241m.\u001b[39mintp)\n",
      "\u001b[1;31mInvalidIndexError\u001b[0m: Reindexing only valid with uniquely valued Index objects"
     ]
    }
   ],
   "source": [
    "df_data_final_atualizado = pd.concat([df_final_data_sumulas, df_sumulas_novas]).reset_index(drop=True)"
   ]
  },
  {
   "cell_type": "code",
   "execution_count": null,
   "metadata": {},
   "outputs": [],
   "source": [
    "df_data_final_atualizado[\"ID Resultado\"] = df_data_final_atualizado.index + 1"
   ]
  },
  {
   "cell_type": "code",
   "execution_count": null,
   "metadata": {},
   "outputs": [],
   "source": [
    "ordem_colunas = ['ID Resultado', 'ID Competidor', 'Nome Competidor', 'ID Competição',\n",
    "                 'Classe Vela', 'Pontuação Regata', 'Descarte', 'Flotilha',\n",
    "                 'Posição Geral', 'Punição', 'Pontuação Total', 'Nett',\n",
    "                 'Nome Competição']\n",
    "\n",
    "df_data_final_atualizado = df_data_final_atualizado.reindex(columns=ordem_colunas)\n",
    "df_data_final_atualizado.columns"
   ]
  },
  {
   "cell_type": "code",
   "execution_count": null,
   "metadata": {},
   "outputs": [],
   "source": [
    "df_data_final_atualizado.head()"
   ]
  },
  {
   "cell_type": "code",
   "execution_count": null,
   "metadata": {},
   "outputs": [],
   "source": [
    "df_data_final_atualizado.tail()"
   ]
  },
  {
   "cell_type": "markdown",
   "metadata": {},
   "source": [
    "#### Ajustes Nos Dados"
   ]
  },
  {
   "cell_type": "code",
   "execution_count": null,
   "metadata": {},
   "outputs": [],
   "source": [
    "df_data_final_atualizado[\"Classe Vela\"].value_counts()"
   ]
  },
  {
   "cell_type": "code",
   "execution_count": null,
   "metadata": {},
   "outputs": [],
   "source": [
    "def ajusta_classe(valor):\n",
    "    if valor.upper() == \"KITE MASC.\":\n",
    "        return \"FORMULA KITE MASC.\"\n",
    "    elif valor.upper() == \"KITE FEM.\":\n",
    "        return \"FORMULA KITE FEM.\"\n",
    "    elif str(valor) == \"470.0\":\n",
    "        return \"470\"\n",
    "    return str(valor).upper()"
   ]
  },
  {
   "cell_type": "code",
   "execution_count": null,
   "metadata": {},
   "outputs": [],
   "source": [
    "df_data_final_atualizado[\"Classe Vela\"] = df_data_final_atualizado[\"Classe Vela\"].apply(ajusta_classe)"
   ]
  },
  {
   "cell_type": "code",
   "execution_count": null,
   "metadata": {},
   "outputs": [],
   "source": [
    "df_data_final_atualizado[\"Classe Vela\"].value_counts()"
   ]
  },
  {
   "cell_type": "code",
   "execution_count": null,
   "metadata": {},
   "outputs": [],
   "source": [
    "df_data_final_atualizado[\"Flotilha\"].value_counts()"
   ]
  },
  {
   "cell_type": "code",
   "execution_count": null,
   "metadata": {},
   "outputs": [],
   "source": [
    "df_data_final_atualizado[\"Punição\"].value_counts()"
   ]
  },
  {
   "cell_type": "markdown",
   "metadata": {},
   "source": [
    "#### Salvando os Dados"
   ]
  },
  {
   "cell_type": "code",
   "execution_count": null,
   "metadata": {},
   "outputs": [],
   "source": [
    "df_final_data_competicoes.to_excel(\"dados_finais_2024/competicoes.xlsx\", index=False)\n",
    "df_final_data_atletas.to_excel(\"dados_finais_2024/atletas.xlsx\", index=False)\n",
    "df_data_final_atualizado.to_excel(\"dados_finais_2024/sumulas.xlsx\", index=False)"
   ]
  },
  {
   "cell_type": "code",
   "execution_count": null,
   "metadata": {},
   "outputs": [],
   "source": [
    "with pd.ExcelWriter('dados_finais_2024/final_data.xlsx') as writer:\n",
    "    # Salvando cada DataFrame em uma planilha diferente\n",
    "    df_data_final_atualizado.to_excel(writer, sheet_name='Súmulas', index=False)\n",
    "    df_final_data_atletas.to_excel(writer, sheet_name='Atletas', index=False)\n",
    "    df_final_data_competicoes.to_excel(writer, sheet_name='Competições', index=False)"
   ]
  },
  {
   "cell_type": "code",
   "execution_count": null,
   "metadata": {},
   "outputs": [],
   "source": []
  }
 ],
 "metadata": {
  "kernelspec": {
   "display_name": "Python 3",
   "language": "python",
   "name": "python3"
  },
  "language_info": {
   "codemirror_mode": {
    "name": "ipython",
    "version": 3
   },
   "file_extension": ".py",
   "mimetype": "text/x-python",
   "name": "python",
   "nbconvert_exporter": "python",
   "pygments_lexer": "ipython3",
   "version": "3.11.9"
  }
 },
 "nbformat": 4,
 "nbformat_minor": 2
}
