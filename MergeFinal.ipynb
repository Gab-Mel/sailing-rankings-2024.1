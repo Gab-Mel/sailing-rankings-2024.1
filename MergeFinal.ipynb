{
 "cells": [
  {
   "cell_type": "code",
   "execution_count": 38,
   "metadata": {},
   "outputs": [],
   "source": [
    "import pandas as pd"
   ]
  },
  {
   "cell_type": "markdown",
   "metadata": {},
   "source": [
    "#### Importando os Dados"
   ]
  },
  {
   "cell_type": "code",
   "execution_count": 39,
   "metadata": {},
   "outputs": [],
   "source": [
    "df_final_data_sumulas = pd.read_excel(\"data/final_data_original.xlsx\", sheet_name=\"Sumulas\", index_col=None)\n",
    "df_final_data_atletas = pd.read_excel(\"atletas.xlsx\", index_col=None)\n",
    "df_final_data_competicoes = pd.read_excel(\"data/final_data_original.xlsx\", sheet_name=\"Campeonatos\", index_col=None)\n",
    "df_sumulas_novas = pd.read_csv(\"sumulas.csv\")"
   ]
  },
  {
   "cell_type": "code",
   "execution_count": 40,
   "metadata": {},
   "outputs": [
    {
     "data": {
      "text/plain": [
       "(136618, 14)"
      ]
     },
     "execution_count": 40,
     "metadata": {},
     "output_type": "execute_result"
    }
   ],
   "source": [
    "df_final_data_sumulas.shape"
   ]
  },
  {
   "cell_type": "markdown",
   "metadata": {},
   "source": [
    "#### Tirando Coluna Problemática"
   ]
  },
  {
   "cell_type": "code",
   "execution_count": 41,
   "metadata": {},
   "outputs": [],
   "source": [
    "df_final_data_sumulas.drop(df_final_data_sumulas.columns[0], axis=1, inplace=True)\n",
    "df_final_data_atletas.drop(df_final_data_atletas.columns[0], axis=1, inplace=True)\n",
    "df_final_data_competicoes.drop(df_final_data_competicoes.columns[0], axis=1, inplace=True)"
   ]
  },
  {
   "cell_type": "markdown",
   "metadata": {},
   "source": [
    "#### Verificando Colunas"
   ]
  },
  {
   "cell_type": "code",
   "execution_count": 42,
   "metadata": {},
   "outputs": [
    {
     "data": {
      "text/plain": [
       "Index(['ID Resultado', 'ID Competidor', 'Nome Competidor', 'ID Competição',\n",
       "       'Classe Vela', 'Pontuação Regata', 'Descarte', 'Flotilha',\n",
       "       'Posição Geral', 'Punição', 'Pontuação Total', 'Nett',\n",
       "       'Nome Competição'],\n",
       "      dtype='object')"
      ]
     },
     "execution_count": 42,
     "metadata": {},
     "output_type": "execute_result"
    }
   ],
   "source": [
    "df_final_data_sumulas.columns"
   ]
  },
  {
   "cell_type": "code",
   "execution_count": 43,
   "metadata": {},
   "outputs": [
    {
     "data": {
      "text/plain": [
       "Index(['Nome Competidor', 'ID Competidor'], dtype='object')"
      ]
     },
     "execution_count": 43,
     "metadata": {},
     "output_type": "execute_result"
    }
   ],
   "source": [
    "df_final_data_atletas.columns"
   ]
  },
  {
   "cell_type": "code",
   "execution_count": 44,
   "metadata": {},
   "outputs": [
    {
     "data": {
      "text/plain": [
       "Index(['ID Competição', 'Nome Competição'], dtype='object')"
      ]
     },
     "execution_count": 44,
     "metadata": {},
     "output_type": "execute_result"
    }
   ],
   "source": [
    "df_final_data_competicoes.columns"
   ]
  },
  {
   "cell_type": "code",
   "execution_count": 45,
   "metadata": {},
   "outputs": [
    {
     "data": {
      "text/plain": [
       "Index(['Identificador', 'Nome Competição', 'Regata', 'Nome Competidor',\n",
       "       'Pontuação Regata (Nha)', 'Classe Vela', 'Flag Name', 'Posição Geral',\n",
       "       'ID Competição', 'Descarte', 'Flotilha', 'Punição', 'Total', 'Net',\n",
       "       'Pontuação Regata'],\n",
       "      dtype='object')"
      ]
     },
     "execution_count": 45,
     "metadata": {},
     "output_type": "execute_result"
    }
   ],
   "source": [
    "df_sumulas_novas.columns"
   ]
  },
  {
   "cell_type": "markdown",
   "metadata": {},
   "source": [
    "#### Competições"
   ]
  },
  {
   "cell_type": "code",
   "execution_count": 46,
   "metadata": {},
   "outputs": [
    {
     "data": {
      "text/html": [
       "<div>\n",
       "<style scoped>\n",
       "    .dataframe tbody tr th:only-of-type {\n",
       "        vertical-align: middle;\n",
       "    }\n",
       "\n",
       "    .dataframe tbody tr th {\n",
       "        vertical-align: top;\n",
       "    }\n",
       "\n",
       "    .dataframe thead th {\n",
       "        text-align: right;\n",
       "    }\n",
       "</style>\n",
       "<table border=\"1\" class=\"dataframe\">\n",
       "  <thead>\n",
       "    <tr style=\"text-align: right;\">\n",
       "      <th></th>\n",
       "      <th>ID Competição</th>\n",
       "      <th>Nome Competição</th>\n",
       "    </tr>\n",
       "  </thead>\n",
       "  <tbody>\n",
       "    <tr>\n",
       "      <th>0</th>\n",
       "      <td>1</td>\n",
       "      <td>Central and South American Championship 2021</td>\n",
       "    </tr>\n",
       "    <tr>\n",
       "      <th>1</th>\n",
       "      <td>2</td>\n",
       "      <td>Central and South American Championship 2022</td>\n",
       "    </tr>\n",
       "    <tr>\n",
       "      <th>2</th>\n",
       "      <td>3</td>\n",
       "      <td>Central and South American Championship 2023</td>\n",
       "    </tr>\n",
       "    <tr>\n",
       "      <th>3</th>\n",
       "      <td>4</td>\n",
       "      <td>European Championship 2021</td>\n",
       "    </tr>\n",
       "    <tr>\n",
       "      <th>4</th>\n",
       "      <td>5</td>\n",
       "      <td>European Championship 2022</td>\n",
       "    </tr>\n",
       "    <tr>\n",
       "      <th>5</th>\n",
       "      <td>6</td>\n",
       "      <td>European Championship 2023</td>\n",
       "    </tr>\n",
       "    <tr>\n",
       "      <th>6</th>\n",
       "      <td>7</td>\n",
       "      <td>Semaine Olympique Francaise De Voile 2022</td>\n",
       "    </tr>\n",
       "    <tr>\n",
       "      <th>7</th>\n",
       "      <td>8</td>\n",
       "      <td>Semaine Olympique Francaise De Voile 2023</td>\n",
       "    </tr>\n",
       "    <tr>\n",
       "      <th>8</th>\n",
       "      <td>9</td>\n",
       "      <td>Trofeo S.A.R Princesa Sofia 2022</td>\n",
       "    </tr>\n",
       "    <tr>\n",
       "      <th>9</th>\n",
       "      <td>10</td>\n",
       "      <td>Trofeo S.A.R Princesa Sofia 2023</td>\n",
       "    </tr>\n",
       "    <tr>\n",
       "      <th>10</th>\n",
       "      <td>11</td>\n",
       "      <td>World Championship 2021</td>\n",
       "    </tr>\n",
       "    <tr>\n",
       "      <th>11</th>\n",
       "      <td>12</td>\n",
       "      <td>World Championship 2022</td>\n",
       "    </tr>\n",
       "    <tr>\n",
       "      <th>12</th>\n",
       "      <td>13</td>\n",
       "      <td>World Championship 2023</td>\n",
       "    </tr>\n",
       "    <tr>\n",
       "      <th>13</th>\n",
       "      <td>14</td>\n",
       "      <td>World Championship 2020</td>\n",
       "    </tr>\n",
       "    <tr>\n",
       "      <th>14</th>\n",
       "      <td>15</td>\n",
       "      <td>World Championship 2019</td>\n",
       "    </tr>\n",
       "    <tr>\n",
       "      <th>15</th>\n",
       "      <td>16</td>\n",
       "      <td>World Championship 2018</td>\n",
       "    </tr>\n",
       "    <tr>\n",
       "      <th>16</th>\n",
       "      <td>17</td>\n",
       "      <td>World Championship 2017</td>\n",
       "    </tr>\n",
       "    <tr>\n",
       "      <th>17</th>\n",
       "      <td>18</td>\n",
       "      <td>World Championship 2016</td>\n",
       "    </tr>\n",
       "    <tr>\n",
       "      <th>18</th>\n",
       "      <td>19</td>\n",
       "      <td>World Championship 2015</td>\n",
       "    </tr>\n",
       "    <tr>\n",
       "      <th>19</th>\n",
       "      <td>20</td>\n",
       "      <td>European Championship 2020</td>\n",
       "    </tr>\n",
       "    <tr>\n",
       "      <th>20</th>\n",
       "      <td>22</td>\n",
       "      <td>European Championship 2018</td>\n",
       "    </tr>\n",
       "    <tr>\n",
       "      <th>21</th>\n",
       "      <td>23</td>\n",
       "      <td>European Championship 2017</td>\n",
       "    </tr>\n",
       "    <tr>\n",
       "      <th>22</th>\n",
       "      <td>24</td>\n",
       "      <td>European Championship 2016</td>\n",
       "    </tr>\n",
       "    <tr>\n",
       "      <th>23</th>\n",
       "      <td>25</td>\n",
       "      <td>Semaine Olympique Francaise De Voile 2018</td>\n",
       "    </tr>\n",
       "    <tr>\n",
       "      <th>24</th>\n",
       "      <td>26</td>\n",
       "      <td>Semaine Olympique Francaise De Voile 2017</td>\n",
       "    </tr>\n",
       "    <tr>\n",
       "      <th>25</th>\n",
       "      <td>27</td>\n",
       "      <td>Trofeo S.A.R Princesa Sofia 2018</td>\n",
       "    </tr>\n",
       "    <tr>\n",
       "      <th>26</th>\n",
       "      <td>28</td>\n",
       "      <td>Trofeo S.A.R Princesa Sofia 2017</td>\n",
       "    </tr>\n",
       "    <tr>\n",
       "      <th>27</th>\n",
       "      <td>29</td>\n",
       "      <td>Trofeo S.A.R Princesa Sofia 2016</td>\n",
       "    </tr>\n",
       "    <tr>\n",
       "      <th>28</th>\n",
       "      <td>30</td>\n",
       "      <td>Trofeo S.A.R Princesa Sofia 2015</td>\n",
       "    </tr>\n",
       "    <tr>\n",
       "      <th>29</th>\n",
       "      <td>31</td>\n",
       "      <td>Semaine Olympique Francaise De Voile 2016</td>\n",
       "    </tr>\n",
       "    <tr>\n",
       "      <th>30</th>\n",
       "      <td>32</td>\n",
       "      <td>Semaine Olympique Francaise De Voile 2015</td>\n",
       "    </tr>\n",
       "    <tr>\n",
       "      <th>31</th>\n",
       "      <td>33</td>\n",
       "      <td>Trofeo S.A.R Princesa Sofia 2019</td>\n",
       "    </tr>\n",
       "    <tr>\n",
       "      <th>32</th>\n",
       "      <td>34</td>\n",
       "      <td>World Championship 2024</td>\n",
       "    </tr>\n",
       "    <tr>\n",
       "      <th>33</th>\n",
       "      <td>35</td>\n",
       "      <td>European Championship 2024</td>\n",
       "    </tr>\n",
       "  </tbody>\n",
       "</table>\n",
       "</div>"
      ],
      "text/plain": [
       "    ID Competição                               Nome Competição\n",
       "0               1  Central and South American Championship 2021\n",
       "1               2  Central and South American Championship 2022\n",
       "2               3  Central and South American Championship 2023\n",
       "3               4                    European Championship 2021\n",
       "4               5                    European Championship 2022\n",
       "5               6                    European Championship 2023\n",
       "6               7     Semaine Olympique Francaise De Voile 2022\n",
       "7               8     Semaine Olympique Francaise De Voile 2023\n",
       "8               9              Trofeo S.A.R Princesa Sofia 2022\n",
       "9              10              Trofeo S.A.R Princesa Sofia 2023\n",
       "10             11                       World Championship 2021\n",
       "11             12                       World Championship 2022\n",
       "12             13                       World Championship 2023\n",
       "13             14                       World Championship 2020\n",
       "14             15                       World Championship 2019\n",
       "15             16                       World Championship 2018\n",
       "16             17                       World Championship 2017\n",
       "17             18                       World Championship 2016\n",
       "18             19                       World Championship 2015\n",
       "19             20                    European Championship 2020\n",
       "20             22                    European Championship 2018\n",
       "21             23                    European Championship 2017\n",
       "22             24                    European Championship 2016\n",
       "23             25     Semaine Olympique Francaise De Voile 2018\n",
       "24             26     Semaine Olympique Francaise De Voile 2017\n",
       "25             27              Trofeo S.A.R Princesa Sofia 2018\n",
       "26             28              Trofeo S.A.R Princesa Sofia 2017\n",
       "27             29              Trofeo S.A.R Princesa Sofia 2016\n",
       "28             30              Trofeo S.A.R Princesa Sofia 2015\n",
       "29             31     Semaine Olympique Francaise De Voile 2016\n",
       "30             32     Semaine Olympique Francaise De Voile 2015\n",
       "31             33              Trofeo S.A.R Princesa Sofia 2019\n",
       "32             34                       World Championship 2024\n",
       "33             35                    European Championship 2024"
      ]
     },
     "execution_count": 46,
     "metadata": {},
     "output_type": "execute_result"
    }
   ],
   "source": [
    "df_final_data_competicoes = df_final_data_competicoes.sort_values(by=\"ID Competição\").reset_index(drop=True)\n",
    "df_final_data_competicoes.head(50)"
   ]
  },
  {
   "cell_type": "code",
   "execution_count": 47,
   "metadata": {},
   "outputs": [],
   "source": [
    "df_final_data_atletas = df_final_data_atletas.sort_values(by=\"ID Competidor\").reset_index(drop=True)\n",
    "#df_final_data_atletas.head(10)"
   ]
  },
  {
   "cell_type": "markdown",
   "metadata": {},
   "source": [
    "#### Fornecendo ID"
   ]
  },
  {
   "cell_type": "code",
   "execution_count": 48,
   "metadata": {},
   "outputs": [],
   "source": [
    "def retorna_ID_competidor(nome_atleta:str):\n",
    "    \"\"\"\n",
    "    Retorna o ID do competidor com base no nome do atleta.\n",
    "\n",
    "    Parâmetros:\n",
    "    nome_atleta (str): O nome do atleta cujo ID do competidor será retornado.\n",
    "\n",
    "    Retorna:\n",
    "    str: O ID do competidor correspondente ao nome do atleta especificado.\n",
    "\n",
    "    Exemplo:\n",
    "    >>> retorna_ID_competidor(\"DOMINIK BUKSAK, SZYMON WIERZBICKI\")\n",
    "    'ID correspondente'\n",
    "    \"\"\"\n",
    "    return df_final_data_atletas.loc[df_final_data_atletas['Nome Competidor'] == nome_atleta, 'ID Competidor'].iloc[0]"
   ]
  },
  {
   "cell_type": "code",
   "execution_count": 49,
   "metadata": {},
   "outputs": [],
   "source": [
    "def retorna_ID_competicao(nome_competicao: str):\n",
    "    \"\"\"\n",
    "    Retorna o ID da competição com base no nome da competição.\n",
    "\n",
    "    Parâmetros:\n",
    "    nome_competicao (str): O nome da competição cujo ID será retornado.\n",
    "\n",
    "    Retorna:\n",
    "    str: O ID da competição correspondente ao nome da competição especificada.\n",
    "\n",
    "    Exemplo:\n",
    "    >>> retorna_ID_competicao(\"Nome da Competição\")\n",
    "    'ID correspondente'\n",
    "    \"\"\"\n",
    "    retorno =  df_final_data_competicoes.loc[df_final_data_competicoes['Nome Competição'] == nome_competicao, 'ID Competição']\n",
    "    return retorno.iloc[0] if not retorno.empty else None\n"
   ]
  },
  {
   "cell_type": "markdown",
   "metadata": {},
   "source": [
    "#### Adicionando ID nos Novos Dados"
   ]
  },
  {
   "cell_type": "code",
   "execution_count": 50,
   "metadata": {},
   "outputs": [],
   "source": [
    "df_sumulas_novas[\"ID Competidor\"] = df_sumulas_novas[\"Nome Competidor\"].apply(retorna_ID_competidor)\n",
    "df_sumulas_novas[\"ID Competição\"] = df_sumulas_novas[\"Nome Competição\"].apply(retorna_ID_competicao)"
   ]
  },
  {
   "cell_type": "code",
   "execution_count": 51,
   "metadata": {},
   "outputs": [],
   "source": [
    "df_final_data_sumulas[\"ID Competidor\"] = df_final_data_sumulas[\"Nome Competidor\"].apply(retorna_ID_competidor)\n",
    "df_final_data_sumulas[\"ID Competição\"] = df_final_data_sumulas[\"Nome Competição\"].apply(retorna_ID_competicao)"
   ]
  },
  {
   "cell_type": "markdown",
   "metadata": {},
   "source": [
    "#### Tratando as Flotilhas"
   ]
  },
  {
   "cell_type": "code",
   "execution_count": 52,
   "metadata": {},
   "outputs": [
    {
     "data": {
      "text/plain": [
       "Flotilha\n",
       "GERAL         20900\n",
       "MEDAL RACE      628\n",
       "Name: count, dtype: int64"
      ]
     },
     "execution_count": 52,
     "metadata": {},
     "output_type": "execute_result"
    }
   ],
   "source": [
    "df_sumulas_novas[\"Flotilha\"].value_counts()"
   ]
  },
  {
   "cell_type": "code",
   "execution_count": 53,
   "metadata": {},
   "outputs": [
    {
     "data": {
      "text/html": [
       "<div>\n",
       "<style scoped>\n",
       "    .dataframe tbody tr th:only-of-type {\n",
       "        vertical-align: middle;\n",
       "    }\n",
       "\n",
       "    .dataframe tbody tr th {\n",
       "        vertical-align: top;\n",
       "    }\n",
       "\n",
       "    .dataframe thead th {\n",
       "        text-align: right;\n",
       "    }\n",
       "</style>\n",
       "<table border=\"1\" class=\"dataframe\">\n",
       "  <thead>\n",
       "    <tr style=\"text-align: right;\">\n",
       "      <th></th>\n",
       "      <th>Identificador</th>\n",
       "      <th>Nome Competição</th>\n",
       "      <th>Regata</th>\n",
       "      <th>Nome Competidor</th>\n",
       "      <th>Pontuação Regata (Nha)</th>\n",
       "      <th>Classe Vela</th>\n",
       "      <th>Flag Name</th>\n",
       "      <th>Posição Geral</th>\n",
       "      <th>ID Competição</th>\n",
       "      <th>Descarte</th>\n",
       "      <th>Flotilha</th>\n",
       "      <th>Punição</th>\n",
       "      <th>Total</th>\n",
       "      <th>Net</th>\n",
       "      <th>Pontuação Regata</th>\n",
       "      <th>ID Competidor</th>\n",
       "    </tr>\n",
       "  </thead>\n",
       "  <tbody>\n",
       "    <tr>\n",
       "      <th>0</th>\n",
       "      <td>DERIN ATAKAN - Kite Fem. - World Championship ...</td>\n",
       "      <td>World Championship 2024</td>\n",
       "      <td>Q1</td>\n",
       "      <td>DERIN ATAKAN</td>\n",
       "      <td>13.0-0-0</td>\n",
       "      <td>Kite Fem.</td>\n",
       "      <td>Silver</td>\n",
       "      <td>1</td>\n",
       "      <td>34.0</td>\n",
       "      <td>0.0</td>\n",
       "      <td>GERAL</td>\n",
       "      <td>0</td>\n",
       "      <td>162.0</td>\n",
       "      <td>162.0</td>\n",
       "      <td>13.0</td>\n",
       "      <td>1612</td>\n",
       "    </tr>\n",
       "    <tr>\n",
       "      <th>1</th>\n",
       "      <td>HELOISE PEGOURIE - Kite Fem. - World Champions...</td>\n",
       "      <td>World Championship 2024</td>\n",
       "      <td>Q1</td>\n",
       "      <td>HELOISE PEGOURIE</td>\n",
       "      <td>13.0-0-0</td>\n",
       "      <td>Kite Fem.</td>\n",
       "      <td>Silver</td>\n",
       "      <td>2</td>\n",
       "      <td>34.0</td>\n",
       "      <td>0.0</td>\n",
       "      <td>GERAL</td>\n",
       "      <td>0</td>\n",
       "      <td>165.0</td>\n",
       "      <td>165.0</td>\n",
       "      <td>13.0</td>\n",
       "      <td>1341</td>\n",
       "    </tr>\n",
       "    <tr>\n",
       "      <th>2</th>\n",
       "      <td>ZOE BOUTANG - Kite Fem. - World Championship 2024</td>\n",
       "      <td>World Championship 2024</td>\n",
       "      <td>Q1</td>\n",
       "      <td>ZOE BOUTANG</td>\n",
       "      <td>6.0-0-0</td>\n",
       "      <td>Kite Fem.</td>\n",
       "      <td>Silver</td>\n",
       "      <td>3</td>\n",
       "      <td>34.0</td>\n",
       "      <td>0.0</td>\n",
       "      <td>GERAL</td>\n",
       "      <td>0</td>\n",
       "      <td>189.0</td>\n",
       "      <td>189.0</td>\n",
       "      <td>6.0</td>\n",
       "      <td>1658</td>\n",
       "    </tr>\n",
       "    <tr>\n",
       "      <th>3</th>\n",
       "      <td>JUSTINA KITCHEN - Kite Fem. - World Championsh...</td>\n",
       "      <td>World Championship 2024</td>\n",
       "      <td>Q1</td>\n",
       "      <td>JUSTINA KITCHEN</td>\n",
       "      <td>8.0-0-0</td>\n",
       "      <td>Kite Fem.</td>\n",
       "      <td>Silver</td>\n",
       "      <td>4</td>\n",
       "      <td>34.0</td>\n",
       "      <td>0.0</td>\n",
       "      <td>GERAL</td>\n",
       "      <td>0</td>\n",
       "      <td>207.0</td>\n",
       "      <td>207.0</td>\n",
       "      <td>8.0</td>\n",
       "      <td>1487</td>\n",
       "    </tr>\n",
       "    <tr>\n",
       "      <th>4</th>\n",
       "      <td>ALEXIA FANCELLI - Kite Fem. - World Championsh...</td>\n",
       "      <td>World Championship 2024</td>\n",
       "      <td>Q1</td>\n",
       "      <td>ALEXIA FANCELLI</td>\n",
       "      <td>18.0-0-0</td>\n",
       "      <td>Kite Fem.</td>\n",
       "      <td>Silver</td>\n",
       "      <td>5</td>\n",
       "      <td>34.0</td>\n",
       "      <td>0.0</td>\n",
       "      <td>GERAL</td>\n",
       "      <td>0</td>\n",
       "      <td>204.0</td>\n",
       "      <td>204.0</td>\n",
       "      <td>18.0</td>\n",
       "      <td>1222</td>\n",
       "    </tr>\n",
       "    <tr>\n",
       "      <th>...</th>\n",
       "      <td>...</td>\n",
       "      <td>...</td>\n",
       "      <td>...</td>\n",
       "      <td>...</td>\n",
       "      <td>...</td>\n",
       "      <td>...</td>\n",
       "      <td>...</td>\n",
       "      <td>...</td>\n",
       "      <td>...</td>\n",
       "      <td>...</td>\n",
       "      <td>...</td>\n",
       "      <td>...</td>\n",
       "      <td>...</td>\n",
       "      <td>...</td>\n",
       "      <td>...</td>\n",
       "      <td>...</td>\n",
       "    </tr>\n",
       "    <tr>\n",
       "      <th>21523</th>\n",
       "      <td>NaN</td>\n",
       "      <td>Troféu Königswinkel ILCA 2023</td>\n",
       "      <td>NaN</td>\n",
       "      <td>Tobias NIGGL</td>\n",
       "      <td>29.0</td>\n",
       "      <td>ilca 7</td>\n",
       "      <td>NaN</td>\n",
       "      <td>28</td>\n",
       "      <td>NaN</td>\n",
       "      <td>29.0</td>\n",
       "      <td>GERAL</td>\n",
       "      <td>NaN</td>\n",
       "      <td>0.0</td>\n",
       "      <td>0.0</td>\n",
       "      <td>29.0</td>\n",
       "      <td>3625</td>\n",
       "    </tr>\n",
       "    <tr>\n",
       "      <th>21524</th>\n",
       "      <td>NaN</td>\n",
       "      <td>Troféu Königswinkel ILCA 2023</td>\n",
       "      <td>NaN</td>\n",
       "      <td>Tobias NIGGL</td>\n",
       "      <td>26.0</td>\n",
       "      <td>ilca 7</td>\n",
       "      <td>NaN</td>\n",
       "      <td>28</td>\n",
       "      <td>NaN</td>\n",
       "      <td>26.0</td>\n",
       "      <td>GERAL</td>\n",
       "      <td>NaN</td>\n",
       "      <td>0.0</td>\n",
       "      <td>0.0</td>\n",
       "      <td>26.0</td>\n",
       "      <td>3625</td>\n",
       "    </tr>\n",
       "    <tr>\n",
       "      <th>21525</th>\n",
       "      <td>NaN</td>\n",
       "      <td>Troféu Königswinkel ILCA 2023</td>\n",
       "      <td>NaN</td>\n",
       "      <td>Tobias NIGGL</td>\n",
       "      <td>25.0</td>\n",
       "      <td>ilca 7</td>\n",
       "      <td>NaN</td>\n",
       "      <td>28</td>\n",
       "      <td>NaN</td>\n",
       "      <td>25.0</td>\n",
       "      <td>GERAL</td>\n",
       "      <td>NaN</td>\n",
       "      <td>0.0</td>\n",
       "      <td>0.0</td>\n",
       "      <td>25.0</td>\n",
       "      <td>3625</td>\n",
       "    </tr>\n",
       "    <tr>\n",
       "      <th>21526</th>\n",
       "      <td>NaN</td>\n",
       "      <td>Troféu Königswinkel ILCA 2023</td>\n",
       "      <td>NaN</td>\n",
       "      <td>Tobias NIGGL</td>\n",
       "      <td>26.0</td>\n",
       "      <td>ilca 7</td>\n",
       "      <td>NaN</td>\n",
       "      <td>28</td>\n",
       "      <td>NaN</td>\n",
       "      <td>26.0</td>\n",
       "      <td>GERAL</td>\n",
       "      <td>NaN</td>\n",
       "      <td>0.0</td>\n",
       "      <td>0.0</td>\n",
       "      <td>26.0</td>\n",
       "      <td>3625</td>\n",
       "    </tr>\n",
       "    <tr>\n",
       "      <th>21527</th>\n",
       "      <td>NaN</td>\n",
       "      <td>Troféu Königswinkel ILCA 2023</td>\n",
       "      <td>NaN</td>\n",
       "      <td>Tobias NIGGL</td>\n",
       "      <td>25.0</td>\n",
       "      <td>ilca 7</td>\n",
       "      <td>NaN</td>\n",
       "      <td>28</td>\n",
       "      <td>NaN</td>\n",
       "      <td>25.0</td>\n",
       "      <td>GERAL</td>\n",
       "      <td>NaN</td>\n",
       "      <td>0.0</td>\n",
       "      <td>0.0</td>\n",
       "      <td>25.0</td>\n",
       "      <td>3625</td>\n",
       "    </tr>\n",
       "  </tbody>\n",
       "</table>\n",
       "<p>21528 rows × 16 columns</p>\n",
       "</div>"
      ],
      "text/plain": [
       "                                           Identificador  \\\n",
       "0      DERIN ATAKAN - Kite Fem. - World Championship ...   \n",
       "1      HELOISE PEGOURIE - Kite Fem. - World Champions...   \n",
       "2      ZOE BOUTANG - Kite Fem. - World Championship 2024   \n",
       "3      JUSTINA KITCHEN - Kite Fem. - World Championsh...   \n",
       "4      ALEXIA FANCELLI - Kite Fem. - World Championsh...   \n",
       "...                                                  ...   \n",
       "21523                                                NaN   \n",
       "21524                                                NaN   \n",
       "21525                                                NaN   \n",
       "21526                                                NaN   \n",
       "21527                                                NaN   \n",
       "\n",
       "                     Nome Competição Regata   Nome Competidor  \\\n",
       "0            World Championship 2024     Q1      DERIN ATAKAN   \n",
       "1            World Championship 2024     Q1  HELOISE PEGOURIE   \n",
       "2            World Championship 2024     Q1       ZOE BOUTANG   \n",
       "3            World Championship 2024     Q1   JUSTINA KITCHEN   \n",
       "4            World Championship 2024     Q1   ALEXIA FANCELLI   \n",
       "...                              ...    ...               ...   \n",
       "21523  Troféu Königswinkel ILCA 2023    NaN      Tobias NIGGL   \n",
       "21524  Troféu Königswinkel ILCA 2023    NaN      Tobias NIGGL   \n",
       "21525  Troféu Königswinkel ILCA 2023    NaN      Tobias NIGGL   \n",
       "21526  Troféu Königswinkel ILCA 2023    NaN      Tobias NIGGL   \n",
       "21527  Troféu Königswinkel ILCA 2023    NaN      Tobias NIGGL   \n",
       "\n",
       "      Pontuação Regata (Nha) Classe Vela Flag Name  Posição Geral  \\\n",
       "0                   13.0-0-0   Kite Fem.    Silver              1   \n",
       "1                   13.0-0-0   Kite Fem.    Silver              2   \n",
       "2                    6.0-0-0   Kite Fem.    Silver              3   \n",
       "3                    8.0-0-0   Kite Fem.    Silver              4   \n",
       "4                   18.0-0-0   Kite Fem.    Silver              5   \n",
       "...                      ...         ...       ...            ...   \n",
       "21523                   29.0      ilca 7       NaN             28   \n",
       "21524                   26.0      ilca 7       NaN             28   \n",
       "21525                   25.0      ilca 7       NaN             28   \n",
       "21526                   26.0      ilca 7       NaN             28   \n",
       "21527                   25.0      ilca 7       NaN             28   \n",
       "\n",
       "       ID Competição  Descarte Flotilha Punição  Total    Net  \\\n",
       "0               34.0       0.0    GERAL       0  162.0  162.0   \n",
       "1               34.0       0.0    GERAL       0  165.0  165.0   \n",
       "2               34.0       0.0    GERAL       0  189.0  189.0   \n",
       "3               34.0       0.0    GERAL       0  207.0  207.0   \n",
       "4               34.0       0.0    GERAL       0  204.0  204.0   \n",
       "...              ...       ...      ...     ...    ...    ...   \n",
       "21523            NaN      29.0    GERAL     NaN    0.0    0.0   \n",
       "21524            NaN      26.0    GERAL     NaN    0.0    0.0   \n",
       "21525            NaN      25.0    GERAL     NaN    0.0    0.0   \n",
       "21526            NaN      26.0    GERAL     NaN    0.0    0.0   \n",
       "21527            NaN      25.0    GERAL     NaN    0.0    0.0   \n",
       "\n",
       "       Pontuação Regata  ID Competidor  \n",
       "0                  13.0           1612  \n",
       "1                  13.0           1341  \n",
       "2                   6.0           1658  \n",
       "3                   8.0           1487  \n",
       "4                  18.0           1222  \n",
       "...                 ...            ...  \n",
       "21523              29.0           3625  \n",
       "21524              26.0           3625  \n",
       "21525              25.0           3625  \n",
       "21526              26.0           3625  \n",
       "21527              25.0           3625  \n",
       "\n",
       "[21528 rows x 16 columns]"
      ]
     },
     "execution_count": 53,
     "metadata": {},
     "output_type": "execute_result"
    }
   ],
   "source": [
    "df_sumulas_novas[df_sumulas_novas.columns[6]].value_counts()\n",
    "df_sumulas_novas"
   ]
  },
  {
   "cell_type": "code",
   "execution_count": 54,
   "metadata": {},
   "outputs": [],
   "source": [
    "mask = df_sumulas_novas[\"Flotilha\"].isin([\"Gold\", \"Silver\", \"Bronze\"])\n",
    "\n",
    "mapeamento = {\"Gold\": \"OURO\", \"Silver\": \"PRATA\", \"Bronze\": \"BRONZE\"}\n",
    "\n",
    "df_sumulas_novas.loc[mask, \"Flotilha\"] = df_sumulas_novas.loc[mask, \"Flotilha\"].map(mapeamento)"
   ]
  },
  {
   "cell_type": "code",
   "execution_count": 55,
   "metadata": {},
   "outputs": [
    {
     "data": {
      "text/plain": [
       "Flotilha\n",
       "GERAL         20900\n",
       "MEDAL RACE      628\n",
       "Name: count, dtype: int64"
      ]
     },
     "execution_count": 55,
     "metadata": {},
     "output_type": "execute_result"
    }
   ],
   "source": [
    "df_sumulas_novas[\"Flotilha\"].value_counts()"
   ]
  },
  {
   "cell_type": "markdown",
   "metadata": {},
   "source": [
    "#### Arrumando as Colunas"
   ]
  },
  {
   "cell_type": "code",
   "execution_count": 56,
   "metadata": {},
   "outputs": [
    {
     "data": {
      "text/plain": [
       "Index(['ID Resultado', 'ID Competidor', 'Nome Competidor', 'ID Competição',\n",
       "       'Classe Vela', 'Pontuação Regata', 'Descarte', 'Flotilha',\n",
       "       'Posição Geral', 'Punição', 'Pontuação Total', 'Nett',\n",
       "       'Nome Competição'],\n",
       "      dtype='object')"
      ]
     },
     "execution_count": 56,
     "metadata": {},
     "output_type": "execute_result"
    }
   ],
   "source": [
    "df_final_data_sumulas.columns"
   ]
  },
  {
   "cell_type": "code",
   "execution_count": 57,
   "metadata": {},
   "outputs": [
    {
     "data": {
      "text/plain": [
       "Total\n",
       "0.0      6910\n",
       "225.0     102\n",
       "321.0     101\n",
       "570.0     101\n",
       "204.0      96\n",
       "         ... \n",
       "32.0        7\n",
       "43.0        7\n",
       "111.0       7\n",
       "51.0        7\n",
       "75.0        7\n",
       "Name: count, Length: 516, dtype: int64"
      ]
     },
     "execution_count": 57,
     "metadata": {},
     "output_type": "execute_result"
    }
   ],
   "source": [
    "df_sumulas_novas.columns\n",
    "df_sumulas_novas[\"Total\"].value_counts()"
   ]
  },
  {
   "cell_type": "code",
   "execution_count": 58,
   "metadata": {},
   "outputs": [
    {
     "data": {
      "text/plain": [
       "Index(['Identificador', 'Nome Competição', 'Regata', 'Nome Competidor',\n",
       "       'Pontuação Regata (Nha)', 'Classe Vela', 'Flag Name', 'Posição Geral',\n",
       "       'ID Competição', 'Descarte', 'Flotilha', 'Punição', 'Pontuação Total',\n",
       "       'Nett', 'Pontuação Regata', 'ID Competidor'],\n",
       "      dtype='object')"
      ]
     },
     "execution_count": 58,
     "metadata": {},
     "output_type": "execute_result"
    }
   ],
   "source": [
    "df_sumulas_novas = df_sumulas_novas.rename(columns={'Total': 'Pontuação Total', \"Net\":\"Nett\"})\n",
    "df_sumulas_novas.columns"
   ]
  },
  {
   "cell_type": "code",
   "execution_count": 59,
   "metadata": {},
   "outputs": [
    {
     "data": {
      "text/plain": [
       "Index(['Nome Competição', 'Nome Competidor', 'Classe Vela', 'Posição Geral',\n",
       "       'ID Competição', 'Descarte', 'Flotilha', 'Punição', 'Pontuação Total',\n",
       "       'Nett', 'Pontuação Regata', 'ID Competidor'],\n",
       "      dtype='object')"
      ]
     },
     "execution_count": 59,
     "metadata": {},
     "output_type": "execute_result"
    }
   ],
   "source": [
    "colunas_extras = [\"Identificador\", \"Regata\", \"Pontuação Regata (Nha)\", \"Flag Name\"]\n",
    "df_sumulas_novas = df_sumulas_novas.drop(columns=colunas_extras)\n",
    "df_sumulas_novas.columns"
   ]
  },
  {
   "cell_type": "code",
   "execution_count": 60,
   "metadata": {},
   "outputs": [
    {
     "data": {
      "text/plain": [
       "Index(['Nome Competição', 'Nome Competidor', 'Classe Vela', 'Posição Geral',\n",
       "       'ID Competição', 'Pontuação Regata', 'Descarte', 'Flotilha', 'Punição',\n",
       "       'Pontuação Total', 'Nett', 'ID Competidor'],\n",
       "      dtype='object')"
      ]
     },
     "execution_count": 60,
     "metadata": {},
     "output_type": "execute_result"
    }
   ],
   "source": [
    "ordem_colunas = ['Nome Competição', 'Nome Competidor', 'Classe Vela', \n",
    "                  'Posição Geral','ID Competição',\n",
    "                  'Pontuação Regata', 'Descarte', 'Flotilha',\n",
    "                  'Punição', 'Pontuação Total', 'Nett', 'ID Competidor'\n",
    "                 ]\n",
    "\n",
    "df_sumulas_novas = df_sumulas_novas.reindex(columns=ordem_colunas)\n",
    "df_sumulas_novas.columns"
   ]
  },
  {
   "cell_type": "code",
   "execution_count": 61,
   "metadata": {},
   "outputs": [
    {
     "data": {
      "text/plain": [
       "Index(['ID Competidor', 'Nome Competidor', 'ID Competição', 'Classe Vela',\n",
       "       'Pontuação Regata', 'Descarte', 'Flotilha', 'Posição Geral', 'Punição',\n",
       "       'Pontuação Total', 'Nett', 'Nome Competição'],\n",
       "      dtype='object')"
      ]
     },
     "execution_count": 61,
     "metadata": {},
     "output_type": "execute_result"
    }
   ],
   "source": [
    "df_final_data_sumulas = df_final_data_sumulas.drop(columns=df_final_data_sumulas.columns[0])\n",
    "df_final_data_sumulas.columns"
   ]
  },
  {
   "cell_type": "markdown",
   "metadata": {},
   "source": [
    "#### Merge Dos Dados"
   ]
  },
  {
   "cell_type": "code",
   "execution_count": 62,
   "metadata": {},
   "outputs": [],
   "source": [
    "df_data_final_atualizado = pd.concat([df_final_data_sumulas, df_sumulas_novas]).reset_index(drop=True)"
   ]
  },
  {
   "cell_type": "code",
   "execution_count": 63,
   "metadata": {},
   "outputs": [],
   "source": [
    "df_data_final_atualizado[\"ID Resultado\"] = df_data_final_atualizado.index + 1"
   ]
  },
  {
   "cell_type": "code",
   "execution_count": 64,
   "metadata": {},
   "outputs": [
    {
     "data": {
      "text/plain": [
       "Index(['ID Resultado', 'ID Competidor', 'Nome Competidor', 'ID Competição',\n",
       "       'Classe Vela', 'Pontuação Regata', 'Descarte', 'Flotilha',\n",
       "       'Posição Geral', 'Punição', 'Pontuação Total', 'Nett',\n",
       "       'Nome Competição'],\n",
       "      dtype='object')"
      ]
     },
     "execution_count": 64,
     "metadata": {},
     "output_type": "execute_result"
    }
   ],
   "source": [
    "ordem_colunas = ['ID Resultado', 'ID Competidor', 'Nome Competidor', 'ID Competição',\n",
    "                 'Classe Vela', 'Pontuação Regata', 'Descarte', 'Flotilha',\n",
    "                 'Posição Geral', 'Punição', 'Pontuação Total', 'Nett',\n",
    "                 'Nome Competição']\n",
    "\n",
    "df_data_final_atualizado = df_data_final_atualizado.reindex(columns=ordem_colunas)\n",
    "df_data_final_atualizado.columns"
   ]
  },
  {
   "cell_type": "code",
   "execution_count": 65,
   "metadata": {},
   "outputs": [
    {
     "data": {
      "text/html": [
       "<div>\n",
       "<style scoped>\n",
       "    .dataframe tbody tr th:only-of-type {\n",
       "        vertical-align: middle;\n",
       "    }\n",
       "\n",
       "    .dataframe tbody tr th {\n",
       "        vertical-align: top;\n",
       "    }\n",
       "\n",
       "    .dataframe thead th {\n",
       "        text-align: right;\n",
       "    }\n",
       "</style>\n",
       "<table border=\"1\" class=\"dataframe\">\n",
       "  <thead>\n",
       "    <tr style=\"text-align: right;\">\n",
       "      <th></th>\n",
       "      <th>ID Resultado</th>\n",
       "      <th>ID Competidor</th>\n",
       "      <th>Nome Competidor</th>\n",
       "      <th>ID Competição</th>\n",
       "      <th>Classe Vela</th>\n",
       "      <th>Pontuação Regata</th>\n",
       "      <th>Descarte</th>\n",
       "      <th>Flotilha</th>\n",
       "      <th>Posição Geral</th>\n",
       "      <th>Punição</th>\n",
       "      <th>Pontuação Total</th>\n",
       "      <th>Nett</th>\n",
       "      <th>Nome Competição</th>\n",
       "    </tr>\n",
       "  </thead>\n",
       "  <tbody>\n",
       "    <tr>\n",
       "      <th>0</th>\n",
       "      <td>1</td>\n",
       "      <td>1</td>\n",
       "      <td>WILLIAM JONES, EVAN DEPAUL</td>\n",
       "      <td>17.0</td>\n",
       "      <td>49er</td>\n",
       "      <td>11</td>\n",
       "      <td>1.0</td>\n",
       "      <td>GERAL</td>\n",
       "      <td>1</td>\n",
       "      <td>UFD</td>\n",
       "      <td>44.0</td>\n",
       "      <td>33.0</td>\n",
       "      <td>World Championship 2017</td>\n",
       "    </tr>\n",
       "    <tr>\n",
       "      <th>1</th>\n",
       "      <td>2</td>\n",
       "      <td>2</td>\n",
       "      <td>DOMINIK BUKSAK, SZYMON WIERZBICKI</td>\n",
       "      <td>7.0</td>\n",
       "      <td>49er</td>\n",
       "      <td>3</td>\n",
       "      <td>0.0</td>\n",
       "      <td>GERAL</td>\n",
       "      <td>1</td>\n",
       "      <td>NaN</td>\n",
       "      <td>89.0</td>\n",
       "      <td>66.0</td>\n",
       "      <td>Semaine Olympique Francaise De Voile 2022</td>\n",
       "    </tr>\n",
       "    <tr>\n",
       "      <th>2</th>\n",
       "      <td>3</td>\n",
       "      <td>2</td>\n",
       "      <td>DOMINIK BUKSAK, SZYMON WIERZBICKI</td>\n",
       "      <td>7.0</td>\n",
       "      <td>49er</td>\n",
       "      <td>1</td>\n",
       "      <td>0.0</td>\n",
       "      <td>GERAL</td>\n",
       "      <td>1</td>\n",
       "      <td>NaN</td>\n",
       "      <td>89.0</td>\n",
       "      <td>66.0</td>\n",
       "      <td>Semaine Olympique Francaise De Voile 2022</td>\n",
       "    </tr>\n",
       "    <tr>\n",
       "      <th>3</th>\n",
       "      <td>4</td>\n",
       "      <td>2</td>\n",
       "      <td>DOMINIK BUKSAK, SZYMON WIERZBICKI</td>\n",
       "      <td>7.0</td>\n",
       "      <td>49er</td>\n",
       "      <td>1</td>\n",
       "      <td>0.0</td>\n",
       "      <td>GERAL</td>\n",
       "      <td>1</td>\n",
       "      <td>NaN</td>\n",
       "      <td>89.0</td>\n",
       "      <td>66.0</td>\n",
       "      <td>Semaine Olympique Francaise De Voile 2022</td>\n",
       "    </tr>\n",
       "    <tr>\n",
       "      <th>4</th>\n",
       "      <td>5</td>\n",
       "      <td>2</td>\n",
       "      <td>DOMINIK BUKSAK, SZYMON WIERZBICKI</td>\n",
       "      <td>7.0</td>\n",
       "      <td>49er</td>\n",
       "      <td>3</td>\n",
       "      <td>0.0</td>\n",
       "      <td>GERAL</td>\n",
       "      <td>1</td>\n",
       "      <td>NaN</td>\n",
       "      <td>89.0</td>\n",
       "      <td>66.0</td>\n",
       "      <td>Semaine Olympique Francaise De Voile 2022</td>\n",
       "    </tr>\n",
       "  </tbody>\n",
       "</table>\n",
       "</div>"
      ],
      "text/plain": [
       "   ID Resultado  ID Competidor                    Nome Competidor  \\\n",
       "0             1              1         WILLIAM JONES, EVAN DEPAUL   \n",
       "1             2              2  DOMINIK BUKSAK, SZYMON WIERZBICKI   \n",
       "2             3              2  DOMINIK BUKSAK, SZYMON WIERZBICKI   \n",
       "3             4              2  DOMINIK BUKSAK, SZYMON WIERZBICKI   \n",
       "4             5              2  DOMINIK BUKSAK, SZYMON WIERZBICKI   \n",
       "\n",
       "   ID Competição Classe Vela Pontuação Regata  Descarte Flotilha  \\\n",
       "0           17.0        49er               11       1.0    GERAL   \n",
       "1            7.0        49er                3       0.0    GERAL   \n",
       "2            7.0        49er                1       0.0    GERAL   \n",
       "3            7.0        49er                1       0.0    GERAL   \n",
       "4            7.0        49er                3       0.0    GERAL   \n",
       "\n",
       "   Posição Geral Punição  Pontuação Total  Nett  \\\n",
       "0              1     UFD             44.0  33.0   \n",
       "1              1     NaN             89.0  66.0   \n",
       "2              1     NaN             89.0  66.0   \n",
       "3              1     NaN             89.0  66.0   \n",
       "4              1     NaN             89.0  66.0   \n",
       "\n",
       "                             Nome Competição  \n",
       "0                    World Championship 2017  \n",
       "1  Semaine Olympique Francaise De Voile 2022  \n",
       "2  Semaine Olympique Francaise De Voile 2022  \n",
       "3  Semaine Olympique Francaise De Voile 2022  \n",
       "4  Semaine Olympique Francaise De Voile 2022  "
      ]
     },
     "execution_count": 65,
     "metadata": {},
     "output_type": "execute_result"
    }
   ],
   "source": [
    "df_data_final_atualizado.head()"
   ]
  },
  {
   "cell_type": "code",
   "execution_count": 66,
   "metadata": {},
   "outputs": [
    {
     "data": {
      "text/html": [
       "<div>\n",
       "<style scoped>\n",
       "    .dataframe tbody tr th:only-of-type {\n",
       "        vertical-align: middle;\n",
       "    }\n",
       "\n",
       "    .dataframe tbody tr th {\n",
       "        vertical-align: top;\n",
       "    }\n",
       "\n",
       "    .dataframe thead th {\n",
       "        text-align: right;\n",
       "    }\n",
       "</style>\n",
       "<table border=\"1\" class=\"dataframe\">\n",
       "  <thead>\n",
       "    <tr style=\"text-align: right;\">\n",
       "      <th></th>\n",
       "      <th>ID Resultado</th>\n",
       "      <th>ID Competidor</th>\n",
       "      <th>Nome Competidor</th>\n",
       "      <th>ID Competição</th>\n",
       "      <th>Classe Vela</th>\n",
       "      <th>Pontuação Regata</th>\n",
       "      <th>Descarte</th>\n",
       "      <th>Flotilha</th>\n",
       "      <th>Posição Geral</th>\n",
       "      <th>Punição</th>\n",
       "      <th>Pontuação Total</th>\n",
       "      <th>Nett</th>\n",
       "      <th>Nome Competição</th>\n",
       "    </tr>\n",
       "  </thead>\n",
       "  <tbody>\n",
       "    <tr>\n",
       "      <th>158141</th>\n",
       "      <td>158142</td>\n",
       "      <td>3625</td>\n",
       "      <td>Tobias NIGGL</td>\n",
       "      <td>NaN</td>\n",
       "      <td>ilca 7</td>\n",
       "      <td>29.0</td>\n",
       "      <td>29.0</td>\n",
       "      <td>GERAL</td>\n",
       "      <td>28</td>\n",
       "      <td>NaN</td>\n",
       "      <td>0.0</td>\n",
       "      <td>0.0</td>\n",
       "      <td>Troféu Königswinkel ILCA 2023</td>\n",
       "    </tr>\n",
       "    <tr>\n",
       "      <th>158142</th>\n",
       "      <td>158143</td>\n",
       "      <td>3625</td>\n",
       "      <td>Tobias NIGGL</td>\n",
       "      <td>NaN</td>\n",
       "      <td>ilca 7</td>\n",
       "      <td>26.0</td>\n",
       "      <td>26.0</td>\n",
       "      <td>GERAL</td>\n",
       "      <td>28</td>\n",
       "      <td>NaN</td>\n",
       "      <td>0.0</td>\n",
       "      <td>0.0</td>\n",
       "      <td>Troféu Königswinkel ILCA 2023</td>\n",
       "    </tr>\n",
       "    <tr>\n",
       "      <th>158143</th>\n",
       "      <td>158144</td>\n",
       "      <td>3625</td>\n",
       "      <td>Tobias NIGGL</td>\n",
       "      <td>NaN</td>\n",
       "      <td>ilca 7</td>\n",
       "      <td>25.0</td>\n",
       "      <td>25.0</td>\n",
       "      <td>GERAL</td>\n",
       "      <td>28</td>\n",
       "      <td>NaN</td>\n",
       "      <td>0.0</td>\n",
       "      <td>0.0</td>\n",
       "      <td>Troféu Königswinkel ILCA 2023</td>\n",
       "    </tr>\n",
       "    <tr>\n",
       "      <th>158144</th>\n",
       "      <td>158145</td>\n",
       "      <td>3625</td>\n",
       "      <td>Tobias NIGGL</td>\n",
       "      <td>NaN</td>\n",
       "      <td>ilca 7</td>\n",
       "      <td>26.0</td>\n",
       "      <td>26.0</td>\n",
       "      <td>GERAL</td>\n",
       "      <td>28</td>\n",
       "      <td>NaN</td>\n",
       "      <td>0.0</td>\n",
       "      <td>0.0</td>\n",
       "      <td>Troféu Königswinkel ILCA 2023</td>\n",
       "    </tr>\n",
       "    <tr>\n",
       "      <th>158145</th>\n",
       "      <td>158146</td>\n",
       "      <td>3625</td>\n",
       "      <td>Tobias NIGGL</td>\n",
       "      <td>NaN</td>\n",
       "      <td>ilca 7</td>\n",
       "      <td>25.0</td>\n",
       "      <td>25.0</td>\n",
       "      <td>GERAL</td>\n",
       "      <td>28</td>\n",
       "      <td>NaN</td>\n",
       "      <td>0.0</td>\n",
       "      <td>0.0</td>\n",
       "      <td>Troféu Königswinkel ILCA 2023</td>\n",
       "    </tr>\n",
       "  </tbody>\n",
       "</table>\n",
       "</div>"
      ],
      "text/plain": [
       "        ID Resultado  ID Competidor Nome Competidor  ID Competição  \\\n",
       "158141        158142           3625    Tobias NIGGL            NaN   \n",
       "158142        158143           3625    Tobias NIGGL            NaN   \n",
       "158143        158144           3625    Tobias NIGGL            NaN   \n",
       "158144        158145           3625    Tobias NIGGL            NaN   \n",
       "158145        158146           3625    Tobias NIGGL            NaN   \n",
       "\n",
       "       Classe Vela Pontuação Regata  Descarte Flotilha  Posição Geral Punição  \\\n",
       "158141      ilca 7             29.0      29.0    GERAL             28     NaN   \n",
       "158142      ilca 7             26.0      26.0    GERAL             28     NaN   \n",
       "158143      ilca 7             25.0      25.0    GERAL             28     NaN   \n",
       "158144      ilca 7             26.0      26.0    GERAL             28     NaN   \n",
       "158145      ilca 7             25.0      25.0    GERAL             28     NaN   \n",
       "\n",
       "        Pontuação Total  Nett                Nome Competição  \n",
       "158141              0.0   0.0  Troféu Königswinkel ILCA 2023  \n",
       "158142              0.0   0.0  Troféu Königswinkel ILCA 2023  \n",
       "158143              0.0   0.0  Troféu Königswinkel ILCA 2023  \n",
       "158144              0.0   0.0  Troféu Königswinkel ILCA 2023  \n",
       "158145              0.0   0.0  Troféu Königswinkel ILCA 2023  "
      ]
     },
     "execution_count": 66,
     "metadata": {},
     "output_type": "execute_result"
    }
   ],
   "source": [
    "df_data_final_atualizado.tail()"
   ]
  },
  {
   "cell_type": "markdown",
   "metadata": {},
   "source": [
    "#### Ajustes Nos Dados"
   ]
  },
  {
   "cell_type": "code",
   "execution_count": 67,
   "metadata": {},
   "outputs": [
    {
     "data": {
      "text/plain": [
       "Classe Vela\n",
       "Ilca 7                34279\n",
       "49er                  25989\n",
       "Ilca 6                24660\n",
       "49erFX                16071\n",
       "IQFOIL Masc.          11186\n",
       "IQFOIL Fem.            8384\n",
       "Formula Kite Masc.     6014\n",
       "470.0                  4540\n",
       "Nacra 17               3661\n",
       "Formula Kite Fem.      3259\n",
       "ilca 6                 3180\n",
       "ilca 7                 2741\n",
       "ILCA 7                 2626\n",
       "IQFoil Masc.           2596\n",
       "IQFoil Fem.            2162\n",
       "ILCA 6                 1881\n",
       "Kite Masc.             1720\n",
       "Kite Fem.               969\n",
       "470                     861\n",
       "49erfx                  801\n",
       "Kite                    276\n",
       "iQFoil 9                150\n",
       "iQFoil 8                140\n",
       "Name: count, dtype: int64"
      ]
     },
     "execution_count": 67,
     "metadata": {},
     "output_type": "execute_result"
    }
   ],
   "source": [
    "df_data_final_atualizado[\"Classe Vela\"].value_counts()"
   ]
  },
  {
   "cell_type": "code",
   "execution_count": 68,
   "metadata": {},
   "outputs": [],
   "source": [
    "def ajusta_classe(valor):\n",
    "    if valor.upper() == \"KITE MASC.\":\n",
    "        return \"FORMULA KITE MASC.\"\n",
    "    elif valor.upper() == \"KITE FEM.\":\n",
    "        return \"FORMULA KITE FEM.\"\n",
    "    elif str(valor) == \"470.0\":\n",
    "        return \"470\"\n",
    "    return str(valor).upper()"
   ]
  },
  {
   "cell_type": "code",
   "execution_count": 69,
   "metadata": {},
   "outputs": [],
   "source": [
    "df_data_final_atualizado[\"Classe Vela\"] = df_data_final_atualizado[\"Classe Vela\"].apply(ajusta_classe)"
   ]
  },
  {
   "cell_type": "code",
   "execution_count": 70,
   "metadata": {},
   "outputs": [
    {
     "data": {
      "text/plain": [
       "Classe Vela\n",
       "ILCA 7                39646\n",
       "ILCA 6                29721\n",
       "49ER                  25989\n",
       "49ERFX                16872\n",
       "IQFOIL MASC.          13782\n",
       "IQFOIL FEM.           10546\n",
       "FORMULA KITE MASC.     7734\n",
       "470                    5401\n",
       "FORMULA KITE FEM.      4228\n",
       "NACRA 17               3661\n",
       "KITE                    276\n",
       "IQFOIL 9                150\n",
       "IQFOIL 8                140\n",
       "Name: count, dtype: int64"
      ]
     },
     "execution_count": 70,
     "metadata": {},
     "output_type": "execute_result"
    }
   ],
   "source": [
    "df_data_final_atualizado[\"Classe Vela\"].value_counts()"
   ]
  },
  {
   "cell_type": "code",
   "execution_count": 71,
   "metadata": {},
   "outputs": [
    {
     "data": {
      "text/plain": [
       "Flotilha\n",
       "GERAL         91350\n",
       "OURO          29336\n",
       "PRATA         26065\n",
       "BRONZE         9105\n",
       "MEDAL RACE     2290\n",
       "Name: count, dtype: int64"
      ]
     },
     "execution_count": 71,
     "metadata": {},
     "output_type": "execute_result"
    }
   ],
   "source": [
    "df_data_final_atualizado[\"Flotilha\"].value_counts()"
   ]
  },
  {
   "cell_type": "code",
   "execution_count": 72,
   "metadata": {},
   "outputs": [
    {
     "data": {
      "text/plain": [
       "Punição\n",
       "0      13627\n",
       "DNC     4793\n",
       "BFD     1803\n",
       "UFD     1106\n",
       "DNF      881\n",
       "DSQ      368\n",
       "RET      342\n",
       "STP      322\n",
       "RDG      241\n",
       "DNS      123\n",
       "DNE       76\n",
       "DPI       54\n",
       "OCS       31\n",
       "SCP       29\n",
       "SPI       26\n",
       "DP        11\n",
       "SP1       10\n",
       "10%        7\n",
       "ARB        7\n",
       "PRP        6\n",
       "30%        6\n",
       "NSC        3\n",
       "SP5        2\n",
       "RAF        2\n",
       "DCT        1\n",
       "Name: count, dtype: int64"
      ]
     },
     "execution_count": 72,
     "metadata": {},
     "output_type": "execute_result"
    }
   ],
   "source": [
    "df_data_final_atualizado[\"Punição\"].value_counts()"
   ]
  },
  {
   "cell_type": "markdown",
   "metadata": {},
   "source": [
    "#### Salvando os Dados"
   ]
  },
  {
   "cell_type": "code",
   "execution_count": 73,
   "metadata": {},
   "outputs": [],
   "source": [
    "df_final_data_competicoes.to_excel(\"dados_finais_2024/competicoes.xlsx\", index=False)\n",
    "df_final_data_atletas.to_excel(\"dados_finais_2024/atletas.xlsx\", index=False)\n",
    "df_data_final_atualizado.to_excel(\"dados_finais_2024/sumulas.xlsx\", index=False)"
   ]
  },
  {
   "cell_type": "code",
   "execution_count": 74,
   "metadata": {},
   "outputs": [],
   "source": [
    "with pd.ExcelWriter('dados_finais_2024/final_data.xlsx') as writer:\n",
    "    # Salvando cada DataFrame em uma planilha diferente\n",
    "    df_data_final_atualizado.to_excel(writer, sheet_name='Súmulas', index=False)\n",
    "    df_final_data_atletas.to_excel(writer, sheet_name='Atletas', index=False)\n",
    "    df_final_data_competicoes.to_excel(writer, sheet_name='Competições', index=False)"
   ]
  },
  {
   "cell_type": "code",
   "execution_count": null,
   "metadata": {},
   "outputs": [],
   "source": []
  }
 ],
 "metadata": {
  "kernelspec": {
   "display_name": "Python 3",
   "language": "python",
   "name": "python3"
  },
  "language_info": {
   "codemirror_mode": {
    "name": "ipython",
    "version": 3
   },
   "file_extension": ".py",
   "mimetype": "text/x-python",
   "name": "python",
   "nbconvert_exporter": "python",
   "pygments_lexer": "ipython3",
   "version": "3.11.undefined"
  }
 },
 "nbformat": 4,
 "nbformat_minor": 2
}
