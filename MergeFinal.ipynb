{
 "cells": [
  {
   "cell_type": "code",
   "execution_count": 274,
   "metadata": {},
   "outputs": [],
   "source": [
    "import pandas as pd"
   ]
  },
  {
   "cell_type": "markdown",
   "metadata": {},
   "source": [
    "#### Importando os Dados"
   ]
  },
  {
   "cell_type": "code",
   "execution_count": 275,
   "metadata": {},
   "outputs": [],
   "source": [
    "df_final_data_sumulas = pd.read_excel(\"data/final_data_original.xlsx\", sheet_name=\"Sumulas\", index_col=None)\n",
    "df_final_data_atletas = pd.read_excel(\"atletas.xlsx\", index_col=None)\n",
    "df_final_data_competicoes = pd.read_excel(\"data/final_data_original.xlsx\", sheet_name=\"Campeonatos\", index_col=None)\n",
    "df_sumulas_novas = pd.read_csv(\"sumulas.csv\")"
   ]
  },
  {
   "cell_type": "code",
   "execution_count": 276,
   "metadata": {},
   "outputs": [
    {
     "data": {
      "text/plain": [
       "(136618, 14)"
      ]
     },
     "execution_count": 276,
     "metadata": {},
     "output_type": "execute_result"
    }
   ],
   "source": [
    "df_final_data_sumulas.shape"
   ]
  },
  {
   "cell_type": "markdown",
   "metadata": {},
   "source": [
    "#### Tirando Coluna Problemática"
   ]
  },
  {
   "cell_type": "code",
   "execution_count": 277,
   "metadata": {},
   "outputs": [],
   "source": [
    "df_final_data_sumulas.drop(df_final_data_sumulas.columns[0], axis=1, inplace=True)\n",
    "df_final_data_atletas.drop(df_final_data_atletas.columns[0], axis=1, inplace=True)\n",
    "df_final_data_competicoes.drop(df_final_data_competicoes.columns[0], axis=1, inplace=True)"
   ]
  },
  {
   "cell_type": "markdown",
   "metadata": {},
   "source": [
    "#### Verificando Colunas"
   ]
  },
  {
   "cell_type": "code",
   "execution_count": 278,
   "metadata": {},
   "outputs": [
    {
     "data": {
      "text/plain": [
       "Index(['ID Resultado', 'ID Competidor', 'Nome Competidor', 'ID Competição',\n",
       "       'Classe Vela', 'Pontuação Regata', 'Descarte', 'Flotilha',\n",
       "       'Posição Geral', 'Punição', 'Pontuação Total', 'Nett',\n",
       "       'Nome Competição'],\n",
       "      dtype='object')"
      ]
     },
     "execution_count": 278,
     "metadata": {},
     "output_type": "execute_result"
    }
   ],
   "source": [
    "df_final_data_sumulas.columns"
   ]
  },
  {
   "cell_type": "code",
   "execution_count": 279,
   "metadata": {},
   "outputs": [
    {
     "data": {
      "text/plain": [
       "Index(['Nome Competidor', 'ID Competidor'], dtype='object')"
      ]
     },
     "execution_count": 279,
     "metadata": {},
     "output_type": "execute_result"
    }
   ],
   "source": [
    "df_final_data_atletas.columns"
   ]
  },
  {
   "cell_type": "code",
   "execution_count": 280,
   "metadata": {},
   "outputs": [
    {
     "data": {
      "text/plain": [
       "Index(['ID Competição', 'Nome Competição'], dtype='object')"
      ]
     },
     "execution_count": 280,
     "metadata": {},
     "output_type": "execute_result"
    }
   ],
   "source": [
    "df_final_data_competicoes.columns"
   ]
  },
  {
   "cell_type": "code",
   "execution_count": 281,
   "metadata": {},
   "outputs": [
    {
     "data": {
      "text/plain": [
       "Index(['Identificador', 'Nome Competição', 'Regata', 'Nome Competidor',\n",
       "       'Pontuação Regata (Nha)', 'Classe Vela', 'Flag Name', 'Posição Geral',\n",
       "       'Pontuação Regata', 'Descarte', 'Punição', 'Flotilha', 'Total', 'Net'],\n",
       "      dtype='object')"
      ]
     },
     "execution_count": 281,
     "metadata": {},
     "output_type": "execute_result"
    }
   ],
   "source": [
    "df_sumulas_novas.columns"
   ]
  },
  {
   "cell_type": "markdown",
   "metadata": {},
   "source": [
    "#### Competições"
   ]
  },
  {
   "cell_type": "code",
   "execution_count": 282,
   "metadata": {},
   "outputs": [
    {
     "data": {
      "text/html": [
       "<div>\n",
       "<style scoped>\n",
       "    .dataframe tbody tr th:only-of-type {\n",
       "        vertical-align: middle;\n",
       "    }\n",
       "\n",
       "    .dataframe tbody tr th {\n",
       "        vertical-align: top;\n",
       "    }\n",
       "\n",
       "    .dataframe thead th {\n",
       "        text-align: right;\n",
       "    }\n",
       "</style>\n",
       "<table border=\"1\" class=\"dataframe\">\n",
       "  <thead>\n",
       "    <tr style=\"text-align: right;\">\n",
       "      <th></th>\n",
       "      <th>ID Competição</th>\n",
       "      <th>Nome Competição</th>\n",
       "    </tr>\n",
       "  </thead>\n",
       "  <tbody>\n",
       "    <tr>\n",
       "      <th>0</th>\n",
       "      <td>1</td>\n",
       "      <td>Central and South American Championship 2021</td>\n",
       "    </tr>\n",
       "    <tr>\n",
       "      <th>1</th>\n",
       "      <td>2</td>\n",
       "      <td>Central and South American Championship 2022</td>\n",
       "    </tr>\n",
       "    <tr>\n",
       "      <th>2</th>\n",
       "      <td>3</td>\n",
       "      <td>Central and South American Championship 2023</td>\n",
       "    </tr>\n",
       "    <tr>\n",
       "      <th>3</th>\n",
       "      <td>4</td>\n",
       "      <td>European Championship 2021</td>\n",
       "    </tr>\n",
       "    <tr>\n",
       "      <th>4</th>\n",
       "      <td>5</td>\n",
       "      <td>European Championship 2022</td>\n",
       "    </tr>\n",
       "    <tr>\n",
       "      <th>5</th>\n",
       "      <td>6</td>\n",
       "      <td>European Championship 2023</td>\n",
       "    </tr>\n",
       "    <tr>\n",
       "      <th>6</th>\n",
       "      <td>7</td>\n",
       "      <td>Semaine Olympique Francaise De Voile 2022</td>\n",
       "    </tr>\n",
       "    <tr>\n",
       "      <th>7</th>\n",
       "      <td>8</td>\n",
       "      <td>Semaine Olympique Francaise De Voile 2023</td>\n",
       "    </tr>\n",
       "    <tr>\n",
       "      <th>8</th>\n",
       "      <td>9</td>\n",
       "      <td>Trofeo S.A.R Princesa Sofia 2022</td>\n",
       "    </tr>\n",
       "    <tr>\n",
       "      <th>9</th>\n",
       "      <td>10</td>\n",
       "      <td>Trofeo S.A.R Princesa Sofia 2023</td>\n",
       "    </tr>\n",
       "  </tbody>\n",
       "</table>\n",
       "</div>"
      ],
      "text/plain": [
       "   ID Competição                               Nome Competição\n",
       "0              1  Central and South American Championship 2021\n",
       "1              2  Central and South American Championship 2022\n",
       "2              3  Central and South American Championship 2023\n",
       "3              4                    European Championship 2021\n",
       "4              5                    European Championship 2022\n",
       "5              6                    European Championship 2023\n",
       "6              7     Semaine Olympique Francaise De Voile 2022\n",
       "7              8     Semaine Olympique Francaise De Voile 2023\n",
       "8              9              Trofeo S.A.R Princesa Sofia 2022\n",
       "9             10              Trofeo S.A.R Princesa Sofia 2023"
      ]
     },
     "execution_count": 282,
     "metadata": {},
     "output_type": "execute_result"
    }
   ],
   "source": [
    "df_final_data_competicoes = df_final_data_competicoes.sort_values(by=\"ID Competição\").reset_index(drop=True)\n",
    "df_final_data_competicoes.head(10)"
   ]
  },
  {
   "cell_type": "code",
   "execution_count": 283,
   "metadata": {},
   "outputs": [
    {
     "data": {
      "text/html": [
       "<div>\n",
       "<style scoped>\n",
       "    .dataframe tbody tr th:only-of-type {\n",
       "        vertical-align: middle;\n",
       "    }\n",
       "\n",
       "    .dataframe tbody tr th {\n",
       "        vertical-align: top;\n",
       "    }\n",
       "\n",
       "    .dataframe thead th {\n",
       "        text-align: right;\n",
       "    }\n",
       "</style>\n",
       "<table border=\"1\" class=\"dataframe\">\n",
       "  <thead>\n",
       "    <tr style=\"text-align: right;\">\n",
       "      <th></th>\n",
       "      <th>Nome Competidor</th>\n",
       "      <th>ID Competidor</th>\n",
       "    </tr>\n",
       "  </thead>\n",
       "  <tbody>\n",
       "    <tr>\n",
       "      <th>0</th>\n",
       "      <td>WILLIAM JONES, EVAN DEPAUL</td>\n",
       "      <td>1</td>\n",
       "    </tr>\n",
       "    <tr>\n",
       "      <th>1</th>\n",
       "      <td>DOMINIK BUKSAK, SZYMON WIERZBICKI</td>\n",
       "      <td>2</td>\n",
       "    </tr>\n",
       "    <tr>\n",
       "      <th>2</th>\n",
       "      <td>MARTINE GRAEL, KAHENA KUNZE</td>\n",
       "      <td>3</td>\n",
       "    </tr>\n",
       "    <tr>\n",
       "      <th>3</th>\n",
       "      <td>RUGGERO TITA, CATERINA BANTI</td>\n",
       "      <td>4</td>\n",
       "    </tr>\n",
       "    <tr>\n",
       "      <th>4</th>\n",
       "      <td>BLAIR TUKE, PETER BURLING</td>\n",
       "      <td>5</td>\n",
       "    </tr>\n",
       "    <tr>\n",
       "      <th>5</th>\n",
       "      <td>IDA MARIE BAAD NIELSEN, MARIE THUSGAARD OLSEN</td>\n",
       "      <td>6</td>\n",
       "    </tr>\n",
       "    <tr>\n",
       "      <th>6</th>\n",
       "      <td>HANNA KLINGA, LISA ORN</td>\n",
       "      <td>7</td>\n",
       "    </tr>\n",
       "    <tr>\n",
       "      <th>7</th>\n",
       "      <td>DIEGO BOTIN, FLORIAN TRITTEL PAUL</td>\n",
       "      <td>8</td>\n",
       "    </tr>\n",
       "    <tr>\n",
       "      <th>8</th>\n",
       "      <td>ANNA BURNET, JOHN GIMSON</td>\n",
       "      <td>9</td>\n",
       "    </tr>\n",
       "    <tr>\n",
       "      <th>9</th>\n",
       "      <td>JORDI XAMMAR HERNANDEZ, NORA BRUGMAN CABOT</td>\n",
       "      <td>10</td>\n",
       "    </tr>\n",
       "  </tbody>\n",
       "</table>\n",
       "</div>"
      ],
      "text/plain": [
       "                                 Nome Competidor  ID Competidor\n",
       "0                     WILLIAM JONES, EVAN DEPAUL              1\n",
       "1              DOMINIK BUKSAK, SZYMON WIERZBICKI              2\n",
       "2                    MARTINE GRAEL, KAHENA KUNZE              3\n",
       "3                   RUGGERO TITA, CATERINA BANTI              4\n",
       "4                      BLAIR TUKE, PETER BURLING              5\n",
       "5  IDA MARIE BAAD NIELSEN, MARIE THUSGAARD OLSEN              6\n",
       "6                         HANNA KLINGA, LISA ORN              7\n",
       "7              DIEGO BOTIN, FLORIAN TRITTEL PAUL              8\n",
       "8                       ANNA BURNET, JOHN GIMSON              9\n",
       "9     JORDI XAMMAR HERNANDEZ, NORA BRUGMAN CABOT             10"
      ]
     },
     "execution_count": 283,
     "metadata": {},
     "output_type": "execute_result"
    }
   ],
   "source": [
    "df_final_data_atletas = df_final_data_atletas.sort_values(by=\"ID Competidor\").reset_index(drop=True)\n",
    "df_final_data_atletas.head(10)"
   ]
  },
  {
   "cell_type": "markdown",
   "metadata": {},
   "source": [
    "#### Fornecendo ID"
   ]
  },
  {
   "cell_type": "code",
   "execution_count": 284,
   "metadata": {},
   "outputs": [],
   "source": [
    "def retorna_ID_competidor(nome_atleta:str):\n",
    "    \"\"\"\n",
    "    Retorna o ID do competidor com base no nome do atleta.\n",
    "\n",
    "    Parâmetros:\n",
    "    nome_atleta (str): O nome do atleta cujo ID do competidor será retornado.\n",
    "\n",
    "    Retorna:\n",
    "    str: O ID do competidor correspondente ao nome do atleta especificado.\n",
    "\n",
    "    Exemplo:\n",
    "    >>> retorna_ID_competidor(\"DOMINIK BUKSAK, SZYMON WIERZBICKI\")\n",
    "    'ID correspondente'\n",
    "    \"\"\"\n",
    "    return df_final_data_atletas.loc[df_final_data_atletas['Nome Competidor'] == nome_atleta, 'ID Competidor'].iloc[0]"
   ]
  },
  {
   "cell_type": "code",
   "execution_count": 285,
   "metadata": {},
   "outputs": [],
   "source": [
    "def retorna_ID_competicao(nome_competicao: str):\n",
    "    \"\"\"\n",
    "    Retorna o ID da competição com base no nome da competição.\n",
    "\n",
    "    Parâmetros:\n",
    "    nome_competicao (str): O nome da competição cujo ID será retornado.\n",
    "\n",
    "    Retorna:\n",
    "    str: O ID da competição correspondente ao nome da competição especificada.\n",
    "\n",
    "    Exemplo:\n",
    "    >>> retorna_ID_competicao(\"Nome da Competição\")\n",
    "    'ID correspondente'\n",
    "    \"\"\"\n",
    "    return df_final_data_competicoes.loc[df_final_data_competicoes['Nome Competição'] == nome_competicao, 'ID Competição'].iloc[0]\n"
   ]
  },
  {
   "cell_type": "markdown",
   "metadata": {},
   "source": [
    "#### Adicionando ID nos Novos Dados"
   ]
  },
  {
   "cell_type": "code",
   "execution_count": 286,
   "metadata": {},
   "outputs": [],
   "source": [
    "df_sumulas_novas[\"ID Competidor\"] = df_sumulas_novas[\"Nome Competidor\"].apply(retorna_ID_competidor)\n",
    "df_sumulas_novas[\"ID Competição\"] = df_sumulas_novas[\"Nome Competição\"].apply(retorna_ID_competicao)"
   ]
  },
  {
   "cell_type": "code",
   "execution_count": 287,
   "metadata": {},
   "outputs": [],
   "source": [
    "df_final_data_sumulas[\"ID Competidor\"] = df_final_data_sumulas[\"Nome Competidor\"].apply(retorna_ID_competidor)\n",
    "df_final_data_sumulas[\"ID Competição\"] = df_final_data_sumulas[\"Nome Competição\"].apply(retorna_ID_competicao)"
   ]
  },
  {
   "cell_type": "markdown",
   "metadata": {},
   "source": [
    "#### Tratando as Flotilhas"
   ]
  },
  {
   "cell_type": "code",
   "execution_count": 288,
   "metadata": {},
   "outputs": [
    {
     "data": {
      "text/plain": [
       "Flotilha\n",
       "GERAL         13970\n",
       "MEDAL RACE      628\n",
       "Name: count, dtype: int64"
      ]
     },
     "execution_count": 288,
     "metadata": {},
     "output_type": "execute_result"
    }
   ],
   "source": [
    "df_sumulas_novas[\"Flotilha\"].value_counts()"
   ]
  },
  {
   "cell_type": "code",
   "execution_count": 289,
   "metadata": {},
   "outputs": [
    {
     "data": {
      "text/plain": [
       "Flag Name\n",
       "OVER      10141\n",
       "Silver     1794\n",
       "Gold       1728\n",
       "Bronze      935\n",
       "Name: count, dtype: int64"
      ]
     },
     "execution_count": 289,
     "metadata": {},
     "output_type": "execute_result"
    }
   ],
   "source": [
    "df_sumulas_novas[df_sumulas_novas.columns[6]].value_counts()"
   ]
  },
  {
   "cell_type": "code",
   "execution_count": 290,
   "metadata": {},
   "outputs": [],
   "source": [
    "mask = df_sumulas_novas[\"Flag Name\"].isin([\"Gold\", \"Silver\", \"Bronze\"])\n",
    "\n",
    "mapeamento = {\"Gold\": \"OURO\", \"Silver\": \"PRATA\", \"Bronze\": \"BRONZE\"}\n",
    "\n",
    "df_sumulas_novas.loc[mask, \"Flotilha\"] = df_sumulas_novas.loc[mask, \"Flag Name\"].map(mapeamento)"
   ]
  },
  {
   "cell_type": "code",
   "execution_count": 291,
   "metadata": {},
   "outputs": [
    {
     "data": {
      "text/plain": [
       "Flotilha\n",
       "GERAL         9623\n",
       "PRATA         1794\n",
       "OURO          1728\n",
       "BRONZE         935\n",
       "MEDAL RACE     518\n",
       "Name: count, dtype: int64"
      ]
     },
     "execution_count": 291,
     "metadata": {},
     "output_type": "execute_result"
    }
   ],
   "source": [
    "df_sumulas_novas[\"Flotilha\"].value_counts()"
   ]
  },
  {
   "cell_type": "markdown",
   "metadata": {},
   "source": [
    "#### Arrumando as Colunas"
   ]
  },
  {
   "cell_type": "code",
   "execution_count": 292,
   "metadata": {},
   "outputs": [
    {
     "data": {
      "text/plain": [
       "Index(['ID Resultado', 'ID Competidor', 'Nome Competidor', 'ID Competição',\n",
       "       'Classe Vela', 'Pontuação Regata', 'Descarte', 'Flotilha',\n",
       "       'Posição Geral', 'Punição', 'Pontuação Total', 'Nett',\n",
       "       'Nome Competição'],\n",
       "      dtype='object')"
      ]
     },
     "execution_count": 292,
     "metadata": {},
     "output_type": "execute_result"
    }
   ],
   "source": [
    "df_final_data_sumulas.columns"
   ]
  },
  {
   "cell_type": "code",
   "execution_count": 293,
   "metadata": {},
   "outputs": [
    {
     "data": {
      "text/plain": [
       "Index(['Identificador', 'Nome Competição', 'Regata', 'Nome Competidor',\n",
       "       'Pontuação Regata (Nha)', 'Classe Vela', 'Flag Name', 'Posição Geral',\n",
       "       'Pontuação Regata', 'Descarte', 'Punição', 'Flotilha', 'Total', 'Net',\n",
       "       'ID Competidor', 'ID Competição'],\n",
       "      dtype='object')"
      ]
     },
     "execution_count": 293,
     "metadata": {},
     "output_type": "execute_result"
    }
   ],
   "source": [
    "df_sumulas_novas.columns"
   ]
  },
  {
   "cell_type": "code",
   "execution_count": 294,
   "metadata": {},
   "outputs": [
    {
     "data": {
      "text/plain": [
       "Index(['Identificador', 'Nome Competição', 'Regata', 'Nome Competidor',\n",
       "       'Pontuação Regata (Nha)', 'Classe Vela', 'Flag Name', 'Posição Geral',\n",
       "       'Pontuação Regata', 'Descarte', 'Punição', 'Flotilha',\n",
       "       'Pontuação Total', 'Nett', 'ID Competidor', 'ID Competição'],\n",
       "      dtype='object')"
      ]
     },
     "execution_count": 294,
     "metadata": {},
     "output_type": "execute_result"
    }
   ],
   "source": [
    "df_sumulas_novas = df_sumulas_novas.rename(columns={'Total': 'Pontuação Total', \"Net\":\"Nett\"})\n",
    "df_sumulas_novas.columns"
   ]
  },
  {
   "cell_type": "code",
   "execution_count": 295,
   "metadata": {},
   "outputs": [
    {
     "data": {
      "text/plain": [
       "Index(['Nome Competição', 'Nome Competidor', 'Classe Vela', 'Posição Geral',\n",
       "       'Pontuação Regata', 'Descarte', 'Punição', 'Flotilha',\n",
       "       'Pontuação Total', 'Nett', 'ID Competidor', 'ID Competição'],\n",
       "      dtype='object')"
      ]
     },
     "execution_count": 295,
     "metadata": {},
     "output_type": "execute_result"
    }
   ],
   "source": [
    "colunas_extras = [\"Identificador\", \"Regata\", \"Pontuação Regata (Nha)\", \"Flag Name\"]\n",
    "df_sumulas_novas = df_sumulas_novas.drop(columns=colunas_extras)\n",
    "df_sumulas_novas.columns"
   ]
  },
  {
   "cell_type": "code",
   "execution_count": 296,
   "metadata": {},
   "outputs": [
    {
     "data": {
      "text/plain": [
       "Index(['ID Competidor', 'Nome Competidor', 'ID Competição', 'Classe Vela',\n",
       "       'Pontuação Regata', 'Descarte', 'Flotilha', 'Posição Geral', 'Punição',\n",
       "       'Pontuação Total', 'Nett', 'Nome Competição'],\n",
       "      dtype='object')"
      ]
     },
     "execution_count": 296,
     "metadata": {},
     "output_type": "execute_result"
    }
   ],
   "source": [
    "ordem_colunas = ['ID Competidor', 'Nome Competidor', 'ID Competição',\n",
    "                 'Classe Vela', 'Pontuação Regata', 'Descarte', 'Flotilha',\n",
    "                 'Posição Geral', 'Punição', 'Pontuação Total', 'Nett',\n",
    "                 'Nome Competição']\n",
    "\n",
    "df_sumulas_novas = df_sumulas_novas.reindex(columns=ordem_colunas)\n",
    "df_sumulas_novas.columns"
   ]
  },
  {
   "cell_type": "code",
   "execution_count": 297,
   "metadata": {},
   "outputs": [
    {
     "data": {
      "text/plain": [
       "Index(['ID Competidor', 'Nome Competidor', 'ID Competição', 'Classe Vela',\n",
       "       'Pontuação Regata', 'Descarte', 'Flotilha', 'Posição Geral', 'Punição',\n",
       "       'Pontuação Total', 'Nett', 'Nome Competição'],\n",
       "      dtype='object')"
      ]
     },
     "execution_count": 297,
     "metadata": {},
     "output_type": "execute_result"
    }
   ],
   "source": [
    "df_final_data_sumulas = df_final_data_sumulas.drop(columns=df_final_data_sumulas.columns[0])\n",
    "df_final_data_sumulas.columns"
   ]
  },
  {
   "cell_type": "markdown",
   "metadata": {},
   "source": [
    "#### Merge Dos Dados"
   ]
  },
  {
   "cell_type": "code",
   "execution_count": 298,
   "metadata": {},
   "outputs": [],
   "source": [
    "df_data_final_atualizado = pd.concat([df_final_data_sumulas, df_sumulas_novas]).reset_index(drop=True)"
   ]
  },
  {
   "cell_type": "code",
   "execution_count": 299,
   "metadata": {},
   "outputs": [],
   "source": [
    "df_data_final_atualizado[\"ID Resultado\"] = df_data_final_atualizado.index + 1"
   ]
  },
  {
   "cell_type": "code",
   "execution_count": 300,
   "metadata": {},
   "outputs": [
    {
     "data": {
      "text/plain": [
       "Index(['ID Resultado', 'ID Competidor', 'Nome Competidor', 'ID Competição',\n",
       "       'Classe Vela', 'Pontuação Regata', 'Descarte', 'Flotilha',\n",
       "       'Posição Geral', 'Punição', 'Pontuação Total', 'Nett',\n",
       "       'Nome Competição'],\n",
       "      dtype='object')"
      ]
     },
     "execution_count": 300,
     "metadata": {},
     "output_type": "execute_result"
    }
   ],
   "source": [
    "ordem_colunas = ['ID Resultado', 'ID Competidor', 'Nome Competidor', 'ID Competição',\n",
    "                 'Classe Vela', 'Pontuação Regata', 'Descarte', 'Flotilha',\n",
    "                 'Posição Geral', 'Punição', 'Pontuação Total', 'Nett',\n",
    "                 'Nome Competição']\n",
    "\n",
    "df_data_final_atualizado = df_data_final_atualizado.reindex(columns=ordem_colunas)\n",
    "df_data_final_atualizado.columns"
   ]
  },
  {
   "cell_type": "code",
   "execution_count": 301,
   "metadata": {},
   "outputs": [
    {
     "data": {
      "text/html": [
       "<div>\n",
       "<style scoped>\n",
       "    .dataframe tbody tr th:only-of-type {\n",
       "        vertical-align: middle;\n",
       "    }\n",
       "\n",
       "    .dataframe tbody tr th {\n",
       "        vertical-align: top;\n",
       "    }\n",
       "\n",
       "    .dataframe thead th {\n",
       "        text-align: right;\n",
       "    }\n",
       "</style>\n",
       "<table border=\"1\" class=\"dataframe\">\n",
       "  <thead>\n",
       "    <tr style=\"text-align: right;\">\n",
       "      <th></th>\n",
       "      <th>ID Resultado</th>\n",
       "      <th>ID Competidor</th>\n",
       "      <th>Nome Competidor</th>\n",
       "      <th>ID Competição</th>\n",
       "      <th>Classe Vela</th>\n",
       "      <th>Pontuação Regata</th>\n",
       "      <th>Descarte</th>\n",
       "      <th>Flotilha</th>\n",
       "      <th>Posição Geral</th>\n",
       "      <th>Punição</th>\n",
       "      <th>Pontuação Total</th>\n",
       "      <th>Nett</th>\n",
       "      <th>Nome Competição</th>\n",
       "    </tr>\n",
       "  </thead>\n",
       "  <tbody>\n",
       "    <tr>\n",
       "      <th>0</th>\n",
       "      <td>1</td>\n",
       "      <td>1</td>\n",
       "      <td>WILLIAM JONES, EVAN DEPAUL</td>\n",
       "      <td>17</td>\n",
       "      <td>49er</td>\n",
       "      <td>11</td>\n",
       "      <td>1</td>\n",
       "      <td>GERAL</td>\n",
       "      <td>1</td>\n",
       "      <td>UFD</td>\n",
       "      <td>44.0</td>\n",
       "      <td>33.0</td>\n",
       "      <td>World Championship 2017</td>\n",
       "    </tr>\n",
       "    <tr>\n",
       "      <th>1</th>\n",
       "      <td>2</td>\n",
       "      <td>2</td>\n",
       "      <td>DOMINIK BUKSAK, SZYMON WIERZBICKI</td>\n",
       "      <td>7</td>\n",
       "      <td>49er</td>\n",
       "      <td>3</td>\n",
       "      <td>0</td>\n",
       "      <td>GERAL</td>\n",
       "      <td>1</td>\n",
       "      <td>NaN</td>\n",
       "      <td>89.0</td>\n",
       "      <td>66.0</td>\n",
       "      <td>Semaine Olympique Francaise De Voile 2022</td>\n",
       "    </tr>\n",
       "    <tr>\n",
       "      <th>2</th>\n",
       "      <td>3</td>\n",
       "      <td>2</td>\n",
       "      <td>DOMINIK BUKSAK, SZYMON WIERZBICKI</td>\n",
       "      <td>7</td>\n",
       "      <td>49er</td>\n",
       "      <td>1</td>\n",
       "      <td>0</td>\n",
       "      <td>GERAL</td>\n",
       "      <td>1</td>\n",
       "      <td>NaN</td>\n",
       "      <td>89.0</td>\n",
       "      <td>66.0</td>\n",
       "      <td>Semaine Olympique Francaise De Voile 2022</td>\n",
       "    </tr>\n",
       "    <tr>\n",
       "      <th>3</th>\n",
       "      <td>4</td>\n",
       "      <td>2</td>\n",
       "      <td>DOMINIK BUKSAK, SZYMON WIERZBICKI</td>\n",
       "      <td>7</td>\n",
       "      <td>49er</td>\n",
       "      <td>1</td>\n",
       "      <td>0</td>\n",
       "      <td>GERAL</td>\n",
       "      <td>1</td>\n",
       "      <td>NaN</td>\n",
       "      <td>89.0</td>\n",
       "      <td>66.0</td>\n",
       "      <td>Semaine Olympique Francaise De Voile 2022</td>\n",
       "    </tr>\n",
       "    <tr>\n",
       "      <th>4</th>\n",
       "      <td>5</td>\n",
       "      <td>2</td>\n",
       "      <td>DOMINIK BUKSAK, SZYMON WIERZBICKI</td>\n",
       "      <td>7</td>\n",
       "      <td>49er</td>\n",
       "      <td>3</td>\n",
       "      <td>0</td>\n",
       "      <td>GERAL</td>\n",
       "      <td>1</td>\n",
       "      <td>NaN</td>\n",
       "      <td>89.0</td>\n",
       "      <td>66.0</td>\n",
       "      <td>Semaine Olympique Francaise De Voile 2022</td>\n",
       "    </tr>\n",
       "  </tbody>\n",
       "</table>\n",
       "</div>"
      ],
      "text/plain": [
       "   ID Resultado  ID Competidor                    Nome Competidor  \\\n",
       "0             1              1         WILLIAM JONES, EVAN DEPAUL   \n",
       "1             2              2  DOMINIK BUKSAK, SZYMON WIERZBICKI   \n",
       "2             3              2  DOMINIK BUKSAK, SZYMON WIERZBICKI   \n",
       "3             4              2  DOMINIK BUKSAK, SZYMON WIERZBICKI   \n",
       "4             5              2  DOMINIK BUKSAK, SZYMON WIERZBICKI   \n",
       "\n",
       "   ID Competição Classe Vela Pontuação Regata  Descarte Flotilha  \\\n",
       "0             17        49er               11         1    GERAL   \n",
       "1              7        49er                3         0    GERAL   \n",
       "2              7        49er                1         0    GERAL   \n",
       "3              7        49er                1         0    GERAL   \n",
       "4              7        49er                3         0    GERAL   \n",
       "\n",
       "   Posição Geral Punição  Pontuação Total  Nett  \\\n",
       "0              1     UFD             44.0  33.0   \n",
       "1              1     NaN             89.0  66.0   \n",
       "2              1     NaN             89.0  66.0   \n",
       "3              1     NaN             89.0  66.0   \n",
       "4              1     NaN             89.0  66.0   \n",
       "\n",
       "                             Nome Competição  \n",
       "0                    World Championship 2017  \n",
       "1  Semaine Olympique Francaise De Voile 2022  \n",
       "2  Semaine Olympique Francaise De Voile 2022  \n",
       "3  Semaine Olympique Francaise De Voile 2022  \n",
       "4  Semaine Olympique Francaise De Voile 2022  "
      ]
     },
     "execution_count": 301,
     "metadata": {},
     "output_type": "execute_result"
    }
   ],
   "source": [
    "df_data_final_atualizado.head()"
   ]
  },
  {
   "cell_type": "code",
   "execution_count": 302,
   "metadata": {},
   "outputs": [
    {
     "data": {
      "text/html": [
       "<div>\n",
       "<style scoped>\n",
       "    .dataframe tbody tr th:only-of-type {\n",
       "        vertical-align: middle;\n",
       "    }\n",
       "\n",
       "    .dataframe tbody tr th {\n",
       "        vertical-align: top;\n",
       "    }\n",
       "\n",
       "    .dataframe thead th {\n",
       "        text-align: right;\n",
       "    }\n",
       "</style>\n",
       "<table border=\"1\" class=\"dataframe\">\n",
       "  <thead>\n",
       "    <tr style=\"text-align: right;\">\n",
       "      <th></th>\n",
       "      <th>ID Resultado</th>\n",
       "      <th>ID Competidor</th>\n",
       "      <th>Nome Competidor</th>\n",
       "      <th>ID Competição</th>\n",
       "      <th>Classe Vela</th>\n",
       "      <th>Pontuação Regata</th>\n",
       "      <th>Descarte</th>\n",
       "      <th>Flotilha</th>\n",
       "      <th>Posição Geral</th>\n",
       "      <th>Punição</th>\n",
       "      <th>Pontuação Total</th>\n",
       "      <th>Nett</th>\n",
       "      <th>Nome Competição</th>\n",
       "    </tr>\n",
       "  </thead>\n",
       "  <tbody>\n",
       "    <tr>\n",
       "      <th>151211</th>\n",
       "      <td>151212</td>\n",
       "      <td>715</td>\n",
       "      <td>ZOFIA BURSKA, SARA TKADLECOVA</td>\n",
       "      <td>34</td>\n",
       "      <td>49erfx</td>\n",
       "      <td>27.0</td>\n",
       "      <td>0</td>\n",
       "      <td>GERAL</td>\n",
       "      <td>47</td>\n",
       "      <td>DNC</td>\n",
       "      <td>334.0</td>\n",
       "      <td>307.0</td>\n",
       "      <td>World Championship 2024</td>\n",
       "    </tr>\n",
       "    <tr>\n",
       "      <th>151212</th>\n",
       "      <td>151213</td>\n",
       "      <td>3370</td>\n",
       "      <td>PAULA VAN WIERINGEN MASSANET, CLAUDIA SOBRAL L...</td>\n",
       "      <td>34</td>\n",
       "      <td>49erfx</td>\n",
       "      <td>22.0</td>\n",
       "      <td>0</td>\n",
       "      <td>GERAL</td>\n",
       "      <td>48</td>\n",
       "      <td>0</td>\n",
       "      <td>342.0</td>\n",
       "      <td>315.0</td>\n",
       "      <td>World Championship 2024</td>\n",
       "    </tr>\n",
       "    <tr>\n",
       "      <th>151213</th>\n",
       "      <td>151214</td>\n",
       "      <td>3321</td>\n",
       "      <td>MAELLE FRASCARI, SVEVA CARRARO</td>\n",
       "      <td>34</td>\n",
       "      <td>49erfx</td>\n",
       "      <td>18.0</td>\n",
       "      <td>0</td>\n",
       "      <td>GERAL</td>\n",
       "      <td>49</td>\n",
       "      <td>0</td>\n",
       "      <td>347.0</td>\n",
       "      <td>320.0</td>\n",
       "      <td>World Championship 2024</td>\n",
       "    </tr>\n",
       "    <tr>\n",
       "      <th>151214</th>\n",
       "      <td>151215</td>\n",
       "      <td>3313</td>\n",
       "      <td>MANASE ICHIHASHI, RINKO GOTO</td>\n",
       "      <td>34</td>\n",
       "      <td>49erfx</td>\n",
       "      <td>21.0</td>\n",
       "      <td>0</td>\n",
       "      <td>GERAL</td>\n",
       "      <td>50</td>\n",
       "      <td>0</td>\n",
       "      <td>352.0</td>\n",
       "      <td>325.0</td>\n",
       "      <td>World Championship 2024</td>\n",
       "    </tr>\n",
       "    <tr>\n",
       "      <th>151215</th>\n",
       "      <td>151216</td>\n",
       "      <td>3494</td>\n",
       "      <td>JOSEFINE NOJGAARD , ESTHER BOJSEN-MOLLER</td>\n",
       "      <td>34</td>\n",
       "      <td>49erfx</td>\n",
       "      <td>27.0</td>\n",
       "      <td>0</td>\n",
       "      <td>GERAL</td>\n",
       "      <td>51</td>\n",
       "      <td>DNC</td>\n",
       "      <td>355.0</td>\n",
       "      <td>328.0</td>\n",
       "      <td>World Championship 2024</td>\n",
       "    </tr>\n",
       "  </tbody>\n",
       "</table>\n",
       "</div>"
      ],
      "text/plain": [
       "        ID Resultado  ID Competidor  \\\n",
       "151211        151212            715   \n",
       "151212        151213           3370   \n",
       "151213        151214           3321   \n",
       "151214        151215           3313   \n",
       "151215        151216           3494   \n",
       "\n",
       "                                          Nome Competidor  ID Competição  \\\n",
       "151211                      ZOFIA BURSKA, SARA TKADLECOVA             34   \n",
       "151212  PAULA VAN WIERINGEN MASSANET, CLAUDIA SOBRAL L...             34   \n",
       "151213                     MAELLE FRASCARI, SVEVA CARRARO             34   \n",
       "151214                       MANASE ICHIHASHI, RINKO GOTO             34   \n",
       "151215           JOSEFINE NOJGAARD , ESTHER BOJSEN-MOLLER             34   \n",
       "\n",
       "       Classe Vela Pontuação Regata  Descarte Flotilha  Posição Geral Punição  \\\n",
       "151211      49erfx             27.0         0    GERAL             47     DNC   \n",
       "151212      49erfx             22.0         0    GERAL             48       0   \n",
       "151213      49erfx             18.0         0    GERAL             49       0   \n",
       "151214      49erfx             21.0         0    GERAL             50       0   \n",
       "151215      49erfx             27.0         0    GERAL             51     DNC   \n",
       "\n",
       "        Pontuação Total   Nett          Nome Competição  \n",
       "151211            334.0  307.0  World Championship 2024  \n",
       "151212            342.0  315.0  World Championship 2024  \n",
       "151213            347.0  320.0  World Championship 2024  \n",
       "151214            352.0  325.0  World Championship 2024  \n",
       "151215            355.0  328.0  World Championship 2024  "
      ]
     },
     "execution_count": 302,
     "metadata": {},
     "output_type": "execute_result"
    }
   ],
   "source": [
    "df_data_final_atualizado.tail()"
   ]
  },
  {
   "cell_type": "markdown",
   "metadata": {},
   "source": [
    "#### Ajustes Nos Dados"
   ]
  },
  {
   "cell_type": "code",
   "execution_count": 303,
   "metadata": {},
   "outputs": [
    {
     "data": {
      "text/plain": [
       "Classe Vela\n",
       "Ilca 7                34279\n",
       "49er                  25746\n",
       "Ilca 6                24660\n",
       "49erFX                16071\n",
       "IQFOIL Masc.          11186\n",
       "IQFOIL Fem.            8384\n",
       "Formula Kite Masc.     6014\n",
       "470.0                  4540\n",
       "Nacra 17               3661\n",
       "Formula Kite Fem.      3259\n",
       "ILCA 7                 2626\n",
       "IQFoil Masc.           2596\n",
       "IQFoil Fem.            2162\n",
       "ILCA 6                 1881\n",
       "Kite Masc.             1720\n",
       "Kite Fem.               969\n",
       "49erfx                  791\n",
       "470                     671\n",
       "Name: count, dtype: int64"
      ]
     },
     "execution_count": 303,
     "metadata": {},
     "output_type": "execute_result"
    }
   ],
   "source": [
    "df_data_final_atualizado[\"Classe Vela\"].value_counts()"
   ]
  },
  {
   "cell_type": "code",
   "execution_count": 304,
   "metadata": {},
   "outputs": [],
   "source": [
    "def ajusta_classe(valor):\n",
    "    if valor.upper() == \"KITE MASC.\":\n",
    "        return \"FORMULA KITE MASC.\"\n",
    "    elif valor.upper() == \"KITE FEM.\":\n",
    "        return \"FORMULA KITE FEM.\"\n",
    "    elif str(valor) == \"470.0\":\n",
    "        return \"470\"\n",
    "    return str(valor).upper()"
   ]
  },
  {
   "cell_type": "code",
   "execution_count": 305,
   "metadata": {},
   "outputs": [],
   "source": [
    "df_data_final_atualizado[\"Classe Vela\"] = df_data_final_atualizado[\"Classe Vela\"].apply(ajusta_classe)"
   ]
  },
  {
   "cell_type": "code",
   "execution_count": 306,
   "metadata": {},
   "outputs": [
    {
     "data": {
      "text/plain": [
       "Classe Vela\n",
       "ILCA 7                36905\n",
       "ILCA 6                26541\n",
       "49ER                  25746\n",
       "49ERFX                16862\n",
       "IQFOIL MASC.          13782\n",
       "IQFOIL FEM.           10546\n",
       "FORMULA KITE MASC.     7734\n",
       "470                    5211\n",
       "FORMULA KITE FEM.      4228\n",
       "NACRA 17               3661\n",
       "Name: count, dtype: int64"
      ]
     },
     "execution_count": 306,
     "metadata": {},
     "output_type": "execute_result"
    }
   ],
   "source": [
    "df_data_final_atualizado[\"Classe Vela\"].value_counts()"
   ]
  },
  {
   "cell_type": "code",
   "execution_count": 307,
   "metadata": {},
   "outputs": [
    {
     "data": {
      "text/plain": [
       "Flotilha\n",
       "GERAL         80073\n",
       "OURO          31064\n",
       "PRATA         27859\n",
       "BRONZE        10040\n",
       "MEDAL RACE     2180\n",
       "Name: count, dtype: int64"
      ]
     },
     "execution_count": 307,
     "metadata": {},
     "output_type": "execute_result"
    }
   ],
   "source": [
    "df_data_final_atualizado[\"Flotilha\"].value_counts()"
   ]
  },
  {
   "cell_type": "code",
   "execution_count": 308,
   "metadata": {},
   "outputs": [
    {
     "data": {
      "text/plain": [
       "Punição\n",
       "0      13627\n",
       "DNC     4793\n",
       "BFD     1803\n",
       "UFD     1106\n",
       "DNF      881\n",
       "DSQ      368\n",
       "RET      342\n",
       "STP      322\n",
       "RDG      241\n",
       "DNS      123\n",
       "DNE       76\n",
       "DPI       54\n",
       "OCS       31\n",
       "SCP       29\n",
       "SPI       26\n",
       "DP        11\n",
       "SP1       10\n",
       "10%        7\n",
       "ARB        7\n",
       "PRP        6\n",
       "30%        6\n",
       "NSC        3\n",
       "SP5        2\n",
       "RAF        2\n",
       "DCT        1\n",
       "Name: count, dtype: int64"
      ]
     },
     "execution_count": 308,
     "metadata": {},
     "output_type": "execute_result"
    }
   ],
   "source": [
    "df_data_final_atualizado[\"Punição\"].value_counts()"
   ]
  },
  {
   "cell_type": "markdown",
   "metadata": {},
   "source": [
    "#### Salvando os Dados"
   ]
  },
  {
   "cell_type": "code",
   "execution_count": 309,
   "metadata": {},
   "outputs": [],
   "source": [
    "df_final_data_competicoes.to_excel(\"dados_finais_2024/competicoes.xlsx\", index=False)\n",
    "df_final_data_atletas.to_excel(\"dados_finais_2024/atletas.xlsx\", index=False)\n",
    "df_data_final_atualizado.to_excel(\"dados_finais_2024/sumulas.xlsx\", index=False)"
   ]
  },
  {
   "cell_type": "code",
   "execution_count": 312,
   "metadata": {},
   "outputs": [],
   "source": [
    "with pd.ExcelWriter('dados_finais_2024/final_data.xlsx') as writer:\n",
    "    # Salvando cada DataFrame em uma planilha diferente\n",
    "    df_data_final_atualizado.to_excel(writer, sheet_name='Súmulas', index=False)\n",
    "    df_final_data_atletas.to_excel(writer, sheet_name='Atletas', index=False)\n",
    "    df_final_data_competicoes.to_excel(writer, sheet_name='Competições', index=False)"
   ]
  }
 ],
 "metadata": {
  "kernelspec": {
   "display_name": "Python 3",
   "language": "python",
   "name": "python3"
  },
  "language_info": {
   "codemirror_mode": {
    "name": "ipython",
    "version": 3
   },
   "file_extension": ".py",
   "mimetype": "text/x-python",
   "name": "python",
   "nbconvert_exporter": "python",
   "pygments_lexer": "ipython3",
   "version": "3.12.1"
  }
 },
 "nbformat": 4,
 "nbformat_minor": 2
}
